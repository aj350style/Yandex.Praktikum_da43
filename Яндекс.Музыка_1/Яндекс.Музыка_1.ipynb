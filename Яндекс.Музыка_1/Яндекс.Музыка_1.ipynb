{
 "cells": [
  {
   "cell_type": "markdown",
   "metadata": {
    "id": "E0vqbgi9ay0H"
   },
   "source": [
    "# Яндекс.Музыка"
   ]
  },
  {
   "cell_type": "markdown",
   "metadata": {
    "id": "VUC88oWjTJw2"
   },
   "source": [
    "Сравнение Москвы и Петербурга окружено мифами. Например:\n",
    " * Москва — мегаполис, подчинённый жёсткому ритму рабочей недели;\n",
    " * Петербург — культурная столица, со своими вкусами.\n",
    "\n",
    "На данных Яндекс.Музыки вы сравните поведение пользователей двух столиц.\n",
    "\n",
    "**Цель исследования** — проверьте три гипотезы:\n",
    "1. Активность пользователей зависит от дня недели. Причём в Москве и Петербурге это проявляется по-разному.\n",
    "2. В понедельник утром в Москве преобладают одни жанры, а в Петербурге — другие. Так же и вечером пятницы преобладают разные жанры — в зависимости от города. \n",
    "3. Москва и Петербург предпочитают разные жанры музыки. В Москве чаще слушают поп-музыку, в Петербурге — русский рэп.\n",
    "\n",
    "**Ход исследования**\n",
    "\n",
    "Данные о поведении пользователей вы получите из файла `yandex_music_project.csv`. О качестве данных ничего не известно. Поэтому перед проверкой гипотез понадобится обзор данных. \n",
    "\n",
    "Вы проверите данные на ошибки и оцените их влияние на исследование. Затем, на этапе предобработки вы поищете возможность исправить самые критичные ошибки данных.\n",
    " \n",
    "Таким образом, исследование пройдёт в три этапа:\n",
    " 1. Обзор данных.\n",
    " 2. Предобработка данных.\n",
    " 3. Проверка гипотез.\n",
    "\n"
   ]
  },
  {
   "cell_type": "markdown",
   "metadata": {
    "id": "Ml1hmfXC_Zcs"
   },
   "source": [
    "## Обзор данных\n",
    "\n",
    "Составьте первое представление о данных Яндекс.Музыки.\n",
    "\n",
    "\n"
   ]
  },
  {
   "cell_type": "markdown",
   "metadata": {
    "id": "57eAOGIz_Zcs"
   },
   "source": [
    "Основной инструмент аналитика — `pandas`. Импортируйте эту библиотеку."
   ]
  },
  {
   "cell_type": "code",
   "execution_count": 1,
   "metadata": {
    "id": "AXN7PHPN_Zcs"
   },
   "outputs": [],
   "source": [
    "import pandas as pd # импорт библиотеки pandas"
   ]
  },
  {
   "cell_type": "markdown",
   "metadata": {
    "id": "SG23P8tt_Zcs"
   },
   "source": [
    "Прочитайте файл `yandex_music_project.csv` из папки `/datasets` и сохраните его в переменной `df`:"
   ]
  },
  {
   "cell_type": "code",
   "execution_count": 2,
   "metadata": {
    "id": "fFVu7vqh_Zct"
   },
   "outputs": [],
   "source": [
    "df = pd.read_csv('https://code.s3.yandex.net/datasets/yandex_music_project.csv') # чтение файла с данными и сохранение в df"
   ]
  },
  {
   "cell_type": "code",
   "execution_count": 3,
   "metadata": {
    "id": "oWTVX3gW_Zct"
   },
   "outputs": [
    {
     "data": {
      "text/html": [
       "<div>\n",
       "<style scoped>\n",
       "    .dataframe tbody tr th:only-of-type {\n",
       "        vertical-align: middle;\n",
       "    }\n",
       "\n",
       "    .dataframe tbody tr th {\n",
       "        vertical-align: top;\n",
       "    }\n",
       "\n",
       "    .dataframe thead th {\n",
       "        text-align: right;\n",
       "    }\n",
       "</style>\n",
       "<table border=\"1\" class=\"dataframe\">\n",
       "  <thead>\n",
       "    <tr style=\"text-align: right;\">\n",
       "      <th></th>\n",
       "      <th>userID</th>\n",
       "      <th>Track</th>\n",
       "      <th>artist</th>\n",
       "      <th>genre</th>\n",
       "      <th>City</th>\n",
       "      <th>time</th>\n",
       "      <th>Day</th>\n",
       "    </tr>\n",
       "  </thead>\n",
       "  <tbody>\n",
       "    <tr>\n",
       "      <th>0</th>\n",
       "      <td>FFB692EC</td>\n",
       "      <td>Kamigata To Boots</td>\n",
       "      <td>The Mass Missile</td>\n",
       "      <td>rock</td>\n",
       "      <td>Saint-Petersburg</td>\n",
       "      <td>20:28:33</td>\n",
       "      <td>Wednesday</td>\n",
       "    </tr>\n",
       "    <tr>\n",
       "      <th>1</th>\n",
       "      <td>55204538</td>\n",
       "      <td>Delayed Because of Accident</td>\n",
       "      <td>Andreas Rönnberg</td>\n",
       "      <td>rock</td>\n",
       "      <td>Moscow</td>\n",
       "      <td>14:07:09</td>\n",
       "      <td>Friday</td>\n",
       "    </tr>\n",
       "    <tr>\n",
       "      <th>2</th>\n",
       "      <td>20EC38</td>\n",
       "      <td>Funiculì funiculà</td>\n",
       "      <td>Mario Lanza</td>\n",
       "      <td>pop</td>\n",
       "      <td>Saint-Petersburg</td>\n",
       "      <td>20:58:07</td>\n",
       "      <td>Wednesday</td>\n",
       "    </tr>\n",
       "    <tr>\n",
       "      <th>3</th>\n",
       "      <td>A3DD03C9</td>\n",
       "      <td>Dragons in the Sunset</td>\n",
       "      <td>Fire + Ice</td>\n",
       "      <td>folk</td>\n",
       "      <td>Saint-Petersburg</td>\n",
       "      <td>08:37:09</td>\n",
       "      <td>Monday</td>\n",
       "    </tr>\n",
       "    <tr>\n",
       "      <th>4</th>\n",
       "      <td>E2DC1FAE</td>\n",
       "      <td>Soul People</td>\n",
       "      <td>Space Echo</td>\n",
       "      <td>dance</td>\n",
       "      <td>Moscow</td>\n",
       "      <td>08:34:34</td>\n",
       "      <td>Monday</td>\n",
       "    </tr>\n",
       "    <tr>\n",
       "      <th>5</th>\n",
       "      <td>842029A1</td>\n",
       "      <td>Преданная</td>\n",
       "      <td>IMPERVTOR</td>\n",
       "      <td>rusrap</td>\n",
       "      <td>Saint-Petersburg</td>\n",
       "      <td>13:09:41</td>\n",
       "      <td>Friday</td>\n",
       "    </tr>\n",
       "    <tr>\n",
       "      <th>6</th>\n",
       "      <td>4CB90AA5</td>\n",
       "      <td>True</td>\n",
       "      <td>Roman Messer</td>\n",
       "      <td>dance</td>\n",
       "      <td>Moscow</td>\n",
       "      <td>13:00:07</td>\n",
       "      <td>Wednesday</td>\n",
       "    </tr>\n",
       "    <tr>\n",
       "      <th>7</th>\n",
       "      <td>F03E1C1F</td>\n",
       "      <td>Feeling This Way</td>\n",
       "      <td>Polina Griffith</td>\n",
       "      <td>dance</td>\n",
       "      <td>Moscow</td>\n",
       "      <td>20:47:49</td>\n",
       "      <td>Wednesday</td>\n",
       "    </tr>\n",
       "    <tr>\n",
       "      <th>8</th>\n",
       "      <td>8FA1D3BE</td>\n",
       "      <td>И вновь продолжается бой</td>\n",
       "      <td>NaN</td>\n",
       "      <td>ruspop</td>\n",
       "      <td>Moscow</td>\n",
       "      <td>09:17:40</td>\n",
       "      <td>Friday</td>\n",
       "    </tr>\n",
       "    <tr>\n",
       "      <th>9</th>\n",
       "      <td>E772D5C0</td>\n",
       "      <td>Pessimist</td>\n",
       "      <td>NaN</td>\n",
       "      <td>dance</td>\n",
       "      <td>Saint-Petersburg</td>\n",
       "      <td>21:20:49</td>\n",
       "      <td>Wednesday</td>\n",
       "    </tr>\n",
       "  </tbody>\n",
       "</table>\n",
       "</div>"
      ],
      "text/plain": [
       "     userID                        Track            artist   genre  \\\n",
       "0  FFB692EC            Kamigata To Boots  The Mass Missile    rock   \n",
       "1  55204538  Delayed Because of Accident  Andreas Rönnberg    rock   \n",
       "2    20EC38            Funiculì funiculà       Mario Lanza     pop   \n",
       "3  A3DD03C9        Dragons in the Sunset        Fire + Ice    folk   \n",
       "4  E2DC1FAE                  Soul People        Space Echo   dance   \n",
       "5  842029A1                    Преданная         IMPERVTOR  rusrap   \n",
       "6  4CB90AA5                         True      Roman Messer   dance   \n",
       "7  F03E1C1F             Feeling This Way   Polina Griffith   dance   \n",
       "8  8FA1D3BE     И вновь продолжается бой               NaN  ruspop   \n",
       "9  E772D5C0                    Pessimist               NaN   dance   \n",
       "\n",
       "             City        time        Day  \n",
       "0  Saint-Petersburg  20:28:33  Wednesday  \n",
       "1            Moscow  14:07:09     Friday  \n",
       "2  Saint-Petersburg  20:58:07  Wednesday  \n",
       "3  Saint-Petersburg  08:37:09     Monday  \n",
       "4            Moscow  08:34:34     Monday  \n",
       "5  Saint-Petersburg  13:09:41     Friday  \n",
       "6            Moscow  13:00:07  Wednesday  \n",
       "7            Moscow  20:47:49  Wednesday  \n",
       "8            Moscow  09:17:40     Friday  \n",
       "9  Saint-Petersburg  21:20:49  Wednesday  "
      ]
     },
     "execution_count": 3,
     "metadata": {},
     "output_type": "execute_result"
    }
   ],
   "source": [
    "df.head(10) # получение первых 10 строк таблицы df"
   ]
  },
  {
   "cell_type": "markdown",
   "metadata": {
    "id": "EO73Kwic_Zct"
   },
   "source": [
    "Одной командой получить общую информацию о таблице:"
   ]
  },
  {
   "cell_type": "code",
   "execution_count": 4,
   "metadata": {
    "id": "DSf2kIb-_Zct"
   },
   "outputs": [
    {
     "data": {
      "text/plain": [
       "<bound method DataFrame.info of          userID                              Track            artist  \\\n",
       "0      FFB692EC                  Kamigata To Boots  The Mass Missile   \n",
       "1      55204538        Delayed Because of Accident  Andreas Rönnberg   \n",
       "2        20EC38                  Funiculì funiculà       Mario Lanza   \n",
       "3      A3DD03C9              Dragons in the Sunset        Fire + Ice   \n",
       "4      E2DC1FAE                        Soul People        Space Echo   \n",
       "...         ...                                ...               ...   \n",
       "65074  729CBB09                            My Name            McLean   \n",
       "65075  D08D4A55  Maybe One Day (feat. Black Spade)       Blu & Exile   \n",
       "65076  C5E3A0D5                          Jalopiina               NaN   \n",
       "65077  321D0506                      Freight Train     Chas McDevitt   \n",
       "65078  3A64EF84          Tell Me Sweet Little Lies      Monica Lopez   \n",
       "\n",
       "            genre            City        time        Day  \n",
       "0            rock  Saint-Petersburg  20:28:33  Wednesday  \n",
       "1            rock            Moscow  14:07:09     Friday  \n",
       "2             pop  Saint-Petersburg  20:58:07  Wednesday  \n",
       "3            folk  Saint-Petersburg  08:37:09     Monday  \n",
       "4           dance            Moscow  08:34:34     Monday  \n",
       "...           ...               ...       ...        ...  \n",
       "65074         rnb            Moscow  13:32:28  Wednesday  \n",
       "65075         hip  Saint-Petersburg  10:00:00     Monday  \n",
       "65076  industrial            Moscow  20:09:26     Friday  \n",
       "65077        rock            Moscow  21:43:59     Friday  \n",
       "65078     country            Moscow  21:59:46     Friday  \n",
       "\n",
       "[65079 rows x 7 columns]>"
      ]
     },
     "execution_count": 4,
     "metadata": {},
     "output_type": "execute_result"
    }
   ],
   "source": [
    "df.info# получение общей информации о данных в таблице df"
   ]
  },
  {
   "cell_type": "markdown",
   "metadata": {
    "id": "TaQ2Iwbr_Zct"
   },
   "source": [
    "Итак, в таблице семь столбцов. Тип данных во всех столбцах — `object`.\n",
    "\n",
    "Согласно документации к данным:\n",
    "* `userID` — идентификатор пользователя;\n",
    "* `Track` — название трека;  \n",
    "* `artist` — имя исполнителя;\n",
    "* `genre` — название жанра;\n",
    "* `City` — город пользователя;\n",
    "* `time` — время начала прослушивания;\n",
    "* `Day` — день недели.\n",
    "\n",
    "В названиях колонок видны три нарушения стиля:\n",
    "1. Строчные буквы сочетаются с прописными.\n",
    "2. Встречаются пробелы.\n",
    "3. Разделение слов нижним подчеркиванием, в данном случае 'user_id'.\n",
    "\n",
    "Количество значений в столбцах различается. Значит, в данных есть пропущенные значения.\n"
   ]
  },
  {
   "cell_type": "markdown",
   "metadata": {
    "id": "MCB6-dXG_Zct"
   },
   "source": [
    "**Выводы**\n",
    "\n",
    "В каждой строке таблицы — данные о прослушанном треке. Часть колонок описывает саму композицию: название, исполнителя и жанр. Остальные данные рассказывают о пользователе: из какого он города, когда он слушал музыку. \n",
    "\n",
    "Предварительно можно утверждать, что, данных достаточно для проверки гипотез. Но встречаются пропуски в данных, а в названиях колонок — расхождения с хорошим стилем.\n",
    "\n",
    "Чтобы двигаться дальше, нужно устранить проблемы в данных."
   ]
  },
  {
   "cell_type": "markdown",
   "metadata": {
    "id": "SjYF6Ub9_Zct"
   },
   "source": [
    "## Предобработка данных\n",
    "Исправьте стиль в заголовках столбцов, исключите пропуски. Затем проверьте данные на дубликаты."
   ]
  },
  {
   "cell_type": "markdown",
   "metadata": {
    "id": "dIaKXr29_Zct"
   },
   "source": [
    "### Стиль заголовков\n",
    "Выведите на экран названия столбцов:"
   ]
  },
  {
   "cell_type": "code",
   "execution_count": 5,
   "metadata": {
    "id": "oKOTdF_Q_Zct"
   },
   "outputs": [
    {
     "data": {
      "text/plain": [
       "Index(['  userID', 'Track', 'artist', 'genre', '  City  ', 'time', 'Day'], dtype='object')"
      ]
     },
     "execution_count": 5,
     "metadata": {},
     "output_type": "execute_result"
    }
   ],
   "source": [
    "df.columns# перечень названий столбцов таблицы df"
   ]
  },
  {
   "cell_type": "markdown",
   "metadata": {
    "id": "zj5534cv_Zct"
   },
   "source": [
    "Приведите названия в соответствие с хорошим стилем:\n",
    "* несколько слов в названии запишите в «змеином_регистре»,\n",
    "* все символы сделайте строчными,\n",
    "* устраните пробелы.\n",
    "\n",
    "Для этого переименуйте колонки так:\n",
    "* `'  userID'` → `'user_id'`;\n",
    "* `'Track'` → `'track'`;\n",
    "* `'  City  '` → `'city'`;\n",
    "* `'Day'` → `'day'`."
   ]
  },
  {
   "cell_type": "code",
   "execution_count": 6,
   "metadata": {
    "id": "ISlFqs5y_Zct"
   },
   "outputs": [],
   "source": [
    "df.rename(columns={'  userID':'user_id', 'Track':'track', '  City  ':'city', 'Day':'day'},inplace=True)# переименование столбцов"
   ]
  },
  {
   "cell_type": "markdown",
   "metadata": {
    "id": "1dqbh00J_Zct"
   },
   "source": [
    "Проверьте результат. Для этого ещё раз выведите на экран названия столбцов:"
   ]
  },
  {
   "cell_type": "code",
   "execution_count": 7,
   "metadata": {
    "id": "d4NOAmTW_Zct"
   },
   "outputs": [
    {
     "data": {
      "text/plain": [
       "Index(['user_id', 'track', 'artist', 'genre', 'city', 'time', 'day'], dtype='object')"
      ]
     },
     "execution_count": 7,
     "metadata": {},
     "output_type": "execute_result"
    }
   ],
   "source": [
    "df.columns# проверка результатов - перечень названий столбцов"
   ]
  },
  {
   "cell_type": "markdown",
   "metadata": {
    "id": "5ISfbcfY_Zct"
   },
   "source": [
    "### Пропуски значений\n",
    "Сначала посчитайте, сколько в таблице пропущенных значений. Для этого достаточно двух методов `pandas`:"
   ]
  },
  {
   "cell_type": "code",
   "execution_count": 8,
   "metadata": {
    "id": "RskX29qr_Zct"
   },
   "outputs": [
    {
     "name": "stdout",
     "output_type": "stream",
     "text": [
      "user_id       0\n",
      "track      1231\n",
      "artist     7203\n",
      "genre      1198\n",
      "city          0\n",
      "time          0\n",
      "day           0\n",
      "dtype: int64\n"
     ]
    }
   ],
   "source": [
    "print(df.isna().sum())# подсчёт пропусков"
   ]
  },
  {
   "cell_type": "markdown",
   "metadata": {
    "id": "qubhgnlO_Zct"
   },
   "source": [
    "Не все пропущенные значения влияют на исследование. Так в `track` и `artist` пропуски не важны для вашей работы. Достаточно заменить их явными обозначениями.\n",
    "\n",
    "Но пропуски в `genre` могут помешать сравнению музыкальных вкусов в Москве и Санкт-Петербурге. На практике было бы правильно установить причину пропусков и восстановить данные. Такой возможности нет в учебном проекте. Придётся:\n",
    "* заполнить и эти пропуски явными обозначениями,\n",
    "* оценить, насколько они повредят расчётам. "
   ]
  },
  {
   "cell_type": "markdown",
   "metadata": {
    "id": "fSv2laPA_Zct"
   },
   "source": [
    "Замените пропущенные значения в столбцах `track`, `artist` и `genre` на строку `'unknown'`. Для этого создайте список `columns_to_replace`, переберите его элементы циклом `for` и для каждого столбца выполните замену пропущенных значений:"
   ]
  },
  {
   "cell_type": "code",
   "execution_count": 9,
   "metadata": {
    "id": "KplB5qWs_Zct"
   },
   "outputs": [],
   "source": [
    "columns_to_replace = ['track', 'artist', 'genre']\n",
    "for columns in columns_to_replace:\n",
    "    df[columns]= df[columns].fillna('unknown')# перебор названий столбцов в цикле и замена пропущенных значений на 'unknown'"
   ]
  },
  {
   "cell_type": "markdown",
   "metadata": {
    "id": "Ilsm-MZo_Zct"
   },
   "source": [
    "Убедитесь, что в таблице не осталось пропусков. Для этого ещё раз посчитайте пропущенные значения."
   ]
  },
  {
   "cell_type": "code",
   "execution_count": 10,
   "metadata": {
    "id": "Tq4nYRX4_Zct"
   },
   "outputs": [
    {
     "name": "stdout",
     "output_type": "stream",
     "text": [
      "user_id    0\n",
      "track      0\n",
      "artist     0\n",
      "genre      0\n",
      "city       0\n",
      "time       0\n",
      "day        0\n",
      "dtype: int64\n"
     ]
    }
   ],
   "source": [
    "print(df.isna().sum())# подсчёт пропусков"
   ]
  },
  {
   "cell_type": "markdown",
   "metadata": {
    "id": "BWKRtBJ3_Zct"
   },
   "source": [
    "### Дубликаты\n",
    "Посчитайте явные дубликаты в таблице одной командой:"
   ]
  },
  {
   "cell_type": "code",
   "execution_count": 11,
   "metadata": {
    "id": "36eES_S0_Zct"
   },
   "outputs": [
    {
     "data": {
      "text/plain": [
       "3826"
      ]
     },
     "execution_count": 11,
     "metadata": {},
     "output_type": "execute_result"
    }
   ],
   "source": [
    "df.duplicated().sum() # подсчёт явных дубликатов"
   ]
  },
  {
   "cell_type": "markdown",
   "metadata": {
    "id": "Ot25h6XR_Zct"
   },
   "source": [
    "Вызовите специальный метод `pandas`, чтобы удалить явные дубликаты:"
   ]
  },
  {
   "cell_type": "code",
   "execution_count": 12,
   "metadata": {
    "id": "exFHq6tt_Zct"
   },
   "outputs": [],
   "source": [
    "df = df.drop_duplicates().reset_index(drop=True)# удаление явных дубликатов (с удалением старых индексов и формированием новых)"
   ]
  },
  {
   "cell_type": "markdown",
   "metadata": {
    "id": "Im2YwBEG_Zct"
   },
   "source": [
    "Ещё раз посчитайте явные дубликаты в таблице — убедитесь, что полностью от них избавились:"
   ]
  },
  {
   "cell_type": "code",
   "execution_count": 13,
   "metadata": {
    "id": "-8PuNWQ0_Zct"
   },
   "outputs": [
    {
     "data": {
      "text/plain": [
       "0"
      ]
     },
     "execution_count": 13,
     "metadata": {},
     "output_type": "execute_result"
    }
   ],
   "source": [
    "df.duplicated().sum()# проверка на отсутствие дубликатов"
   ]
  },
  {
   "cell_type": "markdown",
   "metadata": {
    "id": "QlFBsxAr_Zct"
   },
   "source": [
    "Теперь избавьтесь от неявных дубликатов в колонке `genre`. Например, название одного и того же жанра может быть записано немного по-разному. Такие ошибки тоже повлияют на результат исследования."
   ]
  },
  {
   "cell_type": "markdown",
   "metadata": {
    "id": "eSjWwsOh_Zct"
   },
   "source": [
    "Выведите на экран список уникальных названий жанров, отсортированный в алфавитном порядке. Для этого:\n",
    "* извлеките нужный столбец датафрейма, \n",
    "* примените к нему метод сортировки,\n",
    "* для отсортированного столбца вызовите метод, который вернёт уникальные значения из столбца."
   ]
  },
  {
   "cell_type": "code",
   "execution_count": 14,
   "metadata": {
    "id": "JIUcqzZN_Zct",
    "scrolled": true
   },
   "outputs": [
    {
     "name": "stdout",
     "output_type": "stream",
     "text": [
      "['acid' 'acoustic' 'action' 'adult' 'africa' 'afrikaans' 'alternative'\n",
      " 'alternativepunk' 'ambient' 'americana' 'animated' 'anime' 'arabesk'\n",
      " 'arabic' 'arena' 'argentinetango' 'art' 'audiobook' 'author' 'avantgarde'\n",
      " 'axé' 'baile' 'balkan' 'beats' 'bigroom' 'black' 'bluegrass' 'blues'\n",
      " 'bollywood' 'bossa' 'brazilian' 'breakbeat' 'breaks' 'broadway'\n",
      " 'cantautori' 'cantopop' 'canzone' 'caribbean' 'caucasian' 'celtic'\n",
      " 'chamber' 'chanson' 'children' 'chill' 'chinese' 'choral' 'christian'\n",
      " 'christmas' 'classical' 'classicmetal' 'club' 'colombian' 'comedy'\n",
      " 'conjazz' 'contemporary' 'country' 'cuban' 'dance' 'dancehall' 'dancepop'\n",
      " 'dark' 'death' 'deep' 'deutschrock' 'deutschspr' 'dirty' 'disco' 'dnb'\n",
      " 'documentary' 'downbeat' 'downtempo' 'drum' 'dub' 'dubstep' 'eastern'\n",
      " 'easy' 'electronic' 'electropop' 'emo' 'entehno' 'epicmetal' 'estrada'\n",
      " 'ethnic' 'eurofolk' 'european' 'experimental' 'extrememetal' 'fado'\n",
      " 'fairytail' 'film' 'fitness' 'flamenco' 'folk' 'folklore' 'folkmetal'\n",
      " 'folkrock' 'folktronica' 'forró' 'frankreich' 'französisch' 'french'\n",
      " 'funk' 'future' 'gangsta' 'garage' 'german' 'ghazal' 'gitarre' 'glitch'\n",
      " 'gospel' 'gothic' 'grime' 'grunge' 'gypsy' 'handsup' \"hard'n'heavy\"\n",
      " 'hardcore' 'hardstyle' 'hardtechno' 'hip' 'hip-hop' 'hiphop' 'historisch'\n",
      " 'holiday' 'hop' 'horror' 'house' 'hymn' 'idm' 'independent' 'indian'\n",
      " 'indie' 'indipop' 'industrial' 'inspirational' 'instrumental'\n",
      " 'international' 'irish' 'jam' 'japanese' 'jazz' 'jewish' 'jpop' 'jungle'\n",
      " 'k-pop' 'karadeniz' 'karaoke' 'kayokyoku' 'korean' 'laiko' 'latin'\n",
      " 'latino' 'leftfield' 'local' 'lounge' 'loungeelectronic' 'lovers'\n",
      " 'malaysian' 'mandopop' 'marschmusik' 'meditative' 'mediterranean'\n",
      " 'melodic' 'metal' 'metalcore' 'mexican' 'middle' 'minimal'\n",
      " 'miscellaneous' 'modern' 'mood' 'mpb' 'muslim' 'native' 'neoklassik'\n",
      " 'neue' 'new' 'newage' 'newwave' 'nu' 'nujazz' 'numetal' 'oceania' 'old'\n",
      " 'opera' 'orchestral' 'other' 'piano' 'podcasts' 'pop' 'popdance'\n",
      " 'popelectronic' 'popeurodance' 'poprussian' 'post' 'posthardcore'\n",
      " 'postrock' 'power' 'progmetal' 'progressive' 'psychedelic' 'punjabi'\n",
      " 'punk' 'quebecois' 'ragga' 'ram' 'rancheras' 'rap' 'rave' 'reggae'\n",
      " 'reggaeton' 'regional' 'relax' 'religious' 'retro' 'rhythm' 'rnb' 'rnr'\n",
      " 'rock' 'rockabilly' 'rockalternative' 'rockindie' 'rockother' 'romance'\n",
      " 'roots' 'ruspop' 'rusrap' 'rusrock' 'russian' 'salsa' 'samba' 'scenic'\n",
      " 'schlager' 'self' 'sertanejo' 'shanson' 'shoegazing' 'showtunes' 'singer'\n",
      " 'ska' 'skarock' 'slow' 'smooth' 'soft' 'soul' 'soulful' 'sound'\n",
      " 'soundtrack' 'southern' 'specialty' 'speech' 'spiritual' 'sport'\n",
      " 'stonerrock' 'surf' 'swing' 'synthpop' 'synthrock' 'sängerportrait'\n",
      " 'tango' 'tanzorchester' 'taraftar' 'tatar' 'tech' 'techno' 'teen'\n",
      " 'thrash' 'top' 'traditional' 'tradjazz' 'trance' 'tribal' 'trip'\n",
      " 'triphop' 'tropical' 'türk' 'türkçe' 'ukrrock' 'unknown' 'urban' 'uzbek'\n",
      " 'variété' 'vi' 'videogame' 'vocal' 'western' 'world' 'worldbeat' 'ïîï'\n",
      " 'электроника']\n"
     ]
    }
   ],
   "source": [
    "sorted_genre = df['genre'].sort_values()\n",
    "print(sorted_genre.unique())# Просмотр уникальных названий жанров"
   ]
  },
  {
   "cell_type": "markdown",
   "metadata": {
    "id": "qej-Qmuo_Zct"
   },
   "source": [
    "Просмотрите список и найдите неявные дубликаты названия `hiphop`. Это могут быть названия с ошибками или альтернативные названия того же жанра.\n",
    "\n",
    "Вы увидите следующие неявные дубликаты:\n",
    "* *hip*,\n",
    "* *hop*,\n",
    "* *hip-hop*.\n",
    "\n",
    "Чтобы очистить от них таблицу, напишите функцию `replace_wrong_genres()` с двумя параметрами: \n",
    "* `wrong_genres` — список дубликатов,\n",
    "* `correct_genre` — строка с правильным значением.\n",
    "\n",
    "Функция должна исправить колонку `genre` в таблице `df`: заменить каждое значение из списка `wrong_genres` на значение из `correct_genre`."
   ]
  },
  {
   "cell_type": "code",
   "execution_count": 15,
   "metadata": {
    "id": "ErNDkmns_Zct"
   },
   "outputs": [],
   "source": [
    "def replace_wrong_genres(wrong_genres, correct_genre):\n",
    "    for wrong_gener in wrong_genres:\n",
    "        df['genre'] = df['genre'].replace(wrong_genres, correct_genre)# Функция для замены неявных дубликатов"
   ]
  },
  {
   "cell_type": "markdown",
   "metadata": {
    "id": "aDoBJxbA_Zct"
   },
   "source": [
    "Вызовите `replace_wrong_genres()` и передайте ей такие аргументы, чтобы она устранила неявные дубликаты: вместо `hip`, `hop` и `hip-hop` в таблице должно быть значение `hiphop`:"
   ]
  },
  {
   "cell_type": "code",
   "execution_count": 16,
   "metadata": {
    "id": "YN5i2hpmSo09"
   },
   "outputs": [],
   "source": [
    "wrong= ['hip', 'hop', 'hip-hop']\n",
    "correct= 'hiphop'\n",
    "replace_wrong_genres(wrong, correct)\n"
   ]
  },
  {
   "cell_type": "markdown",
   "metadata": {
    "id": "zQKF16_RG15m"
   },
   "source": [
    "Проверьте, что заменили неправильные названия:\n",
    "\n",
    "*   hip\n",
    "*   hop\n",
    "*   hip-hop\n",
    "\n",
    "Выведите отсортированный список уникальных значений столбца `genre`:"
   ]
  },
  {
   "cell_type": "code",
   "execution_count": 17,
   "metadata": {
    "id": "wvixALnFG15m"
   },
   "outputs": [
    {
     "name": "stdout",
     "output_type": "stream",
     "text": [
      "['acid' 'acoustic' 'action' 'adult' 'africa' 'afrikaans' 'alternative'\n",
      " 'alternativepunk' 'ambient' 'americana' 'animated' 'anime' 'arabesk'\n",
      " 'arabic' 'arena' 'argentinetango' 'art' 'audiobook' 'author' 'avantgarde'\n",
      " 'axé' 'baile' 'balkan' 'beats' 'bigroom' 'black' 'bluegrass' 'blues'\n",
      " 'bollywood' 'bossa' 'brazilian' 'breakbeat' 'breaks' 'broadway'\n",
      " 'cantautori' 'cantopop' 'canzone' 'caribbean' 'caucasian' 'celtic'\n",
      " 'chamber' 'chanson' 'children' 'chill' 'chinese' 'choral' 'christian'\n",
      " 'christmas' 'classical' 'classicmetal' 'club' 'colombian' 'comedy'\n",
      " 'conjazz' 'contemporary' 'country' 'cuban' 'dance' 'dancehall' 'dancepop'\n",
      " 'dark' 'death' 'deep' 'deutschrock' 'deutschspr' 'dirty' 'disco' 'dnb'\n",
      " 'documentary' 'downbeat' 'downtempo' 'drum' 'dub' 'dubstep' 'eastern'\n",
      " 'easy' 'electronic' 'electropop' 'emo' 'entehno' 'epicmetal' 'estrada'\n",
      " 'ethnic' 'eurofolk' 'european' 'experimental' 'extrememetal' 'fado'\n",
      " 'fairytail' 'film' 'fitness' 'flamenco' 'folk' 'folklore' 'folkmetal'\n",
      " 'folkrock' 'folktronica' 'forró' 'frankreich' 'französisch' 'french'\n",
      " 'funk' 'future' 'gangsta' 'garage' 'german' 'ghazal' 'gitarre' 'glitch'\n",
      " 'gospel' 'gothic' 'grime' 'grunge' 'gypsy' 'handsup' \"hard'n'heavy\"\n",
      " 'hardcore' 'hardstyle' 'hardtechno' 'hiphop' 'historisch' 'holiday'\n",
      " 'horror' 'house' 'hymn' 'idm' 'independent' 'indian' 'indie' 'indipop'\n",
      " 'industrial' 'inspirational' 'instrumental' 'international' 'irish' 'jam'\n",
      " 'japanese' 'jazz' 'jewish' 'jpop' 'jungle' 'k-pop' 'karadeniz' 'karaoke'\n",
      " 'kayokyoku' 'korean' 'laiko' 'latin' 'latino' 'leftfield' 'local'\n",
      " 'lounge' 'loungeelectronic' 'lovers' 'malaysian' 'mandopop' 'marschmusik'\n",
      " 'meditative' 'mediterranean' 'melodic' 'metal' 'metalcore' 'mexican'\n",
      " 'middle' 'minimal' 'miscellaneous' 'modern' 'mood' 'mpb' 'muslim'\n",
      " 'native' 'neoklassik' 'neue' 'new' 'newage' 'newwave' 'nu' 'nujazz'\n",
      " 'numetal' 'oceania' 'old' 'opera' 'orchestral' 'other' 'piano' 'podcasts'\n",
      " 'pop' 'popdance' 'popelectronic' 'popeurodance' 'poprussian' 'post'\n",
      " 'posthardcore' 'postrock' 'power' 'progmetal' 'progressive' 'psychedelic'\n",
      " 'punjabi' 'punk' 'quebecois' 'ragga' 'ram' 'rancheras' 'rap' 'rave'\n",
      " 'reggae' 'reggaeton' 'regional' 'relax' 'religious' 'retro' 'rhythm'\n",
      " 'rnb' 'rnr' 'rock' 'rockabilly' 'rockalternative' 'rockindie' 'rockother'\n",
      " 'romance' 'roots' 'ruspop' 'rusrap' 'rusrock' 'russian' 'salsa' 'samba'\n",
      " 'scenic' 'schlager' 'self' 'sertanejo' 'shanson' 'shoegazing' 'showtunes'\n",
      " 'singer' 'ska' 'skarock' 'slow' 'smooth' 'soft' 'soul' 'soulful' 'sound'\n",
      " 'soundtrack' 'southern' 'specialty' 'speech' 'spiritual' 'sport'\n",
      " 'stonerrock' 'surf' 'swing' 'synthpop' 'synthrock' 'sängerportrait'\n",
      " 'tango' 'tanzorchester' 'taraftar' 'tatar' 'tech' 'techno' 'teen'\n",
      " 'thrash' 'top' 'traditional' 'tradjazz' 'trance' 'tribal' 'trip'\n",
      " 'triphop' 'tropical' 'türk' 'türkçe' 'ukrrock' 'unknown' 'urban' 'uzbek'\n",
      " 'variété' 'vi' 'videogame' 'vocal' 'western' 'world' 'worldbeat' 'ïîï'\n",
      " 'электроника']\n"
     ]
    }
   ],
   "source": [
    "sorted_genre = df['genre'].sort_values()\n",
    "print(sorted_genre.unique())# Проверка на неявные дубликаты"
   ]
  },
  {
   "cell_type": "markdown",
   "metadata": {
    "id": "jz6a9-7HQUDd"
   },
   "source": [
    "**Выводы**\n",
    "\n",
    "Предобработка обнаружила три проблемы в данных:\n",
    "\n",
    "- нарушения в стиле заголовков,\n",
    "- пропущенные значения,\n",
    "- дубликаты — явные и неявные.\n",
    "\n",
    "Вы исправили заголовки, чтобы упростить работу с таблицей. Без дубликатов исследование станет более точным.\n",
    "\n",
    "Пропущенные значения вы заменили на `'unknown'`. Ещё предстоит увидеть, не повредят ли исследованию пропуски в колонке `genre`.\n",
    "\n",
    "Теперь можно перейти к проверке гипотез. "
   ]
  },
  {
   "cell_type": "markdown",
   "metadata": {
    "id": "WttZHXH0SqKk"
   },
   "source": [
    "## Проверка гипотез"
   ]
  },
  {
   "cell_type": "markdown",
   "metadata": {
    "id": "Im936VVi_Zcu"
   },
   "source": [
    "### Сравнение поведения пользователей двух столиц"
   ]
  },
  {
   "cell_type": "markdown",
   "metadata": {
    "id": "nwt_MuaL_Zcu"
   },
   "source": [
    "Первая гипотеза утверждает, что пользователи по-разному слушают музыку в Москве и Санкт-Петербурге. Проверьте это предположение по данным о трёх днях недели — понедельнике, среде и пятнице. Для этого:\n",
    "\n",
    "* Разделите пользователей Москвы и Санкт-Петербурга\n",
    "* Сравните, сколько треков послушала каждая группа пользователей в понедельник, среду и пятницу.\n"
   ]
  },
  {
   "cell_type": "markdown",
   "metadata": {
    "id": "8Dw_YMmT_Zcu"
   },
   "source": [
    "Для тренировки сначала выполните каждый из расчётов по отдельности. \n",
    "\n",
    "Оцените активность пользователей в каждом городе. Сгруппируйте данные по городу и посчитайте прослушивания в каждой группе.\n",
    "\n"
   ]
  },
  {
   "cell_type": "code",
   "execution_count": 18,
   "metadata": {
    "id": "0_Qs96oh_Zcu"
   },
   "outputs": [
    {
     "data": {
      "text/html": [
       "<div>\n",
       "<style scoped>\n",
       "    .dataframe tbody tr th:only-of-type {\n",
       "        vertical-align: middle;\n",
       "    }\n",
       "\n",
       "    .dataframe tbody tr th {\n",
       "        vertical-align: top;\n",
       "    }\n",
       "\n",
       "    .dataframe thead th {\n",
       "        text-align: right;\n",
       "    }\n",
       "</style>\n",
       "<table border=\"1\" class=\"dataframe\">\n",
       "  <thead>\n",
       "    <tr style=\"text-align: right;\">\n",
       "      <th></th>\n",
       "      <th>user_id</th>\n",
       "      <th>track</th>\n",
       "      <th>artist</th>\n",
       "      <th>genre</th>\n",
       "      <th>time</th>\n",
       "      <th>day</th>\n",
       "    </tr>\n",
       "    <tr>\n",
       "      <th>city</th>\n",
       "      <th></th>\n",
       "      <th></th>\n",
       "      <th></th>\n",
       "      <th></th>\n",
       "      <th></th>\n",
       "      <th></th>\n",
       "    </tr>\n",
       "  </thead>\n",
       "  <tbody>\n",
       "    <tr>\n",
       "      <th>Moscow</th>\n",
       "      <td>42741</td>\n",
       "      <td>42741</td>\n",
       "      <td>42741</td>\n",
       "      <td>42741</td>\n",
       "      <td>42741</td>\n",
       "      <td>42741</td>\n",
       "    </tr>\n",
       "    <tr>\n",
       "      <th>Saint-Petersburg</th>\n",
       "      <td>18512</td>\n",
       "      <td>18512</td>\n",
       "      <td>18512</td>\n",
       "      <td>18512</td>\n",
       "      <td>18512</td>\n",
       "      <td>18512</td>\n",
       "    </tr>\n",
       "  </tbody>\n",
       "</table>\n",
       "</div>"
      ],
      "text/plain": [
       "                  user_id  track  artist  genre   time    day\n",
       "city                                                         \n",
       "Moscow              42741  42741   42741  42741  42741  42741\n",
       "Saint-Petersburg    18512  18512   18512  18512  18512  18512"
      ]
     },
     "execution_count": 18,
     "metadata": {},
     "output_type": "execute_result"
    }
   ],
   "source": [
    "df.groupby('city').count()# Подсчёт прослушиваний в каждом городе"
   ]
  },
  {
   "cell_type": "markdown",
   "metadata": {
    "id": "dzli3w8o_Zcu"
   },
   "source": [
    "В Москве прослушиваний больше, чем в Петербурге. Из этого не следует, что московские пользователи чаще слушают музыку. Просто самих пользователей в Москве больше.\n",
    "\n",
    "Теперь сгруппируйте данные по дню недели и подсчитайте прослушивания в понедельник, среду и пятницу. Учтите, что в данных есть информация только о прослушиваниях только за эти дни.\n"
   ]
  },
  {
   "cell_type": "code",
   "execution_count": 19,
   "metadata": {
    "id": "uZMKjiJz_Zcu"
   },
   "outputs": [
    {
     "data": {
      "text/html": [
       "<div>\n",
       "<style scoped>\n",
       "    .dataframe tbody tr th:only-of-type {\n",
       "        vertical-align: middle;\n",
       "    }\n",
       "\n",
       "    .dataframe tbody tr th {\n",
       "        vertical-align: top;\n",
       "    }\n",
       "\n",
       "    .dataframe thead th {\n",
       "        text-align: right;\n",
       "    }\n",
       "</style>\n",
       "<table border=\"1\" class=\"dataframe\">\n",
       "  <thead>\n",
       "    <tr style=\"text-align: right;\">\n",
       "      <th></th>\n",
       "      <th>user_id</th>\n",
       "      <th>track</th>\n",
       "      <th>artist</th>\n",
       "      <th>genre</th>\n",
       "      <th>city</th>\n",
       "      <th>time</th>\n",
       "    </tr>\n",
       "    <tr>\n",
       "      <th>day</th>\n",
       "      <th></th>\n",
       "      <th></th>\n",
       "      <th></th>\n",
       "      <th></th>\n",
       "      <th></th>\n",
       "      <th></th>\n",
       "    </tr>\n",
       "  </thead>\n",
       "  <tbody>\n",
       "    <tr>\n",
       "      <th>Friday</th>\n",
       "      <td>21840</td>\n",
       "      <td>21840</td>\n",
       "      <td>21840</td>\n",
       "      <td>21840</td>\n",
       "      <td>21840</td>\n",
       "      <td>21840</td>\n",
       "    </tr>\n",
       "    <tr>\n",
       "      <th>Monday</th>\n",
       "      <td>21354</td>\n",
       "      <td>21354</td>\n",
       "      <td>21354</td>\n",
       "      <td>21354</td>\n",
       "      <td>21354</td>\n",
       "      <td>21354</td>\n",
       "    </tr>\n",
       "    <tr>\n",
       "      <th>Wednesday</th>\n",
       "      <td>18059</td>\n",
       "      <td>18059</td>\n",
       "      <td>18059</td>\n",
       "      <td>18059</td>\n",
       "      <td>18059</td>\n",
       "      <td>18059</td>\n",
       "    </tr>\n",
       "  </tbody>\n",
       "</table>\n",
       "</div>"
      ],
      "text/plain": [
       "           user_id  track  artist  genre   city   time\n",
       "day                                                   \n",
       "Friday       21840  21840   21840  21840  21840  21840\n",
       "Monday       21354  21354   21354  21354  21354  21354\n",
       "Wednesday    18059  18059   18059  18059  18059  18059"
      ]
     },
     "execution_count": 19,
     "metadata": {},
     "output_type": "execute_result"
    }
   ],
   "source": [
    "df.groupby('day').count()# Подсчёт прослушиваний в каждый из трёх дней"
   ]
  },
  {
   "cell_type": "markdown",
   "metadata": {
    "id": "cC2tNrlL_Zcu"
   },
   "source": [
    "В среднем пользователи из двух городов менее активны по средам. Но картина может измениться, если рассмотреть каждый город в отдельности."
   ]
  },
  {
   "cell_type": "markdown",
   "metadata": {
    "id": "POzs8bGa_Zcu"
   },
   "source": [
    "Вы видели, как работает группировка по городу и по дням недели. Теперь напишите функцию, которая объединит два эти расчёта.\n",
    "\n",
    "Создайте функцию `number_tracks()`, которая посчитает прослушивания для заданного дня и города. Ей понадобятся два параметра:\n",
    "* день недели,\n",
    "* название города.\n",
    "\n",
    "В функции сохраните в переменную строки исходной таблицы, у которых значение:\n",
    "  * в колонке `day` равно параметру `day`,\n",
    "  * в колонке `city` равно параметру `city`.\n",
    "\n",
    "Для этого примените последовательную фильтрацию с логической индексацией.\n",
    "\n",
    "Затем посчитайте значения в столбце `user_id` получившейся таблицы. Результат сохраните в новую переменную. Верните эту переменную из функции."
   ]
  },
  {
   "cell_type": "code",
   "execution_count": 20,
   "metadata": {
    "id": "Nz3GdQB1_Zcu"
   },
   "outputs": [],
   "source": [
    "def number_traks (day,city):  # <создание функции number_tracks()>\n",
    "                                 # Объявляется функция с двумя параметрами: day, city.\n",
    "    track_list = df[(df['day'] == day)&(df['city'] == city)]  # В переменной track_list сохраняются те строки таблицы df, для которых \n",
    "                                                                # значение в столбце 'day' равно параметру day и одновременно значение\n",
    "                                                                # в столбце 'city' равно параметру city (используйте последовательную фильтрацию\n",
    "                                                                # с помощью логической индексации).\n",
    "    track_list_count = track_list['user_id'].count() # В переменной track_list_count сохраняется число значений столбца 'user_id',\n",
    "                                             # рассчитанное методом count() для таблицы track_list.\n",
    "    return track_list_count# Функция возвращает число - значение track_list_count.\n",
    "\n",
    "# Функция для подсчёта прослушиваний для конкретного города и дня.\n",
    "# С помощью последовательной фильтрации с логической индексацией она \n",
    "# сначала получит из исходной таблицы строки с нужным днём,\n",
    "# затем из результата отфильтрует строки с нужным городом,\n",
    "# методом count() посчитает количество значений в колонке user_id. \n",
    "# Это количество функция вернёт в качестве результата"
   ]
  },
  {
   "cell_type": "markdown",
   "metadata": {
    "id": "ytf7xFrFJQ2r"
   },
   "source": [
    "Вызовите `number_tracks()` шесть раз, меняя значение параметров — так, чтобы получить данные для каждого города в каждый из трёх дней."
   ]
  },
  {
   "cell_type": "code",
   "execution_count": 21,
   "metadata": {
    "id": "rJcRATNQ_Zcu"
   },
   "outputs": [
    {
     "data": {
      "text/plain": [
       "15740"
      ]
     },
     "execution_count": 21,
     "metadata": {},
     "output_type": "execute_result"
    }
   ],
   "source": [
    "number_traks ('Monday','Moscow') # количество прослушиваний в Москве по понедельникам"
   ]
  },
  {
   "cell_type": "code",
   "execution_count": 22,
   "metadata": {
    "id": "hq_ncZ5T_Zcu"
   },
   "outputs": [
    {
     "data": {
      "text/plain": [
       "5614"
      ]
     },
     "execution_count": 22,
     "metadata": {},
     "output_type": "execute_result"
    }
   ],
   "source": [
    "number_traks ('Monday','Saint-Petersburg')# количество прослушиваний в Санкт-Петербурге по понедельникам"
   ]
  },
  {
   "cell_type": "code",
   "execution_count": 23,
   "metadata": {
    "id": "_NTy2VPU_Zcu"
   },
   "outputs": [
    {
     "data": {
      "text/plain": [
       "11056"
      ]
     },
     "execution_count": 23,
     "metadata": {},
     "output_type": "execute_result"
    }
   ],
   "source": [
    "number_traks ('Wednesday','Moscow')# количество прослушиваний в Москве по средам"
   ]
  },
  {
   "cell_type": "code",
   "execution_count": 24,
   "metadata": {
    "id": "j2y3TAwo_Zcu"
   },
   "outputs": [
    {
     "data": {
      "text/plain": [
       "7003"
      ]
     },
     "execution_count": 24,
     "metadata": {},
     "output_type": "execute_result"
    }
   ],
   "source": [
    "number_traks ('Wednesday','Saint-Petersburg')# количество прослушиваний в Санкт-Петербурге по средам"
   ]
  },
  {
   "cell_type": "code",
   "execution_count": 25,
   "metadata": {
    "id": "vYDw5u_K_Zcu"
   },
   "outputs": [
    {
     "data": {
      "text/plain": [
       "15945"
      ]
     },
     "execution_count": 25,
     "metadata": {},
     "output_type": "execute_result"
    }
   ],
   "source": [
    "number_traks ('Friday','Moscow')# количество прослушиваний в Москве по пятницам"
   ]
  },
  {
   "cell_type": "code",
   "execution_count": 26,
   "metadata": {
    "id": "8_yzFtW3_Zcu"
   },
   "outputs": [
    {
     "data": {
      "text/plain": [
       "5895"
      ]
     },
     "execution_count": 26,
     "metadata": {},
     "output_type": "execute_result"
    }
   ],
   "source": [
    "number_traks ('Friday','Saint-Petersburg')# количество прослушиваний в Санкт-Петербурге по пятницам"
   ]
  },
  {
   "cell_type": "markdown",
   "metadata": {
    "id": "7QXffbO-_Zcu"
   },
   "source": [
    "Создайте c помощью конструктора `pd.DataFrame` таблицу, где\n",
    "* названия колонок — `['city', 'monday', 'wednesday', 'friday']`;\n",
    "* данные — результаты, которые вы получили с помощью `number_tracks`."
   ]
  },
  {
   "cell_type": "code",
   "execution_count": 27,
   "metadata": {
    "id": "APAcLpOr_Zcu"
   },
   "outputs": [
    {
     "name": "stdout",
     "output_type": "stream",
     "text": [
      "               city  monday  wednesday  friday\n",
      "0            Moscow   15740      11056   15945\n",
      "1  Saint-Petersburg    5614       7003    5895\n"
     ]
    }
   ],
   "source": [
    "data = [['Moscow', 15740, 11056, 15945],\n",
    "       ['Saint-Petersburg', 5614, 7003, 5895]]\n",
    "columns = ['city','monday','wednesday','friday']\n",
    "table = pd.DataFrame(data = data, columns = columns)\n",
    "print (table)"
   ]
  },
  {
   "cell_type": "markdown",
   "metadata": {
    "id": "-EgPIHYu_Zcu"
   },
   "source": [
    "**Выводы**\n",
    "\n",
    "Данные показывают разницу поведения пользователей:\n",
    "\n",
    "- В Москве пик прослушиваний приходится на понедельник и пятницу, а в среду заметен спад.\n",
    "- В Петербурге, наоборот, больше слушают музыку по средам. Активность в понедельник и пятницу здесь почти в равной мере уступает среде.\n",
    "\n",
    "Значит, данные говорят в пользу первой гипотезы."
   ]
  },
  {
   "cell_type": "markdown",
   "metadata": {
    "id": "atZAxtq4_Zcu"
   },
   "source": [
    "### Музыка в начале и в конце недели"
   ]
  },
  {
   "cell_type": "markdown",
   "metadata": {
    "id": "eXrQqXFH_Zcu"
   },
   "source": [
    "Согласно второй гипотезе, утром в понедельник в Москве преобладают одни жанры, а в Петербурге — другие. Так же и вечером пятницы преобладают разные жанры — в зависимости от города."
   ]
  },
  {
   "cell_type": "markdown",
   "metadata": {
    "id": "S8UcW6Hw_Zcu"
   },
   "source": [
    "Сохраните таблицы с данными в две переменные:\n",
    "* по Москве — в `moscow_general`;\n",
    "* по Санкт-Петербургу — в `spb_general`."
   ]
  },
  {
   "cell_type": "code",
   "execution_count": 28,
   "metadata": {
    "id": "qeaFfM_P_Zcu"
   },
   "outputs": [
    {
     "name": "stdout",
     "output_type": "stream",
     "text": [
      "        user_id                          track                   artist  \\\n",
      "1      55204538    Delayed Because of Accident         Andreas Rönnberg   \n",
      "4      E2DC1FAE                    Soul People               Space Echo   \n",
      "6      4CB90AA5                           True             Roman Messer   \n",
      "7      F03E1C1F               Feeling This Way          Polina Griffith   \n",
      "8      8FA1D3BE       И вновь продолжается бой                  unknown   \n",
      "...         ...                            ...                      ...   \n",
      "61247  83A474E7  I Worship Only What You Bleed  The Black Dahlia Murder   \n",
      "61248  729CBB09                        My Name                   McLean   \n",
      "61250  C5E3A0D5                      Jalopiina                  unknown   \n",
      "61251  321D0506                  Freight Train            Chas McDevitt   \n",
      "61252  3A64EF84      Tell Me Sweet Little Lies             Monica Lopez   \n",
      "\n",
      "              genre    city      time        day  \n",
      "1              rock  Moscow  14:07:09     Friday  \n",
      "4             dance  Moscow  08:34:34     Monday  \n",
      "6             dance  Moscow  13:00:07  Wednesday  \n",
      "7             dance  Moscow  20:47:49  Wednesday  \n",
      "8            ruspop  Moscow  09:17:40     Friday  \n",
      "...             ...     ...       ...        ...  \n",
      "61247  extrememetal  Moscow  21:07:12     Monday  \n",
      "61248           rnb  Moscow  13:32:28  Wednesday  \n",
      "61250    industrial  Moscow  20:09:26     Friday  \n",
      "61251          rock  Moscow  21:43:59     Friday  \n",
      "61252       country  Moscow  21:59:46     Friday  \n",
      "\n",
      "[42741 rows x 7 columns]\n"
     ]
    }
   ],
   "source": [
    "# получение таблицы moscow_general из тех строк таблицы df, \n",
    "# для которых значение в столбце 'city' равно 'Moscow'\n",
    "moscow_general = df[df['city']=='Moscow']\n",
    "print(moscow_general)"
   ]
  },
  {
   "cell_type": "code",
   "execution_count": 29,
   "metadata": {
    "id": "ORaVRKto_Zcu"
   },
   "outputs": [
    {
     "name": "stdout",
     "output_type": "stream",
     "text": [
      "        user_id                              track              artist  \\\n",
      "0      FFB692EC                  Kamigata To Boots    The Mass Missile   \n",
      "2        20EC38                  Funiculì funiculà         Mario Lanza   \n",
      "3      A3DD03C9              Dragons in the Sunset          Fire + Ice   \n",
      "5      842029A1                          Преданная           IMPERVTOR   \n",
      "9      E772D5C0                          Pessimist             unknown   \n",
      "...         ...                                ...                 ...   \n",
      "61239  D94F810B        Theme from the Walking Dead  Proyecto Halloween   \n",
      "61240  BC8EC5CF       Red Lips: Gta (Rover Rework)               Rover   \n",
      "61241  29E04611                       Bre Petrunko       Perunika Trio   \n",
      "61242  1B91C621             (Hello) Cloud Mountain     sleepmakeswaves   \n",
      "61249  D08D4A55  Maybe One Day (feat. Black Spade)         Blu & Exile   \n",
      "\n",
      "            genre              city      time        day  \n",
      "0            rock  Saint-Petersburg  20:28:33  Wednesday  \n",
      "2             pop  Saint-Petersburg  20:58:07  Wednesday  \n",
      "3            folk  Saint-Petersburg  08:37:09     Monday  \n",
      "5          rusrap  Saint-Petersburg  13:09:41     Friday  \n",
      "9           dance  Saint-Petersburg  21:20:49  Wednesday  \n",
      "...           ...               ...       ...        ...  \n",
      "61239        film  Saint-Petersburg  21:14:40     Monday  \n",
      "61240  electronic  Saint-Petersburg  21:06:50     Monday  \n",
      "61241       world  Saint-Petersburg  13:56:00     Monday  \n",
      "61242    postrock  Saint-Petersburg  09:22:13     Monday  \n",
      "61249      hiphop  Saint-Petersburg  10:00:00     Monday  \n",
      "\n",
      "[18512 rows x 7 columns]\n"
     ]
    }
   ],
   "source": [
    "# получение таблицы spb_general из тех строк таблицы df,\n",
    "# для которых значение в столбце 'city' равно 'Saint-Petersburg'\n",
    "spb_general = df[df['city']=='Saint-Petersburg']\n",
    "print(spb_general)"
   ]
  },
  {
   "cell_type": "markdown",
   "metadata": {
    "id": "MEJV-CX2_Zcu"
   },
   "source": [
    "Создайте функцию `genre_weekday()` с четырьмя параметрами:\n",
    "* таблица (датафрейм) с данными,\n",
    "* день недели,\n",
    "* начальная временная метка в формате 'hh:mm', \n",
    "* последняя временная метка в формате 'hh:mm'.\n",
    "\n",
    "Функция должна вернуть информацию о топ-10 жанров тех треков, которые прослушивали в указанный день, в промежутке между двумя отметками времени."
   ]
  },
  {
   "cell_type": "code",
   "execution_count": 30,
   "metadata": {
    "id": "laJT9BYl_Zcu"
   },
   "outputs": [],
   "source": [
    "# Объявление функции genre_weekday() с параметрами table, day, time1, time2,\n",
    "# которая возвращает информацию о самых популярных жанрах в указанный день в\n",
    "# заданное время:\n",
    "\n",
    "def genre_weekday (table, day, time1, time2):\n",
    "    \n",
    "                            # 1) в переменную genre_df сохраняются те строки переданного датафрейма table, для\n",
    "                            #    которых одновременно:\n",
    "                            #    - значение в столбце day равно значению аргумента day\n",
    "                            #    - значение в столбце time больше значения аргумента time1\n",
    "                            #    - значение в столбце time меньше значения аргумента time2\n",
    "                            #    Используйте последовательную фильтрацию с помощью логической индексации.\n",
    "    genre_df=df[(table['day'] == day)&(df['time']>time1)&(df['time']<time2)]\n",
    "    \n",
    "                            # 2) сгруппировать датафрейм genre_df по столбцу genre, взять один из его\n",
    "                            #    столбцов и посчитать методом count() количество записей для каждого из\n",
    "                            #    присутствующих жанров, получившийся Series записать в переменную\n",
    "                            #    genre_df_count\n",
    "    genre_df_count = genre_df.groupby('genre')['user_id'].count()\n",
    "                           # 3) отсортировать genre_df_count по убыванию встречаемости и сохранить\n",
    "                           #    в переменную genre_df_sorted\n",
    "    genre_df_sorted = genre_df_count.sort_values(ascending=False)\n",
    "                           # 4) вернуть Series из 10 первых значений genre_df_sorted, это будут топ-10\n",
    "                           #    популярных жанров (в указанный день, в заданное время)\n",
    "    return genre_df_sorted.head(10)"
   ]
  },
  {
   "cell_type": "markdown",
   "metadata": {
    "id": "la2s2_PF_Zcu"
   },
   "source": [
    "Cравните результаты функции `genre_weekday()` для Москвы и Санкт-Петербурга в понедельник утром (с 7:00 до 11:00) и в пятницу вечером (с 17:00 до 23:00):"
   ]
  },
  {
   "cell_type": "code",
   "execution_count": 31,
   "metadata": {
    "id": "yz7itPUQ_Zcu"
   },
   "outputs": [
    {
     "data": {
      "text/plain": [
       "genre\n",
       "pop            781\n",
       "dance          549\n",
       "electronic     480\n",
       "rock           474\n",
       "hiphop         286\n",
       "ruspop         186\n",
       "world          181\n",
       "rusrap         175\n",
       "alternative    164\n",
       "unknown        161\n",
       "Name: user_id, dtype: int64"
      ]
     },
     "execution_count": 31,
     "metadata": {},
     "output_type": "execute_result"
    }
   ],
   "source": [
    "# вызов функции для утра понедельника в Москве (вместо df — таблица moscow_general)\n",
    "# объекты, хранящие время, являются строками и сравниваются как строки\n",
    "# пример вызова: genre_weekday(moscow_general, 'Monday', '07:00', '11:00')\n",
    "genre_weekday(moscow_general, 'Monday', '07:00', '11:00')\n",
    "    \n",
    " "
   ]
  },
  {
   "cell_type": "code",
   "execution_count": 32,
   "metadata": {
    "id": "kwUcHPdy_Zcu"
   },
   "outputs": [
    {
     "data": {
      "text/plain": [
       "genre\n",
       "pop            218\n",
       "dance          182\n",
       "rock           162\n",
       "electronic     147\n",
       "hiphop          80\n",
       "ruspop          64\n",
       "alternative     58\n",
       "rusrap          55\n",
       "jazz            44\n",
       "classical       40\n",
       "Name: user_id, dtype: int64"
      ]
     },
     "execution_count": 32,
     "metadata": {},
     "output_type": "execute_result"
    }
   ],
   "source": [
    "# вызов функции для утра понедельника в Петербурге (вместо df — таблица spb_general)\n",
    "genre_weekday (spb_general, 'Monday', '07:00', '11:00')"
   ]
  },
  {
   "cell_type": "code",
   "execution_count": 33,
   "metadata": {
    "id": "EzXVRE1o_Zcu"
   },
   "outputs": [
    {
     "data": {
      "text/plain": [
       "genre\n",
       "pop            713\n",
       "rock           517\n",
       "dance          495\n",
       "electronic     482\n",
       "hiphop         273\n",
       "world          208\n",
       "ruspop         170\n",
       "alternative    163\n",
       "classical      163\n",
       "rusrap         142\n",
       "Name: user_id, dtype: int64"
      ]
     },
     "execution_count": 33,
     "metadata": {},
     "output_type": "execute_result"
    }
   ],
   "source": [
    "genre_weekday(moscow_general, 'Friday', '16:00', '23:00')# вызов функции для вечера пятницы в Москве"
   ]
  },
  {
   "cell_type": "code",
   "execution_count": 34,
   "metadata": {
    "id": "JZaEKu5v_Zcu"
   },
   "outputs": [
    {
     "data": {
      "text/plain": [
       "genre\n",
       "pop            256\n",
       "electronic     216\n",
       "rock           216\n",
       "dance          210\n",
       "hiphop          97\n",
       "alternative     63\n",
       "jazz            61\n",
       "classical       60\n",
       "rusrap          59\n",
       "world           54\n",
       "Name: user_id, dtype: int64"
      ]
     },
     "execution_count": 34,
     "metadata": {},
     "output_type": "execute_result"
    }
   ],
   "source": [
    "genre_weekday (spb_general, 'Friday', '16:00', '23:00')# вызов функции для вечера пятницы в Петербурге"
   ]
  },
  {
   "cell_type": "markdown",
   "metadata": {
    "id": "wrCe4MNX_Zcu"
   },
   "source": [
    "**Выводы**\n",
    "\n",
    "Если сравнить топ-10 жанров в понедельник утром, можно сделать такие выводы:\n",
    "\n",
    "1. В Москве и Петербурге слушают похожую музыку. Единственное отличие — в московский рейтинг вошёл жанр “world”, а в петербургский — джаз и классика.\n",
    "\n",
    "2. В Москве пропущенных значений оказалось так много, что значение `'unknown'` заняло десятое место среди самых популярных жанров. Значит, пропущенные значения занимают существенную долю в данных и угрожают достоверности исследования.\n",
    "\n",
    "Вечер пятницы не меняет эту картину. Некоторые жанры поднимаются немного выше, другие спускаются, но в целом топ-10 остаётся тем же самым.\n",
    "\n",
    "Таким образом, вторая гипотеза подтвердилась лишь частично:\n",
    "* Пользователи слушают похожую музыку в начале недели и в конце.\n",
    "* Разница между Москвой и Петербургом не слишком выражена. В Москве чаще слушают русскую популярную музыку, в Петербурге — джаз.\n",
    "\n",
    "Однако пропуски в данных ставят под сомнение этот результат. В Москве их так много, что рейтинг топ-10 мог бы выглядеть иначе, если бы не утерянные  данные о жанрах."
   ]
  },
  {
   "cell_type": "markdown",
   "metadata": {
    "id": "JolODAqr_Zcu"
   },
   "source": [
    "### Жанровые предпочтения в Москве и Петербурге\n",
    "\n",
    "Гипотеза: Петербург — столица рэпа, музыку этого жанра там слушают чаще, чем в Москве.  А Москва — город контрастов, в котором, тем не менее, преобладает поп-музыка."
   ]
  },
  {
   "cell_type": "markdown",
   "metadata": {
    "id": "DlegSvaT_Zcu"
   },
   "source": [
    "Сгруппируйте таблицу `moscow_general` по жанру и посчитайте прослушивания треков каждого жанра методом `count()`. Затем отсортируйте результат в порядке убывания и сохраните его в таблице `moscow_genres`."
   ]
  },
  {
   "cell_type": "code",
   "execution_count": 35,
   "metadata": {
    "id": "r19lIPke_Zcu"
   },
   "outputs": [],
   "source": [
    "# одной строкой: группировка таблицы moscow_general по столбцу 'genre', \n",
    "# подсчёт числа значений 'genre' в этой группировке методом count(), \n",
    "# сортировка получившегося Series в порядке убывания и сохранение в moscow_genres\n",
    "moscow_genres = moscow_general.groupby('genre')['genre'].count().sort_values(ascending = False)\n"
   ]
  },
  {
   "cell_type": "markdown",
   "metadata": {
    "id": "6kMuomxTiIr8"
   },
   "source": [
    "Выведите на экран первые десять строк `moscow_genres`:"
   ]
  },
  {
   "cell_type": "code",
   "execution_count": 36,
   "metadata": {
    "id": "WhCSooF8_Zcv"
   },
   "outputs": [
    {
     "data": {
      "text/plain": [
       "genre\n",
       "pop            5892\n",
       "dance          4435\n",
       "rock           3965\n",
       "electronic     3786\n",
       "hiphop         2096\n",
       "classical      1616\n",
       "world          1432\n",
       "alternative    1379\n",
       "ruspop         1372\n",
       "rusrap         1161\n",
       "Name: genre, dtype: int64"
      ]
     },
     "execution_count": 36,
     "metadata": {},
     "output_type": "execute_result"
    }
   ],
   "source": [
    "moscow_genres.head(10)# просмотр первых 10 строк moscow_genres"
   ]
  },
  {
   "cell_type": "markdown",
   "metadata": {
    "id": "cnPG2vnN_Zcv"
   },
   "source": [
    "Теперь повторите то же и для Петербурга.\n",
    "\n",
    "Сгруппируйте таблицу `spb_general` по жанру. Посчитайте прослушивания треков каждого жанра. Результат отсортируйте в порядке убывания и сохраните в таблице `spb_genres`:\n"
   ]
  },
  {
   "cell_type": "code",
   "execution_count": 37,
   "metadata": {
    "id": "gluLIpE7_Zcv"
   },
   "outputs": [],
   "source": [
    "# одной строкой: группировка таблицы spb_general по столбцу 'genre', \n",
    "# подсчёт числа значений 'genre' в этой группировке методом count(), \n",
    "# сортировка получившегося Series в порядке убывания и сохранение в spb_genres\n",
    "spb_genres = spb_general.groupby('genre')['genre'].count().sort_values(ascending = False)\n"
   ]
  },
  {
   "cell_type": "markdown",
   "metadata": {
    "id": "5Doha_ODgyQ8"
   },
   "source": [
    "Выведите на экран первые десять строк `spb_genres`:"
   ]
  },
  {
   "cell_type": "code",
   "execution_count": 38,
   "metadata": {
    "id": "uaGJHjVU_Zcv"
   },
   "outputs": [
    {
     "data": {
      "text/plain": [
       "genre\n",
       "pop            2431\n",
       "dance          1932\n",
       "rock           1879\n",
       "electronic     1736\n",
       "hiphop          960\n",
       "alternative     649\n",
       "classical       646\n",
       "rusrap          564\n",
       "ruspop          538\n",
       "world           515\n",
       "Name: genre, dtype: int64"
      ]
     },
     "execution_count": 38,
     "metadata": {},
     "output_type": "execute_result"
    }
   ],
   "source": [
    "spb_genres.head(10)# просмотр первых 10 строк spb_genres"
   ]
  },
  {
   "cell_type": "markdown",
   "metadata": {
    "id": "RY51YJYu_Zcv"
   },
   "source": [
    "**Выводы**"
   ]
  },
  {
   "cell_type": "markdown",
   "metadata": {
    "id": "nVhnJEm__Zcv"
   },
   "source": [
    "Гипотеза частично подтвердилась:\n",
    "* Поп-музыка — самый популярный жанр в Москве, как и предполагала гипотеза. Более того, в топ-10 жанров встречается близкий жанр — русская популярная музыка.\n",
    "* Вопреки ожиданиям, рэп одинаково популярен в Москве и Петербурге. \n"
   ]
  },
  {
   "cell_type": "markdown",
   "metadata": {
    "id": "ykKQ0N65_Zcv"
   },
   "source": [
    "## Итоги исследования"
   ]
  },
  {
   "cell_type": "markdown",
   "metadata": {
    "id": "tjUwbHb3_Zcv"
   },
   "source": [
    "Вы проверили три гипотезы и установили:\n",
    "\n",
    "1. День недели по-разному влияет на активность пользователей в Москве и Петербурге. \n",
    "\n",
    "Первая гипотеза полностью подтвердилась.\n",
    "\n",
    "2. Музыкальные предпочтения не сильно меняются в течение недели — будь то Москва или Петербург. Небольшие различия заметны в начале недели, по понедельникам:\n",
    "* в Москве слушают музыку жанра “world”,\n",
    "* в Петербурге — джаз и классику.\n",
    "\n",
    "Таким образом, вторая гипотеза подтвердилась лишь отчасти. Этот результат мог оказаться иным, если бы не пропуски в данных.\n",
    "\n",
    "3. Во вкусах пользователей Москвы и Петербурга больше общего чем различий. Вопреки ожиданиям, предпочтения жанров в Петербурге напоминают московские.\n",
    "\n",
    "Третья гипотеза не подтвердилась. Если различия в предпочтениях и существуют, на основной массе пользователей они незаметны.\n",
    "\n",
    "**На практике исследования содержат проверки статистических гипотез.**\n",
    "Из данных одного сервиса не всегда можно сделать вывод о всех жителях города.\n",
    "Проверки статистических гипотез покажут, насколько они достоверны, исходя из имеющихся данных. \n",
    "С методами проверок гипотез вы ещё познакомитесь в следующих темах."
   ]
  },
  {
   "cell_type": "code",
   "execution_count": null,
   "metadata": {},
   "outputs": [],
   "source": []
  }
 ],
 "metadata": {
  "ExecuteTimeLog": [
   {
    "duration": 312,
    "start_time": "2022-02-20T13:25:41.562Z"
   },
   {
    "duration": 769,
    "start_time": "2022-02-20T13:25:48.961Z"
   },
   {
    "duration": 333,
    "start_time": "2022-02-20T13:26:38.052Z"
   },
   {
    "duration": 237,
    "start_time": "2022-02-20T13:26:46.061Z"
   },
   {
    "duration": 235,
    "start_time": "2022-02-20T13:27:02.552Z"
   },
   {
    "duration": 461,
    "start_time": "2022-02-20T13:33:24.131Z"
   },
   {
    "duration": 244,
    "start_time": "2022-02-20T13:35:25.401Z"
   },
   {
    "duration": 530,
    "start_time": "2022-02-20T13:35:43.264Z"
   },
   {
    "duration": 28,
    "start_time": "2022-02-20T13:35:52.331Z"
   },
   {
    "duration": 248,
    "start_time": "2022-02-20T13:36:05.031Z"
   },
   {
    "duration": 17,
    "start_time": "2022-02-20T13:36:15.661Z"
   },
   {
    "duration": 225,
    "start_time": "2022-02-20T13:36:43.400Z"
   },
   {
    "duration": 17,
    "start_time": "2022-02-20T13:36:56.251Z"
   },
   {
    "duration": 230,
    "start_time": "2022-02-20T13:45:26.720Z"
   },
   {
    "duration": 179,
    "start_time": "2022-02-20T13:46:47.101Z"
   },
   {
    "duration": 16,
    "start_time": "2022-02-20T13:46:50.080Z"
   },
   {
    "duration": 13,
    "start_time": "2022-02-20T13:50:58.210Z"
   },
   {
    "duration": 464,
    "start_time": "2022-02-22T07:04:43.434Z"
   },
   {
    "duration": 379,
    "start_time": "2022-02-22T07:05:26.674Z"
   },
   {
    "duration": 356,
    "start_time": "2022-02-22T07:05:42.604Z"
   },
   {
    "duration": 3,
    "start_time": "2022-02-22T07:06:09.714Z"
   },
   {
    "duration": 3,
    "start_time": "2022-02-22T07:06:10.034Z"
   },
   {
    "duration": 372,
    "start_time": "2022-02-22T07:08:54.094Z"
   },
   {
    "duration": 353,
    "start_time": "2022-02-22T07:09:21.314Z"
   },
   {
    "duration": 491,
    "start_time": "2022-02-22T07:09:44.274Z"
   },
   {
    "duration": 371,
    "start_time": "2022-02-22T07:09:57.313Z"
   },
   {
    "duration": 358,
    "start_time": "2022-02-22T07:10:04.487Z"
   },
   {
    "duration": 393,
    "start_time": "2022-02-22T07:10:13.174Z"
   },
   {
    "duration": 387,
    "start_time": "2022-02-22T07:18:07.033Z"
   },
   {
    "duration": 381,
    "start_time": "2022-02-22T07:20:41.372Z"
   },
   {
    "duration": 809,
    "start_time": "2022-02-22T07:20:50.332Z"
   },
   {
    "duration": 184,
    "start_time": "2022-02-22T07:20:52.403Z"
   },
   {
    "duration": 25,
    "start_time": "2022-02-22T07:20:55.713Z"
   },
   {
    "duration": 13,
    "start_time": "2022-02-22T07:20:57.963Z"
   },
   {
    "duration": 6,
    "start_time": "2022-02-22T07:21:56.752Z"
   },
   {
    "duration": 127,
    "start_time": "2022-02-22T07:24:29.423Z"
   },
   {
    "duration": 133,
    "start_time": "2022-02-22T07:24:47.562Z"
   },
   {
    "duration": 132,
    "start_time": "2022-02-22T07:25:06.071Z"
   },
   {
    "duration": 122,
    "start_time": "2022-02-22T07:26:47.612Z"
   },
   {
    "duration": 42,
    "start_time": "2022-02-22T07:35:26.423Z"
   },
   {
    "duration": 5,
    "start_time": "2022-02-22T07:36:07.813Z"
   },
   {
    "duration": 152,
    "start_time": "2022-02-22T07:36:45.942Z"
   },
   {
    "duration": 124,
    "start_time": "2022-02-22T07:36:55.732Z"
   },
   {
    "duration": 134,
    "start_time": "2022-02-22T07:36:59.803Z"
   },
   {
    "duration": 14,
    "start_time": "2022-02-22T07:37:19.382Z"
   },
   {
    "duration": 5,
    "start_time": "2022-02-22T07:37:25.280Z"
   },
   {
    "duration": 119,
    "start_time": "2022-02-22T07:39:14.442Z"
   },
   {
    "duration": 28,
    "start_time": "2022-02-22T07:39:28.273Z"
   },
   {
    "duration": 137,
    "start_time": "2022-02-22T07:45:53.742Z"
   },
   {
    "duration": 126,
    "start_time": "2022-02-22T07:46:16.452Z"
   },
   {
    "duration": 125,
    "start_time": "2022-02-22T08:04:23.710Z"
   },
   {
    "duration": 123,
    "start_time": "2022-02-22T08:04:41.520Z"
   },
   {
    "duration": 171,
    "start_time": "2022-02-22T08:04:47.330Z"
   },
   {
    "duration": 459,
    "start_time": "2022-02-22T08:04:55.910Z"
   },
   {
    "duration": 22,
    "start_time": "2022-02-22T08:14:14.251Z"
   },
   {
    "duration": 22,
    "start_time": "2022-02-22T08:14:20.351Z"
   },
   {
    "duration": 23,
    "start_time": "2022-02-22T08:14:24.610Z"
   },
   {
    "duration": 31,
    "start_time": "2022-02-22T08:14:46.251Z"
   },
   {
    "duration": 433,
    "start_time": "2022-02-22T08:15:39.240Z"
   },
   {
    "duration": 85,
    "start_time": "2022-02-22T08:15:53.320Z"
   },
   {
    "duration": 511,
    "start_time": "2022-02-22T08:24:59.720Z"
   },
   {
    "duration": 508,
    "start_time": "2022-02-22T08:25:23.010Z"
   },
   {
    "duration": 96,
    "start_time": "2022-02-22T08:25:38.530Z"
   },
   {
    "duration": 79,
    "start_time": "2022-02-22T08:25:49.650Z"
   },
   {
    "duration": 396,
    "start_time": "2022-02-22T08:29:30.570Z"
   },
   {
    "duration": 996,
    "start_time": "2022-02-22T08:35:10.349Z"
   },
   {
    "duration": 1130,
    "start_time": "2022-02-22T08:35:27.339Z"
   },
   {
    "duration": 10,
    "start_time": "2022-02-22T08:36:38.799Z"
   },
   {
    "duration": 156,
    "start_time": "2022-02-22T08:57:03.138Z"
   },
   {
    "duration": 133,
    "start_time": "2022-02-22T08:57:12.611Z"
   },
   {
    "duration": 4,
    "start_time": "2022-02-22T08:57:24.588Z"
   },
   {
    "duration": 407,
    "start_time": "2022-02-22T08:59:17.838Z"
   },
   {
    "duration": 368,
    "start_time": "2022-02-22T08:59:35.969Z"
   },
   {
    "duration": 363,
    "start_time": "2022-02-22T09:03:31.559Z"
   },
   {
    "duration": 892,
    "start_time": "2022-02-22T09:03:47.548Z"
   },
   {
    "duration": 169,
    "start_time": "2022-02-22T09:05:16.319Z"
   },
   {
    "duration": 134,
    "start_time": "2022-02-22T09:05:22.860Z"
   },
   {
    "duration": 133,
    "start_time": "2022-02-22T09:05:41.058Z"
   },
   {
    "duration": 166,
    "start_time": "2022-02-22T09:05:54.069Z"
   },
   {
    "duration": 135,
    "start_time": "2022-02-22T09:12:36.908Z"
   },
   {
    "duration": 135,
    "start_time": "2022-02-22T09:13:16.897Z"
   },
   {
    "duration": 128,
    "start_time": "2022-02-22T09:14:00.797Z"
   },
   {
    "duration": 121,
    "start_time": "2022-02-22T09:14:14.627Z"
   },
   {
    "duration": 179,
    "start_time": "2022-02-22T09:14:25.037Z"
   },
   {
    "duration": 119,
    "start_time": "2022-02-22T09:14:35.418Z"
   },
   {
    "duration": 165,
    "start_time": "2022-02-22T09:19:55.357Z"
   },
   {
    "duration": 437,
    "start_time": "2022-02-22T09:20:43.247Z"
   },
   {
    "duration": 947,
    "start_time": "2022-02-22T09:20:52.026Z"
   },
   {
    "duration": 6,
    "start_time": "2022-02-22T09:21:13.546Z"
   },
   {
    "duration": 727,
    "start_time": "2022-02-22T09:21:16.357Z"
   },
   {
    "duration": 4,
    "start_time": "2022-02-22T09:23:55.877Z"
   },
   {
    "duration": 10797,
    "start_time": "2022-02-22T09:23:57.296Z"
   },
   {
    "duration": 5,
    "start_time": "2022-02-22T09:25:01.186Z"
   },
   {
    "duration": 22,
    "start_time": "2022-02-22T09:25:10.686Z"
   },
   {
    "duration": 9,
    "start_time": "2022-02-22T09:25:50.286Z"
   },
   {
    "duration": 367,
    "start_time": "2022-02-22T09:36:28.646Z"
   },
   {
    "duration": 395,
    "start_time": "2022-02-22T09:36:47.325Z"
   },
   {
    "duration": 376,
    "start_time": "2022-02-22T09:37:15.746Z"
   },
   {
    "duration": 49,
    "start_time": "2022-02-22T09:43:49.495Z"
   },
   {
    "duration": 47,
    "start_time": "2022-02-22T09:52:04.742Z"
   },
   {
    "duration": 129,
    "start_time": "2022-02-22T11:55:07.359Z"
   },
   {
    "duration": 152,
    "start_time": "2022-02-22T11:55:17.560Z"
   },
   {
    "duration": 131,
    "start_time": "2022-02-22T11:55:34.670Z"
   },
   {
    "duration": 177,
    "start_time": "2022-02-22T11:55:59.610Z"
   },
   {
    "duration": 128,
    "start_time": "2022-02-22T11:56:10.160Z"
   },
   {
    "duration": 125,
    "start_time": "2022-02-22T11:56:37.789Z"
   },
   {
    "duration": 117,
    "start_time": "2022-02-22T11:56:46.410Z"
   },
   {
    "duration": 139,
    "start_time": "2022-02-22T11:57:47.480Z"
   },
   {
    "duration": 127,
    "start_time": "2022-02-22T12:01:31.490Z"
   },
   {
    "duration": 130,
    "start_time": "2022-02-22T12:01:43.659Z"
   },
   {
    "duration": 143,
    "start_time": "2022-02-22T12:04:38.070Z"
   },
   {
    "duration": 122,
    "start_time": "2022-02-22T12:07:08.639Z"
   },
   {
    "duration": 408,
    "start_time": "2022-02-22T12:09:13.419Z"
   },
   {
    "duration": 155,
    "start_time": "2022-02-22T12:09:30.069Z"
   },
   {
    "duration": 613,
    "start_time": "2022-02-22T12:11:12.785Z"
   },
   {
    "duration": 133,
    "start_time": "2022-02-22T12:11:27.898Z"
   },
   {
    "duration": 5,
    "start_time": "2022-02-22T12:11:37.028Z"
   },
   {
    "duration": 777,
    "start_time": "2022-02-22T12:11:48.129Z"
   },
   {
    "duration": 763,
    "start_time": "2022-02-22T12:12:24.088Z"
   },
   {
    "duration": 5,
    "start_time": "2022-02-22T12:12:55.415Z"
   },
   {
    "duration": 882,
    "start_time": "2022-02-22T12:12:58.288Z"
   },
   {
    "duration": 152,
    "start_time": "2022-02-22T12:13:19.758Z"
   },
   {
    "duration": 6,
    "start_time": "2022-02-22T12:13:29.178Z"
   },
   {
    "duration": 797,
    "start_time": "2022-02-22T12:13:32.688Z"
   },
   {
    "duration": 7,
    "start_time": "2022-02-22T12:13:52.699Z"
   },
   {
    "duration": 31,
    "start_time": "2022-02-22T12:13:55.148Z"
   },
   {
    "duration": 26,
    "start_time": "2022-02-22T12:14:56.759Z"
   },
   {
    "duration": 23,
    "start_time": "2022-02-22T12:17:16.968Z"
   },
   {
    "duration": 23,
    "start_time": "2022-02-22T12:17:18.168Z"
   },
   {
    "duration": 22,
    "start_time": "2022-02-22T12:17:19.077Z"
   },
   {
    "duration": 27,
    "start_time": "2022-02-22T12:17:20.998Z"
   },
   {
    "duration": 22,
    "start_time": "2022-02-22T12:17:21.918Z"
   },
   {
    "duration": 378,
    "start_time": "2022-02-22T12:23:39.798Z"
   },
   {
    "duration": 4,
    "start_time": "2022-02-22T12:24:31.318Z"
   },
   {
    "duration": 7,
    "start_time": "2022-02-22T13:16:12.536Z"
   },
   {
    "duration": 13,
    "start_time": "2022-02-22T13:17:01.166Z"
   },
   {
    "duration": 138,
    "start_time": "2022-02-22T13:17:56.986Z"
   },
   {
    "duration": 141,
    "start_time": "2022-02-22T13:18:36.905Z"
   },
   {
    "duration": 128,
    "start_time": "2022-02-22T13:18:43.596Z"
   },
   {
    "duration": 1096,
    "start_time": "2022-02-22T13:18:57.596Z"
   },
   {
    "duration": 119,
    "start_time": "2022-02-22T13:19:06.386Z"
   },
   {
    "duration": 660,
    "start_time": "2022-02-22T13:21:04.926Z"
   },
   {
    "duration": 389,
    "start_time": "2022-02-22T13:21:27.006Z"
   },
   {
    "duration": 422,
    "start_time": "2022-02-22T13:22:08.156Z"
   },
   {
    "duration": 450,
    "start_time": "2022-02-22T13:22:24.506Z"
   },
   {
    "duration": 121706,
    "start_time": "2022-02-22T13:23:29.213Z"
   },
   {
    "duration": 121717,
    "start_time": "2022-02-22T13:24:17.341Z"
   },
   {
    "duration": 121705,
    "start_time": "2022-02-22T13:24:17.354Z"
   },
   {
    "duration": 382,
    "start_time": "2022-02-22T13:26:23.695Z"
   },
   {
    "duration": 4,
    "start_time": "2022-02-22T13:26:35.685Z"
   },
   {
    "duration": 189,
    "start_time": "2022-02-22T13:26:37.685Z"
   },
   {
    "duration": 17,
    "start_time": "2022-02-22T13:26:38.745Z"
   },
   {
    "duration": 13,
    "start_time": "2022-02-22T13:26:42.435Z"
   },
   {
    "duration": 8,
    "start_time": "2022-02-22T13:26:52.305Z"
   },
   {
    "duration": 19,
    "start_time": "2022-02-22T13:26:53.726Z"
   },
   {
    "duration": 7,
    "start_time": "2022-02-22T13:26:54.865Z"
   },
   {
    "duration": 32,
    "start_time": "2022-02-22T13:26:59.385Z"
   },
   {
    "duration": 26,
    "start_time": "2022-02-22T13:27:01.865Z"
   },
   {
    "duration": 30,
    "start_time": "2022-02-22T13:27:03.115Z"
   },
   {
    "duration": 124,
    "start_time": "2022-02-22T13:27:06.397Z"
   },
   {
    "duration": 129,
    "start_time": "2022-02-22T13:27:08.446Z"
   },
   {
    "duration": 117,
    "start_time": "2022-02-22T13:27:09.705Z"
   },
   {
    "duration": 10,
    "start_time": "2022-02-22T13:27:14.176Z"
   },
   {
    "duration": 4,
    "start_time": "2022-02-22T13:27:17.645Z"
   },
   {
    "duration": 21,
    "start_time": "2022-02-22T13:27:18.815Z"
   },
   {
    "duration": 9,
    "start_time": "2022-02-22T13:27:20.685Z"
   },
   {
    "duration": 48,
    "start_time": "2022-02-22T13:27:28.365Z"
   },
   {
    "duration": 48,
    "start_time": "2022-02-22T13:27:31.595Z"
   },
   {
    "duration": 5,
    "start_time": "2022-02-22T13:27:35.275Z"
   },
   {
    "duration": 385,
    "start_time": "2022-02-22T13:27:37.225Z"
   },
   {
    "duration": 5,
    "start_time": "2022-02-22T13:27:46.766Z"
   },
   {
    "duration": 25,
    "start_time": "2022-02-22T13:27:48.735Z"
   },
   {
    "duration": 18,
    "start_time": "2022-02-22T13:27:49.855Z"
   },
   {
    "duration": 5,
    "start_time": "2022-02-22T13:28:01.025Z"
   },
   {
    "duration": 25,
    "start_time": "2022-02-22T13:28:02.836Z"
   },
   {
    "duration": 18,
    "start_time": "2022-02-22T13:28:03.576Z"
   },
   {
    "duration": 22,
    "start_time": "2022-02-22T13:28:09.706Z"
   },
   {
    "duration": 22,
    "start_time": "2022-02-22T13:28:10.465Z"
   },
   {
    "duration": 23,
    "start_time": "2022-02-22T13:28:11.186Z"
   },
   {
    "duration": 24,
    "start_time": "2022-02-22T13:28:12.235Z"
   },
   {
    "duration": 488,
    "start_time": "2022-02-22T13:28:16.815Z"
   },
   {
    "duration": 5,
    "start_time": "2022-02-22T13:35:53.324Z"
   },
   {
    "duration": 25,
    "start_time": "2022-02-22T13:35:54.545Z"
   },
   {
    "duration": 246,
    "start_time": "2022-02-22T13:36:05.585Z"
   },
   {
    "duration": 328,
    "start_time": "2022-02-22T13:36:08.036Z"
   },
   {
    "duration": 160,
    "start_time": "2022-02-22T13:36:17.285Z"
   },
   {
    "duration": 238,
    "start_time": "2022-02-22T13:36:20.285Z"
   },
   {
    "duration": 6,
    "start_time": "2022-02-22T13:36:32.965Z"
   },
   {
    "duration": 36,
    "start_time": "2022-02-22T13:36:35.704Z"
   },
   {
    "duration": 5,
    "start_time": "2022-02-22T13:39:41.474Z"
   },
   {
    "duration": 25,
    "start_time": "2022-02-22T13:39:43.194Z"
   },
   {
    "duration": 18,
    "start_time": "2022-02-22T13:39:43.805Z"
   },
   {
    "duration": 23,
    "start_time": "2022-02-22T13:39:44.354Z"
   },
   {
    "duration": 21,
    "start_time": "2022-02-22T13:39:44.915Z"
   },
   {
    "duration": 23,
    "start_time": "2022-02-22T13:39:45.574Z"
   },
   {
    "duration": 5,
    "start_time": "2022-02-22T13:40:27.605Z"
   },
   {
    "duration": 121676,
    "start_time": "2022-02-22T13:38:47.058Z"
   },
   {
    "duration": 121669,
    "start_time": "2022-02-22T13:38:47.066Z"
   },
   {
    "duration": 121668,
    "start_time": "2022-02-22T13:38:47.069Z"
   },
   {
    "duration": 121665,
    "start_time": "2022-02-22T13:38:47.073Z"
   },
   {
    "duration": 121664,
    "start_time": "2022-02-22T13:38:47.076Z"
   },
   {
    "duration": 121663,
    "start_time": "2022-02-22T13:38:47.078Z"
   },
   {
    "duration": 3,
    "start_time": "2022-02-22T13:40:54.154Z"
   },
   {
    "duration": 181,
    "start_time": "2022-02-22T13:40:55.664Z"
   },
   {
    "duration": 17,
    "start_time": "2022-02-22T13:40:56.524Z"
   },
   {
    "duration": 13,
    "start_time": "2022-02-22T13:40:57.334Z"
   },
   {
    "duration": 7,
    "start_time": "2022-02-22T13:40:59.226Z"
   },
   {
    "duration": 12,
    "start_time": "2022-02-22T13:40:59.725Z"
   },
   {
    "duration": 7,
    "start_time": "2022-02-22T13:41:00.465Z"
   },
   {
    "duration": 34,
    "start_time": "2022-02-22T13:41:00.914Z"
   },
   {
    "duration": 23,
    "start_time": "2022-02-22T13:41:04.864Z"
   },
   {
    "duration": 29,
    "start_time": "2022-02-22T13:41:06.184Z"
   },
   {
    "duration": 87,
    "start_time": "2022-02-22T13:41:09.574Z"
   },
   {
    "duration": 96,
    "start_time": "2022-02-22T13:41:10.564Z"
   },
   {
    "duration": 80,
    "start_time": "2022-02-22T13:41:12.829Z"
   },
   {
    "duration": 10,
    "start_time": "2022-02-22T13:41:13.024Z"
   },
   {
    "duration": 4,
    "start_time": "2022-02-22T13:41:15.884Z"
   },
   {
    "duration": 27,
    "start_time": "2022-02-22T13:41:21.544Z"
   },
   {
    "duration": 13,
    "start_time": "2022-02-22T13:41:23.125Z"
   },
   {
    "duration": 44,
    "start_time": "2022-02-22T13:41:27.034Z"
   },
   {
    "duration": 48,
    "start_time": "2022-02-22T13:41:31.554Z"
   },
   {
    "duration": 5,
    "start_time": "2022-02-22T13:41:35.144Z"
   },
   {
    "duration": 10894,
    "start_time": "2022-02-22T13:41:36.555Z"
   },
   {
    "duration": 121651,
    "start_time": "2022-02-22T13:39:45.801Z"
   },
   {
    "duration": 121643,
    "start_time": "2022-02-22T13:39:45.811Z"
   },
   {
    "duration": 121638,
    "start_time": "2022-02-22T13:39:45.817Z"
   },
   {
    "duration": 121632,
    "start_time": "2022-02-22T13:39:45.825Z"
   },
   {
    "duration": 121627,
    "start_time": "2022-02-22T13:39:45.831Z"
   },
   {
    "duration": 391,
    "start_time": "2022-02-22T13:41:52.134Z"
   },
   {
    "duration": 11037,
    "start_time": "2022-02-22T13:41:59.113Z"
   },
   {
    "duration": 121675,
    "start_time": "2022-02-22T13:40:08.479Z"
   },
   {
    "duration": 121673,
    "start_time": "2022-02-22T13:40:08.482Z"
   },
   {
    "duration": 121671,
    "start_time": "2022-02-22T13:40:08.486Z"
   },
   {
    "duration": 121669,
    "start_time": "2022-02-22T13:40:08.490Z"
   },
   {
    "duration": 121669,
    "start_time": "2022-02-22T13:40:08.492Z"
   },
   {
    "duration": 121691,
    "start_time": "2022-02-22T13:40:20.283Z"
   },
   {
    "duration": 121689,
    "start_time": "2022-02-22T13:40:20.286Z"
   },
   {
    "duration": 10201,
    "start_time": "2022-02-22T13:42:52.814Z"
   },
   {
    "duration": 121663,
    "start_time": "2022-02-22T13:41:01.355Z"
   },
   {
    "duration": 121660,
    "start_time": "2022-02-22T13:41:01.360Z"
   },
   {
    "duration": 121657,
    "start_time": "2022-02-22T13:41:01.364Z"
   },
   {
    "duration": 121655,
    "start_time": "2022-02-22T13:41:01.367Z"
   },
   {
    "duration": 121654,
    "start_time": "2022-02-22T13:41:01.370Z"
   },
   {
    "duration": 6,
    "start_time": "2022-02-22T13:43:04.914Z"
   },
   {
    "duration": 9917,
    "start_time": "2022-02-22T13:43:12.521Z"
   },
   {
    "duration": 121684,
    "start_time": "2022-02-22T13:41:20.757Z"
   },
   {
    "duration": 5,
    "start_time": "2022-02-22T13:43:24.954Z"
   },
   {
    "duration": 40,
    "start_time": "2022-02-22T13:43:28.114Z"
   },
   {
    "duration": 22,
    "start_time": "2022-02-22T13:43:31.844Z"
   },
   {
    "duration": 23,
    "start_time": "2022-02-22T13:43:32.544Z"
   },
   {
    "duration": 21,
    "start_time": "2022-02-22T13:43:33.154Z"
   },
   {
    "duration": 24,
    "start_time": "2022-02-22T13:43:33.723Z"
   },
   {
    "duration": 23,
    "start_time": "2022-02-22T13:43:34.313Z"
   },
   {
    "duration": 43,
    "start_time": "2022-02-22T13:44:25.666Z"
   },
   {
    "duration": 5,
    "start_time": "2022-02-22T13:44:32.324Z"
   },
   {
    "duration": 14,
    "start_time": "2022-02-22T13:48:30.015Z"
   },
   {
    "duration": 5,
    "start_time": "2022-02-22T13:59:41.434Z"
   },
   {
    "duration": 9984,
    "start_time": "2022-02-22T13:59:42.585Z"
   },
   {
    "duration": 121647,
    "start_time": "2022-02-22T13:57:50.925Z"
   },
   {
    "duration": 121641,
    "start_time": "2022-02-22T13:57:50.933Z"
   },
   {
    "duration": 121640,
    "start_time": "2022-02-22T13:57:50.936Z"
   },
   {
    "duration": 121641,
    "start_time": "2022-02-22T13:57:50.938Z"
   },
   {
    "duration": 10916,
    "start_time": "2022-02-22T14:00:06.353Z"
   },
   {
    "duration": 121640,
    "start_time": "2022-02-22T13:58:15.633Z"
   },
   {
    "duration": 121639,
    "start_time": "2022-02-22T13:58:15.636Z"
   },
   {
    "duration": 121639,
    "start_time": "2022-02-22T13:58:15.638Z"
   },
   {
    "duration": 121638,
    "start_time": "2022-02-22T13:58:15.641Z"
   },
   {
    "duration": 121637,
    "start_time": "2022-02-22T13:58:15.644Z"
   },
   {
    "duration": 121636,
    "start_time": "2022-02-22T13:58:15.647Z"
   },
   {
    "duration": 400,
    "start_time": "2022-02-22T14:00:18.854Z"
   },
   {
    "duration": 13,
    "start_time": "2022-02-22T14:00:24.643Z"
   },
   {
    "duration": 396,
    "start_time": "2022-02-22T14:00:31.744Z"
   },
   {
    "duration": 4,
    "start_time": "2022-02-22T14:01:00.104Z"
   },
   {
    "duration": 682,
    "start_time": "2022-02-22T14:01:01.053Z"
   },
   {
    "duration": 17,
    "start_time": "2022-02-22T14:01:03.824Z"
   },
   {
    "duration": 13,
    "start_time": "2022-02-22T14:01:04.773Z"
   },
   {
    "duration": 5,
    "start_time": "2022-02-22T14:01:06.643Z"
   },
   {
    "duration": 10,
    "start_time": "2022-02-22T14:01:07.094Z"
   },
   {
    "duration": 6,
    "start_time": "2022-02-22T14:01:07.773Z"
   },
   {
    "duration": 51,
    "start_time": "2022-02-22T14:01:08.174Z"
   },
   {
    "duration": 23,
    "start_time": "2022-02-22T14:01:08.824Z"
   },
   {
    "duration": 32,
    "start_time": "2022-02-22T14:01:09.288Z"
   },
   {
    "duration": 88,
    "start_time": "2022-02-22T14:01:10.173Z"
   },
   {
    "duration": 100,
    "start_time": "2022-02-22T14:01:11.223Z"
   },
   {
    "duration": 82,
    "start_time": "2022-02-22T14:01:12.921Z"
   },
   {
    "duration": 9,
    "start_time": "2022-02-22T14:01:14.993Z"
   },
   {
    "duration": 4,
    "start_time": "2022-02-22T14:01:16.013Z"
   },
   {
    "duration": 32,
    "start_time": "2022-02-22T14:01:17.644Z"
   },
   {
    "duration": 9,
    "start_time": "2022-02-22T14:01:18.973Z"
   },
   {
    "duration": 43,
    "start_time": "2022-02-22T14:01:22.354Z"
   },
   {
    "duration": 74,
    "start_time": "2022-02-22T14:01:24.313Z"
   },
   {
    "duration": 5,
    "start_time": "2022-02-22T14:01:27.803Z"
   },
   {
    "duration": 25,
    "start_time": "2022-02-22T14:01:30.674Z"
   },
   {
    "duration": 22,
    "start_time": "2022-02-22T14:01:32.414Z"
   },
   {
    "duration": 31,
    "start_time": "2022-02-22T14:01:33.133Z"
   },
   {
    "duration": 18,
    "start_time": "2022-02-22T14:01:33.774Z"
   },
   {
    "duration": 21,
    "start_time": "2022-02-22T14:01:34.433Z"
   },
   {
    "duration": 19,
    "start_time": "2022-02-22T14:01:35.024Z"
   },
   {
    "duration": 12,
    "start_time": "2022-02-22T14:02:56.364Z"
   },
   {
    "duration": 10085,
    "start_time": "2022-02-22T14:04:41.123Z"
   },
   {
    "duration": 121620,
    "start_time": "2022-02-22T14:03:04.346Z"
   },
   {
    "duration": 10731,
    "start_time": "2022-02-22T14:05:08.373Z"
   },
   {
    "duration": 11116,
    "start_time": "2022-02-22T14:05:47.983Z"
   },
   {
    "duration": 4,
    "start_time": "2022-02-22T14:06:08.433Z"
   },
   {
    "duration": 183,
    "start_time": "2022-02-22T14:06:09.653Z"
   },
   {
    "duration": 17,
    "start_time": "2022-02-22T14:06:10.023Z"
   },
   {
    "duration": 12,
    "start_time": "2022-02-22T14:06:10.344Z"
   },
   {
    "duration": 6,
    "start_time": "2022-02-22T14:06:11.233Z"
   },
   {
    "duration": 10,
    "start_time": "2022-02-22T14:06:11.563Z"
   },
   {
    "duration": 6,
    "start_time": "2022-02-22T14:06:11.943Z"
   },
   {
    "duration": 30,
    "start_time": "2022-02-22T14:06:12.843Z"
   },
   {
    "duration": 24,
    "start_time": "2022-02-22T14:06:13.754Z"
   },
   {
    "duration": 29,
    "start_time": "2022-02-22T14:06:14.164Z"
   },
   {
    "duration": 85,
    "start_time": "2022-02-22T14:06:14.603Z"
   },
   {
    "duration": 97,
    "start_time": "2022-02-22T14:06:15.063Z"
   },
   {
    "duration": 75,
    "start_time": "2022-02-22T14:06:15.513Z"
   },
   {
    "duration": 9,
    "start_time": "2022-02-22T14:06:16.162Z"
   },
   {
    "duration": 4,
    "start_time": "2022-02-22T14:06:16.643Z"
   },
   {
    "duration": 24,
    "start_time": "2022-02-22T14:06:17.832Z"
   },
   {
    "duration": 10,
    "start_time": "2022-02-22T14:06:18.462Z"
   },
   {
    "duration": 47,
    "start_time": "2022-02-22T14:06:22.702Z"
   },
   {
    "duration": 71,
    "start_time": "2022-02-22T14:06:23.243Z"
   },
   {
    "duration": 7,
    "start_time": "2022-02-22T14:06:24.903Z"
   },
   {
    "duration": 21,
    "start_time": "2022-02-22T14:06:26.183Z"
   },
   {
    "duration": 19,
    "start_time": "2022-02-22T14:06:26.523Z"
   },
   {
    "duration": 19,
    "start_time": "2022-02-22T14:06:26.723Z"
   },
   {
    "duration": 19,
    "start_time": "2022-02-22T14:06:26.923Z"
   },
   {
    "duration": 21,
    "start_time": "2022-02-22T14:06:27.143Z"
   },
   {
    "duration": 19,
    "start_time": "2022-02-22T14:06:27.342Z"
   },
   {
    "duration": 13,
    "start_time": "2022-02-22T14:06:28.943Z"
   },
   {
    "duration": 10030,
    "start_time": "2022-02-22T14:06:34.443Z"
   },
   {
    "duration": 385,
    "start_time": "2022-02-22T14:07:36.333Z"
   },
   {
    "duration": 1186,
    "start_time": "2022-02-22T14:10:07.184Z"
   },
   {
    "duration": 379,
    "start_time": "2022-02-22T14:10:19.712Z"
   },
   {
    "duration": 508,
    "start_time": "2022-02-22T14:10:26.952Z"
   },
   {
    "duration": 9,
    "start_time": "2022-02-22T14:10:56.852Z"
   },
   {
    "duration": 6,
    "start_time": "2022-02-22T14:11:55.242Z"
   },
   {
    "duration": 12,
    "start_time": "2022-02-22T14:12:12.893Z"
   },
   {
    "duration": 186,
    "start_time": "2022-02-22T14:26:53.955Z"
   },
   {
    "duration": 9,
    "start_time": "2022-02-22T14:27:02.091Z"
   },
   {
    "duration": 9,
    "start_time": "2022-02-22T14:27:08.842Z"
   },
   {
    "duration": 10,
    "start_time": "2022-02-22T14:27:09.712Z"
   },
   {
    "duration": 127,
    "start_time": "2022-02-22T14:27:12.653Z"
   },
   {
    "duration": 143,
    "start_time": "2022-02-22T14:32:37.401Z"
   },
   {
    "duration": 283,
    "start_time": "2022-02-22T14:33:39.262Z"
   },
   {
    "duration": 131,
    "start_time": "2022-02-22T14:34:04.951Z"
   },
   {
    "duration": 252,
    "start_time": "2022-02-22T14:34:22.622Z"
   },
   {
    "duration": 6,
    "start_time": "2022-02-22T14:34:29.071Z"
   },
   {
    "duration": 11068,
    "start_time": "2022-02-22T14:36:18.111Z"
   },
   {
    "duration": 5,
    "start_time": "2022-02-22T14:37:17.801Z"
   },
   {
    "duration": 10019,
    "start_time": "2022-02-22T14:37:20.431Z"
   },
   {
    "duration": 6,
    "start_time": "2022-02-22T14:40:06.341Z"
   },
   {
    "duration": 41091,
    "start_time": "2022-02-22T14:40:08.912Z"
   },
   {
    "duration": 6,
    "start_time": "2022-02-22T14:41:27.771Z"
   },
   {
    "duration": 9742,
    "start_time": "2022-02-22T14:41:29.061Z"
   },
   {
    "duration": 6,
    "start_time": "2022-02-22T14:42:01.981Z"
   },
   {
    "duration": 9752,
    "start_time": "2022-02-22T14:42:08.361Z"
   },
   {
    "duration": 7,
    "start_time": "2022-02-22T14:43:49.872Z"
   },
   {
    "duration": 10474,
    "start_time": "2022-02-22T14:43:51.822Z"
   },
   {
    "duration": 8,
    "start_time": "2022-02-22T14:47:21.691Z"
   },
   {
    "duration": 5,
    "start_time": "2022-02-22T14:47:23.982Z"
   },
   {
    "duration": 121514,
    "start_time": "2022-02-22T14:45:40.771Z"
   },
   {
    "duration": 6,
    "start_time": "2022-02-22T14:49:01.281Z"
   },
   {
    "duration": 10828,
    "start_time": "2022-02-22T14:49:03.781Z"
   },
   {
    "duration": 10525,
    "start_time": "2022-02-22T14:49:31.702Z"
   },
   {
    "duration": 6,
    "start_time": "2022-02-22T14:50:30.712Z"
   },
   {
    "duration": 5,
    "start_time": "2022-02-22T14:53:50.802Z"
   },
   {
    "duration": 253,
    "start_time": "2022-02-22T14:53:51.171Z"
   },
   {
    "duration": 24,
    "start_time": "2022-02-22T14:53:51.571Z"
   },
   {
    "duration": 12,
    "start_time": "2022-02-22T14:53:52.081Z"
   },
   {
    "duration": 6,
    "start_time": "2022-02-22T14:53:53.281Z"
   },
   {
    "duration": 9,
    "start_time": "2022-02-22T14:53:53.660Z"
   },
   {
    "duration": 6,
    "start_time": "2022-02-22T14:53:54.841Z"
   },
   {
    "duration": 31,
    "start_time": "2022-02-22T14:53:55.310Z"
   },
   {
    "duration": 22,
    "start_time": "2022-02-22T14:53:55.951Z"
   },
   {
    "duration": 31,
    "start_time": "2022-02-22T14:53:56.381Z"
   },
   {
    "duration": 88,
    "start_time": "2022-02-22T14:53:56.831Z"
   },
   {
    "duration": 96,
    "start_time": "2022-02-22T14:53:57.271Z"
   },
   {
    "duration": 79,
    "start_time": "2022-02-22T14:53:57.710Z"
   },
   {
    "duration": 10,
    "start_time": "2022-02-22T14:53:58.370Z"
   },
   {
    "duration": 4,
    "start_time": "2022-02-22T14:53:59.951Z"
   },
   {
    "duration": 23,
    "start_time": "2022-02-22T14:54:00.871Z"
   },
   {
    "duration": 10,
    "start_time": "2022-02-22T14:54:01.821Z"
   },
   {
    "duration": 45,
    "start_time": "2022-02-22T14:54:05.111Z"
   },
   {
    "duration": 46,
    "start_time": "2022-02-22T14:54:05.921Z"
   },
   {
    "duration": 5,
    "start_time": "2022-02-22T14:54:07.021Z"
   },
   {
    "duration": 21,
    "start_time": "2022-02-22T14:54:07.851Z"
   },
   {
    "duration": 25,
    "start_time": "2022-02-22T14:54:08.172Z"
   },
   {
    "duration": 34,
    "start_time": "2022-02-22T14:54:08.592Z"
   },
   {
    "duration": 19,
    "start_time": "2022-02-22T14:54:08.901Z"
   },
   {
    "duration": 22,
    "start_time": "2022-02-22T14:54:09.141Z"
   },
   {
    "duration": 30,
    "start_time": "2022-02-22T14:54:09.721Z"
   },
   {
    "duration": 17,
    "start_time": "2022-02-22T14:54:11.721Z"
   },
   {
    "duration": 11,
    "start_time": "2022-02-22T14:54:14.762Z"
   },
   {
    "duration": 9,
    "start_time": "2022-02-22T14:54:15.651Z"
   },
   {
    "duration": 5,
    "start_time": "2022-02-22T14:54:17.811Z"
   },
   {
    "duration": 9640,
    "start_time": "2022-02-22T14:54:19.111Z"
   },
   {
    "duration": 6,
    "start_time": "2022-02-22T14:56:04.251Z"
   },
   {
    "duration": 10132,
    "start_time": "2022-02-22T14:56:05.351Z"
   },
   {
    "duration": 6,
    "start_time": "2022-02-22T14:57:47.581Z"
   },
   {
    "duration": 11004,
    "start_time": "2022-02-22T14:57:49.311Z"
   },
   {
    "duration": 7,
    "start_time": "2022-02-22T14:59:15.460Z"
   },
   {
    "duration": 10254,
    "start_time": "2022-02-22T14:59:15.820Z"
   },
   {
    "duration": 6,
    "start_time": "2022-02-22T15:04:59.350Z"
   },
   {
    "duration": 794,
    "start_time": "2022-02-22T15:05:00.440Z"
   },
   {
    "duration": 8,
    "start_time": "2022-02-22T15:05:43.270Z"
   },
   {
    "duration": 870,
    "start_time": "2022-02-22T15:05:45.173Z"
   },
   {
    "duration": 6,
    "start_time": "2022-02-22T15:06:04.330Z"
   },
   {
    "duration": 9794,
    "start_time": "2022-02-22T15:06:05.750Z"
   },
   {
    "duration": 7,
    "start_time": "2022-02-22T15:06:26.960Z"
   },
   {
    "duration": 10250,
    "start_time": "2022-02-22T15:06:36.540Z"
   },
   {
    "duration": 6,
    "start_time": "2022-02-22T15:06:59.200Z"
   },
   {
    "duration": 10506,
    "start_time": "2022-02-22T15:07:00.550Z"
   },
   {
    "duration": 6,
    "start_time": "2022-02-22T15:08:05.370Z"
   },
   {
    "duration": 10308,
    "start_time": "2022-02-22T15:08:07.170Z"
   },
   {
    "duration": 120,
    "start_time": "2022-02-22T15:09:57.370Z"
   },
   {
    "duration": 6,
    "start_time": "2022-02-22T15:10:03.380Z"
   },
   {
    "duration": 11745,
    "start_time": "2022-02-22T15:10:05.629Z"
   },
   {
    "duration": 8,
    "start_time": "2022-02-22T15:12:30.610Z"
   },
   {
    "duration": 9916,
    "start_time": "2022-02-22T15:12:34.340Z"
   },
   {
    "duration": 208,
    "start_time": "2022-02-22T15:14:33.389Z"
   },
   {
    "duration": 126,
    "start_time": "2022-02-22T15:14:49.569Z"
   },
   {
    "duration": 172,
    "start_time": "2022-02-22T15:14:56.889Z"
   },
   {
    "duration": 7,
    "start_time": "2022-02-22T15:15:02.179Z"
   },
   {
    "duration": 11594,
    "start_time": "2022-02-22T15:15:04.219Z"
   },
   {
    "duration": 6,
    "start_time": "2022-02-22T15:16:24.269Z"
   },
   {
    "duration": 11317,
    "start_time": "2022-02-22T15:16:26.189Z"
   },
   {
    "duration": 6,
    "start_time": "2022-02-22T15:22:10.379Z"
   },
   {
    "duration": 7,
    "start_time": "2022-02-22T15:22:17.399Z"
   },
   {
    "duration": 9822,
    "start_time": "2022-02-22T15:22:18.959Z"
   },
   {
    "duration": 11149,
    "start_time": "2022-02-22T15:24:04.069Z"
   },
   {
    "duration": 364,
    "start_time": "2022-02-22T15:24:28.149Z"
   },
   {
    "duration": 6,
    "start_time": "2022-02-22T15:24:35.879Z"
   },
   {
    "duration": 374,
    "start_time": "2022-02-22T15:24:37.449Z"
   },
   {
    "duration": 10600,
    "start_time": "2022-02-22T15:24:49.219Z"
   },
   {
    "duration": 121420,
    "start_time": "2022-02-22T15:22:58.402Z"
   },
   {
    "duration": 4,
    "start_time": "2022-02-22T15:25:13.299Z"
   },
   {
    "duration": 205,
    "start_time": "2022-02-22T15:25:13.608Z"
   },
   {
    "duration": 17,
    "start_time": "2022-02-22T15:25:15.441Z"
   },
   {
    "duration": 14,
    "start_time": "2022-02-22T15:25:15.461Z"
   },
   {
    "duration": 6,
    "start_time": "2022-02-22T15:25:15.498Z"
   },
   {
    "duration": 9,
    "start_time": "2022-02-22T15:25:15.909Z"
   },
   {
    "duration": 6,
    "start_time": "2022-02-22T15:25:17.139Z"
   },
   {
    "duration": 32,
    "start_time": "2022-02-22T15:25:21.359Z"
   },
   {
    "duration": 24,
    "start_time": "2022-02-22T15:25:23.339Z"
   },
   {
    "duration": 29,
    "start_time": "2022-02-22T15:25:24.329Z"
   },
   {
    "duration": 84,
    "start_time": "2022-02-22T15:25:25.229Z"
   },
   {
    "duration": 101,
    "start_time": "2022-02-22T15:25:25.879Z"
   },
   {
    "duration": 79,
    "start_time": "2022-02-22T15:25:26.378Z"
   },
   {
    "duration": 8,
    "start_time": "2022-02-22T15:25:27.139Z"
   },
   {
    "duration": 5,
    "start_time": "2022-02-22T15:25:27.638Z"
   },
   {
    "duration": 23,
    "start_time": "2022-02-22T15:25:28.378Z"
   },
   {
    "duration": 10,
    "start_time": "2022-02-22T15:25:29.259Z"
   },
   {
    "duration": 51,
    "start_time": "2022-02-22T15:25:31.399Z"
   },
   {
    "duration": 48,
    "start_time": "2022-02-22T15:25:32.420Z"
   },
   {
    "duration": 5,
    "start_time": "2022-02-22T15:25:33.629Z"
   },
   {
    "duration": 23,
    "start_time": "2022-02-22T15:25:34.549Z"
   },
   {
    "duration": 20,
    "start_time": "2022-02-22T15:25:34.979Z"
   },
   {
    "duration": 19,
    "start_time": "2022-02-22T15:25:35.409Z"
   },
   {
    "duration": 22,
    "start_time": "2022-02-22T15:25:35.779Z"
   },
   {
    "duration": 31,
    "start_time": "2022-02-22T15:25:36.159Z"
   },
   {
    "duration": 20,
    "start_time": "2022-02-22T15:25:36.539Z"
   },
   {
    "duration": 12,
    "start_time": "2022-02-22T15:25:37.369Z"
   },
   {
    "duration": 9,
    "start_time": "2022-02-22T15:25:39.849Z"
   },
   {
    "duration": 9,
    "start_time": "2022-02-22T15:25:40.549Z"
   },
   {
    "duration": 5,
    "start_time": "2022-02-22T15:25:41.819Z"
   },
   {
    "duration": 11058,
    "start_time": "2022-02-22T15:25:43.369Z"
   },
   {
    "duration": 7,
    "start_time": "2022-02-22T15:29:56.268Z"
   },
   {
    "duration": 12807,
    "start_time": "2022-02-22T15:29:58.089Z"
   },
   {
    "duration": 6,
    "start_time": "2022-02-22T15:31:56.098Z"
   },
   {
    "duration": 11675,
    "start_time": "2022-02-22T15:31:57.549Z"
   },
   {
    "duration": 7,
    "start_time": "2022-02-22T15:32:35.779Z"
   },
   {
    "duration": 10063,
    "start_time": "2022-02-22T15:32:37.809Z"
   },
   {
    "duration": 6,
    "start_time": "2022-02-22T15:32:58.749Z"
   },
   {
    "duration": 11433,
    "start_time": "2022-02-22T15:33:02.419Z"
   },
   {
    "duration": 7,
    "start_time": "2022-02-22T15:33:29.979Z"
   },
   {
    "duration": 10130,
    "start_time": "2022-02-22T15:33:31.739Z"
   },
   {
    "duration": 446,
    "start_time": "2022-02-22T15:33:48.259Z"
   },
   {
    "duration": 3,
    "start_time": "2022-02-22T15:33:57.109Z"
   },
   {
    "duration": 186,
    "start_time": "2022-02-22T15:33:57.479Z"
   },
   {
    "duration": 16,
    "start_time": "2022-02-22T15:33:57.860Z"
   },
   {
    "duration": 18,
    "start_time": "2022-02-22T15:33:58.229Z"
   },
   {
    "duration": 7,
    "start_time": "2022-02-22T15:33:59.270Z"
   },
   {
    "duration": 8,
    "start_time": "2022-02-22T15:34:00.119Z"
   },
   {
    "duration": 7,
    "start_time": "2022-02-22T15:34:00.769Z"
   },
   {
    "duration": 51,
    "start_time": "2022-02-22T15:34:01.509Z"
   },
   {
    "duration": 23,
    "start_time": "2022-02-22T15:34:03.619Z"
   },
   {
    "duration": 30,
    "start_time": "2022-02-22T15:34:04.529Z"
   },
   {
    "duration": 125,
    "start_time": "2022-02-22T15:34:05.459Z"
   },
   {
    "duration": 100,
    "start_time": "2022-02-22T15:34:06.448Z"
   },
   {
    "duration": 81,
    "start_time": "2022-02-22T15:34:07.428Z"
   },
   {
    "duration": 9,
    "start_time": "2022-02-22T15:34:08.948Z"
   },
   {
    "duration": 5,
    "start_time": "2022-02-22T15:34:09.938Z"
   },
   {
    "duration": 32,
    "start_time": "2022-02-22T15:34:11.239Z"
   },
   {
    "duration": 13,
    "start_time": "2022-02-22T15:34:12.499Z"
   },
   {
    "duration": 68,
    "start_time": "2022-02-22T15:34:16.019Z"
   },
   {
    "duration": 46,
    "start_time": "2022-02-22T15:34:17.868Z"
   },
   {
    "duration": 6,
    "start_time": "2022-02-22T15:34:20.779Z"
   },
   {
    "duration": 23,
    "start_time": "2022-02-22T15:34:23.019Z"
   },
   {
    "duration": 21,
    "start_time": "2022-02-22T15:34:30.729Z"
   },
   {
    "duration": 32,
    "start_time": "2022-02-22T15:34:31.279Z"
   },
   {
    "duration": 28,
    "start_time": "2022-02-22T15:34:31.819Z"
   },
   {
    "duration": 21,
    "start_time": "2022-02-22T15:34:32.328Z"
   },
   {
    "duration": 27,
    "start_time": "2022-02-22T15:34:32.770Z"
   },
   {
    "duration": 12,
    "start_time": "2022-02-22T15:34:33.999Z"
   },
   {
    "duration": 8,
    "start_time": "2022-02-22T15:34:38.009Z"
   },
   {
    "duration": 9,
    "start_time": "2022-02-22T15:34:38.919Z"
   },
   {
    "duration": 6,
    "start_time": "2022-02-22T15:34:40.609Z"
   },
   {
    "duration": 10628,
    "start_time": "2022-02-22T15:34:41.968Z"
   },
   {
    "duration": 6,
    "start_time": "2022-02-22T15:46:29.617Z"
   },
   {
    "duration": 10934,
    "start_time": "2022-02-22T15:46:30.607Z"
   },
   {
    "duration": 6,
    "start_time": "2022-02-22T15:53:08.367Z"
   },
   {
    "duration": 11316,
    "start_time": "2022-02-22T15:53:09.727Z"
   },
   {
    "duration": 9,
    "start_time": "2022-02-22T16:16:29.456Z"
   },
   {
    "duration": 6,
    "start_time": "2022-02-22T16:16:32.525Z"
   },
   {
    "duration": 9830,
    "start_time": "2022-02-22T16:16:34.776Z"
   },
   {
    "duration": 9746,
    "start_time": "2022-02-22T16:34:15.205Z"
   },
   {
    "duration": 10182,
    "start_time": "2022-02-22T16:36:25.145Z"
   },
   {
    "duration": 4,
    "start_time": "2022-02-22T16:37:06.414Z"
   },
   {
    "duration": 197,
    "start_time": "2022-02-22T16:37:07.325Z"
   },
   {
    "duration": 15,
    "start_time": "2022-02-22T16:37:08.115Z"
   },
   {
    "duration": 12,
    "start_time": "2022-02-22T16:37:09.044Z"
   },
   {
    "duration": 6,
    "start_time": "2022-02-22T16:37:11.304Z"
   },
   {
    "duration": 9,
    "start_time": "2022-02-22T16:37:12.534Z"
   },
   {
    "duration": 6,
    "start_time": "2022-02-22T16:37:13.625Z"
   },
   {
    "duration": 28,
    "start_time": "2022-02-22T16:37:14.885Z"
   },
   {
    "duration": 24,
    "start_time": "2022-02-22T16:37:17.864Z"
   },
   {
    "duration": 30,
    "start_time": "2022-02-22T16:37:19.044Z"
   },
   {
    "duration": 82,
    "start_time": "2022-02-22T16:37:20.707Z"
   },
   {
    "duration": 93,
    "start_time": "2022-02-22T16:37:22.444Z"
   },
   {
    "duration": 76,
    "start_time": "2022-02-22T16:37:23.764Z"
   },
   {
    "duration": 400,
    "start_time": "2022-02-22T16:37:28.075Z"
   },
   {
    "duration": 477,
    "start_time": "2022-02-22T16:40:16.485Z"
   },
   {
    "duration": 58,
    "start_time": "2022-02-22T16:40:27.434Z"
   },
   {
    "duration": 62,
    "start_time": "2022-02-22T16:41:08.364Z"
   },
   {
    "duration": 60,
    "start_time": "2022-02-22T16:48:25.614Z"
   },
   {
    "duration": 4,
    "start_time": "2022-02-22T16:48:29.335Z"
   },
   {
    "duration": 23,
    "start_time": "2022-02-22T16:48:31.035Z"
   },
   {
    "duration": 59,
    "start_time": "2022-02-22T16:48:35.885Z"
   },
   {
    "duration": 59,
    "start_time": "2022-02-22T16:50:14.384Z"
   },
   {
    "duration": 48,
    "start_time": "2022-02-22T16:50:19.034Z"
   },
   {
    "duration": 46,
    "start_time": "2022-02-22T16:50:23.674Z"
   },
   {
    "duration": 5,
    "start_time": "2022-02-22T16:50:26.344Z"
   },
   {
    "duration": 22,
    "start_time": "2022-02-22T16:50:27.905Z"
   },
   {
    "duration": 20,
    "start_time": "2022-02-22T16:50:28.514Z"
   },
   {
    "duration": 22,
    "start_time": "2022-02-22T16:50:29.024Z"
   },
   {
    "duration": 20,
    "start_time": "2022-02-22T16:50:29.434Z"
   },
   {
    "duration": 22,
    "start_time": "2022-02-22T16:50:30.235Z"
   },
   {
    "duration": 22,
    "start_time": "2022-02-22T16:50:30.744Z"
   },
   {
    "duration": 13,
    "start_time": "2022-02-22T16:50:32.335Z"
   },
   {
    "duration": 9,
    "start_time": "2022-02-22T16:50:35.675Z"
   },
   {
    "duration": 8,
    "start_time": "2022-02-22T16:50:36.934Z"
   },
   {
    "duration": 6,
    "start_time": "2022-02-22T16:50:40.284Z"
   },
   {
    "duration": 10348,
    "start_time": "2022-02-22T16:50:42.944Z"
   },
   {
    "duration": 9496,
    "start_time": "2022-02-22T17:04:34.854Z"
   },
   {
    "duration": 3,
    "start_time": "2022-02-22T17:05:24.144Z"
   },
   {
    "duration": 4,
    "start_time": "2022-02-22T17:08:57.403Z"
   },
   {
    "duration": 192,
    "start_time": "2022-02-22T17:08:58.373Z"
   },
   {
    "duration": 17,
    "start_time": "2022-02-22T17:08:59.173Z"
   },
   {
    "duration": 11,
    "start_time": "2022-02-22T17:08:59.834Z"
   },
   {
    "duration": 6,
    "start_time": "2022-02-22T17:09:00.813Z"
   },
   {
    "duration": 9,
    "start_time": "2022-02-22T17:09:01.143Z"
   },
   {
    "duration": 6,
    "start_time": "2022-02-22T17:09:01.723Z"
   },
   {
    "duration": 30,
    "start_time": "2022-02-22T17:09:02.373Z"
   },
   {
    "duration": 31,
    "start_time": "2022-02-22T17:09:03.024Z"
   },
   {
    "duration": 29,
    "start_time": "2022-02-22T17:09:03.404Z"
   },
   {
    "duration": 81,
    "start_time": "2022-02-22T17:09:04.243Z"
   },
   {
    "duration": 101,
    "start_time": "2022-02-22T17:09:04.953Z"
   },
   {
    "duration": 88,
    "start_time": "2022-02-22T17:09:05.663Z"
   },
   {
    "duration": 57,
    "start_time": "2022-02-22T17:09:06.673Z"
   },
   {
    "duration": 4,
    "start_time": "2022-02-22T17:09:08.044Z"
   },
   {
    "duration": 21,
    "start_time": "2022-02-22T17:09:09.613Z"
   },
   {
    "duration": 59,
    "start_time": "2022-02-22T17:09:10.423Z"
   },
   {
    "duration": 45,
    "start_time": "2022-02-22T17:09:14.803Z"
   },
   {
    "duration": 43,
    "start_time": "2022-02-22T17:09:16.534Z"
   },
   {
    "duration": 5,
    "start_time": "2022-02-22T17:09:20.863Z"
   },
   {
    "duration": 21,
    "start_time": "2022-02-22T17:09:21.904Z"
   },
   {
    "duration": 18,
    "start_time": "2022-02-22T17:09:22.133Z"
   },
   {
    "duration": 20,
    "start_time": "2022-02-22T17:09:22.643Z"
   },
   {
    "duration": 19,
    "start_time": "2022-02-22T17:09:22.863Z"
   },
   {
    "duration": 22,
    "start_time": "2022-02-22T17:09:23.074Z"
   },
   {
    "duration": 19,
    "start_time": "2022-02-22T17:09:24.623Z"
   },
   {
    "duration": 475,
    "start_time": "2022-02-22T17:09:27.614Z"
   },
   {
    "duration": 10,
    "start_time": "2022-02-22T17:10:20.553Z"
   },
   {
    "duration": 10,
    "start_time": "2022-02-22T17:11:35.263Z"
   },
   {
    "duration": 380,
    "start_time": "2022-02-22T17:11:39.043Z"
   },
   {
    "duration": 367,
    "start_time": "2022-02-22T17:11:39.712Z"
   },
   {
    "duration": 10,
    "start_time": "2022-02-22T17:11:54.553Z"
   },
   {
    "duration": 363,
    "start_time": "2022-02-22T17:11:58.583Z"
   },
   {
    "duration": 374,
    "start_time": "2022-02-22T17:13:09.413Z"
   },
   {
    "duration": 3,
    "start_time": "2022-02-22T17:13:16.423Z"
   },
   {
    "duration": 190,
    "start_time": "2022-02-22T17:13:17.023Z"
   },
   {
    "duration": 17,
    "start_time": "2022-02-22T17:13:17.442Z"
   },
   {
    "duration": 13,
    "start_time": "2022-02-22T17:13:17.853Z"
   },
   {
    "duration": 6,
    "start_time": "2022-02-22T17:13:18.883Z"
   },
   {
    "duration": 9,
    "start_time": "2022-02-22T17:13:19.312Z"
   },
   {
    "duration": 6,
    "start_time": "2022-02-22T17:13:19.723Z"
   },
   {
    "duration": 30,
    "start_time": "2022-02-22T17:13:20.183Z"
   },
   {
    "duration": 26,
    "start_time": "2022-02-22T17:13:20.823Z"
   },
   {
    "duration": 29,
    "start_time": "2022-02-22T17:13:21.223Z"
   },
   {
    "duration": 80,
    "start_time": "2022-02-22T17:13:21.662Z"
   },
   {
    "duration": 90,
    "start_time": "2022-02-22T17:13:22.083Z"
   },
   {
    "duration": 79,
    "start_time": "2022-02-22T17:13:22.512Z"
   },
   {
    "duration": 74,
    "start_time": "2022-02-22T17:13:23.173Z"
   },
   {
    "duration": 4,
    "start_time": "2022-02-22T17:13:23.633Z"
   },
   {
    "duration": 21,
    "start_time": "2022-02-22T17:13:24.543Z"
   },
   {
    "duration": 59,
    "start_time": "2022-02-22T17:13:25.523Z"
   },
   {
    "duration": 43,
    "start_time": "2022-02-22T17:13:27.793Z"
   },
   {
    "duration": 46,
    "start_time": "2022-02-22T17:13:28.642Z"
   },
   {
    "duration": 5,
    "start_time": "2022-02-22T17:13:30.023Z"
   },
   {
    "duration": 21,
    "start_time": "2022-02-22T17:13:31.183Z"
   },
   {
    "duration": 18,
    "start_time": "2022-02-22T17:13:31.443Z"
   },
   {
    "duration": 20,
    "start_time": "2022-02-22T17:13:31.673Z"
   },
   {
    "duration": 18,
    "start_time": "2022-02-22T17:13:31.903Z"
   },
   {
    "duration": 20,
    "start_time": "2022-02-22T17:13:32.123Z"
   },
   {
    "duration": 18,
    "start_time": "2022-02-22T17:13:32.333Z"
   },
   {
    "duration": 13,
    "start_time": "2022-02-22T17:13:35.083Z"
   },
   {
    "duration": 350,
    "start_time": "2022-02-22T17:13:38.863Z"
   },
   {
    "duration": 379,
    "start_time": "2022-02-22T17:13:40.522Z"
   },
   {
    "duration": 6,
    "start_time": "2022-02-22T17:13:42.342Z"
   },
   {
    "duration": 11,
    "start_time": "2022-02-22T17:15:41.956Z"
   },
   {
    "duration": 10,
    "start_time": "2022-02-22T17:15:45.922Z"
   },
   {
    "duration": 8,
    "start_time": "2022-02-22T17:15:46.823Z"
   },
   {
    "duration": 6,
    "start_time": "2022-02-22T17:15:49.623Z"
   },
   {
    "duration": 10361,
    "start_time": "2022-02-22T17:15:51.783Z"
   },
   {
    "duration": 13,
    "start_time": "2022-02-22T17:17:36.096Z"
   },
   {
    "duration": 10198,
    "start_time": "2022-02-22T17:17:37.862Z"
   },
   {
    "duration": 7,
    "start_time": "2022-02-22T17:20:09.309Z"
   },
   {
    "duration": 19646,
    "start_time": "2022-02-22T17:20:09.319Z"
   },
   {
    "duration": 6,
    "start_time": "2022-02-22T17:22:18.882Z"
   },
   {
    "duration": 10731,
    "start_time": "2022-02-22T17:22:20.162Z"
   },
   {
    "duration": 6,
    "start_time": "2022-02-22T17:25:11.372Z"
   },
   {
    "duration": 734,
    "start_time": "2022-02-22T17:25:12.992Z"
   },
   {
    "duration": 10,
    "start_time": "2022-02-22T17:26:13.542Z"
   },
   {
    "duration": 9,
    "start_time": "2022-02-22T17:26:28.971Z"
   },
   {
    "duration": 9,
    "start_time": "2022-02-22T17:26:40.562Z"
   },
   {
    "duration": 6,
    "start_time": "2022-02-22T17:27:15.642Z"
   },
   {
    "duration": 768,
    "start_time": "2022-02-22T17:27:17.471Z"
   },
   {
    "duration": 5,
    "start_time": "2022-02-22T17:27:40.132Z"
   },
   {
    "duration": 10861,
    "start_time": "2022-02-22T17:27:41.252Z"
   },
   {
    "duration": 10508,
    "start_time": "2022-02-22T17:30:11.492Z"
   },
   {
    "duration": 10197,
    "start_time": "2022-02-22T17:30:25.612Z"
   },
   {
    "duration": 368,
    "start_time": "2022-02-22T17:34:21.241Z"
   },
   {
    "duration": 1790,
    "start_time": "2022-02-22T17:35:10.682Z"
   },
   {
    "duration": 633,
    "start_time": "2022-02-23T03:12:50.533Z"
   },
   {
    "duration": 190,
    "start_time": "2022-02-23T03:12:51.543Z"
   },
   {
    "duration": 18,
    "start_time": "2022-02-23T03:12:52.493Z"
   },
   {
    "duration": 8,
    "start_time": "2022-02-23T03:12:53.613Z"
   },
   {
    "duration": 4,
    "start_time": "2022-02-23T03:12:55.723Z"
   },
   {
    "duration": 12,
    "start_time": "2022-02-23T03:12:56.803Z"
   },
   {
    "duration": 5,
    "start_time": "2022-02-23T03:12:57.693Z"
   },
   {
    "duration": 24,
    "start_time": "2022-02-23T03:12:58.723Z"
   },
   {
    "duration": 21,
    "start_time": "2022-02-23T03:13:00.433Z"
   },
   {
    "duration": 22,
    "start_time": "2022-02-23T03:13:01.363Z"
   },
   {
    "duration": 64,
    "start_time": "2022-02-23T03:13:02.413Z"
   },
   {
    "duration": 69,
    "start_time": "2022-02-23T03:13:03.562Z"
   },
   {
    "duration": 56,
    "start_time": "2022-02-23T03:13:04.562Z"
   },
   {
    "duration": 37,
    "start_time": "2022-02-23T03:13:05.923Z"
   },
   {
    "duration": 3,
    "start_time": "2022-02-23T03:13:07.074Z"
   },
   {
    "duration": 17,
    "start_time": "2022-02-23T03:13:08.092Z"
   },
   {
    "duration": 41,
    "start_time": "2022-02-23T03:13:09.523Z"
   },
   {
    "duration": 37,
    "start_time": "2022-02-23T03:13:13.633Z"
   },
   {
    "duration": 34,
    "start_time": "2022-02-23T03:13:22.083Z"
   },
   {
    "duration": 4,
    "start_time": "2022-02-23T03:13:26.294Z"
   },
   {
    "duration": 18,
    "start_time": "2022-02-23T03:13:27.733Z"
   },
   {
    "duration": 14,
    "start_time": "2022-02-23T03:13:28.353Z"
   },
   {
    "duration": 16,
    "start_time": "2022-02-23T03:13:28.823Z"
   },
   {
    "duration": 14,
    "start_time": "2022-02-23T03:13:29.193Z"
   },
   {
    "duration": 19,
    "start_time": "2022-02-23T03:13:29.673Z"
   },
   {
    "duration": 15,
    "start_time": "2022-02-23T03:13:29.933Z"
   },
   {
    "duration": 7,
    "start_time": "2022-02-23T03:13:30.863Z"
   },
   {
    "duration": 12,
    "start_time": "2022-02-23T03:13:36.053Z"
   },
   {
    "duration": 6,
    "start_time": "2022-02-23T03:13:46.363Z"
   },
   {
    "duration": 9,
    "start_time": "2022-02-23T03:13:49.823Z"
   },
   {
    "duration": 10,
    "start_time": "2022-02-23T03:13:50.383Z"
   },
   {
    "duration": 16,
    "start_time": "2022-02-23T03:14:07.343Z"
   },
   {
    "duration": 9,
    "start_time": "2022-02-23T03:15:03.613Z"
   },
   {
    "duration": 16,
    "start_time": "2022-02-23T03:15:12.743Z"
   },
   {
    "duration": 4,
    "start_time": "2022-02-23T03:15:47.963Z"
   },
   {
    "duration": 54,
    "start_time": "2022-02-23T03:15:49.533Z"
   },
   {
    "duration": 64,
    "start_time": "2022-02-23T03:15:56.643Z"
   },
   {
    "duration": 53,
    "start_time": "2022-02-23T03:16:00.343Z"
   },
   {
    "duration": 4,
    "start_time": "2022-02-23T03:18:00.783Z"
   },
   {
    "duration": 50,
    "start_time": "2022-02-23T03:18:02.523Z"
   },
   {
    "duration": 59,
    "start_time": "2022-02-23T03:18:18.313Z"
   },
   {
    "duration": 52,
    "start_time": "2022-02-23T03:18:19.813Z"
   },
   {
    "duration": 62,
    "start_time": "2022-02-23T03:18:23.503Z"
   },
   {
    "duration": 369,
    "start_time": "2022-02-23T03:18:36.823Z"
   },
   {
    "duration": 9,
    "start_time": "2022-02-23T03:19:11.603Z"
   },
   {
    "duration": 10,
    "start_time": "2022-02-23T03:19:57.923Z"
   },
   {
    "duration": 5,
    "start_time": "2022-02-23T03:20:08.303Z"
   },
   {
    "duration": 6,
    "start_time": "2022-02-23T03:21:49.023Z"
   },
   {
    "duration": 5,
    "start_time": "2022-02-23T03:21:51.103Z"
   },
   {
    "duration": 5,
    "start_time": "2022-02-23T03:22:57.603Z"
   },
   {
    "duration": 8,
    "start_time": "2022-02-23T03:23:39.893Z"
   },
   {
    "duration": 5,
    "start_time": "2022-02-23T03:23:41.803Z"
   },
   {
    "duration": 78,
    "start_time": "2022-03-06T14:00:54.812Z"
   },
   {
    "duration": 81,
    "start_time": "2022-03-06T14:02:07.144Z"
   },
   {
    "duration": 67,
    "start_time": "2022-03-06T14:02:51.392Z"
   },
   {
    "duration": 73,
    "start_time": "2022-03-06T14:03:11.201Z"
   },
   {
    "duration": 69,
    "start_time": "2022-03-06T14:04:33.512Z"
   },
   {
    "duration": 69,
    "start_time": "2022-03-06T14:04:58.312Z"
   },
   {
    "duration": 78,
    "start_time": "2022-03-06T14:06:25.562Z"
   },
   {
    "duration": 82,
    "start_time": "2022-03-06T14:08:32.893Z"
   },
   {
    "duration": 82,
    "start_time": "2022-03-06T14:08:46.711Z"
   },
   {
    "duration": 77,
    "start_time": "2022-03-06T14:09:50.861Z"
   }
  ],
  "colab": {
   "collapsed_sections": [
    "E0vqbgi9ay0H",
    "VUC88oWjTJw2"
   ],
   "name": "yandex_music_project_2021.2.ipynb",
   "provenance": []
  },
  "kernelspec": {
   "display_name": "Python 3 (ipykernel)",
   "language": "python",
   "name": "python3"
  },
  "language_info": {
   "codemirror_mode": {
    "name": "ipython",
    "version": 3
   },
   "file_extension": ".py",
   "mimetype": "text/x-python",
   "name": "python",
   "nbconvert_exporter": "python",
   "pygments_lexer": "ipython3",
   "version": "3.9.12"
  },
  "toc": {
   "base_numbering": 1,
   "nav_menu": {},
   "number_sections": true,
   "sideBar": true,
   "skip_h1_title": true,
   "title_cell": "Table of Contents",
   "title_sidebar": "Contents",
   "toc_cell": false,
   "toc_position": {
    "height": "calc(100% - 180px)",
    "left": "10px",
    "top": "150px",
    "width": "165px"
   },
   "toc_section_display": true,
   "toc_window_display": true
  }
 },
 "nbformat": 4,
 "nbformat_minor": 1
}
