{
 "cells": [
  {
   "cell_type": "markdown",
   "metadata": {},
   "source": [
    "# Проэкт по А/В тестированию.\n",
    " Проэкт разбит на 2 части:\n",
    "1) Приоритизация гипотез.\n",
    "В файле /datasets/hypothesis.csv 9 гипотез по увеличению выручки интернет-магазина с указанными параметрами Reach, Impact, Confidence, Effort.\n",
    "Задача\n",
    "   - Примените фреймворк ICE для приоритизации гипотез. Отсортируйте их по убыванию приоритета.\n",
    "   - Примените фреймворк RICE для приоритизации гипотез. Отсортируйте их по убыванию приоритета.\n",
    "   - Укажите, как изменилась приоритизация гипотез при применении RICE вместо ICE. Объясните, почему так произошло.\n",
    "   \n",
    "2) Анализ A/B-теста\n",
    "Вы провели A/B-тест и получили результаты, которые описаны в файлах /datasets/orders.csv и /datasets/visitors.csv.\n",
    "Задача\n",
    "Проанализируйте A/B-тест:\n",
    "   1. Постройте график кумулятивной выручки по группам. Сделайте выводы и предположения.\n",
    "   2. Постройте график кумулятивного среднего чека по группам. Сделайте выводы и предположения.\n",
    "   3. Постройте график относительного изменения кумулятивного среднего чека группы B к группе A. Сделайте выводы и предположения.\n",
    "   4. Постройте график кумулятивной конверсии по группам. Сделайте выводы и предположения.\n",
    "   5. Постройте график относительного изменения кумулятивной конверсии группы B к группе A. Сделайте выводы и предположения.\n",
    "   6. Постройте точечный график количества заказов по пользователям. Сделайте выводы и предположения.\n",
    "   7. Посчитайте 95-й и 99-й перцентили количества заказов на пользователя. Выберите границу для определения аномальных пользователей.\n",
    "   8. Постройте точечный график стоимостей заказов. Сделайте выводы и предположения.\n",
    "   9. Посчитайте 95-й и 99-й перцентили стоимости заказов. Выберите границу для определения аномальных заказов.\n",
    "  10. Посчитайте статистическую значимость различий в конверсии между группами по «сырым» данным. Сделайте выводы и предположения.\n",
    "  11. Посчитайте статистическую значимость различий в среднем чеке заказа между группами по «сырым» данным. Сделайте выводы и предположения.\n",
    "  12. Посчитайте статистическую значимость различий в конверсии между группами по «очищенным» данным. Сделайте выводы и предположения.\n",
    "  13. Посчитайте статистическую значимость различий в среднем чеке заказа между группами по «очищенным» данным. Сделайте выводы и предположения.\n",
    "  14. Примите решение по результатам теста и объясните его. Варианты решений: 1. Остановить тест, зафиксировать победу одной из групп. 2. Остановить тест, зафиксировать отсутствие различий между группами. 3. Продолжить тест.\n",
    "  \n",
    "Предварительно загрузим библиотеки и проверим данные."
   ]
  },
  {
   "cell_type": "code",
   "execution_count": 1,
   "metadata": {},
   "outputs": [],
   "source": [
    "import pandas as pd\n",
    "import numpy as np\n",
    "from datetime import datetime, timedelta\n",
    "import seaborn as sns\n",
    "from matplotlib import pyplot as plt\n",
    "import scipy.stats as stats"
   ]
  },
  {
   "cell_type": "markdown",
   "metadata": {},
   "source": [
    "##   Загрузим данные и подготовьте их к анализу.\n",
    "Загрузите данные. Путь к файлам:\n",
    "\n",
    " -   /datasets/visitors.csv. \n",
    " -   /datasets/orders.csv. \n",
    " -   /datasets/hypothesis.csv."
   ]
  },
  {
   "cell_type": "code",
   "execution_count": 2,
   "metadata": {},
   "outputs": [],
   "source": [
    "visitors = pd.read_csv('https://code.s3.yandex.net/datasets/visitors.csv')\n",
    "orders = pd.read_csv('https://code.s3.yandex.net/datasets/orders.csv')\n",
    "hypothesis = pd.read_csv('https://code.s3.yandex.net/datasets/hypothesis.csv')"
   ]
  },
  {
   "cell_type": "code",
   "execution_count": 3,
   "metadata": {},
   "outputs": [
    {
     "name": "stdout",
     "output_type": "stream",
     "text": [
      "date        0\n",
      "group       0\n",
      "visitors    0\n",
      "dtype: int64\n",
      "transactionId    0\n",
      "visitorId        0\n",
      "date             0\n",
      "revenue          0\n",
      "group            0\n",
      "dtype: int64\n",
      "Hypothesis    0\n",
      "Reach         0\n",
      "Impact        0\n",
      "Confidence    0\n",
      "Efforts       0\n",
      "dtype: int64\n"
     ]
    }
   ],
   "source": [
    "# Проверим на пропуски\n",
    "\n",
    "print (visitors.isnull().sum())\n",
    "print (orders.isnull().sum())\n",
    "print (hypothesis.isnull().sum())"
   ]
  },
  {
   "cell_type": "code",
   "execution_count": 4,
   "metadata": {},
   "outputs": [],
   "source": [
    "# Приведём таблицу к нижнему регистру\n",
    "hypothesis.columns = map(str.lower, hypothesis.columns)"
   ]
  },
  {
   "cell_type": "code",
   "execution_count": 5,
   "metadata": {},
   "outputs": [
    {
     "name": "stdout",
     "output_type": "stream",
     "text": [
      "дубликаты в visitors: 0\n",
      "дубликаты в orders: 0\n",
      "дубликаты в hypothesis: 0\n"
     ]
    }
   ],
   "source": [
    "# Проверим на дубликаты \n",
    "\n",
    "print ('дубликаты в visitors:',visitors.duplicated().sum())\n",
    "print ('дубликаты в orders:',orders.duplicated().sum())\n",
    "print ('дубликаты в hypothesis:',hypothesis.duplicated().sum())"
   ]
  },
  {
   "cell_type": "code",
   "execution_count": 6,
   "metadata": {},
   "outputs": [],
   "source": [
    "# Отформатируем даты в таблицах visitors и orders\n",
    "\n",
    "visitors['date'] = pd.to_datetime(visitors['date']).dt.date\n",
    "orders['date'] = pd.to_datetime(orders['date']).dt.date"
   ]
  },
  {
   "cell_type": "markdown",
   "metadata": {},
   "source": [
    "## Приоретизация гипотез."
   ]
  },
  {
   "cell_type": "markdown",
   "metadata": {},
   "source": [
    "### Примените фреймворк ICE для приоритизации гипотез. Отсортируйте их по убыванию приоритета."
   ]
  },
  {
   "cell_type": "code",
   "execution_count": 7,
   "metadata": {},
   "outputs": [
    {
     "data": {
      "text/html": [
       "<div>\n",
       "<style scoped>\n",
       "    .dataframe tbody tr th:only-of-type {\n",
       "        vertical-align: middle;\n",
       "    }\n",
       "\n",
       "    .dataframe tbody tr th {\n",
       "        vertical-align: top;\n",
       "    }\n",
       "\n",
       "    .dataframe thead th {\n",
       "        text-align: right;\n",
       "    }\n",
       "</style>\n",
       "<table border=\"1\" class=\"dataframe\">\n",
       "  <thead>\n",
       "    <tr style=\"text-align: right;\">\n",
       "      <th></th>\n",
       "      <th>hypothesis</th>\n",
       "      <th>reach</th>\n",
       "      <th>impact</th>\n",
       "      <th>confidence</th>\n",
       "      <th>efforts</th>\n",
       "    </tr>\n",
       "  </thead>\n",
       "  <tbody>\n",
       "    <tr>\n",
       "      <th>0</th>\n",
       "      <td>Добавить два новых канала привлечения трафика,...</td>\n",
       "      <td>3</td>\n",
       "      <td>10</td>\n",
       "      <td>8</td>\n",
       "      <td>6</td>\n",
       "    </tr>\n",
       "    <tr>\n",
       "      <th>1</th>\n",
       "      <td>Запустить собственную службу доставки, что сок...</td>\n",
       "      <td>2</td>\n",
       "      <td>5</td>\n",
       "      <td>4</td>\n",
       "      <td>10</td>\n",
       "    </tr>\n",
       "    <tr>\n",
       "      <th>2</th>\n",
       "      <td>Добавить блоки рекомендаций товаров на сайт ин...</td>\n",
       "      <td>8</td>\n",
       "      <td>3</td>\n",
       "      <td>7</td>\n",
       "      <td>3</td>\n",
       "    </tr>\n",
       "    <tr>\n",
       "      <th>3</th>\n",
       "      <td>Изменить структура категорий, что увеличит кон...</td>\n",
       "      <td>8</td>\n",
       "      <td>3</td>\n",
       "      <td>3</td>\n",
       "      <td>8</td>\n",
       "    </tr>\n",
       "    <tr>\n",
       "      <th>4</th>\n",
       "      <td>Изменить цвет фона главной страницы, чтобы уве...</td>\n",
       "      <td>3</td>\n",
       "      <td>1</td>\n",
       "      <td>1</td>\n",
       "      <td>1</td>\n",
       "    </tr>\n",
       "  </tbody>\n",
       "</table>\n",
       "</div>"
      ],
      "text/plain": [
       "                                          hypothesis  reach  impact  \\\n",
       "0  Добавить два новых канала привлечения трафика,...      3      10   \n",
       "1  Запустить собственную службу доставки, что сок...      2       5   \n",
       "2  Добавить блоки рекомендаций товаров на сайт ин...      8       3   \n",
       "3  Изменить структура категорий, что увеличит кон...      8       3   \n",
       "4  Изменить цвет фона главной страницы, чтобы уве...      3       1   \n",
       "\n",
       "   confidence  efforts  \n",
       "0           8        6  \n",
       "1           4       10  \n",
       "2           7        3  \n",
       "3           3        8  \n",
       "4           1        1  "
      ]
     },
     "execution_count": 7,
     "metadata": {},
     "output_type": "execute_result"
    }
   ],
   "source": [
    "# Визуально оценим пример таблицы:\n",
    "\n",
    "hypothesis.head()"
   ]
  },
  {
   "cell_type": "code",
   "execution_count": 8,
   "metadata": {},
   "outputs": [],
   "source": [
    "hypothesis['ICE'] = (hypothesis['impact'] *\n",
    "                      hypothesis['confidence'])/hypothesis['efforts']"
   ]
  },
  {
   "cell_type": "code",
   "execution_count": 9,
   "metadata": {},
   "outputs": [
    {
     "data": {
      "text/html": [
       "<div>\n",
       "<style scoped>\n",
       "    .dataframe tbody tr th:only-of-type {\n",
       "        vertical-align: middle;\n",
       "    }\n",
       "\n",
       "    .dataframe tbody tr th {\n",
       "        vertical-align: top;\n",
       "    }\n",
       "\n",
       "    .dataframe thead th {\n",
       "        text-align: right;\n",
       "    }\n",
       "</style>\n",
       "<table border=\"1\" class=\"dataframe\">\n",
       "  <thead>\n",
       "    <tr style=\"text-align: right;\">\n",
       "      <th></th>\n",
       "      <th>hypothesis</th>\n",
       "      <th>reach</th>\n",
       "      <th>impact</th>\n",
       "      <th>confidence</th>\n",
       "      <th>efforts</th>\n",
       "      <th>ICE</th>\n",
       "    </tr>\n",
       "  </thead>\n",
       "  <tbody>\n",
       "    <tr>\n",
       "      <th>8</th>\n",
       "      <td>Запустить акцию, дающую скидку на товар в день...</td>\n",
       "      <td>1</td>\n",
       "      <td>9</td>\n",
       "      <td>9</td>\n",
       "      <td>5</td>\n",
       "      <td>16.200000</td>\n",
       "    </tr>\n",
       "    <tr>\n",
       "      <th>0</th>\n",
       "      <td>Добавить два новых канала привлечения трафика,...</td>\n",
       "      <td>3</td>\n",
       "      <td>10</td>\n",
       "      <td>8</td>\n",
       "      <td>6</td>\n",
       "      <td>13.333333</td>\n",
       "    </tr>\n",
       "    <tr>\n",
       "      <th>7</th>\n",
       "      <td>Добавить форму подписки на все основные страни...</td>\n",
       "      <td>10</td>\n",
       "      <td>7</td>\n",
       "      <td>8</td>\n",
       "      <td>5</td>\n",
       "      <td>11.200000</td>\n",
       "    </tr>\n",
       "    <tr>\n",
       "      <th>6</th>\n",
       "      <td>Показать на главной странице баннеры с актуаль...</td>\n",
       "      <td>5</td>\n",
       "      <td>3</td>\n",
       "      <td>8</td>\n",
       "      <td>3</td>\n",
       "      <td>8.000000</td>\n",
       "    </tr>\n",
       "    <tr>\n",
       "      <th>2</th>\n",
       "      <td>Добавить блоки рекомендаций товаров на сайт ин...</td>\n",
       "      <td>8</td>\n",
       "      <td>3</td>\n",
       "      <td>7</td>\n",
       "      <td>3</td>\n",
       "      <td>7.000000</td>\n",
       "    </tr>\n",
       "    <tr>\n",
       "      <th>1</th>\n",
       "      <td>Запустить собственную службу доставки, что сок...</td>\n",
       "      <td>2</td>\n",
       "      <td>5</td>\n",
       "      <td>4</td>\n",
       "      <td>10</td>\n",
       "      <td>2.000000</td>\n",
       "    </tr>\n",
       "    <tr>\n",
       "      <th>5</th>\n",
       "      <td>Добавить страницу отзывов клиентов о магазине,...</td>\n",
       "      <td>3</td>\n",
       "      <td>2</td>\n",
       "      <td>2</td>\n",
       "      <td>3</td>\n",
       "      <td>1.333333</td>\n",
       "    </tr>\n",
       "    <tr>\n",
       "      <th>3</th>\n",
       "      <td>Изменить структура категорий, что увеличит кон...</td>\n",
       "      <td>8</td>\n",
       "      <td>3</td>\n",
       "      <td>3</td>\n",
       "      <td>8</td>\n",
       "      <td>1.125000</td>\n",
       "    </tr>\n",
       "    <tr>\n",
       "      <th>4</th>\n",
       "      <td>Изменить цвет фона главной страницы, чтобы уве...</td>\n",
       "      <td>3</td>\n",
       "      <td>1</td>\n",
       "      <td>1</td>\n",
       "      <td>1</td>\n",
       "      <td>1.000000</td>\n",
       "    </tr>\n",
       "  </tbody>\n",
       "</table>\n",
       "</div>"
      ],
      "text/plain": [
       "                                          hypothesis  reach  impact  \\\n",
       "8  Запустить акцию, дающую скидку на товар в день...      1       9   \n",
       "0  Добавить два новых канала привлечения трафика,...      3      10   \n",
       "7  Добавить форму подписки на все основные страни...     10       7   \n",
       "6  Показать на главной странице баннеры с актуаль...      5       3   \n",
       "2  Добавить блоки рекомендаций товаров на сайт ин...      8       3   \n",
       "1  Запустить собственную службу доставки, что сок...      2       5   \n",
       "5  Добавить страницу отзывов клиентов о магазине,...      3       2   \n",
       "3  Изменить структура категорий, что увеличит кон...      8       3   \n",
       "4  Изменить цвет фона главной страницы, чтобы уве...      3       1   \n",
       "\n",
       "   confidence  efforts        ICE  \n",
       "8           9        5  16.200000  \n",
       "0           8        6  13.333333  \n",
       "7           8        5  11.200000  \n",
       "6           8        3   8.000000  \n",
       "2           7        3   7.000000  \n",
       "1           4       10   2.000000  \n",
       "5           2        3   1.333333  \n",
       "3           3        8   1.125000  \n",
       "4           1        1   1.000000  "
      ]
     },
     "execution_count": 9,
     "metadata": {},
     "output_type": "execute_result"
    }
   ],
   "source": [
    "hypothesis.sort_values(by='ICE', ascending=False)"
   ]
  },
  {
   "cell_type": "markdown",
   "metadata": {},
   "source": [
    "Согласно фреймворку ICE, самые перспективные гипотезы с индексами 8,0,7,6!"
   ]
  },
  {
   "cell_type": "markdown",
   "metadata": {},
   "source": [
    "### Примените фреймворк RICE для приоритизации гипотез. Отсортируйте их по убыванию приоритета."
   ]
  },
  {
   "cell_type": "code",
   "execution_count": 10,
   "metadata": {},
   "outputs": [],
   "source": [
    "hypothesis['RICE'] = (hypothesis['reach'] *\n",
    "                    hypothesis['impact'] *\n",
    "                      hypothesis['confidence'])/hypothesis['efforts']"
   ]
  },
  {
   "cell_type": "code",
   "execution_count": 11,
   "metadata": {},
   "outputs": [
    {
     "data": {
      "text/html": [
       "<div>\n",
       "<style scoped>\n",
       "    .dataframe tbody tr th:only-of-type {\n",
       "        vertical-align: middle;\n",
       "    }\n",
       "\n",
       "    .dataframe tbody tr th {\n",
       "        vertical-align: top;\n",
       "    }\n",
       "\n",
       "    .dataframe thead th {\n",
       "        text-align: right;\n",
       "    }\n",
       "</style>\n",
       "<table border=\"1\" class=\"dataframe\">\n",
       "  <thead>\n",
       "    <tr style=\"text-align: right;\">\n",
       "      <th></th>\n",
       "      <th>hypothesis</th>\n",
       "      <th>reach</th>\n",
       "      <th>impact</th>\n",
       "      <th>confidence</th>\n",
       "      <th>efforts</th>\n",
       "      <th>ICE</th>\n",
       "      <th>RICE</th>\n",
       "    </tr>\n",
       "  </thead>\n",
       "  <tbody>\n",
       "    <tr>\n",
       "      <th>7</th>\n",
       "      <td>Добавить форму подписки на все основные страни...</td>\n",
       "      <td>10</td>\n",
       "      <td>7</td>\n",
       "      <td>8</td>\n",
       "      <td>5</td>\n",
       "      <td>11.200000</td>\n",
       "      <td>112.0</td>\n",
       "    </tr>\n",
       "    <tr>\n",
       "      <th>2</th>\n",
       "      <td>Добавить блоки рекомендаций товаров на сайт ин...</td>\n",
       "      <td>8</td>\n",
       "      <td>3</td>\n",
       "      <td>7</td>\n",
       "      <td>3</td>\n",
       "      <td>7.000000</td>\n",
       "      <td>56.0</td>\n",
       "    </tr>\n",
       "    <tr>\n",
       "      <th>0</th>\n",
       "      <td>Добавить два новых канала привлечения трафика,...</td>\n",
       "      <td>3</td>\n",
       "      <td>10</td>\n",
       "      <td>8</td>\n",
       "      <td>6</td>\n",
       "      <td>13.333333</td>\n",
       "      <td>40.0</td>\n",
       "    </tr>\n",
       "    <tr>\n",
       "      <th>6</th>\n",
       "      <td>Показать на главной странице баннеры с актуаль...</td>\n",
       "      <td>5</td>\n",
       "      <td>3</td>\n",
       "      <td>8</td>\n",
       "      <td>3</td>\n",
       "      <td>8.000000</td>\n",
       "      <td>40.0</td>\n",
       "    </tr>\n",
       "    <tr>\n",
       "      <th>8</th>\n",
       "      <td>Запустить акцию, дающую скидку на товар в день...</td>\n",
       "      <td>1</td>\n",
       "      <td>9</td>\n",
       "      <td>9</td>\n",
       "      <td>5</td>\n",
       "      <td>16.200000</td>\n",
       "      <td>16.2</td>\n",
       "    </tr>\n",
       "    <tr>\n",
       "      <th>3</th>\n",
       "      <td>Изменить структура категорий, что увеличит кон...</td>\n",
       "      <td>8</td>\n",
       "      <td>3</td>\n",
       "      <td>3</td>\n",
       "      <td>8</td>\n",
       "      <td>1.125000</td>\n",
       "      <td>9.0</td>\n",
       "    </tr>\n",
       "    <tr>\n",
       "      <th>1</th>\n",
       "      <td>Запустить собственную службу доставки, что сок...</td>\n",
       "      <td>2</td>\n",
       "      <td>5</td>\n",
       "      <td>4</td>\n",
       "      <td>10</td>\n",
       "      <td>2.000000</td>\n",
       "      <td>4.0</td>\n",
       "    </tr>\n",
       "    <tr>\n",
       "      <th>5</th>\n",
       "      <td>Добавить страницу отзывов клиентов о магазине,...</td>\n",
       "      <td>3</td>\n",
       "      <td>2</td>\n",
       "      <td>2</td>\n",
       "      <td>3</td>\n",
       "      <td>1.333333</td>\n",
       "      <td>4.0</td>\n",
       "    </tr>\n",
       "    <tr>\n",
       "      <th>4</th>\n",
       "      <td>Изменить цвет фона главной страницы, чтобы уве...</td>\n",
       "      <td>3</td>\n",
       "      <td>1</td>\n",
       "      <td>1</td>\n",
       "      <td>1</td>\n",
       "      <td>1.000000</td>\n",
       "      <td>3.0</td>\n",
       "    </tr>\n",
       "  </tbody>\n",
       "</table>\n",
       "</div>"
      ],
      "text/plain": [
       "                                          hypothesis  reach  impact  \\\n",
       "7  Добавить форму подписки на все основные страни...     10       7   \n",
       "2  Добавить блоки рекомендаций товаров на сайт ин...      8       3   \n",
       "0  Добавить два новых канала привлечения трафика,...      3      10   \n",
       "6  Показать на главной странице баннеры с актуаль...      5       3   \n",
       "8  Запустить акцию, дающую скидку на товар в день...      1       9   \n",
       "3  Изменить структура категорий, что увеличит кон...      8       3   \n",
       "1  Запустить собственную службу доставки, что сок...      2       5   \n",
       "5  Добавить страницу отзывов клиентов о магазине,...      3       2   \n",
       "4  Изменить цвет фона главной страницы, чтобы уве...      3       1   \n",
       "\n",
       "   confidence  efforts        ICE   RICE  \n",
       "7           8        5  11.200000  112.0  \n",
       "2           7        3   7.000000   56.0  \n",
       "0           8        6  13.333333   40.0  \n",
       "6           8        3   8.000000   40.0  \n",
       "8           9        5  16.200000   16.2  \n",
       "3           3        8   1.125000    9.0  \n",
       "1           4       10   2.000000    4.0  \n",
       "5           2        3   1.333333    4.0  \n",
       "4           1        1   1.000000    3.0  "
      ]
     },
     "execution_count": 11,
     "metadata": {},
     "output_type": "execute_result"
    }
   ],
   "source": [
    "hypothesis.sort_values(by='RICE', ascending=False)"
   ]
  },
  {
   "cell_type": "markdown",
   "metadata": {},
   "source": [
    "Согласно RICE перспективные гипотезы с индексами 7,2,0,6!"
   ]
  },
  {
   "cell_type": "markdown",
   "metadata": {},
   "source": [
    "### Укажите, как изменилась приоритизация гипотез при применении RICE вместо ICE. Объясните, почему так произошло."
   ]
  },
  {
   "cell_type": "markdown",
   "metadata": {},
   "source": [
    "Приоритезация методов RICE и ICE разная. Если в ICE на первом месте 8 индекс гипотезы, то в RICE эта гипотеза на пятом месте, а на первом 7я, хотя в первом расчетё она на 3 месте. Так получилось из-за параметра reach (охват) - означает охват аудитории. У гипотезы с индексом 8 этот параметр равен единице - фактически минимум, гипотеза с индексом 7 отображает параметр равный 10 - максимум."
   ]
  },
  {
   "cell_type": "markdown",
   "metadata": {},
   "source": [
    "## Анализ A/B-теста\n"
   ]
  },
  {
   "cell_type": "markdown",
   "metadata": {},
   "source": [
    "Какое распределение в АВ-тесте/ сколько пользователей в каждой группе - по таблице с заказами:"
   ]
  },
  {
   "cell_type": "code",
   "execution_count": 12,
   "metadata": {},
   "outputs": [
    {
     "data": {
      "text/html": [
       "<div>\n",
       "<style scoped>\n",
       "    .dataframe tbody tr th:only-of-type {\n",
       "        vertical-align: middle;\n",
       "    }\n",
       "\n",
       "    .dataframe tbody tr th {\n",
       "        vertical-align: top;\n",
       "    }\n",
       "\n",
       "    .dataframe thead th {\n",
       "        text-align: right;\n",
       "    }\n",
       "</style>\n",
       "<table border=\"1\" class=\"dataframe\">\n",
       "  <thead>\n",
       "    <tr style=\"text-align: right;\">\n",
       "      <th></th>\n",
       "      <th>visitors</th>\n",
       "    </tr>\n",
       "    <tr>\n",
       "      <th>group</th>\n",
       "      <th></th>\n",
       "    </tr>\n",
       "  </thead>\n",
       "  <tbody>\n",
       "    <tr>\n",
       "      <th>A</th>\n",
       "      <td>18736</td>\n",
       "    </tr>\n",
       "    <tr>\n",
       "      <th>B</th>\n",
       "      <td>18916</td>\n",
       "    </tr>\n",
       "  </tbody>\n",
       "</table>\n",
       "</div>"
      ],
      "text/plain": [
       "       visitors\n",
       "group          \n",
       "A         18736\n",
       "B         18916"
      ]
     },
     "execution_count": 12,
     "metadata": {},
     "output_type": "execute_result"
    }
   ],
   "source": [
    "visitors.groupby('group').sum()"
   ]
  },
  {
   "cell_type": "code",
   "execution_count": 13,
   "metadata": {},
   "outputs": [
    {
     "name": "stdout",
     "output_type": "stream",
     "text": [
      "Начало теста: 2019-08-01\n",
      "Конец теста: 2019-08-31\n"
     ]
    }
   ],
   "source": [
    "print('Начало теста:', visitors['date'].min())\n",
    "print ('Конец теста:', visitors['date'].max())"
   ]
  },
  {
   "cell_type": "markdown",
   "metadata": {},
   "source": [
    "Hе попадают ли какие-то пользователи в обе группы?"
   ]
  },
  {
   "cell_type": "code",
   "execution_count": 14,
   "metadata": {},
   "outputs": [
    {
     "name": "stdout",
     "output_type": "stream",
     "text": [
      "37652\n",
      "35180\n"
     ]
    }
   ],
   "source": [
    "# маленький эдхок - стоит ли вообще углубляться в вопрос дублирующих пользователей в группах\n",
    "print(visitors['visitors'].sum())\n",
    "print(visitors['visitors'].unique().sum())\n",
    "# судя по всему рассмортим по ближе."
   ]
  },
  {
   "cell_type": "code",
   "execution_count": 15,
   "metadata": {},
   "outputs": [
    {
     "data": {
      "text/plain": [
       "group    58\n",
       "dtype: int64"
      ]
     },
     "execution_count": 15,
     "metadata": {},
     "output_type": "execute_result"
    }
   ],
   "source": [
    "orders.groupby('visitorId').agg({'group':'nunique'}).query('group > 1').count()"
   ]
  },
  {
   "cell_type": "code",
   "execution_count": 16,
   "metadata": {},
   "outputs": [
    {
     "data": {
      "text/html": [
       "<div>\n",
       "<style scoped>\n",
       "    .dataframe tbody tr th:only-of-type {\n",
       "        vertical-align: middle;\n",
       "    }\n",
       "\n",
       "    .dataframe tbody tr th {\n",
       "        vertical-align: top;\n",
       "    }\n",
       "\n",
       "    .dataframe thead th {\n",
       "        text-align: right;\n",
       "    }\n",
       "</style>\n",
       "<table border=\"1\" class=\"dataframe\">\n",
       "  <thead>\n",
       "    <tr style=\"text-align: right;\">\n",
       "      <th></th>\n",
       "      <th>date</th>\n",
       "      <th>group</th>\n",
       "      <th>visitors</th>\n",
       "    </tr>\n",
       "  </thead>\n",
       "  <tbody>\n",
       "    <tr>\n",
       "      <th>0</th>\n",
       "      <td>2019-08-01</td>\n",
       "      <td>A</td>\n",
       "      <td>719</td>\n",
       "    </tr>\n",
       "    <tr>\n",
       "      <th>1</th>\n",
       "      <td>2019-08-02</td>\n",
       "      <td>A</td>\n",
       "      <td>619</td>\n",
       "    </tr>\n",
       "    <tr>\n",
       "      <th>2</th>\n",
       "      <td>2019-08-03</td>\n",
       "      <td>A</td>\n",
       "      <td>507</td>\n",
       "    </tr>\n",
       "    <tr>\n",
       "      <th>3</th>\n",
       "      <td>2019-08-04</td>\n",
       "      <td>A</td>\n",
       "      <td>717</td>\n",
       "    </tr>\n",
       "    <tr>\n",
       "      <th>4</th>\n",
       "      <td>2019-08-05</td>\n",
       "      <td>A</td>\n",
       "      <td>756</td>\n",
       "    </tr>\n",
       "  </tbody>\n",
       "</table>\n",
       "</div>"
      ],
      "text/plain": [
       "         date group  visitors\n",
       "0  2019-08-01     A       719\n",
       "1  2019-08-02     A       619\n",
       "2  2019-08-03     A       507\n",
       "3  2019-08-04     A       717\n",
       "4  2019-08-05     A       756"
      ]
     },
     "execution_count": 16,
     "metadata": {},
     "output_type": "execute_result"
    }
   ],
   "source": [
    "visitors.head()"
   ]
  },
  {
   "cell_type": "code",
   "execution_count": 17,
   "metadata": {},
   "outputs": [
    {
     "data": {
      "text/html": [
       "<div>\n",
       "<style scoped>\n",
       "    .dataframe tbody tr th:only-of-type {\n",
       "        vertical-align: middle;\n",
       "    }\n",
       "\n",
       "    .dataframe tbody tr th {\n",
       "        vertical-align: top;\n",
       "    }\n",
       "\n",
       "    .dataframe thead th {\n",
       "        text-align: right;\n",
       "    }\n",
       "</style>\n",
       "<table border=\"1\" class=\"dataframe\">\n",
       "  <thead>\n",
       "    <tr style=\"text-align: right;\">\n",
       "      <th></th>\n",
       "      <th>transactionId</th>\n",
       "      <th>visitorId</th>\n",
       "      <th>date</th>\n",
       "      <th>revenue</th>\n",
       "      <th>group</th>\n",
       "    </tr>\n",
       "  </thead>\n",
       "  <tbody>\n",
       "    <tr>\n",
       "      <th>0</th>\n",
       "      <td>3667963787</td>\n",
       "      <td>3312258926</td>\n",
       "      <td>2019-08-15</td>\n",
       "      <td>1650</td>\n",
       "      <td>B</td>\n",
       "    </tr>\n",
       "    <tr>\n",
       "      <th>1</th>\n",
       "      <td>2804400009</td>\n",
       "      <td>3642806036</td>\n",
       "      <td>2019-08-15</td>\n",
       "      <td>730</td>\n",
       "      <td>B</td>\n",
       "    </tr>\n",
       "    <tr>\n",
       "      <th>2</th>\n",
       "      <td>2961555356</td>\n",
       "      <td>4069496402</td>\n",
       "      <td>2019-08-15</td>\n",
       "      <td>400</td>\n",
       "      <td>A</td>\n",
       "    </tr>\n",
       "    <tr>\n",
       "      <th>3</th>\n",
       "      <td>3797467345</td>\n",
       "      <td>1196621759</td>\n",
       "      <td>2019-08-15</td>\n",
       "      <td>9759</td>\n",
       "      <td>B</td>\n",
       "    </tr>\n",
       "    <tr>\n",
       "      <th>4</th>\n",
       "      <td>2282983706</td>\n",
       "      <td>2322279887</td>\n",
       "      <td>2019-08-15</td>\n",
       "      <td>2308</td>\n",
       "      <td>B</td>\n",
       "    </tr>\n",
       "  </tbody>\n",
       "</table>\n",
       "</div>"
      ],
      "text/plain": [
       "   transactionId   visitorId        date  revenue group\n",
       "0     3667963787  3312258926  2019-08-15     1650     B\n",
       "1     2804400009  3642806036  2019-08-15      730     B\n",
       "2     2961555356  4069496402  2019-08-15      400     A\n",
       "3     3797467345  1196621759  2019-08-15     9759     B\n",
       "4     2282983706  2322279887  2019-08-15     2308     B"
      ]
     },
     "execution_count": 17,
     "metadata": {},
     "output_type": "execute_result"
    }
   ],
   "source": [
    "orders.head()"
   ]
  },
  {
   "cell_type": "markdown",
   "metadata": {},
   "source": [
    "### Постройте график кумулятивной выручки по группам. Сделайте выводы и предположения.\n"
   ]
  },
  {
   "cell_type": "code",
   "execution_count": 18,
   "metadata": {},
   "outputs": [
    {
     "name": "stdout",
     "output_type": "stream",
     "text": [
      "         date group  orders  buyers  revenue  visitors\n",
      "0  2019-08-01     A      24      20   148579       719\n",
      "1  2019-08-01     B      21      20   101217       713\n",
      "2  2019-08-02     A      44      38   242401      1338\n",
      "3  2019-08-02     B      45      43   266748      1294\n",
      "4  2019-08-03     A      68      62   354874      1845\n"
     ]
    }
   ],
   "source": [
    "\n",
    "\n",
    "datesGroups = orders[['date','group']].drop_duplicates()\n",
    "\n",
    "ordersAggregated = datesGroups.apply(\n",
    "    lambda x: orders[np.logical_and(\n",
    "        orders['date'] <= x['date'], \n",
    "        orders['group'] == x['group'])].agg(\n",
    "        {'date' : 'max', \n",
    "         'group' : 'max',\n",
    "         'transactionId' : 'nunique',\n",
    "         'visitorId' : 'nunique', \n",
    "         'revenue' : 'sum'}\n",
    "    ), axis=1).sort_values(by=['date','group']\n",
    "                          )\n",
    "\n",
    "# получаем агрегированные кумулятивные по дням данные о посетителях интернет-магазина \n",
    "visitorsAggregated = datesGroups.apply(\n",
    "    lambda x: visitors[np.logical_and(\n",
    "        visitors['date'] <= x['date'], visitors['group'] == x['group'])].agg(\n",
    "        {'date' : 'max', \n",
    "         'group' : 'max', \n",
    "         'visitors' : 'sum'}\n",
    "    ), axis=1).sort_values(by=['date','group']\n",
    "                          )\n",
    "\n",
    "# объединяем кумулятивные данные в одной таблице и присваиваем ее столбцам понятные названия\n",
    "cumulativeData = ordersAggregated.merge(\n",
    "    visitorsAggregated,\n",
    "    left_on=['date', 'group'],\n",
    "    right_on=['date', 'group']\n",
    ")\n",
    "cumulativeData.columns = ['date', 'group', 'orders', 'buyers', 'revenue', 'visitors']\n",
    "\n",
    "print(cumulativeData.head(5)) \n"
   ]
  },
  {
   "cell_type": "code",
   "execution_count": 19,
   "metadata": {},
   "outputs": [
    {
     "data": {
      "image/png": "[encoded data removed]",
      "text/plain": [
       "<Figure size 1080x360 with 1 Axes>"
      ]
     },
     "metadata": {
      "needs_background": "light"
     },
     "output_type": "display_data"
    }
   ],
   "source": [
    "# датафрейм с кумулятивным количеством заказов и кумулятивной выручкой по дням в группе А\n",
    "cumulativeRevenueA = cumulativeData[cumulativeData['group']=='A'][['date','revenue', 'orders']]\n",
    "\n",
    "# датафрейм с кумулятивным количеством заказов и кумулятивной выручкой по дням в группе B\n",
    "cumulativeRevenueB = cumulativeData[cumulativeData['group']=='B'][['date','revenue', 'orders']]\n",
    "plt.figure(figsize=(15, 5))\n",
    "# Строим график выручки группы А\n",
    "plt.plot(cumulativeRevenueA['date'], cumulativeRevenueA['revenue'], label='A')\n",
    "\n",
    "# Строим график выручки группы B\n",
    "plt.plot(cumulativeRevenueB['date'], cumulativeRevenueB['revenue'], label='B')\n",
    "\n",
    "plt.title('График кумулятивной выручки по группам', size=23)\n",
    "plt.xlabel(\"Дата\", size=15)\n",
    "plt.ylabel(\"Выручка\", size=15)\n",
    "plt.legend()\n",
    "plt.grid()\n",
    "plt.show()"
   ]
  },
  {
   "cell_type": "markdown",
   "metadata": {},
   "source": [
    "18 августа 2019г видим как группа В немного оторвалась, дальше группы показывают параллельный рост. Резкий скачок скорее всего обусловлен аномально большим заказом."
   ]
  },
  {
   "cell_type": "markdown",
   "metadata": {},
   "source": [
    "### Постройте график кумулятивного среднего чека по группам. Сделайте выводы и предположения."
   ]
  },
  {
   "cell_type": "code",
   "execution_count": 20,
   "metadata": {},
   "outputs": [
    {
     "data": {
      "text/plain": [
       "<matplotlib.legend.Legend at 0x298156b7b20>"
      ]
     },
     "execution_count": 20,
     "metadata": {},
     "output_type": "execute_result"
    },
    {
     "data": {
      "image/png": "[encoded data removed]",
      "text/plain": [
       "<Figure size 1080x360 with 1 Axes>"
      ]
     },
     "metadata": {
      "needs_background": "light"
     },
     "output_type": "display_data"
    }
   ],
   "source": [
    "plt.figure(figsize=(15, 5))\n",
    "plt.plot(cumulativeRevenueA['date'], cumulativeRevenueA['revenue']/cumulativeRevenueA['orders'], label='A')\n",
    "plt.plot(cumulativeRevenueB['date'], cumulativeRevenueB['revenue']/cumulativeRevenueB['orders'], label='B')\n",
    "plt.legend() "
   ]
  },
  {
   "cell_type": "markdown",
   "metadata": {},
   "source": [
    "График среднего чека показал, что так же 18 августа 2019 года был резкий скачёк среднего чека, в группе В. Возможно это связано с тем, что в группе В часть участников активнее готовились к 1 сентября. Календаль показывает, что это было воскресенье."
   ]
  },
  {
   "cell_type": "markdown",
   "metadata": {},
   "source": [
    "### Постройте график относительного изменения кумулятивного среднего чека группы B к группе A. Сделайте выводы и предположения."
   ]
  },
  {
   "cell_type": "code",
   "execution_count": 21,
   "metadata": {},
   "outputs": [
    {
     "data": {
      "image/png": "[encoded data removed]",
      "text/plain": [
       "<Figure size 1080x360 with 1 Axes>"
      ]
     },
     "metadata": {
      "needs_background": "light"
     },
     "output_type": "display_data"
    }
   ],
   "source": [
    "# собираем данные в одном датафрейме\n",
    "mergedCumulativeRevenue = cumulativeRevenueA.merge(\n",
    "    cumulativeRevenueB,\n",
    "    left_on='date', right_on='date',\n",
    "    how='left', \n",
    "    suffixes=['A', 'B']\n",
    ")\n",
    "\n",
    "plt.figure(figsize=(15, 5))\n",
    "# cтроим отношение средних чеков\n",
    "plt.plot(mergedCumulativeRevenue['date'],\n",
    "         (mergedCumulativeRevenue['revenueB']/mergedCumulativeRevenue['ordersB'])/(mergedCumulativeRevenue['revenueA']/mergedCumulativeRevenue['ordersA'])-1)\n",
    "\n",
    "# добавляем ось X\n",
    "plt.axhline(y=0, color='black', linestyle='--') \n",
    "plt.title('График относительного изменения кумулятивного среднего чека группы B к группе A')\n",
    "plt.xlabel(\"Дата\")\n",
    "plt.grid()\n",
    "plt.show()"
   ]
  },
  {
   "cell_type": "markdown",
   "metadata": {},
   "source": [
    "В точках экстремумов видны аномально большие покупки."
   ]
  },
  {
   "cell_type": "markdown",
   "metadata": {},
   "source": [
    "### Постройте график кумулятивной конверсии по группам. Сделайте выводы и предположения."
   ]
  },
  {
   "cell_type": "code",
   "execution_count": 22,
   "metadata": {},
   "outputs": [
    {
     "data": {
      "image/png": "[encoded data removed]",
      "text/plain": [
       "<Figure size 1080x360 with 1 Axes>"
      ]
     },
     "metadata": {
      "needs_background": "light"
     },
     "output_type": "display_data"
    }
   ],
   "source": [
    "#считаем кумулятивную конверсию\n",
    "cumulativeData['conversion'] = cumulativeData['orders']/cumulativeData['visitors']\n",
    "\n",
    "# отделяем данные по группе A\n",
    "cumulativeDataA = cumulativeData[cumulativeData['group']=='A']\n",
    "\n",
    "# отделяем данные по группе B\n",
    "cumulativeDataB = cumulativeData[cumulativeData['group']=='B']\n",
    "\n",
    "# строим графики\n",
    "plt.figure(figsize=(15, 5))\n",
    "plt.plot(cumulativeDataA['date'], cumulativeDataA['conversion'], label='A')\n",
    "plt.plot(cumulativeDataB['date'], cumulativeDataB['conversion'], label='B')\n",
    "\n",
    "plt.title('График кумулятивной конверсии по группам')\n",
    "plt.xlabel(\"Дата\")\n",
    "plt.ylabel(\"Конверсия\")\n",
    "plt.legend()\n",
    "plt.grid()\n",
    "plt.show()"
   ]
  },
  {
   "cell_type": "markdown",
   "metadata": {},
   "source": [
    "В начале графика конверсия группы А выше, но затем группа В (после 6 августа) вырывается берёт лидерство, дальше графики хоть и ведут себя спокойно и группы идут параллельно."
   ]
  },
  {
   "cell_type": "markdown",
   "metadata": {},
   "source": [
    "### Постройте график относительного изменения кумулятивной конверсии группы B к группе A. Сделайте выводы и предположения."
   ]
  },
  {
   "cell_type": "code",
   "execution_count": 23,
   "metadata": {},
   "outputs": [
    {
     "data": {
      "image/png": "[encoded data removed]",
      "text/plain": [
       "<Figure size 1080x360 with 1 Axes>"
      ]
     },
     "metadata": {
      "needs_background": "light"
     },
     "output_type": "display_data"
    }
   ],
   "source": [
    "mergedCumulativeConversions = cumulativeDataA[\n",
    "    ['date','conversion']].merge(\n",
    "    cumulativeDataB[['date','conversion']],\n",
    "    left_on='date', \n",
    "    right_on='date', \n",
    "    how='left', \n",
    "    suffixes=['A', 'B']\n",
    ")\n",
    "\n",
    "plt.figure(figsize=(15, 5))\n",
    "plt.plot(mergedCumulativeConversions['date'], mergedCumulativeConversions['conversionB']/mergedCumulativeConversions['conversionA']-1, label=\"Относительный прирост конверсии группы B относительно группы A\")\n",
    "plt.axhline(y=0, color='black', linestyle='--')\n",
    "plt.axhline(y=0.15, color='grey', linestyle='--')\n",
    "plt.axhline(y=0.1, color='green', linestyle='--')\n",
    "\n",
    "plt.title('График относительного изменения кумулятивной конверсии группы B к группе A')\n",
    "plt.xlabel(\"Дата\")\n",
    "plt.ylabel(\"Конверсия %\")\n",
    "plt.grid()\n",
    "plt.show()"
   ]
  },
  {
   "cell_type": "markdown",
   "metadata": {},
   "source": [
    "От 6 августа 2019г группа В лидирует по конверсии, а после 10 августа 2019г обосновался в районе 15% прироста относительно группы А. "
   ]
  },
  {
   "cell_type": "markdown",
   "metadata": {},
   "source": [
    "### Постройте точечный график количества заказов по пользователям. Сделайте выводы и предположения."
   ]
  },
  {
   "cell_type": "code",
   "execution_count": 24,
   "metadata": {},
   "outputs": [
    {
     "name": "stdout",
     "output_type": "stream",
     "text": [
      "       visitorId  orders\n",
      "1023  4256040402      11\n",
      "591   2458001652      11\n",
      "569   2378935119       9\n",
      "487   2038680547       8\n",
      "44     199603092       5\n",
      "744   3062433592       5\n",
      "55     237748145       5\n",
      "917   3803269165       5\n",
      "299   1230306981       5\n",
      "897   3717692402       5\n"
     ]
    },
    {
     "data": {
      "image/png": "[encoded data removed]",
      "text/plain": [
       "<Figure size 432x288 with 1 Axes>"
      ]
     },
     "metadata": {
      "needs_background": "light"
     },
     "output_type": "display_data"
    }
   ],
   "source": [
    "ordersByUsers = (\n",
    "    orders.groupby('visitorId', as_index=False)\n",
    "    .agg({'transactionId': 'nunique'})\n",
    ")\n",
    "ordersByUsers.columns = ['visitorId', 'orders']\n",
    "\n",
    "print(ordersByUsers.sort_values(by='orders', ascending=False).head(10))\n",
    "x_values = pd.Series(range(0,len(ordersByUsers)))\n",
    "\n",
    "plt.scatter(x_values, ordersByUsers['orders']) \n",
    "# серия из чисел от 0 до количества наблюдений в ordersByUsers\n",
    "x_values = pd.Series(range(0, len(ordersByUsers)))\n",
    "\n",
    "plt.xlabel('кол-во заказов')\n",
    "plt.ylabel('кол-во пользователей')\n",
    "plt.show()"
   ]
  },
  {
   "cell_type": "markdown",
   "metadata": {},
   "source": [
    "Покупателей совершивших действие больше двух раз не очень много, а больше трёх покупок и того мало."
   ]
  },
  {
   "cell_type": "markdown",
   "metadata": {},
   "source": [
    "### Посчитайте 95-й и 99-й перцентили количества заказов на пользователя. Выберите границу для определения аномальных пользователей."
   ]
  },
  {
   "cell_type": "code",
   "execution_count": 25,
   "metadata": {},
   "outputs": [
    {
     "name": "stdout",
     "output_type": "stream",
     "text": [
      "[2. 4.]\n"
     ]
    }
   ],
   "source": [
    "print(np.percentile(ordersByUsers['orders'], [95, 99])) # Метод np.percentile('column', [percentile2, percentile3]) находит перцентили."
   ]
  },
  {
   "cell_type": "markdown",
   "metadata": {},
   "source": [
    "Не больше 5% пользователей совершили больше 2х покупок и 1% совершил 4 покупки."
   ]
  },
  {
   "cell_type": "markdown",
   "metadata": {},
   "source": [
    "### Постройте точечный график стоимостей заказов. Сделайте выводы и предположения."
   ]
  },
  {
   "cell_type": "code",
   "execution_count": 26,
   "metadata": {},
   "outputs": [
    {
     "name": "stdout",
     "output_type": "stream",
     "text": [
      "      transactionId   visitorId        date  revenue group\n",
      "425       590470918  1920142716  2019-08-19  1294500     B\n",
      "1196     3936777065  2108080724  2019-08-15   202740     B\n",
      "858       192721366  1316129916  2019-08-27    93940     A\n",
      "1136      666610489  1307669133  2019-08-13    92550     A\n",
      "744      3668308183   888512513  2019-08-27    86620     B\n",
      "682      1216533772  4266935830  2019-08-29    78990     B\n",
      "662      1811671147  4266935830  2019-08-29    78990     A\n",
      "743      3603576309  4133034833  2019-08-09    67990     A\n",
      "1103     1348774318  1164614297  2019-08-12    66350     A\n",
      "1099      316924019   148427295  2019-08-12    65710     A\n"
     ]
    },
    {
     "data": {
      "image/png": "[encoded data removed]",
      "text/plain": [
       "<Figure size 432x288 with 1 Axes>"
      ]
     },
     "metadata": {
      "needs_background": "light"
     },
     "output_type": "display_data"
    }
   ],
   "source": [
    "print(orders.sort_values(by='revenue', ascending=False).head(10))\n",
    "\n",
    "x_values = pd.Series(range(0, len(orders['revenue'])))\n",
    "plt.scatter(x_values, orders['revenue']) \n",
    "\n",
    "plt.xlabel('Кол-во заказов')\n",
    "plt.ylabel('Стоимость')\n",
    "plt.show()"
   ]
  },
  {
   "cell_type": "code",
   "execution_count": 27,
   "metadata": {},
   "outputs": [
    {
     "data": {
      "image/png": "[encoded data removed]",
      "text/plain": [
       "<Figure size 432x288 with 1 Axes>"
      ]
     },
     "metadata": {
      "needs_background": "light"
     },
     "output_type": "display_data"
    }
   ],
   "source": [
    "orders_1 = orders[orders['revenue']<200000]\n",
    "x_values = pd.Series(range(0, len(orders_1['revenue'])))\n",
    "plt.scatter(x_values, orders_1['revenue']) \n",
    "\n",
    "plt.xlabel('Кол-во заказов')\n",
    "plt.ylabel('Стоимость')\n",
    "plt.show()"
   ]
  },
  {
   "cell_type": "markdown",
   "metadata": {},
   "source": [
    "Заказов больше 100 тасяч почти нет. Есть пара выбросов за 15 и 19 числа на 202тыс и 1,29млн."
   ]
  },
  {
   "cell_type": "markdown",
   "metadata": {},
   "source": [
    "### Посчитайте 95-й и 99-й перцентили стоимости заказов. Выберите границу для определения аномальных заказов."
   ]
  },
  {
   "cell_type": "code",
   "execution_count": 28,
   "metadata": {},
   "outputs": [
    {
     "name": "stdout",
     "output_type": "stream",
     "text": [
      "   transactionId   visitorId        date  revenue group\n",
      "0     3667963787  3312258926  2019-08-15     1650     B\n",
      "1     2804400009  3642806036  2019-08-15      730     B\n",
      "2     2961555356  4069496402  2019-08-15      400     A\n",
      "3     3797467345  1196621759  2019-08-15     9759     B\n",
      "4     2282983706  2322279887  2019-08-15     2308     B\n",
      "5      182168103   935554773  2019-08-15     2210     B\n",
      "6      398296753  2900797465  2019-08-15     1860     B\n",
      "7     2626614568    78758296  2019-08-15     1044     A\n",
      "8     1576988021   295230930  2019-08-15    13710     A\n",
      "9     1506739906  1882260405  2019-08-15     1855     B\n",
      "[28000.  58233.2]\n"
     ]
    }
   ],
   "source": [
    "print(orders.head(10))\n",
    "\n",
    "print(np.percentile(orders['revenue'], [95, 99]))"
   ]
  },
  {
   "cell_type": "markdown",
   "metadata": {},
   "source": [
    "У 5% средний чек на 28тыс - очищая данные будем отталкиваться от этой цифры, у 1% средний чек на чуть больше 58тыс."
   ]
  },
  {
   "cell_type": "markdown",
   "metadata": {},
   "source": [
    "### Посчитайте статистическую значимость различий в конверсии между группами по «сырым» данным. Сделайте выводы и предположения."
   ]
  },
  {
   "cell_type": "markdown",
   "metadata": {},
   "source": [
    "Сформулируем гипотезы:\n",
    " - H₀ - различий в конверсии между группами нет.\n",
    " - H₁ -  различия в конверсии между группами есть."
   ]
  },
  {
   "cell_type": "markdown",
   "metadata": {},
   "source": [
    "Уровень значимости выберем - 0.05."
   ]
  },
  {
   "cell_type": "code",
   "execution_count": 29,
   "metadata": {},
   "outputs": [
    {
     "name": "stdout",
     "output_type": "stream",
     "text": [
      "         date  ordersPerDateA  revenuePerDateA  ordersPerDateB  \\\n",
      "0  2019-08-01              24           148579              21   \n",
      "1  2019-08-02              20            93822              24   \n",
      "2  2019-08-03              24           112473              16   \n",
      "3  2019-08-04              16            70825              17   \n",
      "4  2019-08-05              25           124218              23   \n",
      "\n",
      "   revenuePerDateB  ordersCummulativeA  revenueCummulativeA  \\\n",
      "0           101217                  24               148579   \n",
      "1           165531                  44               242401   \n",
      "2           114248                  68               354874   \n",
      "3           108571                  84               425699   \n",
      "4            92428                 109               549917   \n",
      "\n",
      "   ordersCummulativeB  revenueCummulativeB  visitorsPerDateA  \\\n",
      "0                  21               101217               719   \n",
      "1                  45               266748               619   \n",
      "2                  61               380996               507   \n",
      "3                  78               489567               717   \n",
      "4                 101               581995               756   \n",
      "\n",
      "   visitorsPerDateB  visitorsCummulativeA  visitorsCummulativeB  \n",
      "0               713                   719                   713  \n",
      "1               581                  1338                  1294  \n",
      "2               509                  1845                  1803  \n",
      "3               770                  2562                  2573  \n",
      "4               707                  3318                  3280  \n",
      "P-value: 0.01679\n",
      "Относительная разница конверсии: 0.13808\n"
     ]
    }
   ],
   "source": [
    "visitorsADaily = visitors[visitors['group'] == 'A'][['date', 'visitors']]\n",
    "visitorsADaily.columns = ['date', 'visitorsPerDateA']\n",
    "\n",
    "visitorsACummulative = visitorsADaily.apply(\n",
    "    lambda x: visitorsADaily[visitorsADaily['date'] <= x['date']].agg(\n",
    "        {'date': 'max', 'visitorsPerDateA': 'sum'}\n",
    "    ),\n",
    "    axis=1,\n",
    ")\n",
    "visitorsACummulative.columns = ['date', 'visitorsCummulativeA']\n",
    "\n",
    "visitorsBDaily = visitors[visitors['group'] == 'B'][['date', 'visitors']]\n",
    "visitorsBDaily.columns = ['date', 'visitorsPerDateB']\n",
    "\n",
    "visitorsBCummulative = visitorsBDaily.apply(\n",
    "    lambda x: visitorsBDaily[visitorsBDaily['date'] <= x['date']].agg(\n",
    "        {'date': 'max', 'visitorsPerDateB': 'sum'}\n",
    "    ),\n",
    "    axis=1,\n",
    ")\n",
    "visitorsBCummulative.columns = ['date', 'visitorsCummulativeB']\n",
    "\n",
    "ordersADaily = (\n",
    "    orders[orders['group'] == 'A'][['date', 'transactionId', 'visitorId', 'revenue']]\n",
    "    .groupby('date', as_index=False)\n",
    "    .agg({'transactionId': pd.Series.nunique, 'revenue': 'sum'})\n",
    ")\n",
    "ordersADaily.columns = ['date', 'ordersPerDateA', 'revenuePerDateA']\n",
    "\n",
    "ordersACummulative = ordersADaily.apply(\n",
    "    lambda x: ordersADaily[ordersADaily['date'] <= x['date']].agg(\n",
    "        {'date': 'max', 'ordersPerDateA': 'sum', 'revenuePerDateA': 'sum'}\n",
    "    ),\n",
    "    axis=1,\n",
    ").sort_values(by=['date'])\n",
    "ordersACummulative.columns = [\n",
    "    'date',\n",
    "    'ordersCummulativeA',\n",
    "    'revenueCummulativeA',\n",
    "]\n",
    "\n",
    "ordersBDaily = (\n",
    "    orders[orders['group'] == 'B'][['date', 'transactionId', 'visitorId', 'revenue']]\n",
    "    .groupby('date', as_index=False)\n",
    "    .agg({'transactionId': pd.Series.nunique, 'revenue': 'sum'})\n",
    ")\n",
    "ordersBDaily.columns = ['date', 'ordersPerDateB', 'revenuePerDateB']\n",
    "\n",
    "ordersBCummulative = ordersBDaily.apply(\n",
    "    lambda x: ordersBDaily[ordersBDaily['date'] <= x['date']].agg(\n",
    "        {'date': 'max', 'ordersPerDateB': 'sum', 'revenuePerDateB': 'sum'}\n",
    "    ),\n",
    "    axis=1,\n",
    ").sort_values(by=['date'])\n",
    "ordersBCummulative.columns = [\n",
    "    'date',\n",
    "    'ordersCummulativeB',\n",
    "    'revenueCummulativeB',\n",
    "]\n",
    "\n",
    "data = (\n",
    "    ordersADaily.merge(\n",
    "        ordersBDaily, left_on='date', right_on='date', how='left'\n",
    "    )\n",
    "    .merge(ordersACummulative, left_on='date', right_on='date', how='left')\n",
    "    .merge(ordersBCummulative, left_on='date', right_on='date', how='left')\n",
    "    .merge(visitorsADaily, left_on='date', right_on='date', how='left')\n",
    "    .merge(visitorsBDaily, left_on='date', right_on='date', how='left')\n",
    "    .merge(visitorsACummulative, left_on='date', right_on='date', how='left')\n",
    "    .merge(visitorsBCummulative, left_on='date', right_on='date', how='left')\n",
    ")\n",
    "\n",
    "print(data.head(5))\n",
    "\n",
    "ordersByUsersA = (\n",
    "    orders[orders['group'] == 'A']\n",
    "    .groupby('visitorId', as_index=False)\n",
    "    .agg({'transactionId': pd.Series.nunique})\n",
    ")\n",
    "ordersByUsersA.columns = ['visitorId', 'orders']\n",
    "\n",
    "ordersByUsersB = (\n",
    "    orders[orders['group'] == 'B']\n",
    "    .groupby('visitorId', as_index=False)\n",
    "    .agg({'transactionId': pd.Series.nunique})\n",
    ")\n",
    "ordersByUsersB.columns = ['visitorId', 'orders']\n",
    "\n",
    "sampleA = pd.concat(\n",
    "    [\n",
    "        ordersByUsersA['orders'],\n",
    "        pd.Series(\n",
    "            0,\n",
    "            index=np.arange(\n",
    "                data['visitorsPerDateA'].sum() - len(ordersByUsersA['orders'])\n",
    "            ),\n",
    "            name='orders',\n",
    "        ),\n",
    "    ],\n",
    "    axis=0,\n",
    ")\n",
    "\n",
    "sampleB = pd.concat(\n",
    "    [\n",
    "        ordersByUsersB['orders'],\n",
    "        pd.Series(\n",
    "            0,\n",
    "            index=np.arange(\n",
    "                data['visitorsPerDateB'].sum() - len(ordersByUsersB['orders'])\n",
    "            ),\n",
    "            name='orders',\n",
    "        ),\n",
    "    ],\n",
    "    axis=0,\n",
    ")\n",
    "\n",
    "print('P-value:', \"{0:.5f}\".format(stats.mannwhitneyu(sampleA, sampleB)[1]))\n",
    "\n",
    "print('Относительная разница конверсии:', \"{0:.5f}\".format((data['ordersPerDateB'].sum()/data['visitorsPerDateB'].sum())/(data['ordersPerDateA'].sum()/data['visitorsPerDateA'].sum())-1))"
   ]
  },
  {
   "cell_type": "markdown",
   "metadata": {},
   "source": [
    "P-value значиительно меньше 0.05, поэтому нулевую гипотезу отвергаем. Относительный прирост группы В к группе А 13.8%"
   ]
  },
  {
   "cell_type": "markdown",
   "metadata": {},
   "source": [
    " - date — дата;\n",
    " - ordersPerDateA — количество заказов в выбранную дату в группе A;\n",
    " - revenuePerDateA — суммарная выручка в выбранную дату в группе A;\n",
    " - ordersPerDateB — количество заказов в выбранную дату в группе B;\n",
    " - revenuePerDateB — суммарная выручка в выбранную дату в группе B;\n",
    " - ordersCummulativeA — суммарное число заказов до выбранной даты включительно в группе A;\n",
    " - revenueCummulativeA — суммарная выручка до выбранной даты включительно в группе A;\n",
    " - ordersCummulativeB — суммарное количество заказов до выбранной даты включительно в группе B;\n",
    " - revenueCummulativeB — суммарная выручка до выбранной даты включительно в группе B;\n",
    " - visitorsPerDateA — количество пользователей в выбранную дату в группе A;\n",
    " - visitorsPerDateB — количество пользователей в выбранную дату в группе B;\n",
    " - visitorsCummulativeA — количество пользователей до выбранной даты включительно в группе A;\n",
    " - visitorsCummulativeB — количество пользователей до выбранной даты включительно в группе B."
   ]
  },
  {
   "cell_type": "markdown",
   "metadata": {},
   "source": [
    "### Посчитайте статистическую значимость различий в среднем чеке заказа между группами по «сырым» данным. Сделайте выводы и предположения."
   ]
  },
  {
   "cell_type": "markdown",
   "metadata": {},
   "source": [
    " - H₀ - Средний чек A равен среднему чеку группы B\n",
    " - H₁ - Средний чек A НЕ равен среднему чеку группы B"
   ]
  },
  {
   "cell_type": "code",
   "execution_count": 30,
   "metadata": {},
   "outputs": [
    {
     "name": "stdout",
     "output_type": "stream",
     "text": [
      "P-value: 0.729\n",
      "Относительная резница среднего чека: 0.259\n"
     ]
    }
   ],
   "source": [
    "print('P-value:', '{0:.3f}'.format(stats.mannwhitneyu(orders[orders['group']=='A']['revenue'], orders[orders['group']=='B']['revenue'])[1]))\n",
    "print('Относительная резница среднего чека:', '{0:.3f}'.format(orders[orders['group']=='B']['revenue'].mean()/orders[orders['group']=='A']['revenue'].mean()-1))"
   ]
  },
  {
   "cell_type": "markdown",
   "metadata": {},
   "source": [
    "P-value большу 0.05 - статистически значимых отличий в среднем чеке между группами нету. Однако относительное различие среднего чека 25.9%, значит есть аномальные отклонения."
   ]
  },
  {
   "cell_type": "markdown",
   "metadata": {},
   "source": [
    "### Посчитайте статистическую значимость различий в конверсии между группами по «очищенным» данным. Сделайте выводы и предположения."
   ]
  },
  {
   "cell_type": "markdown",
   "metadata": {},
   "source": [
    " - H₀ - различий в конверсии между группами нет.\n",
    " - H₁ -  различия в конверсии между группами есть."
   ]
  },
  {
   "cell_type": "markdown",
   "metadata": {},
   "source": [
    "Уровень значимости выберем - 0.05"
   ]
  },
  {
   "cell_type": "code",
   "execution_count": 32,
   "metadata": {},
   "outputs": [
    {
     "name": "stdout",
     "output_type": "stream",
     "text": [
      "1099    148427295\n",
      "18      199603092\n",
      "928     204675465\n",
      "23      237748145\n",
      "37      249864742\n",
      "Name: visitorId, dtype: int64\n",
      "74\n"
     ]
    }
   ],
   "source": [
    "# Очищаем!! За выбросы примем заказы больше 2х и заказы больше 28тыс.\n",
    "\n",
    "usersWithManyOrders = pd.concat(\n",
    "    [\n",
    "        ordersByUsersA[ordersByUsersA['orders'] > 2]['visitorId'],\n",
    "        ordersByUsersB[ordersByUsersB['orders'] > 2]['visitorId'],\n",
    "    ],\n",
    "    axis=0,\n",
    ")\n",
    "usersWithExpensiveOrders = orders[orders['revenue'] > 28000]['visitorId'] # Нижнюю границу очистки мы уже посчитали\n",
    "abnormalUsers = (\n",
    "    pd.concat([usersWithManyOrders, usersWithExpensiveOrders], axis=0)\n",
    "    .drop_duplicates()\n",
    "    .sort_values()\n",
    ")\n",
    "print(abnormalUsers.head(5))\n",
    "print(abnormalUsers.shape[0]) "
   ]
  },
  {
   "cell_type": "code",
   "execution_count": 34,
   "metadata": {},
   "outputs": [
    {
     "name": "stdout",
     "output_type": "stream",
     "text": [
      "P-value 0.01304\n",
      "Относительная разница (очищенной) конверсии 0.173\n"
     ]
    }
   ],
   "source": [
    "sampleAFiltered = pd.concat(\n",
    "    [\n",
    "        ordersByUsersA[\n",
    "            np.logical_not(ordersByUsersA['visitorId'].isin(abnormalUsers))\n",
    "        ]['orders'],\n",
    "        pd.Series(\n",
    "            0,\n",
    "            index=np.arange(\n",
    "                data['visitorsPerDateA'].sum() - len(ordersByUsersA['orders'])\n",
    "            ),\n",
    "            name='orders',\n",
    "        ),\n",
    "    ],\n",
    "    axis=0,\n",
    ")\n",
    "\n",
    "sampleBFiltered = pd.concat(\n",
    "    [\n",
    "        ordersByUsersB[\n",
    "            np.logical_not(ordersByUsersB['visitorId'].isin(abnormalUsers))\n",
    "        ]['orders'],\n",
    "        pd.Series(\n",
    "            0,\n",
    "            index=np.arange(\n",
    "                data['visitorsPerDateB'].sum() - len(ordersByUsersB['orders'])\n",
    "            ),\n",
    "            name='orders',\n",
    "        ),\n",
    "    ],\n",
    "    axis=0,\n",
    ")\n",
    "\n",
    "print('P-value', '{0:.5f}'.format(stats.mannwhitneyu(sampleAFiltered, sampleBFiltered)[1]))\n",
    "print('Относительная разница (очищенной) конверсии', '{0:.3f}'.format(sampleBFiltered.mean()/sampleAFiltered.mean()-1)) "
   ]
  },
  {
   "cell_type": "markdown",
   "metadata": {},
   "source": [
    "Всё рабно получаем, что группа В лучше."
   ]
  },
  {
   "cell_type": "markdown",
   "metadata": {},
   "source": [
    "После очистки данных от аномалий p-value остался ниже 0.05. Но относительная разница в конверсии группы В к А увеличилась с 0.130 до 0.173."
   ]
  },
  {
   "cell_type": "markdown",
   "metadata": {},
   "source": [
    "### Посчитайте статистическую значимость различий в среднем чеке заказа между группами по «очищенным» данным. Сделайте выводы и предположения."
   ]
  },
  {
   "cell_type": "markdown",
   "metadata": {},
   "source": [
    " - H₀ - Средний чек A равен среднему чеку группы B\n",
    " - H₁ - Средний чек A НЕ равен среднему чеку группы B"
   ]
  },
  {
   "cell_type": "markdown",
   "metadata": {},
   "source": [
    "Уровень значимости выберем - 0.05"
   ]
  },
  {
   "cell_type": "code",
   "execution_count": 35,
   "metadata": {},
   "outputs": [
    {
     "name": "stdout",
     "output_type": "stream",
     "text": [
      "P-value: 0.738\n",
      "Относительная резница (очищенного) среднего чека: -0.020\n"
     ]
    }
   ],
   "source": [
    "print( 'P-value:',\n",
    "    '{0:.3f}'.format(\n",
    "        stats.mannwhitneyu(\n",
    "            orders[\n",
    "                np.logical_and(\n",
    "                    orders['group'] == 'A',\n",
    "                    np.logical_not(orders['visitorId'].isin(abnormalUsers)),\n",
    "                )\n",
    "            ]['revenue'],\n",
    "            orders[\n",
    "                np.logical_and(\n",
    "                    orders['group'] == 'B',\n",
    "                    np.logical_not(orders['visitorId'].isin(abnormalUsers)),\n",
    "                )\n",
    "            ]['revenue'],\n",
    "        )[1]\n",
    "    )\n",
    ")\n",
    "\n",
    "print( 'Относительная резница (очищенного) среднего чека:',\n",
    "    \"{0:.3f}\".format(\n",
    "        orders[\n",
    "            np.logical_and(\n",
    "                orders['group'] == 'B',\n",
    "                np.logical_not(orders['visitorId'].isin(abnormalUsers)),\n",
    "            )\n",
    "        ]['revenue'].mean()\n",
    "        / orders[\n",
    "            np.logical_and(\n",
    "                orders['group'] == 'A',\n",
    "                np.logical_not(orders['visitorId'].isin(abnormalUsers)),\n",
    "            )\n",
    "        ]['revenue'].mean()\n",
    "        - 1\n",
    "    )\n",
    ")"
   ]
  },
  {
   "cell_type": "markdown",
   "metadata": {},
   "source": [
    "P-value немного увеличился и по прежнему выше 0.05, однако разница между сегментами сократилась с почти 26% до 2% в пользу группы А."
   ]
  },
  {
   "cell_type": "markdown",
   "metadata": {},
   "source": [
    "## Вывод А/В теста."
   ]
  },
  {
   "cell_type": "markdown",
   "metadata": {},
   "source": [
    " - Есть статистически значимое различие по конверсии между группами по сырым данным и после фильтрации аномалий.\n",
    " - Как по сырым, так и по отфильтрованным данным - нет статистически значимого различия по среднему чеку между группами."
   ]
  },
  {
   "cell_type": "markdown",
   "metadata": {},
   "source": [
    "## При работе с данными были выполнены следующие действия:\n"
   ]
  },
  {
   "cell_type": "markdown",
   "metadata": {},
   "source": [
    "Загрузили данные и предварительно с ними ознакомились.\n",
    "\n",
    "Провели предобработку данных, а именно:\n",
    "\n",
    "  - Исправили заголовки столбцов и привели их к \"хорошему\" стилю\n",
    "  - Изменили тип данных во всех трёх таблицах в столбцах с датами\n",
    "  - Проверили таблицы на наличие дубликатов (дубликатов нет)\n",
    "  - Проверили таблицы на наличие пропусков (пропуски отсутствуют)\n",
    "  - Провели приоритизацию гипотез:\n",
    "\n",
    "Применили флеймворк ICE\n",
    "\n",
    "Применили флеймворк RICE\n",
    "\n",
    "Указали, как изменилась приоритизация гипотез\n",
    "\n",
    "Провери анализ А/В теста, а именно:\n",
    "\n",
    "  - Построили график кумулятивной выручки по группам\n",
    "  - Построили график кумулятивного среднего чека по группам\n",
    "  - Построили график относительного изменения кумулятивного среднего чека группы B к группе A\n",
    "  - Построили график кумулятивной конверсии по группам. Сделайте выводы и предположения.\n",
    "  - Построили график относительного изменения кумулятивной конверсии группы B к группе A.\n",
    "  - Построили точечный график количества заказов по пользователям\n",
    "  - Посчитали перцентили количества заказов на пользователя\n",
    "  - Построили точечный график стоимостей заказов\n",
    "  - Посчитали перцентили стоимости заказов\n",
    "  - Посчитали статистическую значимость различий в конверсии между группами по «сырым» данным\n",
    "  - Посчитали статистическую значимость различий в среднем чеке заказа между группами по «сырым» данным\n",
    "  - Произвели \"осчистку\" данных от аномалий\n",
    "  - Посчитали статистическую значимость различий в конверсии между группами по «очищенным» данным\n",
    "  - Посчитали статистическую значимость различий в среднем чеке заказа между группами по «очищенным» данным"
   ]
  },
  {
   "cell_type": "markdown",
   "metadata": {},
   "source": [
    "## Общий итог:"
   ]
  },
  {
   "cell_type": "markdown",
   "metadata": {},
   "source": [
    "Есть статистически значимое различие по конверсии между группами по сырым данным, и после фильтрации аномалий. Но по сырым, по отфильтрованным данным - нет статистически значимого различия по среднему чеку между группами (раз p-value больше уровня значимости, то никаких отличий между группами нет). Статистическая значимость конверсии после очистки увеличилась с 13.8% до 17.3%\n",
    "\n",
    "После очистки данных от аномалий - конверсия так же стат значима. А разницы в чеках так же нету. Выбран неблагоприятный промежуток времени для теста - август, в этот период семьи готовят детей в школу, студенты готовятся к учебному году, а те кто по старше выходят из отпусков, однако у обеих групп был шанс проявить тенденцию к росту, но лидигует группа В.\n",
    "\n",
    "Исходя из обнаруженных фактов, тест следует остановить (Кумулятивная конверсия группы В обосновалась на уровне 15% от группы А) и признать его успешным. Средний чек не поменялся, а конверсия выросла. Группа В лучше чем А, т.к. конверсия больше, при одинаковом среднем чеке, соответственно группа В приносит больше денежных средств бизнесу."
   ]
  },
  {
   "cell_type": "code",
   "execution_count": null,
   "metadata": {},
   "outputs": [],
   "source": []
  }
 ],
 "metadata": {
  "ExecuteTimeLog": [
   {
    "duration": 3,
    "start_time": "2022-05-30T10:43:08.669Z"
   },
   {
    "duration": 277,
    "start_time": "2022-05-30T10:47:55.898Z"
   },
   {
    "duration": 3,
    "start_time": "2022-05-30T10:48:03.957Z"
   },
   {
    "duration": 96,
    "start_time": "2022-05-30T10:48:05.307Z"
   },
   {
    "duration": 122,
    "start_time": "2022-05-30T10:48:45.477Z"
   },
   {
    "duration": 5,
    "start_time": "2022-05-30T10:51:05.317Z"
   },
   {
    "duration": 8,
    "start_time": "2022-05-30T10:51:44.277Z"
   },
   {
    "duration": 9,
    "start_time": "2022-05-30T10:53:29.036Z"
   },
   {
    "duration": 10,
    "start_time": "2022-05-30T10:54:50.516Z"
   },
   {
    "duration": 9,
    "start_time": "2022-05-30T10:55:13.186Z"
   },
   {
    "duration": 7,
    "start_time": "2022-05-30T10:56:55.086Z"
   },
   {
    "duration": 7,
    "start_time": "2022-05-30T10:57:33.896Z"
   },
   {
    "duration": 6,
    "start_time": "2022-05-30T11:00:46.516Z"
   },
   {
    "duration": 77,
    "start_time": "2022-05-30T12:02:34.935Z"
   },
   {
    "duration": 7,
    "start_time": "2022-05-30T12:04:55.935Z"
   },
   {
    "duration": 11,
    "start_time": "2022-05-30T12:09:58.265Z"
   },
   {
    "duration": 7,
    "start_time": "2022-05-30T12:13:14.575Z"
   },
   {
    "duration": 31,
    "start_time": "2022-05-30T12:13:55.334Z"
   },
   {
    "duration": 9,
    "start_time": "2022-05-30T12:13:55.371Z"
   },
   {
    "duration": 3,
    "start_time": "2022-05-30T12:14:04.366Z"
   },
   {
    "duration": 8,
    "start_time": "2022-05-30T12:14:05.975Z"
   },
   {
    "duration": 6,
    "start_time": "2022-05-30T12:14:06.695Z"
   },
   {
    "duration": 7,
    "start_time": "2022-05-30T12:14:09.014Z"
   },
   {
    "duration": 8,
    "start_time": "2022-05-30T12:14:09.034Z"
   },
   {
    "duration": 26,
    "start_time": "2022-05-30T12:17:06.385Z"
   },
   {
    "duration": 45,
    "start_time": "2022-05-30T12:17:20.105Z"
   },
   {
    "duration": 4,
    "start_time": "2022-05-30T12:17:38.215Z"
   },
   {
    "duration": 3,
    "start_time": "2022-05-30T12:19:36.875Z"
   },
   {
    "duration": 7,
    "start_time": "2022-05-30T12:19:37.815Z"
   },
   {
    "duration": 12,
    "start_time": "2022-05-30T12:19:51.885Z"
   },
   {
    "duration": 4,
    "start_time": "2022-05-30T12:19:58.305Z"
   },
   {
    "duration": 8,
    "start_time": "2022-05-30T12:19:58.825Z"
   },
   {
    "duration": 9,
    "start_time": "2022-05-30T12:20:20.855Z"
   },
   {
    "duration": 4,
    "start_time": "2022-05-30T12:25:22.085Z"
   },
   {
    "duration": 8,
    "start_time": "2022-05-30T12:25:55.962Z"
   },
   {
    "duration": 3,
    "start_time": "2022-05-30T12:25:58.861Z"
   },
   {
    "duration": 13,
    "start_time": "2022-05-30T12:25:58.867Z"
   },
   {
    "duration": 3,
    "start_time": "2022-05-30T12:26:05.436Z"
   },
   {
    "duration": 10,
    "start_time": "2022-05-30T12:26:05.996Z"
   },
   {
    "duration": 9,
    "start_time": "2022-05-30T12:26:13.157Z"
   },
   {
    "duration": 7,
    "start_time": "2022-05-30T12:42:54.983Z"
   },
   {
    "duration": 7,
    "start_time": "2022-05-30T12:43:07.004Z"
   },
   {
    "duration": 11,
    "start_time": "2022-05-30T12:49:09.553Z"
   },
   {
    "duration": 11,
    "start_time": "2022-05-30T12:49:29.845Z"
   },
   {
    "duration": 9,
    "start_time": "2022-05-30T12:49:29.861Z"
   },
   {
    "duration": 35,
    "start_time": "2022-05-30T12:49:39.845Z"
   },
   {
    "duration": 0,
    "start_time": "2022-05-30T12:49:39.882Z"
   },
   {
    "duration": 24,
    "start_time": "2022-05-30T12:49:49.132Z"
   },
   {
    "duration": 0,
    "start_time": "2022-05-30T12:49:49.158Z"
   },
   {
    "duration": 9,
    "start_time": "2022-05-30T12:58:28.571Z"
   },
   {
    "duration": 75,
    "start_time": "2022-05-30T12:58:29.091Z"
   },
   {
    "duration": 9,
    "start_time": "2022-05-30T12:58:29.271Z"
   },
   {
    "duration": 3,
    "start_time": "2022-05-30T12:58:29.448Z"
   },
   {
    "duration": 32,
    "start_time": "2022-05-30T12:58:29.621Z"
   },
   {
    "duration": 8,
    "start_time": "2022-05-30T12:58:29.791Z"
   },
   {
    "duration": 6,
    "start_time": "2022-05-30T12:58:30.001Z"
   },
   {
    "duration": 3,
    "start_time": "2022-05-30T12:58:43.810Z"
   },
   {
    "duration": 12,
    "start_time": "2022-05-30T12:58:44.671Z"
   },
   {
    "duration": 8,
    "start_time": "2022-05-30T12:58:45.071Z"
   },
   {
    "duration": 8,
    "start_time": "2022-05-30T12:58:46.392Z"
   },
   {
    "duration": 5,
    "start_time": "2022-05-30T12:58:47.090Z"
   },
   {
    "duration": 8,
    "start_time": "2022-05-30T12:58:47.801Z"
   },
   {
    "duration": 4,
    "start_time": "2022-05-30T12:58:49.821Z"
   },
   {
    "duration": 10,
    "start_time": "2022-05-30T12:58:51.161Z"
   },
   {
    "duration": 6,
    "start_time": "2022-05-30T12:58:54.021Z"
   },
   {
    "duration": 8,
    "start_time": "2022-05-30T12:58:54.861Z"
   },
   {
    "duration": 49,
    "start_time": "2022-05-30T12:59:00.022Z"
   },
   {
    "duration": 2,
    "start_time": "2022-05-30T12:59:07.344Z"
   },
   {
    "duration": 15,
    "start_time": "2022-05-30T12:59:08.644Z"
   },
   {
    "duration": 156,
    "start_time": "2022-05-30T12:59:41.191Z"
   },
   {
    "duration": 161,
    "start_time": "2022-05-30T13:00:14.621Z"
   },
   {
    "duration": 160,
    "start_time": "2022-05-30T13:01:37.430Z"
   },
   {
    "duration": 3,
    "start_time": "2022-05-30T13:22:23.120Z"
   },
   {
    "duration": 73,
    "start_time": "2022-05-30T13:22:24.443Z"
   },
   {
    "duration": 7,
    "start_time": "2022-05-30T13:22:24.690Z"
   },
   {
    "duration": 3,
    "start_time": "2022-05-30T13:22:24.890Z"
   },
   {
    "duration": 2,
    "start_time": "2022-05-30T13:22:25.080Z"
   },
   {
    "duration": 9,
    "start_time": "2022-05-30T13:22:25.263Z"
   },
   {
    "duration": 5,
    "start_time": "2022-05-30T13:22:25.455Z"
   },
   {
    "duration": 7,
    "start_time": "2022-05-30T13:22:25.663Z"
   },
   {
    "duration": 4,
    "start_time": "2022-05-30T13:22:25.810Z"
   },
   {
    "duration": 9,
    "start_time": "2022-05-30T13:22:26.010Z"
   },
   {
    "duration": 4,
    "start_time": "2022-05-30T13:22:26.418Z"
   },
   {
    "duration": 10,
    "start_time": "2022-05-30T13:22:26.611Z"
   },
   {
    "duration": 3,
    "start_time": "2022-05-30T13:22:36.665Z"
   },
   {
    "duration": 75,
    "start_time": "2022-05-30T13:22:37.055Z"
   },
   {
    "duration": 7,
    "start_time": "2022-05-30T13:22:37.220Z"
   },
   {
    "duration": 3,
    "start_time": "2022-05-30T13:22:37.409Z"
   },
   {
    "duration": 8,
    "start_time": "2022-05-30T13:22:37.590Z"
   },
   {
    "duration": 6,
    "start_time": "2022-05-30T13:22:37.779Z"
   },
   {
    "duration": 7,
    "start_time": "2022-05-30T13:22:39.068Z"
   },
   {
    "duration": 3,
    "start_time": "2022-05-30T13:22:39.480Z"
   },
   {
    "duration": 9,
    "start_time": "2022-05-30T13:22:39.971Z"
   },
   {
    "duration": 4,
    "start_time": "2022-05-30T13:22:41.710Z"
   },
   {
    "duration": 10,
    "start_time": "2022-05-30T13:22:42.470Z"
   },
   {
    "duration": 6,
    "start_time": "2022-05-30T13:22:45.369Z"
   },
   {
    "duration": 7,
    "start_time": "2022-05-30T13:22:46.380Z"
   },
   {
    "duration": 11,
    "start_time": "2022-05-30T13:22:48.262Z"
   },
   {
    "duration": 25,
    "start_time": "2022-05-30T13:24:05.105Z"
   },
   {
    "duration": 23,
    "start_time": "2022-05-30T13:24:46.277Z"
   },
   {
    "duration": 0,
    "start_time": "2022-05-30T13:24:46.301Z"
   },
   {
    "duration": 243,
    "start_time": "2022-05-30T13:25:06.070Z"
   },
   {
    "duration": 13,
    "start_time": "2022-05-30T13:25:15.582Z"
   },
   {
    "duration": 0,
    "start_time": "2022-05-30T13:25:15.596Z"
   },
   {
    "duration": 243,
    "start_time": "2022-05-30T13:26:17.418Z"
   },
   {
    "duration": 13,
    "start_time": "2022-05-30T13:26:26.380Z"
   },
   {
    "duration": 152,
    "start_time": "2022-05-30T13:26:26.409Z"
   },
   {
    "duration": 153,
    "start_time": "2022-05-30T13:26:54.270Z"
   },
   {
    "duration": 489,
    "start_time": "2022-05-30T13:26:59.350Z"
   },
   {
    "duration": 155,
    "start_time": "2022-05-30T13:27:22.130Z"
   },
   {
    "duration": 1677,
    "start_time": "2022-05-31T08:14:19.688Z"
   },
   {
    "duration": 216,
    "start_time": "2022-05-31T08:14:21.379Z"
   },
   {
    "duration": 10,
    "start_time": "2022-05-31T08:14:21.598Z"
   },
   {
    "duration": 11,
    "start_time": "2022-05-31T08:14:21.611Z"
   },
   {
    "duration": 20,
    "start_time": "2022-05-31T08:14:21.625Z"
   },
   {
    "duration": 21,
    "start_time": "2022-05-31T08:14:21.647Z"
   },
   {
    "duration": 19,
    "start_time": "2022-05-31T08:14:21.670Z"
   },
   {
    "duration": 12,
    "start_time": "2022-05-31T08:14:21.691Z"
   },
   {
    "duration": 26,
    "start_time": "2022-05-31T08:14:21.705Z"
   },
   {
    "duration": 20,
    "start_time": "2022-05-31T08:14:21.732Z"
   },
   {
    "duration": 40,
    "start_time": "2022-05-31T08:14:21.754Z"
   },
   {
    "duration": 12,
    "start_time": "2022-05-31T08:14:21.796Z"
   },
   {
    "duration": 8,
    "start_time": "2022-05-31T08:14:21.812Z"
   },
   {
    "duration": 291,
    "start_time": "2022-05-31T08:14:21.824Z"
   },
   {
    "duration": 509,
    "start_time": "2022-05-31T08:14:22.117Z"
   },
   {
    "duration": 208,
    "start_time": "2022-05-31T08:14:22.628Z"
   },
   {
    "duration": 139,
    "start_time": "2022-05-31T08:15:03.973Z"
   },
   {
    "duration": 203,
    "start_time": "2022-05-31T08:15:16.941Z"
   },
   {
    "duration": 196,
    "start_time": "2022-05-31T08:15:26.521Z"
   },
   {
    "duration": 193,
    "start_time": "2022-05-31T08:15:59.870Z"
   },
   {
    "duration": 183,
    "start_time": "2022-05-31T08:38:09.318Z"
   },
   {
    "duration": 193,
    "start_time": "2022-05-31T08:38:40.026Z"
   },
   {
    "duration": 207,
    "start_time": "2022-05-31T09:22:34.500Z"
   },
   {
    "duration": 398,
    "start_time": "2022-05-31T09:24:01.279Z"
   },
   {
    "duration": 400,
    "start_time": "2022-05-31T09:24:49.340Z"
   },
   {
    "duration": 314,
    "start_time": "2022-05-31T09:25:04.971Z"
   },
   {
    "duration": 299,
    "start_time": "2022-05-31T09:32:20.670Z"
   },
   {
    "duration": 462,
    "start_time": "2022-05-31T09:33:09.519Z"
   },
   {
    "duration": 10,
    "start_time": "2022-05-31T09:37:22.588Z"
   },
   {
    "duration": 14,
    "start_time": "2022-05-31T09:38:36.215Z"
   },
   {
    "duration": 11,
    "start_time": "2022-05-31T09:38:52.069Z"
   },
   {
    "duration": 12,
    "start_time": "2022-05-31T09:39:05.328Z"
   },
   {
    "duration": 14,
    "start_time": "2022-05-31T09:40:40.138Z"
   },
   {
    "duration": 112,
    "start_time": "2022-05-31T09:41:12.300Z"
   },
   {
    "duration": 114,
    "start_time": "2022-05-31T09:43:50.278Z"
   },
   {
    "duration": 4,
    "start_time": "2022-05-31T09:45:30.768Z"
   },
   {
    "duration": 3,
    "start_time": "2022-05-31T09:51:38.240Z"
   },
   {
    "duration": 10,
    "start_time": "2022-05-31T09:53:08.267Z"
   },
   {
    "duration": 20,
    "start_time": "2022-05-31T09:53:16.962Z"
   },
   {
    "duration": 144,
    "start_time": "2022-05-31T09:53:36.048Z"
   },
   {
    "duration": 51,
    "start_time": "2022-05-31T10:51:06.263Z"
   },
   {
    "duration": 7,
    "start_time": "2022-05-31T10:52:24.205Z"
   },
   {
    "duration": 101,
    "start_time": "2022-05-31T10:59:32.545Z"
   },
   {
    "duration": 112,
    "start_time": "2022-05-31T11:02:06.085Z"
   },
   {
    "duration": 209,
    "start_time": "2022-05-31T11:03:46.525Z"
   },
   {
    "duration": 955,
    "start_time": "2022-05-31T11:04:44.958Z"
   },
   {
    "duration": 354,
    "start_time": "2022-05-31T11:05:32.215Z"
   },
   {
    "duration": 3,
    "start_time": "2022-05-31T11:06:52.935Z"
   },
   {
    "duration": 978,
    "start_time": "2022-05-31T11:06:57.324Z"
   },
   {
    "duration": 364,
    "start_time": "2022-05-31T11:08:05.815Z"
   },
   {
    "duration": 99,
    "start_time": "2022-05-31T11:12:15.424Z"
   },
   {
    "duration": 411,
    "start_time": "2022-05-31T11:14:53.715Z"
   },
   {
    "duration": 409,
    "start_time": "2022-05-31T11:16:18.704Z"
   },
   {
    "duration": 399,
    "start_time": "2022-05-31T11:16:53.344Z"
   },
   {
    "duration": 12,
    "start_time": "2022-05-31T11:21:58.114Z"
   },
   {
    "duration": 93,
    "start_time": "2022-05-31T11:25:06.835Z"
   },
   {
    "duration": 315,
    "start_time": "2022-05-31T11:51:19.174Z"
   },
   {
    "duration": 327,
    "start_time": "2022-05-31T11:51:56.543Z"
   },
   {
    "duration": 306,
    "start_time": "2022-05-31T11:52:17.245Z"
   },
   {
    "duration": 293,
    "start_time": "2022-05-31T11:52:28.583Z"
   },
   {
    "duration": 308,
    "start_time": "2022-05-31T11:54:26.593Z"
   },
   {
    "duration": 60,
    "start_time": "2022-05-31T11:56:36.504Z"
   },
   {
    "duration": 336,
    "start_time": "2022-05-31T11:57:14.534Z"
   },
   {
    "duration": 31,
    "start_time": "2022-05-31T11:57:14.872Z"
   },
   {
    "duration": 40,
    "start_time": "2022-05-31T11:57:18.594Z"
   },
   {
    "duration": 340,
    "start_time": "2022-05-31T11:57:31.974Z"
   },
   {
    "duration": 33,
    "start_time": "2022-05-31T11:57:33.284Z"
   },
   {
    "duration": 292,
    "start_time": "2022-05-31T11:59:13.324Z"
   },
   {
    "duration": 46,
    "start_time": "2022-05-31T11:59:15.604Z"
   },
   {
    "duration": 302,
    "start_time": "2022-05-31T12:00:56.424Z"
   },
   {
    "duration": 396,
    "start_time": "2022-05-31T12:04:28.624Z"
   },
   {
    "duration": 13,
    "start_time": "2022-05-31T12:05:11.723Z"
   },
   {
    "duration": 9,
    "start_time": "2022-05-31T16:08:30.240Z"
   },
   {
    "duration": 48,
    "start_time": "2022-05-31T16:15:32.101Z"
   },
   {
    "duration": 1396,
    "start_time": "2022-05-31T16:16:00.940Z"
   },
   {
    "duration": 213,
    "start_time": "2022-05-31T16:16:02.338Z"
   },
   {
    "duration": 9,
    "start_time": "2022-05-31T16:16:02.552Z"
   },
   {
    "duration": 44,
    "start_time": "2022-05-31T16:16:02.564Z"
   },
   {
    "duration": 30,
    "start_time": "2022-05-31T16:16:02.609Z"
   },
   {
    "duration": 24,
    "start_time": "2022-05-31T16:16:02.642Z"
   },
   {
    "duration": 61,
    "start_time": "2022-05-31T16:16:02.668Z"
   },
   {
    "duration": 34,
    "start_time": "2022-05-31T16:16:02.731Z"
   },
   {
    "duration": 33,
    "start_time": "2022-05-31T16:16:02.768Z"
   },
   {
    "duration": 20,
    "start_time": "2022-05-31T16:16:02.804Z"
   },
   {
    "duration": 15,
    "start_time": "2022-05-31T16:16:02.825Z"
   },
   {
    "duration": 36,
    "start_time": "2022-05-31T16:16:02.842Z"
   },
   {
    "duration": 9,
    "start_time": "2022-05-31T16:16:02.880Z"
   },
   {
    "duration": 241,
    "start_time": "2022-05-31T16:16:02.891Z"
   },
   {
    "duration": 368,
    "start_time": "2022-05-31T16:16:03.134Z"
   },
   {
    "duration": 5,
    "start_time": "2022-05-31T16:16:03.504Z"
   },
   {
    "duration": 0,
    "start_time": "2022-05-31T16:16:03.510Z"
   },
   {
    "duration": 0,
    "start_time": "2022-05-31T16:16:03.511Z"
   },
   {
    "duration": 0,
    "start_time": "2022-05-31T16:16:03.512Z"
   },
   {
    "duration": 0,
    "start_time": "2022-05-31T16:16:03.513Z"
   },
   {
    "duration": 0,
    "start_time": "2022-05-31T16:16:03.514Z"
   },
   {
    "duration": 0,
    "start_time": "2022-05-31T16:16:03.515Z"
   },
   {
    "duration": 0,
    "start_time": "2022-05-31T16:16:03.516Z"
   },
   {
    "duration": 0,
    "start_time": "2022-05-31T16:16:03.517Z"
   },
   {
    "duration": 0,
    "start_time": "2022-05-31T16:16:03.518Z"
   },
   {
    "duration": 0,
    "start_time": "2022-05-31T16:16:03.519Z"
   },
   {
    "duration": 0,
    "start_time": "2022-05-31T16:16:03.520Z"
   },
   {
    "duration": 0,
    "start_time": "2022-05-31T16:16:03.521Z"
   },
   {
    "duration": 0,
    "start_time": "2022-05-31T16:16:03.523Z"
   },
   {
    "duration": 203,
    "start_time": "2022-05-31T16:16:42.710Z"
   },
   {
    "duration": 190,
    "start_time": "2022-05-31T16:16:45.660Z"
   },
   {
    "duration": 346,
    "start_time": "2022-05-31T16:16:47.559Z"
   },
   {
    "duration": 178,
    "start_time": "2022-05-31T16:16:49.180Z"
   },
   {
    "duration": 294,
    "start_time": "2022-05-31T16:16:50.550Z"
   },
   {
    "duration": 148,
    "start_time": "2022-05-31T16:16:52.340Z"
   },
   {
    "duration": 5,
    "start_time": "2022-05-31T16:16:54.280Z"
   },
   {
    "duration": 113,
    "start_time": "2022-05-31T16:17:00.630Z"
   },
   {
    "duration": 9,
    "start_time": "2022-05-31T16:17:02.509Z"
   },
   {
    "duration": 305,
    "start_time": "2022-05-31T16:17:04.829Z"
   },
   {
    "duration": 9,
    "start_time": "2022-05-31T16:17:07.760Z"
   },
   {
    "duration": 292,
    "start_time": "2022-05-31T16:17:09.369Z"
   },
   {
    "duration": 37,
    "start_time": "2022-05-31T16:17:09.662Z"
   },
   {
    "duration": 12,
    "start_time": "2022-05-31T16:17:11.609Z"
   },
   {
    "duration": 7,
    "start_time": "2022-05-31T16:25:10.960Z"
   },
   {
    "duration": 12,
    "start_time": "2022-05-31T16:26:01.770Z"
   },
   {
    "duration": 308,
    "start_time": "2022-05-31T17:10:35.701Z"
   },
   {
    "duration": 31,
    "start_time": "2022-05-31T17:10:54.326Z"
   },
   {
    "duration": 13,
    "start_time": "2022-05-31T17:11:07.336Z"
   },
   {
    "duration": 32,
    "start_time": "2022-05-31T17:12:31.003Z"
   },
   {
    "duration": 15,
    "start_time": "2022-05-31T17:12:35.908Z"
   },
   {
    "duration": 281,
    "start_time": "2022-05-31T17:12:48.515Z"
   },
   {
    "duration": 32,
    "start_time": "2022-05-31T17:12:51.715Z"
   },
   {
    "duration": 287,
    "start_time": "2022-05-31T17:14:19.545Z"
   },
   {
    "duration": 32,
    "start_time": "2022-05-31T17:14:24.485Z"
   },
   {
    "duration": 1165,
    "start_time": "2022-06-01T06:51:04.368Z"
   },
   {
    "duration": 199,
    "start_time": "2022-06-01T06:51:05.535Z"
   },
   {
    "duration": 8,
    "start_time": "2022-06-01T06:51:05.735Z"
   },
   {
    "duration": 19,
    "start_time": "2022-06-01T06:51:05.745Z"
   },
   {
    "duration": 21,
    "start_time": "2022-06-01T06:51:05.766Z"
   },
   {
    "duration": 12,
    "start_time": "2022-06-01T06:51:05.788Z"
   },
   {
    "duration": 23,
    "start_time": "2022-06-01T06:51:05.801Z"
   },
   {
    "duration": 19,
    "start_time": "2022-06-01T06:51:05.826Z"
   },
   {
    "duration": 21,
    "start_time": "2022-06-01T06:51:05.847Z"
   },
   {
    "duration": 27,
    "start_time": "2022-06-01T06:51:05.871Z"
   },
   {
    "duration": 34,
    "start_time": "2022-06-01T06:51:05.899Z"
   },
   {
    "duration": 31,
    "start_time": "2022-06-01T06:51:05.935Z"
   },
   {
    "duration": 15,
    "start_time": "2022-06-01T06:51:05.967Z"
   },
   {
    "duration": 270,
    "start_time": "2022-06-01T06:51:05.983Z"
   },
   {
    "duration": 377,
    "start_time": "2022-06-01T06:51:06.254Z"
   },
   {
    "duration": 212,
    "start_time": "2022-06-01T06:51:06.632Z"
   },
   {
    "duration": 381,
    "start_time": "2022-06-01T06:51:06.845Z"
   },
   {
    "duration": 218,
    "start_time": "2022-06-01T06:51:07.228Z"
   },
   {
    "duration": 314,
    "start_time": "2022-06-01T06:51:07.447Z"
   },
   {
    "duration": 99,
    "start_time": "2022-06-01T06:51:07.762Z"
   },
   {
    "duration": 13,
    "start_time": "2022-06-01T06:51:07.863Z"
   },
   {
    "duration": 128,
    "start_time": "2022-06-01T06:51:07.877Z"
   },
   {
    "duration": 6,
    "start_time": "2022-06-01T06:51:08.007Z"
   },
   {
    "duration": 330,
    "start_time": "2022-06-01T06:51:08.014Z"
   },
   {
    "duration": 8,
    "start_time": "2022-06-01T06:51:08.346Z"
   },
   {
    "duration": 300,
    "start_time": "2022-06-01T06:51:08.356Z"
   },
   {
    "duration": 39,
    "start_time": "2022-06-01T06:51:08.657Z"
   },
   {
    "duration": 11,
    "start_time": "2022-06-01T06:51:08.699Z"
   },
   {
    "duration": 1278,
    "start_time": "2022-06-05T11:29:04.838Z"
   },
   {
    "duration": 2,
    "start_time": "2022-06-05T11:31:24.346Z"
   },
   {
    "duration": 80,
    "start_time": "2022-06-05T11:31:26.094Z"
   },
   {
    "duration": 8,
    "start_time": "2022-06-05T11:31:26.640Z"
   },
   {
    "duration": 2,
    "start_time": "2022-06-05T11:31:27.244Z"
   },
   {
    "duration": 8,
    "start_time": "2022-06-05T11:31:27.702Z"
   },
   {
    "duration": 8,
    "start_time": "2022-06-05T11:31:27.712Z"
   },
   {
    "duration": 9,
    "start_time": "2022-06-05T11:31:30.297Z"
   },
   {
    "duration": 5,
    "start_time": "2022-06-05T11:31:30.333Z"
   },
   {
    "duration": 9,
    "start_time": "2022-06-05T11:31:32.802Z"
   },
   {
    "duration": 4,
    "start_time": "2022-06-05T11:31:51.189Z"
   },
   {
    "duration": 12,
    "start_time": "2022-06-05T11:31:51.859Z"
   },
   {
    "duration": 3,
    "start_time": "2022-06-05T11:32:26.259Z"
   },
   {
    "duration": 4,
    "start_time": "2022-06-05T11:37:48.990Z"
   },
   {
    "duration": 4,
    "start_time": "2022-06-05T11:38:15.339Z"
   },
   {
    "duration": 4,
    "start_time": "2022-06-05T11:38:24.438Z"
   },
   {
    "duration": 3,
    "start_time": "2022-06-05T11:38:30.090Z"
   },
   {
    "duration": 50,
    "start_time": "2022-06-05T11:38:45.990Z"
   },
   {
    "duration": 111,
    "start_time": "2022-06-05T11:38:50.290Z"
   },
   {
    "duration": 9,
    "start_time": "2022-06-05T11:38:57.409Z"
   },
   {
    "duration": 10,
    "start_time": "2022-06-05T11:39:22.691Z"
   },
   {
    "duration": 9,
    "start_time": "2022-06-05T11:39:32.692Z"
   },
   {
    "duration": 9,
    "start_time": "2022-06-05T11:41:07.981Z"
   },
   {
    "duration": 10,
    "start_time": "2022-06-05T11:41:36.119Z"
   },
   {
    "duration": 8,
    "start_time": "2022-06-05T11:44:39.148Z"
   },
   {
    "duration": 5,
    "start_time": "2022-06-05T11:49:00.886Z"
   },
   {
    "duration": 6,
    "start_time": "2022-06-05T11:52:53.731Z"
   },
   {
    "duration": 4,
    "start_time": "2022-06-05T11:53:08.990Z"
   },
   {
    "duration": 9,
    "start_time": "2022-06-05T11:53:09.023Z"
   },
   {
    "duration": 3,
    "start_time": "2022-06-05T11:56:31.195Z"
   },
   {
    "duration": 12,
    "start_time": "2022-06-05T12:00:55.252Z"
   },
   {
    "duration": 10,
    "start_time": "2022-06-05T12:02:14.281Z"
   },
   {
    "duration": 11,
    "start_time": "2022-06-05T12:02:43.880Z"
   },
   {
    "duration": 10,
    "start_time": "2022-06-05T12:02:43.919Z"
   },
   {
    "duration": 11,
    "start_time": "2022-06-05T12:02:47.552Z"
   },
   {
    "duration": 10,
    "start_time": "2022-06-05T12:03:28.990Z"
   },
   {
    "duration": 9,
    "start_time": "2022-06-05T12:03:32.800Z"
   },
   {
    "duration": 4,
    "start_time": "2022-06-05T12:05:39.809Z"
   },
   {
    "duration": 261,
    "start_time": "2022-06-05T12:14:48.980Z"
   },
   {
    "duration": 257,
    "start_time": "2022-06-05T12:15:46.936Z"
   },
   {
    "duration": 31,
    "start_time": "2022-06-05T12:16:09.839Z"
   },
   {
    "duration": 274,
    "start_time": "2022-06-05T12:16:15.881Z"
   },
   {
    "duration": 9,
    "start_time": "2022-06-05T12:29:48.903Z"
   },
   {
    "duration": 33,
    "start_time": "2022-06-05T12:30:48.754Z"
   },
   {
    "duration": 36,
    "start_time": "2022-06-05T12:30:52.843Z"
   },
   {
    "duration": 25,
    "start_time": "2022-06-05T12:30:58.654Z"
   },
   {
    "duration": 323,
    "start_time": "2022-06-05T12:31:07.553Z"
   },
   {
    "duration": 272,
    "start_time": "2022-06-05T12:31:15.162Z"
   },
   {
    "duration": 268,
    "start_time": "2022-06-05T12:31:52.354Z"
   },
   {
    "duration": 285,
    "start_time": "2022-06-05T12:32:22.862Z"
   },
   {
    "duration": 262,
    "start_time": "2022-06-05T12:32:34.313Z"
   },
   {
    "duration": 22,
    "start_time": "2022-06-05T12:34:15.902Z"
   },
   {
    "duration": 368,
    "start_time": "2022-06-05T12:35:53.353Z"
   },
   {
    "duration": 334,
    "start_time": "2022-06-05T12:40:18.323Z"
   },
   {
    "duration": 277,
    "start_time": "2022-06-05T12:40:52.183Z"
   },
   {
    "duration": 305,
    "start_time": "2022-06-05T12:42:16.762Z"
   },
   {
    "duration": 228,
    "start_time": "2022-06-05T12:44:19.053Z"
   },
   {
    "duration": 339,
    "start_time": "2022-06-05T12:46:53.213Z"
   },
   {
    "duration": 316,
    "start_time": "2022-06-05T12:48:42.478Z"
   },
   {
    "duration": 128,
    "start_time": "2022-06-05T12:50:35.013Z"
   },
   {
    "duration": 129,
    "start_time": "2022-06-05T12:51:44.853Z"
   },
   {
    "duration": 125,
    "start_time": "2022-06-05T12:55:14.572Z"
   },
   {
    "duration": 203,
    "start_time": "2022-06-05T12:55:24.854Z"
   },
   {
    "duration": 114,
    "start_time": "2022-06-05T12:56:29.067Z"
   },
   {
    "duration": 111,
    "start_time": "2022-06-05T12:56:48.199Z"
   },
   {
    "duration": 111,
    "start_time": "2022-06-05T12:56:50.989Z"
   },
   {
    "duration": 139,
    "start_time": "2022-06-05T12:57:16.365Z"
   },
   {
    "duration": 173,
    "start_time": "2022-06-05T12:57:31.470Z"
   },
   {
    "duration": 127,
    "start_time": "2022-06-05T12:58:54.964Z"
   },
   {
    "duration": 124,
    "start_time": "2022-06-05T12:59:00.918Z"
   },
   {
    "duration": 180,
    "start_time": "2022-06-05T12:59:25.649Z"
   },
   {
    "duration": 150,
    "start_time": "2022-06-05T13:01:11.017Z"
   },
   {
    "duration": 146,
    "start_time": "2022-06-05T13:01:36.206Z"
   },
   {
    "duration": 356,
    "start_time": "2022-06-05T13:12:04.103Z"
   },
   {
    "duration": 20,
    "start_time": "2022-06-05T13:22:00.438Z"
   },
   {
    "duration": 22,
    "start_time": "2022-06-05T13:30:36.173Z"
   },
   {
    "duration": 15,
    "start_time": "2022-06-05T13:32:49.929Z"
   },
   {
    "duration": 331,
    "start_time": "2022-06-05T13:34:38.905Z"
   },
   {
    "duration": 10,
    "start_time": "2022-06-05T13:35:54.069Z"
   },
   {
    "duration": 37,
    "start_time": "2022-06-05T13:35:57.116Z"
   },
   {
    "duration": 9,
    "start_time": "2022-06-05T13:36:13.638Z"
   },
   {
    "duration": 9,
    "start_time": "2022-06-05T13:36:42.195Z"
   },
   {
    "duration": 21,
    "start_time": "2022-06-05T13:42:08.441Z"
   },
   {
    "duration": 8,
    "start_time": "2022-06-05T13:47:26.677Z"
   },
   {
    "duration": 31,
    "start_time": "2022-06-05T13:48:57.196Z"
   },
   {
    "duration": 30,
    "start_time": "2022-06-05T13:52:07.747Z"
   },
   {
    "duration": 13,
    "start_time": "2022-06-05T14:09:07.593Z"
   }
  ],
  "kernelspec": {
   "display_name": "Python 3 (ipykernel)",
   "language": "python",
   "name": "python3"
  },
  "language_info": {
   "codemirror_mode": {
    "name": "ipython",
    "version": 3
   },
   "file_extension": ".py",
   "mimetype": "text/x-python",
   "name": "python",
   "nbconvert_exporter": "python",
   "pygments_lexer": "ipython3",
   "version": "3.9.12"
  },
  "toc": {
   "base_numbering": 1,
   "nav_menu": {
    "height": "62px",
    "width": "160px"
   },
   "number_sections": false,
   "sideBar": true,
   "skip_h1_title": false,
   "title_cell": "Table of Contents",
   "title_sidebar": "Contents",
   "toc_cell": false,
   "toc_position": {},
   "toc_section_display": true,
   "toc_window_display": false
  }
 },
 "nbformat": 4,
 "nbformat_minor": 2
}
