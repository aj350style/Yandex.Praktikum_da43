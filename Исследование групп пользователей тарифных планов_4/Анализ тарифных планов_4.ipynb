{
 "cells": [
  {
   "cell_type": "markdown",
   "id": "ed2fbe24",
   "metadata": {},
   "source": [
    "## Описание проекта\n",
    "    Вы аналитик компании «Мегалайн» — федерального оператора сотовой связи. Клиентам предлагают два тарифных плана: «Смарт» и «Ультра». Чтобы скорректировать рекламный бюджет, коммерческий департамент хочет понять, какой тариф приносит больше денег.\n",
    "    Вам предстоит сделать предварительный анализ тарифов на небольшой выборке клиентов. В вашем распоряжении данные 500 пользователей «Мегалайна»: кто они, откуда, каким тарифом пользуются, сколько звонков и сообщений каждый отправил за 2018 год. Нужно проанализировать поведение клиентов и сделать вывод — какой тариф лучше.\n",
    "   Описание тарифов:\n",
    "#### Тариф «Смарт»\n",
    "Ежемесячная плата: 550 рублей\n",
    "\n",
    "Включено 500 минут разговора, 50 сообщений и 15 Гб интернет-трафика\n",
    "\n",
    "Стоимость услуг сверх тарифного пакета:\n",
    "\n",
    "минута разговора: 3 рубля\n",
    "\n",
    "сообщение: 3 рубля\n",
    "\n",
    "1 Гб интернет-трафика: 200 рублей\n",
    "####  Тариф «Ультра»\n",
    "Ежемесячная плата: 1950 рублей\n",
    "\n",
    "Включено 3000 минут разговора, 1000 сообщений и 30 Гб интернет-трафика\n",
    "\n",
    "Стоимость услуг сверх тарифного пакета:\n",
    "\n",
    "минута разговора: 1 рубль\n",
    "\n",
    "сообщение: 1 рубль\n",
    "\n",
    "1 Гб интернет-трафика: 150 рублей"
   ]
  },
  {
   "cell_type": "raw",
   "id": "e7b58eff",
   "metadata": {},
   "source": [
    "Описание данных\n",
    "\n",
    "Таблица users (информация о пользователях):\n",
    "user_id — уникальный идентификатор пользователя\n",
    "first_name — имя пользователя\n",
    "last_name — фамилия пользователя\n",
    "age — возраст пользователя (годы)\n",
    "reg_date — дата подключения тарифа (день, месяц, год)\n",
    "churn_date — дата прекращения пользования тарифом (если значение пропущено, то тариф ещё действовал на момент выгрузки данных)\n",
    "city — город проживания пользователя\n",
    "tariff — название тарифного плана\n",
    "\n",
    "Таблица calls (информация о звонках):\n",
    "id — уникальный номер звонка\n",
    "call_date — дата звонка\n",
    "duration — длительность звонка в минутах\n",
    "user_id — идентификатор пользователя, сделавшего звонок\n",
    "\n",
    "Таблица messages (информация о сообщениях):\n",
    "id — уникальный номер сообщения\n",
    "message_date — дата сообщения\n",
    "user_id — идентификатор пользователя, отправившего сообщение\n",
    "\n",
    "Таблица internet (информация об интернет-сессиях):\n",
    "id — уникальный номер сессии\n",
    "mb_used — объём потраченного за сессию интернет-трафика (в мегабайтах)\n",
    "session_date — дата интернет-сессии\n",
    "user_id — идентификатор пользователя\n",
    "\n",
    "Таблица tariffs (информация о тарифах):\n",
    "tariff_name — название тарифа\n",
    "rub_monthly_fee — ежемесячная абонентская плата в рублях\n",
    "minutes_included — количество минут разговора в месяц, включённых в абонентскую плату\n",
    "messages_included — количество сообщений в месяц, включённых в абонентскую плату\n",
    "mb_per_month_included — объём интернет-трафика, включённого в абонентскую плату (в мегабайтах)\n",
    "rub_per_minute — стоимость минуты разговора сверх тарифного пакета (например, если в тарифе 100 минут разговора в месяц, то со 101 минуты будет взиматься плата)\n",
    "rub_per_message — стоимость отправки сообщения сверх тарифного пакета\n",
    "rub_per_gb — стоимость дополнительного гигабайта интернет-трафика сверх тарифного пакета (1 гигабайт = 1024 мегабайта)"
   ]
  },
  {
   "cell_type": "markdown",
   "id": "51b4c70c",
   "metadata": {},
   "source": [
    "### Шаг 1. Откройте файл с данными и изучите общую информацию"
   ]
  },
  {
   "cell_type": "code",
   "execution_count": 1,
   "id": "6e1577e2",
   "metadata": {},
   "outputs": [],
   "source": [
    "import pandas as pd\n",
    "import numpy as np\n",
    "import datetime\n",
    "import math as mth\n",
    "import matplotlib.pyplot as plt\n",
    "import seaborn\n",
    "import datetime\n",
    "import numpy as np\n",
    "import scipy.stats as st\n",
    "from scipy import stats as st"
   ]
  },
  {
   "cell_type": "code",
   "execution_count": 2,
   "id": "0dd7d893",
   "metadata": {},
   "outputs": [],
   "source": [
    "df_calls =pd.read_csv ('https://code.s3.yandex.net/datasets/calls.csv')\n",
    "df_internet = pd.read_csv ('https://code.s3.yandex.net/datasets/internet.csv')\n",
    "df_messages =pd.read_csv ('https://code.s3.yandex.net/datasets/messages.csv')\n",
    "df_tariffs =pd.read_csv ('https://code.s3.yandex.net/datasets/tariffs.csv')\n",
    "df_users =pd.read_csv ('https://code.s3.yandex.net/datasets/users.csv')"
   ]
  },
  {
   "cell_type": "code",
   "execution_count": 3,
   "id": "f286a117",
   "metadata": {},
   "outputs": [
    {
     "name": "stdout",
     "output_type": "stream",
     "text": [
      "<class 'pandas.core.frame.DataFrame'>\n",
      "RangeIndex: 202607 entries, 0 to 202606\n",
      "Data columns (total 4 columns):\n",
      " #   Column     Non-Null Count   Dtype  \n",
      "---  ------     --------------   -----  \n",
      " 0   id         202607 non-null  object \n",
      " 1   call_date  202607 non-null  object \n",
      " 2   duration   202607 non-null  float64\n",
      " 3   user_id    202607 non-null  int64  \n",
      "dtypes: float64(1), int64(1), object(2)\n",
      "memory usage: 6.2+ MB\n",
      "<class 'pandas.core.frame.DataFrame'>\n",
      "RangeIndex: 149396 entries, 0 to 149395\n",
      "Data columns (total 5 columns):\n",
      " #   Column        Non-Null Count   Dtype  \n",
      "---  ------        --------------   -----  \n",
      " 0   Unnamed: 0    149396 non-null  int64  \n",
      " 1   id            149396 non-null  object \n",
      " 2   mb_used       149396 non-null  float64\n",
      " 3   session_date  149396 non-null  object \n",
      " 4   user_id       149396 non-null  int64  \n",
      "dtypes: float64(1), int64(2), object(2)\n",
      "memory usage: 5.7+ MB\n",
      "<class 'pandas.core.frame.DataFrame'>\n",
      "RangeIndex: 123036 entries, 0 to 123035\n",
      "Data columns (total 3 columns):\n",
      " #   Column        Non-Null Count   Dtype \n",
      "---  ------        --------------   ----- \n",
      " 0   id            123036 non-null  object\n",
      " 1   message_date  123036 non-null  object\n",
      " 2   user_id       123036 non-null  int64 \n",
      "dtypes: int64(1), object(2)\n",
      "memory usage: 2.8+ MB\n",
      "<class 'pandas.core.frame.DataFrame'>\n",
      "RangeIndex: 2 entries, 0 to 1\n",
      "Data columns (total 8 columns):\n",
      " #   Column                 Non-Null Count  Dtype \n",
      "---  ------                 --------------  ----- \n",
      " 0   messages_included      2 non-null      int64 \n",
      " 1   mb_per_month_included  2 non-null      int64 \n",
      " 2   minutes_included       2 non-null      int64 \n",
      " 3   rub_monthly_fee        2 non-null      int64 \n",
      " 4   rub_per_gb             2 non-null      int64 \n",
      " 5   rub_per_message        2 non-null      int64 \n",
      " 6   rub_per_minute         2 non-null      int64 \n",
      " 7   tariff_name            2 non-null      object\n",
      "dtypes: int64(7), object(1)\n",
      "memory usage: 256.0+ bytes\n",
      "<class 'pandas.core.frame.DataFrame'>\n",
      "RangeIndex: 500 entries, 0 to 499\n",
      "Data columns (total 8 columns):\n",
      " #   Column      Non-Null Count  Dtype \n",
      "---  ------      --------------  ----- \n",
      " 0   user_id     500 non-null    int64 \n",
      " 1   age         500 non-null    int64 \n",
      " 2   churn_date  38 non-null     object\n",
      " 3   city        500 non-null    object\n",
      " 4   first_name  500 non-null    object\n",
      " 5   last_name   500 non-null    object\n",
      " 6   reg_date    500 non-null    object\n",
      " 7   tariff      500 non-null    object\n",
      "dtypes: int64(2), object(6)\n",
      "memory usage: 31.4+ KB\n"
     ]
    }
   ],
   "source": [
    "df_calls.info()\n",
    "df_internet.info()\n",
    "df_messages.info()\n",
    "df_tariffs.info()\n",
    "df_users.info()"
   ]
  },
  {
   "cell_type": "code",
   "execution_count": 4,
   "id": "961608dd",
   "metadata": {},
   "outputs": [
    {
     "data": {
      "text/html": [
       "<div>\n",
       "<style scoped>\n",
       "    .dataframe tbody tr th:only-of-type {\n",
       "        vertical-align: middle;\n",
       "    }\n",
       "\n",
       "    .dataframe tbody tr th {\n",
       "        vertical-align: top;\n",
       "    }\n",
       "\n",
       "    .dataframe thead th {\n",
       "        text-align: right;\n",
       "    }\n",
       "</style>\n",
       "<table border=\"1\" class=\"dataframe\">\n",
       "  <thead>\n",
       "    <tr style=\"text-align: right;\">\n",
       "      <th></th>\n",
       "      <th>id</th>\n",
       "      <th>call_date</th>\n",
       "      <th>duration</th>\n",
       "      <th>user_id</th>\n",
       "    </tr>\n",
       "  </thead>\n",
       "  <tbody>\n",
       "    <tr>\n",
       "      <th>0</th>\n",
       "      <td>1000_0</td>\n",
       "      <td>2018-07-25</td>\n",
       "      <td>0.00</td>\n",
       "      <td>1000</td>\n",
       "    </tr>\n",
       "    <tr>\n",
       "      <th>1</th>\n",
       "      <td>1000_1</td>\n",
       "      <td>2018-08-17</td>\n",
       "      <td>0.00</td>\n",
       "      <td>1000</td>\n",
       "    </tr>\n",
       "    <tr>\n",
       "      <th>2</th>\n",
       "      <td>1000_2</td>\n",
       "      <td>2018-06-11</td>\n",
       "      <td>2.85</td>\n",
       "      <td>1000</td>\n",
       "    </tr>\n",
       "    <tr>\n",
       "      <th>3</th>\n",
       "      <td>1000_3</td>\n",
       "      <td>2018-09-21</td>\n",
       "      <td>13.80</td>\n",
       "      <td>1000</td>\n",
       "    </tr>\n",
       "    <tr>\n",
       "      <th>4</th>\n",
       "      <td>1000_4</td>\n",
       "      <td>2018-12-15</td>\n",
       "      <td>5.18</td>\n",
       "      <td>1000</td>\n",
       "    </tr>\n",
       "  </tbody>\n",
       "</table>\n",
       "</div>"
      ],
      "text/plain": [
       "       id   call_date  duration  user_id\n",
       "0  1000_0  2018-07-25      0.00     1000\n",
       "1  1000_1  2018-08-17      0.00     1000\n",
       "2  1000_2  2018-06-11      2.85     1000\n",
       "3  1000_3  2018-09-21     13.80     1000\n",
       "4  1000_4  2018-12-15      5.18     1000"
      ]
     },
     "execution_count": 4,
     "metadata": {},
     "output_type": "execute_result"
    }
   ],
   "source": [
    "df_calls.head(5)\n"
   ]
  },
  {
   "cell_type": "code",
   "execution_count": 5,
   "id": "f9a734c8",
   "metadata": {},
   "outputs": [
    {
     "data": {
      "text/html": [
       "<div>\n",
       "<style scoped>\n",
       "    .dataframe tbody tr th:only-of-type {\n",
       "        vertical-align: middle;\n",
       "    }\n",
       "\n",
       "    .dataframe tbody tr th {\n",
       "        vertical-align: top;\n",
       "    }\n",
       "\n",
       "    .dataframe thead th {\n",
       "        text-align: right;\n",
       "    }\n",
       "</style>\n",
       "<table border=\"1\" class=\"dataframe\">\n",
       "  <thead>\n",
       "    <tr style=\"text-align: right;\">\n",
       "      <th></th>\n",
       "      <th>Unnamed: 0</th>\n",
       "      <th>id</th>\n",
       "      <th>mb_used</th>\n",
       "      <th>session_date</th>\n",
       "      <th>user_id</th>\n",
       "    </tr>\n",
       "  </thead>\n",
       "  <tbody>\n",
       "    <tr>\n",
       "      <th>0</th>\n",
       "      <td>0</td>\n",
       "      <td>1000_0</td>\n",
       "      <td>112.95</td>\n",
       "      <td>2018-11-25</td>\n",
       "      <td>1000</td>\n",
       "    </tr>\n",
       "    <tr>\n",
       "      <th>1</th>\n",
       "      <td>1</td>\n",
       "      <td>1000_1</td>\n",
       "      <td>1052.81</td>\n",
       "      <td>2018-09-07</td>\n",
       "      <td>1000</td>\n",
       "    </tr>\n",
       "    <tr>\n",
       "      <th>2</th>\n",
       "      <td>2</td>\n",
       "      <td>1000_2</td>\n",
       "      <td>1197.26</td>\n",
       "      <td>2018-06-25</td>\n",
       "      <td>1000</td>\n",
       "    </tr>\n",
       "    <tr>\n",
       "      <th>3</th>\n",
       "      <td>3</td>\n",
       "      <td>1000_3</td>\n",
       "      <td>550.27</td>\n",
       "      <td>2018-08-22</td>\n",
       "      <td>1000</td>\n",
       "    </tr>\n",
       "    <tr>\n",
       "      <th>4</th>\n",
       "      <td>4</td>\n",
       "      <td>1000_4</td>\n",
       "      <td>302.56</td>\n",
       "      <td>2018-09-24</td>\n",
       "      <td>1000</td>\n",
       "    </tr>\n",
       "  </tbody>\n",
       "</table>\n",
       "</div>"
      ],
      "text/plain": [
       "   Unnamed: 0      id  mb_used session_date  user_id\n",
       "0           0  1000_0   112.95   2018-11-25     1000\n",
       "1           1  1000_1  1052.81   2018-09-07     1000\n",
       "2           2  1000_2  1197.26   2018-06-25     1000\n",
       "3           3  1000_3   550.27   2018-08-22     1000\n",
       "4           4  1000_4   302.56   2018-09-24     1000"
      ]
     },
     "execution_count": 5,
     "metadata": {},
     "output_type": "execute_result"
    }
   ],
   "source": [
    "df_internet.head(5)"
   ]
  },
  {
   "cell_type": "code",
   "execution_count": 6,
   "id": "17f627d8",
   "metadata": {},
   "outputs": [
    {
     "data": {
      "text/html": [
       "<div>\n",
       "<style scoped>\n",
       "    .dataframe tbody tr th:only-of-type {\n",
       "        vertical-align: middle;\n",
       "    }\n",
       "\n",
       "    .dataframe tbody tr th {\n",
       "        vertical-align: top;\n",
       "    }\n",
       "\n",
       "    .dataframe thead th {\n",
       "        text-align: right;\n",
       "    }\n",
       "</style>\n",
       "<table border=\"1\" class=\"dataframe\">\n",
       "  <thead>\n",
       "    <tr style=\"text-align: right;\">\n",
       "      <th></th>\n",
       "      <th>id</th>\n",
       "      <th>message_date</th>\n",
       "      <th>user_id</th>\n",
       "    </tr>\n",
       "  </thead>\n",
       "  <tbody>\n",
       "    <tr>\n",
       "      <th>0</th>\n",
       "      <td>1000_0</td>\n",
       "      <td>2018-06-27</td>\n",
       "      <td>1000</td>\n",
       "    </tr>\n",
       "    <tr>\n",
       "      <th>1</th>\n",
       "      <td>1000_1</td>\n",
       "      <td>2018-10-08</td>\n",
       "      <td>1000</td>\n",
       "    </tr>\n",
       "    <tr>\n",
       "      <th>2</th>\n",
       "      <td>1000_2</td>\n",
       "      <td>2018-08-04</td>\n",
       "      <td>1000</td>\n",
       "    </tr>\n",
       "    <tr>\n",
       "      <th>3</th>\n",
       "      <td>1000_3</td>\n",
       "      <td>2018-06-16</td>\n",
       "      <td>1000</td>\n",
       "    </tr>\n",
       "    <tr>\n",
       "      <th>4</th>\n",
       "      <td>1000_4</td>\n",
       "      <td>2018-12-05</td>\n",
       "      <td>1000</td>\n",
       "    </tr>\n",
       "  </tbody>\n",
       "</table>\n",
       "</div>"
      ],
      "text/plain": [
       "       id message_date  user_id\n",
       "0  1000_0   2018-06-27     1000\n",
       "1  1000_1   2018-10-08     1000\n",
       "2  1000_2   2018-08-04     1000\n",
       "3  1000_3   2018-06-16     1000\n",
       "4  1000_4   2018-12-05     1000"
      ]
     },
     "execution_count": 6,
     "metadata": {},
     "output_type": "execute_result"
    }
   ],
   "source": [
    "df_messages.head(5)"
   ]
  },
  {
   "cell_type": "code",
   "execution_count": 7,
   "id": "bc58001e",
   "metadata": {},
   "outputs": [
    {
     "data": {
      "text/html": [
       "<div>\n",
       "<style scoped>\n",
       "    .dataframe tbody tr th:only-of-type {\n",
       "        vertical-align: middle;\n",
       "    }\n",
       "\n",
       "    .dataframe tbody tr th {\n",
       "        vertical-align: top;\n",
       "    }\n",
       "\n",
       "    .dataframe thead th {\n",
       "        text-align: right;\n",
       "    }\n",
       "</style>\n",
       "<table border=\"1\" class=\"dataframe\">\n",
       "  <thead>\n",
       "    <tr style=\"text-align: right;\">\n",
       "      <th></th>\n",
       "      <th>messages_included</th>\n",
       "      <th>mb_per_month_included</th>\n",
       "      <th>minutes_included</th>\n",
       "      <th>rub_monthly_fee</th>\n",
       "      <th>rub_per_gb</th>\n",
       "      <th>rub_per_message</th>\n",
       "      <th>rub_per_minute</th>\n",
       "      <th>tariff_name</th>\n",
       "    </tr>\n",
       "  </thead>\n",
       "  <tbody>\n",
       "    <tr>\n",
       "      <th>0</th>\n",
       "      <td>50</td>\n",
       "      <td>15360</td>\n",
       "      <td>500</td>\n",
       "      <td>550</td>\n",
       "      <td>200</td>\n",
       "      <td>3</td>\n",
       "      <td>3</td>\n",
       "      <td>smart</td>\n",
       "    </tr>\n",
       "    <tr>\n",
       "      <th>1</th>\n",
       "      <td>1000</td>\n",
       "      <td>30720</td>\n",
       "      <td>3000</td>\n",
       "      <td>1950</td>\n",
       "      <td>150</td>\n",
       "      <td>1</td>\n",
       "      <td>1</td>\n",
       "      <td>ultra</td>\n",
       "    </tr>\n",
       "  </tbody>\n",
       "</table>\n",
       "</div>"
      ],
      "text/plain": [
       "   messages_included  mb_per_month_included  minutes_included  \\\n",
       "0                 50                  15360               500   \n",
       "1               1000                  30720              3000   \n",
       "\n",
       "   rub_monthly_fee  rub_per_gb  rub_per_message  rub_per_minute tariff_name  \n",
       "0              550         200                3               3       smart  \n",
       "1             1950         150                1               1       ultra  "
      ]
     },
     "execution_count": 7,
     "metadata": {},
     "output_type": "execute_result"
    }
   ],
   "source": [
    "df_tariffs.head(5)"
   ]
  },
  {
   "cell_type": "code",
   "execution_count": 8,
   "id": "e2cdea27",
   "metadata": {},
   "outputs": [
    {
     "data": {
      "text/html": [
       "<div>\n",
       "<style scoped>\n",
       "    .dataframe tbody tr th:only-of-type {\n",
       "        vertical-align: middle;\n",
       "    }\n",
       "\n",
       "    .dataframe tbody tr th {\n",
       "        vertical-align: top;\n",
       "    }\n",
       "\n",
       "    .dataframe thead th {\n",
       "        text-align: right;\n",
       "    }\n",
       "</style>\n",
       "<table border=\"1\" class=\"dataframe\">\n",
       "  <thead>\n",
       "    <tr style=\"text-align: right;\">\n",
       "      <th></th>\n",
       "      <th>user_id</th>\n",
       "      <th>age</th>\n",
       "      <th>churn_date</th>\n",
       "      <th>city</th>\n",
       "      <th>first_name</th>\n",
       "      <th>last_name</th>\n",
       "      <th>reg_date</th>\n",
       "      <th>tariff</th>\n",
       "    </tr>\n",
       "  </thead>\n",
       "  <tbody>\n",
       "    <tr>\n",
       "      <th>0</th>\n",
       "      <td>1000</td>\n",
       "      <td>52</td>\n",
       "      <td>NaN</td>\n",
       "      <td>Краснодар</td>\n",
       "      <td>Рафаил</td>\n",
       "      <td>Верещагин</td>\n",
       "      <td>2018-05-25</td>\n",
       "      <td>ultra</td>\n",
       "    </tr>\n",
       "    <tr>\n",
       "      <th>1</th>\n",
       "      <td>1001</td>\n",
       "      <td>41</td>\n",
       "      <td>NaN</td>\n",
       "      <td>Москва</td>\n",
       "      <td>Иван</td>\n",
       "      <td>Ежов</td>\n",
       "      <td>2018-11-01</td>\n",
       "      <td>smart</td>\n",
       "    </tr>\n",
       "    <tr>\n",
       "      <th>2</th>\n",
       "      <td>1002</td>\n",
       "      <td>59</td>\n",
       "      <td>NaN</td>\n",
       "      <td>Стерлитамак</td>\n",
       "      <td>Евгений</td>\n",
       "      <td>Абрамович</td>\n",
       "      <td>2018-06-17</td>\n",
       "      <td>smart</td>\n",
       "    </tr>\n",
       "    <tr>\n",
       "      <th>3</th>\n",
       "      <td>1003</td>\n",
       "      <td>23</td>\n",
       "      <td>NaN</td>\n",
       "      <td>Москва</td>\n",
       "      <td>Белла</td>\n",
       "      <td>Белякова</td>\n",
       "      <td>2018-08-17</td>\n",
       "      <td>ultra</td>\n",
       "    </tr>\n",
       "    <tr>\n",
       "      <th>4</th>\n",
       "      <td>1004</td>\n",
       "      <td>68</td>\n",
       "      <td>NaN</td>\n",
       "      <td>Новокузнецк</td>\n",
       "      <td>Татьяна</td>\n",
       "      <td>Авдеенко</td>\n",
       "      <td>2018-05-14</td>\n",
       "      <td>ultra</td>\n",
       "    </tr>\n",
       "  </tbody>\n",
       "</table>\n",
       "</div>"
      ],
      "text/plain": [
       "   user_id  age churn_date         city first_name  last_name    reg_date  \\\n",
       "0     1000   52        NaN    Краснодар     Рафаил  Верещагин  2018-05-25   \n",
       "1     1001   41        NaN       Москва       Иван       Ежов  2018-11-01   \n",
       "2     1002   59        NaN  Стерлитамак    Евгений  Абрамович  2018-06-17   \n",
       "3     1003   23        NaN       Москва      Белла   Белякова  2018-08-17   \n",
       "4     1004   68        NaN  Новокузнецк    Татьяна   Авдеенко  2018-05-14   \n",
       "\n",
       "  tariff  \n",
       "0  ultra  \n",
       "1  smart  \n",
       "2  smart  \n",
       "3  ultra  \n",
       "4  ultra  "
      ]
     },
     "execution_count": 8,
     "metadata": {},
     "output_type": "execute_result"
    }
   ],
   "source": [
    "df_users.head(5)"
   ]
  },
  {
   "cell_type": "markdown",
   "id": "70d1fa8c",
   "metadata": {},
   "source": [
    "### Шаг 2. Подготовьте данные"
   ]
  },
  {
   "cell_type": "markdown",
   "id": "941a569c",
   "metadata": {},
   "source": [
    "2.1 df_users - Логично будет начать с таблицы пользователей."
   ]
  },
  {
   "cell_type": "code",
   "execution_count": 9,
   "id": "6746160e",
   "metadata": {},
   "outputs": [
    {
     "name": "stdout",
     "output_type": "stream",
     "text": [
      "500\n",
      "0\n"
     ]
    }
   ],
   "source": [
    "print(df_users['user_id'].count())\n",
    "print(df_users.duplicated().sum())"
   ]
  },
  {
   "cell_type": "markdown",
   "id": "d67aa603",
   "metadata": {},
   "source": [
    "Число строк мы уже видели, а число пользователей гораздо меньше."
   ]
  },
  {
   "cell_type": "markdown",
   "id": "8e7f9866",
   "metadata": {},
   "source": [
    "2.2 df_tariffs - тарифные планы. Без пропусков."
   ]
  },
  {
   "cell_type": "code",
   "execution_count": 10,
   "id": "209cd4f9",
   "metadata": {},
   "outputs": [
    {
     "data": {
      "text/plain": [
       "id              0\n",
       "message_date    0\n",
       "user_id         0\n",
       "dtype: int64"
      ]
     },
     "execution_count": 10,
     "metadata": {},
     "output_type": "execute_result"
    }
   ],
   "source": [
    "df_messages.isna().sum()"
   ]
  },
  {
   "cell_type": "markdown",
   "id": "6b0b44c6",
   "metadata": {},
   "source": [
    "2.3 df_messages - сообщения. Пропусков нет. Проверим на дубликаты."
   ]
  },
  {
   "cell_type": "code",
   "execution_count": 11,
   "id": "2b9131d0",
   "metadata": {},
   "outputs": [
    {
     "name": "stdout",
     "output_type": "stream",
     "text": [
      "0\n"
     ]
    }
   ],
   "source": [
    "print(df_messages.duplicated().sum())"
   ]
  },
  {
   "cell_type": "markdown",
   "id": "2c9b6204",
   "metadata": {},
   "source": [
    "2.4 df_internet - таблица расхода интернет трафика без нарушений."
   ]
  },
  {
   "cell_type": "markdown",
   "id": "0b952779",
   "metadata": {},
   "source": [
    "2.5 df_calls - Таблица звонки без нарушений. По условию нулевые значения в разговорах - это неотвеченные вызовы."
   ]
  },
  {
   "cell_type": "markdown",
   "id": "35f9c20d",
   "metadata": {},
   "source": [
    "Применим \"datetime\" ко всем таблицам. Так же сразу добавим колонку месяц."
   ]
  },
  {
   "cell_type": "code",
   "execution_count": 12,
   "id": "1fbf9e9f",
   "metadata": {},
   "outputs": [],
   "source": [
    "def date(df):\n",
    "    for col in df:\n",
    "        for column in col.columns:\n",
    "            if 'date' in column and column != 'churn_date':\n",
    "                col[column] = pd.to_datetime(col[column], format='%Y-%m-%d')\n",
    "                col['month'] = col[column].apply(lambda x: x.month)\n",
    "date([df_users, df_calls, df_messages, df_internet])"
   ]
  },
  {
   "cell_type": "code",
   "execution_count": 13,
   "id": "ebd65555",
   "metadata": {},
   "outputs": [
    {
     "data": {
      "text/html": [
       "<div>\n",
       "<style scoped>\n",
       "    .dataframe tbody tr th:only-of-type {\n",
       "        vertical-align: middle;\n",
       "    }\n",
       "\n",
       "    .dataframe tbody tr th {\n",
       "        vertical-align: top;\n",
       "    }\n",
       "\n",
       "    .dataframe thead th {\n",
       "        text-align: right;\n",
       "    }\n",
       "</style>\n",
       "<table border=\"1\" class=\"dataframe\">\n",
       "  <thead>\n",
       "    <tr style=\"text-align: right;\">\n",
       "      <th></th>\n",
       "      <th>user_id</th>\n",
       "      <th>age</th>\n",
       "      <th>churn_date</th>\n",
       "      <th>city</th>\n",
       "      <th>first_name</th>\n",
       "      <th>last_name</th>\n",
       "      <th>reg_date</th>\n",
       "      <th>tariff</th>\n",
       "      <th>month</th>\n",
       "    </tr>\n",
       "  </thead>\n",
       "  <tbody>\n",
       "    <tr>\n",
       "      <th>0</th>\n",
       "      <td>1000</td>\n",
       "      <td>52</td>\n",
       "      <td>NaN</td>\n",
       "      <td>Краснодар</td>\n",
       "      <td>Рафаил</td>\n",
       "      <td>Верещагин</td>\n",
       "      <td>2018-05-25</td>\n",
       "      <td>ultra</td>\n",
       "      <td>5</td>\n",
       "    </tr>\n",
       "    <tr>\n",
       "      <th>1</th>\n",
       "      <td>1001</td>\n",
       "      <td>41</td>\n",
       "      <td>NaN</td>\n",
       "      <td>Москва</td>\n",
       "      <td>Иван</td>\n",
       "      <td>Ежов</td>\n",
       "      <td>2018-11-01</td>\n",
       "      <td>smart</td>\n",
       "      <td>11</td>\n",
       "    </tr>\n",
       "    <tr>\n",
       "      <th>2</th>\n",
       "      <td>1002</td>\n",
       "      <td>59</td>\n",
       "      <td>NaN</td>\n",
       "      <td>Стерлитамак</td>\n",
       "      <td>Евгений</td>\n",
       "      <td>Абрамович</td>\n",
       "      <td>2018-06-17</td>\n",
       "      <td>smart</td>\n",
       "      <td>6</td>\n",
       "    </tr>\n",
       "    <tr>\n",
       "      <th>3</th>\n",
       "      <td>1003</td>\n",
       "      <td>23</td>\n",
       "      <td>NaN</td>\n",
       "      <td>Москва</td>\n",
       "      <td>Белла</td>\n",
       "      <td>Белякова</td>\n",
       "      <td>2018-08-17</td>\n",
       "      <td>ultra</td>\n",
       "      <td>8</td>\n",
       "    </tr>\n",
       "    <tr>\n",
       "      <th>4</th>\n",
       "      <td>1004</td>\n",
       "      <td>68</td>\n",
       "      <td>NaN</td>\n",
       "      <td>Новокузнецк</td>\n",
       "      <td>Татьяна</td>\n",
       "      <td>Авдеенко</td>\n",
       "      <td>2018-05-14</td>\n",
       "      <td>ultra</td>\n",
       "      <td>5</td>\n",
       "    </tr>\n",
       "  </tbody>\n",
       "</table>\n",
       "</div>"
      ],
      "text/plain": [
       "   user_id  age churn_date         city first_name  last_name   reg_date  \\\n",
       "0     1000   52        NaN    Краснодар     Рафаил  Верещагин 2018-05-25   \n",
       "1     1001   41        NaN       Москва       Иван       Ежов 2018-11-01   \n",
       "2     1002   59        NaN  Стерлитамак    Евгений  Абрамович 2018-06-17   \n",
       "3     1003   23        NaN       Москва      Белла   Белякова 2018-08-17   \n",
       "4     1004   68        NaN  Новокузнецк    Татьяна   Авдеенко 2018-05-14   \n",
       "\n",
       "  tariff  month  \n",
       "0  ultra      5  \n",
       "1  smart     11  \n",
       "2  smart      6  \n",
       "3  ultra      8  \n",
       "4  ultra      5  "
      ]
     },
     "execution_count": 13,
     "metadata": {},
     "output_type": "execute_result"
    }
   ],
   "source": [
    "df_users.head(5)"
   ]
  },
  {
   "cell_type": "code",
   "execution_count": 14,
   "id": "00867a29",
   "metadata": {},
   "outputs": [
    {
     "data": {
      "text/plain": [
       "<AxesSubplot:>"
      ]
     },
     "execution_count": 14,
     "metadata": {},
     "output_type": "execute_result"
    },
    {
     "data": {
      "image/png": "[encoded data removed]",
      "text/plain": [
       "<Figure size 360x504 with 1 Axes>"
      ]
     },
     "metadata": {
      "needs_background": "light"
     },
     "output_type": "display_data"
    }
   ],
   "source": [
    "df_users.boxplot(column = 'age', grid=True, figsize=(5, 7))"
   ]
  },
  {
   "cell_type": "code",
   "execution_count": 15,
   "id": "2540c7f7",
   "metadata": {},
   "outputs": [
    {
     "data": {
      "text/plain": [
       "<AxesSubplot:>"
      ]
     },
     "execution_count": 15,
     "metadata": {},
     "output_type": "execute_result"
    },
    {
     "data": {
      "image/png": "[encoded data removed]",
      "text/plain": [
       "<Figure size 360x504 with 1 Axes>"
      ]
     },
     "metadata": {
      "needs_background": "light"
     },
     "output_type": "display_data"
    }
   ],
   "source": [
    "df_internet.boxplot(column = 'mb_used', grid=True, figsize=(5, 7))"
   ]
  },
  {
   "cell_type": "code",
   "execution_count": 16,
   "id": "b8793885",
   "metadata": {},
   "outputs": [
    {
     "data": {
      "text/plain": [
       "<AxesSubplot:>"
      ]
     },
     "execution_count": 16,
     "metadata": {},
     "output_type": "execute_result"
    },
    {
     "data": {
      "image/png": "[encoded data removed]",
      "text/plain": [
       "<Figure size 360x504 with 1 Axes>"
      ]
     },
     "metadata": {
      "needs_background": "light"
     },
     "output_type": "display_data"
    }
   ],
   "source": [
    "df_calls.boxplot(column = 'duration', grid=True, figsize=(5, 7))"
   ]
  },
  {
   "cell_type": "markdown",
   "id": "7c2736b6",
   "metadata": {},
   "source": [
    "Проведя анализ на выбросы через ящик с усами нарушеий и критических значений не обнаружено."
   ]
  },
  {
   "cell_type": "markdown",
   "id": "7eb629ea",
   "metadata": {},
   "source": [
    "### Шаг 2.1 Посчитайте для каждого пользователя:"
   ]
  },
  {
   "cell_type": "markdown",
   "id": "b93df11a",
   "metadata": {},
   "source": [
    "#### 2.1.1 \n",
    "####          Количество сделанных звонков и израсходованных минут разговора по месяцам.\n",
    "####          Количество отправленных сообщений по месяцам.\n",
    "####          Oбъем израсходованного интернет-трафика по месяцам"
   ]
  },
  {
   "cell_type": "code",
   "execution_count": 17,
   "id": "d0efe149",
   "metadata": {},
   "outputs": [],
   "source": [
    "#df_calls['duration'] = np.ceil(df_calls['duration'])\n",
    "df_calls['duration'] = df_calls['duration'].astype('int')"
   ]
  },
  {
   "cell_type": "code",
   "execution_count": 18,
   "id": "9f739b07",
   "metadata": {},
   "outputs": [
    {
     "name": "stdout",
     "output_type": "stream",
     "text": [
      "(3214, 6)\n"
     ]
    }
   ],
   "source": [
    "#Создадим сводный датафрейм.\n",
    "calls = df_calls.groupby(['user_id', 'month'])['duration'].agg(['count', 'sum'])\n",
    "messages = df_messages.groupby(['user_id','month'])['id'].count()\n",
    "internet = df_internet.groupby(['user_id', 'month']).sum()['mb_used']\n",
    "df_uni= pd.concat([calls, messages, internet], axis=1)\n",
    "df_uni= df_uni.reset_index()\n",
    "df_uni.head()\n",
    "print(df_uni.shape)"
   ]
  },
  {
   "cell_type": "code",
   "execution_count": 19,
   "id": "713987d6",
   "metadata": {},
   "outputs": [
    {
     "data": {
      "text/html": [
       "<div>\n",
       "<style scoped>\n",
       "    .dataframe tbody tr th:only-of-type {\n",
       "        vertical-align: middle;\n",
       "    }\n",
       "\n",
       "    .dataframe tbody tr th {\n",
       "        vertical-align: top;\n",
       "    }\n",
       "\n",
       "    .dataframe thead th {\n",
       "        text-align: right;\n",
       "    }\n",
       "</style>\n",
       "<table border=\"1\" class=\"dataframe\">\n",
       "  <thead>\n",
       "    <tr style=\"text-align: right;\">\n",
       "      <th></th>\n",
       "      <th>user_id</th>\n",
       "      <th>month_x</th>\n",
       "      <th>count</th>\n",
       "      <th>sum</th>\n",
       "      <th>id</th>\n",
       "      <th>mb_used</th>\n",
       "      <th>age</th>\n",
       "      <th>churn_date</th>\n",
       "      <th>city</th>\n",
       "      <th>first_name</th>\n",
       "      <th>last_name</th>\n",
       "      <th>reg_date</th>\n",
       "      <th>tariff</th>\n",
       "      <th>month_y</th>\n",
       "    </tr>\n",
       "  </thead>\n",
       "  <tbody>\n",
       "    <tr>\n",
       "      <th>0</th>\n",
       "      <td>1000</td>\n",
       "      <td>5.0</td>\n",
       "      <td>22.0</td>\n",
       "      <td>142.0</td>\n",
       "      <td>22.0</td>\n",
       "      <td>2253.49</td>\n",
       "      <td>52</td>\n",
       "      <td>NaN</td>\n",
       "      <td>Краснодар</td>\n",
       "      <td>Рафаил</td>\n",
       "      <td>Верещагин</td>\n",
       "      <td>2018-05-25</td>\n",
       "      <td>ultra</td>\n",
       "      <td>5</td>\n",
       "    </tr>\n",
       "    <tr>\n",
       "      <th>1</th>\n",
       "      <td>1000</td>\n",
       "      <td>6.0</td>\n",
       "      <td>43.0</td>\n",
       "      <td>144.0</td>\n",
       "      <td>60.0</td>\n",
       "      <td>23233.77</td>\n",
       "      <td>52</td>\n",
       "      <td>NaN</td>\n",
       "      <td>Краснодар</td>\n",
       "      <td>Рафаил</td>\n",
       "      <td>Верещагин</td>\n",
       "      <td>2018-05-25</td>\n",
       "      <td>ultra</td>\n",
       "      <td>5</td>\n",
       "    </tr>\n",
       "    <tr>\n",
       "      <th>2</th>\n",
       "      <td>1000</td>\n",
       "      <td>7.0</td>\n",
       "      <td>47.0</td>\n",
       "      <td>299.0</td>\n",
       "      <td>75.0</td>\n",
       "      <td>14003.64</td>\n",
       "      <td>52</td>\n",
       "      <td>NaN</td>\n",
       "      <td>Краснодар</td>\n",
       "      <td>Рафаил</td>\n",
       "      <td>Верещагин</td>\n",
       "      <td>2018-05-25</td>\n",
       "      <td>ultra</td>\n",
       "      <td>5</td>\n",
       "    </tr>\n",
       "    <tr>\n",
       "      <th>3</th>\n",
       "      <td>1000</td>\n",
       "      <td>8.0</td>\n",
       "      <td>52.0</td>\n",
       "      <td>367.0</td>\n",
       "      <td>81.0</td>\n",
       "      <td>14055.93</td>\n",
       "      <td>52</td>\n",
       "      <td>NaN</td>\n",
       "      <td>Краснодар</td>\n",
       "      <td>Рафаил</td>\n",
       "      <td>Верещагин</td>\n",
       "      <td>2018-05-25</td>\n",
       "      <td>ultra</td>\n",
       "      <td>5</td>\n",
       "    </tr>\n",
       "    <tr>\n",
       "      <th>4</th>\n",
       "      <td>1000</td>\n",
       "      <td>9.0</td>\n",
       "      <td>58.0</td>\n",
       "      <td>421.0</td>\n",
       "      <td>57.0</td>\n",
       "      <td>14568.91</td>\n",
       "      <td>52</td>\n",
       "      <td>NaN</td>\n",
       "      <td>Краснодар</td>\n",
       "      <td>Рафаил</td>\n",
       "      <td>Верещагин</td>\n",
       "      <td>2018-05-25</td>\n",
       "      <td>ultra</td>\n",
       "      <td>5</td>\n",
       "    </tr>\n",
       "  </tbody>\n",
       "</table>\n",
       "</div>"
      ],
      "text/plain": [
       "   user_id  month_x  count    sum    id   mb_used  age churn_date       city  \\\n",
       "0     1000      5.0   22.0  142.0  22.0   2253.49   52        NaN  Краснодар   \n",
       "1     1000      6.0   43.0  144.0  60.0  23233.77   52        NaN  Краснодар   \n",
       "2     1000      7.0   47.0  299.0  75.0  14003.64   52        NaN  Краснодар   \n",
       "3     1000      8.0   52.0  367.0  81.0  14055.93   52        NaN  Краснодар   \n",
       "4     1000      9.0   58.0  421.0  57.0  14568.91   52        NaN  Краснодар   \n",
       "\n",
       "  first_name  last_name   reg_date tariff  month_y  \n",
       "0     Рафаил  Верещагин 2018-05-25  ultra        5  \n",
       "1     Рафаил  Верещагин 2018-05-25  ultra        5  \n",
       "2     Рафаил  Верещагин 2018-05-25  ultra        5  \n",
       "3     Рафаил  Верещагин 2018-05-25  ultra        5  \n",
       "4     Рафаил  Верещагин 2018-05-25  ultra        5  "
      ]
     },
     "execution_count": 19,
     "metadata": {},
     "output_type": "execute_result"
    }
   ],
   "source": [
    "df_u = df_uni.merge(df_users, on=['user_id'], how='outer')\n",
    "df_u.isna().sum()\n",
    "df_u.head()"
   ]
  },
  {
   "cell_type": "code",
   "execution_count": 20,
   "id": "f6ff7955",
   "metadata": {},
   "outputs": [
    {
     "name": "stdout",
     "output_type": "stream",
     "text": [
      "<class 'pandas.core.frame.DataFrame'>\n",
      "Int64Index: 3216 entries, 0 to 3215\n",
      "Data columns (total 14 columns):\n",
      " #   Column               Non-Null Count  Dtype         \n",
      "---  ------               --------------  -----         \n",
      " 0   User_id              3216 non-null   int64         \n",
      " 1   Месяц                3214 non-null   float64       \n",
      " 2   Кол-во звонков, шт.  3174 non-null   float64       \n",
      " 3   Звонки, мин.         3174 non-null   float64       \n",
      " 4   СМС, шт.             2717 non-null   float64       \n",
      " 5   Интернет, Мб         3203 non-null   float64       \n",
      " 6   Возраст              3216 non-null   int64         \n",
      " 7   Прекращение обсл     189 non-null    object        \n",
      " 8   Город                3216 non-null   object        \n",
      " 9   Имя                  3216 non-null   object        \n",
      " 10  Фамилия              3216 non-null   object        \n",
      " 11  Начало обсл          3216 non-null   datetime64[ns]\n",
      " 12  Тариф                3216 non-null   object        \n",
      " 13  month_y              3216 non-null   int64         \n",
      "dtypes: datetime64[ns](1), float64(5), int64(3), object(5)\n",
      "memory usage: 376.9+ KB\n"
     ]
    }
   ],
   "source": [
    "# Переименуем столбцы, что бы было понятно\n",
    "df_u.columns = ['User_id', 'Месяц', 'Кол-во звонков, шт.', 'Звонки, мин.', \n",
    "                            'СМС, шт.', 'Интернет, Мб', 'Возраст','Прекращение обсл','Город', 'Имя', 'Фамилия', 'Начало обсл', 'Тариф', 'month_y']\n",
    "df_u.info()"
   ]
  },
  {
   "cell_type": "markdown",
   "id": "f17f6049",
   "metadata": {},
   "source": [
    "В некоторых колонках есть пропуски - это значит, что абоненты не пользовались услугами в данном месяце."
   ]
  },
  {
   "cell_type": "code",
   "execution_count": 21,
   "id": "c988ace8",
   "metadata": {},
   "outputs": [],
   "source": [
    "# Честно заменим пропуски на нули.\n",
    "df_u = df_u.fillna(0)"
   ]
  },
  {
   "cell_type": "markdown",
   "id": "5fe30c8d",
   "metadata": {},
   "source": [
    "Так же у нас есть два победителя которые просто не стали пользоваться услугами оператора."
   ]
  },
  {
   "cell_type": "code",
   "execution_count": 22,
   "id": "64721e21",
   "metadata": {},
   "outputs": [],
   "source": [
    "df_u = df_u.drop(df_u[df_u['Месяц']==0].index)"
   ]
  },
  {
   "cell_type": "markdown",
   "id": "cfb37c6a",
   "metadata": {},
   "source": [
    "Bычтите бесплатный лимит из суммарного количества звонков, сообщений и интернет-трафика; остаток умножьте на значение из тарифного плана; прибавьте абонентскую плату, соответствующую тарифному плану"
   ]
  },
  {
   "cell_type": "code",
   "execution_count": 23,
   "id": "b49f866f",
   "metadata": {},
   "outputs": [
    {
     "data": {
      "text/html": [
       "<div>\n",
       "<style scoped>\n",
       "    .dataframe tbody tr th:only-of-type {\n",
       "        vertical-align: middle;\n",
       "    }\n",
       "\n",
       "    .dataframe tbody tr th {\n",
       "        vertical-align: top;\n",
       "    }\n",
       "\n",
       "    .dataframe thead th {\n",
       "        text-align: right;\n",
       "    }\n",
       "</style>\n",
       "<table border=\"1\" class=\"dataframe\">\n",
       "  <thead>\n",
       "    <tr style=\"text-align: right;\">\n",
       "      <th></th>\n",
       "      <th>User_id</th>\n",
       "      <th>Месяц</th>\n",
       "      <th>Кол-во звонков, шт.</th>\n",
       "      <th>Звонки, мин.</th>\n",
       "      <th>СМС, шт.</th>\n",
       "      <th>Интернет, Мб</th>\n",
       "      <th>Возраст</th>\n",
       "      <th>Прекращение обсл</th>\n",
       "      <th>Город</th>\n",
       "      <th>Имя</th>\n",
       "      <th>Фамилия</th>\n",
       "      <th>Начало обсл</th>\n",
       "      <th>Тариф</th>\n",
       "      <th>month_y</th>\n",
       "      <th>Абонентская плата</th>\n",
       "    </tr>\n",
       "  </thead>\n",
       "  <tbody>\n",
       "    <tr>\n",
       "      <th>0</th>\n",
       "      <td>1000</td>\n",
       "      <td>5.0</td>\n",
       "      <td>22.0</td>\n",
       "      <td>142.0</td>\n",
       "      <td>22.0</td>\n",
       "      <td>2253.49</td>\n",
       "      <td>52</td>\n",
       "      <td>0</td>\n",
       "      <td>Краснодар</td>\n",
       "      <td>Рафаил</td>\n",
       "      <td>Верещагин</td>\n",
       "      <td>2018-05-25</td>\n",
       "      <td>ultra</td>\n",
       "      <td>5</td>\n",
       "      <td>1950</td>\n",
       "    </tr>\n",
       "    <tr>\n",
       "      <th>1</th>\n",
       "      <td>1000</td>\n",
       "      <td>6.0</td>\n",
       "      <td>43.0</td>\n",
       "      <td>144.0</td>\n",
       "      <td>60.0</td>\n",
       "      <td>23233.77</td>\n",
       "      <td>52</td>\n",
       "      <td>0</td>\n",
       "      <td>Краснодар</td>\n",
       "      <td>Рафаил</td>\n",
       "      <td>Верещагин</td>\n",
       "      <td>2018-05-25</td>\n",
       "      <td>ultra</td>\n",
       "      <td>5</td>\n",
       "      <td>1950</td>\n",
       "    </tr>\n",
       "    <tr>\n",
       "      <th>2</th>\n",
       "      <td>1000</td>\n",
       "      <td>7.0</td>\n",
       "      <td>47.0</td>\n",
       "      <td>299.0</td>\n",
       "      <td>75.0</td>\n",
       "      <td>14003.64</td>\n",
       "      <td>52</td>\n",
       "      <td>0</td>\n",
       "      <td>Краснодар</td>\n",
       "      <td>Рафаил</td>\n",
       "      <td>Верещагин</td>\n",
       "      <td>2018-05-25</td>\n",
       "      <td>ultra</td>\n",
       "      <td>5</td>\n",
       "      <td>1950</td>\n",
       "    </tr>\n",
       "    <tr>\n",
       "      <th>3</th>\n",
       "      <td>1000</td>\n",
       "      <td>8.0</td>\n",
       "      <td>52.0</td>\n",
       "      <td>367.0</td>\n",
       "      <td>81.0</td>\n",
       "      <td>14055.93</td>\n",
       "      <td>52</td>\n",
       "      <td>0</td>\n",
       "      <td>Краснодар</td>\n",
       "      <td>Рафаил</td>\n",
       "      <td>Верещагин</td>\n",
       "      <td>2018-05-25</td>\n",
       "      <td>ultra</td>\n",
       "      <td>5</td>\n",
       "      <td>1950</td>\n",
       "    </tr>\n",
       "    <tr>\n",
       "      <th>4</th>\n",
       "      <td>1000</td>\n",
       "      <td>9.0</td>\n",
       "      <td>58.0</td>\n",
       "      <td>421.0</td>\n",
       "      <td>57.0</td>\n",
       "      <td>14568.91</td>\n",
       "      <td>52</td>\n",
       "      <td>0</td>\n",
       "      <td>Краснодар</td>\n",
       "      <td>Рафаил</td>\n",
       "      <td>Верещагин</td>\n",
       "      <td>2018-05-25</td>\n",
       "      <td>ultra</td>\n",
       "      <td>5</td>\n",
       "      <td>1950</td>\n",
       "    </tr>\n",
       "  </tbody>\n",
       "</table>\n",
       "</div>"
      ],
      "text/plain": [
       "   User_id  Месяц  Кол-во звонков, шт.  Звонки, мин.  СМС, шт.  Интернет, Мб  \\\n",
       "0     1000    5.0                 22.0         142.0      22.0       2253.49   \n",
       "1     1000    6.0                 43.0         144.0      60.0      23233.77   \n",
       "2     1000    7.0                 47.0         299.0      75.0      14003.64   \n",
       "3     1000    8.0                 52.0         367.0      81.0      14055.93   \n",
       "4     1000    9.0                 58.0         421.0      57.0      14568.91   \n",
       "\n",
       "   Возраст Прекращение обсл      Город     Имя    Фамилия Начало обсл  Тариф  \\\n",
       "0       52                0  Краснодар  Рафаил  Верещагин  2018-05-25  ultra   \n",
       "1       52                0  Краснодар  Рафаил  Верещагин  2018-05-25  ultra   \n",
       "2       52                0  Краснодар  Рафаил  Верещагин  2018-05-25  ultra   \n",
       "3       52                0  Краснодар  Рафаил  Верещагин  2018-05-25  ultra   \n",
       "4       52                0  Краснодар  Рафаил  Верещагин  2018-05-25  ultra   \n",
       "\n",
       "   month_y  Абонентская плата  \n",
       "0        5               1950  \n",
       "1        5               1950  \n",
       "2        5               1950  \n",
       "3        5               1950  \n",
       "4        5               1950  "
      ]
     },
     "execution_count": 23,
     "metadata": {},
     "output_type": "execute_result"
    }
   ],
   "source": [
    "tariff = {'smart': 550, 'ultra': 1950}\n",
    "df_u['Абонентская плата'] = df_u['Тариф'].map(tariff)\n",
    "df_u.head()"
   ]
  },
  {
   "cell_type": "code",
   "execution_count": 24,
   "id": "cae1186f",
   "metadata": {},
   "outputs": [],
   "source": [
    "# Функции для звонков, смс и интернета.\n",
    "def calls(row):\n",
    "    if row['Тариф'] == 'smart':\n",
    "        result = row['Звонки, мин.'] - 500\n",
    "        return np.where(result > 0, result, 0)\n",
    "    else:\n",
    "        result = row['Звонки, мин.'] - 3000\n",
    "        return np.where(result > 0, result, 0)\n",
    "    \n",
    "    \n",
    "def sms(row):\n",
    "    if row['Тариф'] == 'smart':\n",
    "        result = row['СМС, шт.'] - 50\n",
    "        return np.where(result > 0, result, 0)\n",
    "    else:\n",
    "        result =  row['СМС, шт.'] - 1000\n",
    "        return np.where(result > 0, result, 0)\n",
    "    \n",
    "\n",
    "def internet(row):\n",
    "    if row['Тариф'] == 'smart':\n",
    "        result = row['Интернет, Мб'] - 15 * 1024\n",
    "        return np.where(result > 0, result, 0)\n",
    "    else:\n",
    "        result = row['Интернет, Мб'] - 30 * 1024\n",
    "        return np.where(result > 0, result, 0)"
   ]
  },
  {
   "cell_type": "code",
   "execution_count": 25,
   "id": "204a1c6a",
   "metadata": {},
   "outputs": [],
   "source": [
    "# Функции для переплаты.\n",
    "def month_operation(row):\n",
    "    sum_operation = 0\n",
    "    if row['Тариф'] == 'smart':\n",
    "        sum_operation += np.ceil(row['Минут больше']) * 3\n",
    "        sum_operation += np.ceil(row['СМС больше']) * 3\n",
    "        sum_operation += np.ceil(row['Мб больше']/1024) * 200\n",
    "        return sum_operation\n",
    "    \n",
    "    else:\n",
    "        sum_operation += np.ceil(row['Минут больше']) * 1\n",
    "        sum_operation += np.ceil(row['СМС больше']) * 1\n",
    "        sum_operation += np.ceil(row['Мб больше']/1024) * 150\n",
    "        return sum_operation"
   ]
  },
  {
   "cell_type": "code",
   "execution_count": 26,
   "id": "de6d3333",
   "metadata": {},
   "outputs": [],
   "source": [
    "df_u['Минут больше'] = df_u.apply(calls, axis=1)\n",
    "df_u['СМС больше'] = df_u.apply(sms, axis=1)\n",
    "df_u['Мб больше'] = df_u.apply(internet, axis=1)\n",
    "\n",
    "df_u['Плата больше, руб.'] = df_u.apply(month_operation, axis=1)\n",
    "\n",
    "for column in ['Минут больше', 'Мб больше']:\n",
    "    df_u[column] = df_u[column].astype('float')\n",
    "\n",
    "for column in ['СМС больше', 'Плата больше, руб.']:\n",
    "    df_u[column] = df_u[column].astype('int')"
   ]
  },
  {
   "cell_type": "code",
   "execution_count": 27,
   "id": "aab8a566",
   "metadata": {},
   "outputs": [],
   "source": [
    "df_u['Звонки, мин.'] = df_u['Звонки, мин.'].astype('int')\n",
    "df_u['Минут больше'] = df_u['Минут больше'].astype('int')\n",
    "df_u['СМС, шт.'] = df_u['СМС, шт.'].astype('int')"
   ]
  },
  {
   "cell_type": "markdown",
   "id": "cf642276",
   "metadata": {},
   "source": [
    "Отдельное спасибо Кириллу Талалаеву - без этой подсказки (np.ceil) код ложиться не хотел. (Хоть подсказка была и не мне)"
   ]
  },
  {
   "cell_type": "code",
   "execution_count": 28,
   "id": "93064b15",
   "metadata": {},
   "outputs": [
    {
     "data": {
      "text/html": [
       "<div>\n",
       "<style scoped>\n",
       "    .dataframe tbody tr th:only-of-type {\n",
       "        vertical-align: middle;\n",
       "    }\n",
       "\n",
       "    .dataframe tbody tr th {\n",
       "        vertical-align: top;\n",
       "    }\n",
       "\n",
       "    .dataframe thead th {\n",
       "        text-align: right;\n",
       "    }\n",
       "</style>\n",
       "<table border=\"1\" class=\"dataframe\">\n",
       "  <thead>\n",
       "    <tr style=\"text-align: right;\">\n",
       "      <th></th>\n",
       "      <th>User_id</th>\n",
       "      <th>Месяц</th>\n",
       "      <th>Кол-во звонков, шт.</th>\n",
       "      <th>Звонки, мин.</th>\n",
       "      <th>СМС, шт.</th>\n",
       "      <th>Интернет, Мб</th>\n",
       "      <th>Возраст</th>\n",
       "      <th>Прекращение обсл</th>\n",
       "      <th>Город</th>\n",
       "      <th>Имя</th>\n",
       "      <th>Фамилия</th>\n",
       "      <th>Начало обсл</th>\n",
       "      <th>Тариф</th>\n",
       "      <th>month_y</th>\n",
       "      <th>Абонентская плата</th>\n",
       "      <th>Минут больше</th>\n",
       "      <th>СМС больше</th>\n",
       "      <th>Мб больше</th>\n",
       "      <th>Плата больше, руб.</th>\n",
       "    </tr>\n",
       "  </thead>\n",
       "  <tbody>\n",
       "    <tr>\n",
       "      <th>0</th>\n",
       "      <td>1000</td>\n",
       "      <td>5.0</td>\n",
       "      <td>22.0</td>\n",
       "      <td>142</td>\n",
       "      <td>22</td>\n",
       "      <td>2253.49</td>\n",
       "      <td>52</td>\n",
       "      <td>0</td>\n",
       "      <td>Краснодар</td>\n",
       "      <td>Рафаил</td>\n",
       "      <td>Верещагин</td>\n",
       "      <td>2018-05-25</td>\n",
       "      <td>ultra</td>\n",
       "      <td>5</td>\n",
       "      <td>1950</td>\n",
       "      <td>0</td>\n",
       "      <td>0</td>\n",
       "      <td>0.0</td>\n",
       "      <td>0</td>\n",
       "    </tr>\n",
       "    <tr>\n",
       "      <th>1</th>\n",
       "      <td>1000</td>\n",
       "      <td>6.0</td>\n",
       "      <td>43.0</td>\n",
       "      <td>144</td>\n",
       "      <td>60</td>\n",
       "      <td>23233.77</td>\n",
       "      <td>52</td>\n",
       "      <td>0</td>\n",
       "      <td>Краснодар</td>\n",
       "      <td>Рафаил</td>\n",
       "      <td>Верещагин</td>\n",
       "      <td>2018-05-25</td>\n",
       "      <td>ultra</td>\n",
       "      <td>5</td>\n",
       "      <td>1950</td>\n",
       "      <td>0</td>\n",
       "      <td>0</td>\n",
       "      <td>0.0</td>\n",
       "      <td>0</td>\n",
       "    </tr>\n",
       "    <tr>\n",
       "      <th>2</th>\n",
       "      <td>1000</td>\n",
       "      <td>7.0</td>\n",
       "      <td>47.0</td>\n",
       "      <td>299</td>\n",
       "      <td>75</td>\n",
       "      <td>14003.64</td>\n",
       "      <td>52</td>\n",
       "      <td>0</td>\n",
       "      <td>Краснодар</td>\n",
       "      <td>Рафаил</td>\n",
       "      <td>Верещагин</td>\n",
       "      <td>2018-05-25</td>\n",
       "      <td>ultra</td>\n",
       "      <td>5</td>\n",
       "      <td>1950</td>\n",
       "      <td>0</td>\n",
       "      <td>0</td>\n",
       "      <td>0.0</td>\n",
       "      <td>0</td>\n",
       "    </tr>\n",
       "    <tr>\n",
       "      <th>3</th>\n",
       "      <td>1000</td>\n",
       "      <td>8.0</td>\n",
       "      <td>52.0</td>\n",
       "      <td>367</td>\n",
       "      <td>81</td>\n",
       "      <td>14055.93</td>\n",
       "      <td>52</td>\n",
       "      <td>0</td>\n",
       "      <td>Краснодар</td>\n",
       "      <td>Рафаил</td>\n",
       "      <td>Верещагин</td>\n",
       "      <td>2018-05-25</td>\n",
       "      <td>ultra</td>\n",
       "      <td>5</td>\n",
       "      <td>1950</td>\n",
       "      <td>0</td>\n",
       "      <td>0</td>\n",
       "      <td>0.0</td>\n",
       "      <td>0</td>\n",
       "    </tr>\n",
       "    <tr>\n",
       "      <th>4</th>\n",
       "      <td>1000</td>\n",
       "      <td>9.0</td>\n",
       "      <td>58.0</td>\n",
       "      <td>421</td>\n",
       "      <td>57</td>\n",
       "      <td>14568.91</td>\n",
       "      <td>52</td>\n",
       "      <td>0</td>\n",
       "      <td>Краснодар</td>\n",
       "      <td>Рафаил</td>\n",
       "      <td>Верещагин</td>\n",
       "      <td>2018-05-25</td>\n",
       "      <td>ultra</td>\n",
       "      <td>5</td>\n",
       "      <td>1950</td>\n",
       "      <td>0</td>\n",
       "      <td>0</td>\n",
       "      <td>0.0</td>\n",
       "      <td>0</td>\n",
       "    </tr>\n",
       "  </tbody>\n",
       "</table>\n",
       "</div>"
      ],
      "text/plain": [
       "   User_id  Месяц  Кол-во звонков, шт.  Звонки, мин.  СМС, шт.  Интернет, Мб  \\\n",
       "0     1000    5.0                 22.0           142        22       2253.49   \n",
       "1     1000    6.0                 43.0           144        60      23233.77   \n",
       "2     1000    7.0                 47.0           299        75      14003.64   \n",
       "3     1000    8.0                 52.0           367        81      14055.93   \n",
       "4     1000    9.0                 58.0           421        57      14568.91   \n",
       "\n",
       "   Возраст Прекращение обсл      Город     Имя    Фамилия Начало обсл  Тариф  \\\n",
       "0       52                0  Краснодар  Рафаил  Верещагин  2018-05-25  ultra   \n",
       "1       52                0  Краснодар  Рафаил  Верещагин  2018-05-25  ultra   \n",
       "2       52                0  Краснодар  Рафаил  Верещагин  2018-05-25  ultra   \n",
       "3       52                0  Краснодар  Рафаил  Верещагин  2018-05-25  ultra   \n",
       "4       52                0  Краснодар  Рафаил  Верещагин  2018-05-25  ultra   \n",
       "\n",
       "   month_y  Абонентская плата  Минут больше  СМС больше  Мб больше  \\\n",
       "0        5               1950             0           0        0.0   \n",
       "1        5               1950             0           0        0.0   \n",
       "2        5               1950             0           0        0.0   \n",
       "3        5               1950             0           0        0.0   \n",
       "4        5               1950             0           0        0.0   \n",
       "\n",
       "   Плата больше, руб.  \n",
       "0                   0  \n",
       "1                   0  \n",
       "2                   0  \n",
       "3                   0  \n",
       "4                   0  "
      ]
     },
     "execution_count": 28,
     "metadata": {},
     "output_type": "execute_result"
    }
   ],
   "source": [
    "df_u.head()"
   ]
  },
  {
   "cell_type": "code",
   "execution_count": 29,
   "id": "fbf22ed9",
   "metadata": {},
   "outputs": [
    {
     "name": "stdout",
     "output_type": "stream",
     "text": [
      "Общая выручка по тарифному плану Ultra 1920750\n",
      "Общая выручка по тарифному плану Smart 1225950\n"
     ]
    }
   ],
   "source": [
    "print('Общая выручка по тарифному плану Ultra', (df_u['Тариф']=='ultra').sum()*1950)\n",
    "print('Общая выручка по тарифному плану Smart', (df_u['Тариф']=='smart').sum()*550)"
   ]
  },
  {
   "cell_type": "markdown",
   "id": "2a42ae5e",
   "metadata": {},
   "source": [
    "И без графиков понятно, что базовая выручка по тарифному плану \"Ультра\" больше почти на половину."
   ]
  },
  {
   "cell_type": "markdown",
   "id": "94379a3d",
   "metadata": {},
   "source": [
    "Посчитаем итоговую сумму."
   ]
  },
  {
   "cell_type": "code",
   "execution_count": 30,
   "id": "7e54f771",
   "metadata": {},
   "outputs": [
    {
     "data": {
      "text/html": [
       "<div>\n",
       "<style scoped>\n",
       "    .dataframe tbody tr th:only-of-type {\n",
       "        vertical-align: middle;\n",
       "    }\n",
       "\n",
       "    .dataframe tbody tr th {\n",
       "        vertical-align: top;\n",
       "    }\n",
       "\n",
       "    .dataframe thead th {\n",
       "        text-align: right;\n",
       "    }\n",
       "</style>\n",
       "<table border=\"1\" class=\"dataframe\">\n",
       "  <thead>\n",
       "    <tr style=\"text-align: right;\">\n",
       "      <th></th>\n",
       "      <th>User_id</th>\n",
       "      <th>Месяц</th>\n",
       "      <th>Кол-во звонков, шт.</th>\n",
       "      <th>Звонки, мин.</th>\n",
       "      <th>СМС, шт.</th>\n",
       "      <th>Интернет, Мб</th>\n",
       "      <th>Возраст</th>\n",
       "      <th>Прекращение обсл</th>\n",
       "      <th>Город</th>\n",
       "      <th>Имя</th>\n",
       "      <th>Фамилия</th>\n",
       "      <th>Начало обсл</th>\n",
       "      <th>Тариф</th>\n",
       "      <th>month_y</th>\n",
       "      <th>Абонентская плата</th>\n",
       "      <th>Минут больше</th>\n",
       "      <th>СМС больше</th>\n",
       "      <th>Мб больше</th>\n",
       "      <th>Плата больше, руб.</th>\n",
       "      <th>Итоговая сумма, руб</th>\n",
       "    </tr>\n",
       "  </thead>\n",
       "  <tbody>\n",
       "    <tr>\n",
       "      <th>0</th>\n",
       "      <td>1000</td>\n",
       "      <td>5.0</td>\n",
       "      <td>22.0</td>\n",
       "      <td>142</td>\n",
       "      <td>22</td>\n",
       "      <td>2253.49</td>\n",
       "      <td>52</td>\n",
       "      <td>0</td>\n",
       "      <td>Краснодар</td>\n",
       "      <td>Рафаил</td>\n",
       "      <td>Верещагин</td>\n",
       "      <td>2018-05-25</td>\n",
       "      <td>ultra</td>\n",
       "      <td>5</td>\n",
       "      <td>1950</td>\n",
       "      <td>0</td>\n",
       "      <td>0</td>\n",
       "      <td>0.0</td>\n",
       "      <td>0</td>\n",
       "      <td>1950</td>\n",
       "    </tr>\n",
       "    <tr>\n",
       "      <th>1</th>\n",
       "      <td>1000</td>\n",
       "      <td>6.0</td>\n",
       "      <td>43.0</td>\n",
       "      <td>144</td>\n",
       "      <td>60</td>\n",
       "      <td>23233.77</td>\n",
       "      <td>52</td>\n",
       "      <td>0</td>\n",
       "      <td>Краснодар</td>\n",
       "      <td>Рафаил</td>\n",
       "      <td>Верещагин</td>\n",
       "      <td>2018-05-25</td>\n",
       "      <td>ultra</td>\n",
       "      <td>5</td>\n",
       "      <td>1950</td>\n",
       "      <td>0</td>\n",
       "      <td>0</td>\n",
       "      <td>0.0</td>\n",
       "      <td>0</td>\n",
       "      <td>1950</td>\n",
       "    </tr>\n",
       "    <tr>\n",
       "      <th>2</th>\n",
       "      <td>1000</td>\n",
       "      <td>7.0</td>\n",
       "      <td>47.0</td>\n",
       "      <td>299</td>\n",
       "      <td>75</td>\n",
       "      <td>14003.64</td>\n",
       "      <td>52</td>\n",
       "      <td>0</td>\n",
       "      <td>Краснодар</td>\n",
       "      <td>Рафаил</td>\n",
       "      <td>Верещагин</td>\n",
       "      <td>2018-05-25</td>\n",
       "      <td>ultra</td>\n",
       "      <td>5</td>\n",
       "      <td>1950</td>\n",
       "      <td>0</td>\n",
       "      <td>0</td>\n",
       "      <td>0.0</td>\n",
       "      <td>0</td>\n",
       "      <td>1950</td>\n",
       "    </tr>\n",
       "    <tr>\n",
       "      <th>3</th>\n",
       "      <td>1000</td>\n",
       "      <td>8.0</td>\n",
       "      <td>52.0</td>\n",
       "      <td>367</td>\n",
       "      <td>81</td>\n",
       "      <td>14055.93</td>\n",
       "      <td>52</td>\n",
       "      <td>0</td>\n",
       "      <td>Краснодар</td>\n",
       "      <td>Рафаил</td>\n",
       "      <td>Верещагин</td>\n",
       "      <td>2018-05-25</td>\n",
       "      <td>ultra</td>\n",
       "      <td>5</td>\n",
       "      <td>1950</td>\n",
       "      <td>0</td>\n",
       "      <td>0</td>\n",
       "      <td>0.0</td>\n",
       "      <td>0</td>\n",
       "      <td>1950</td>\n",
       "    </tr>\n",
       "    <tr>\n",
       "      <th>4</th>\n",
       "      <td>1000</td>\n",
       "      <td>9.0</td>\n",
       "      <td>58.0</td>\n",
       "      <td>421</td>\n",
       "      <td>57</td>\n",
       "      <td>14568.91</td>\n",
       "      <td>52</td>\n",
       "      <td>0</td>\n",
       "      <td>Краснодар</td>\n",
       "      <td>Рафаил</td>\n",
       "      <td>Верещагин</td>\n",
       "      <td>2018-05-25</td>\n",
       "      <td>ultra</td>\n",
       "      <td>5</td>\n",
       "      <td>1950</td>\n",
       "      <td>0</td>\n",
       "      <td>0</td>\n",
       "      <td>0.0</td>\n",
       "      <td>0</td>\n",
       "      <td>1950</td>\n",
       "    </tr>\n",
       "  </tbody>\n",
       "</table>\n",
       "</div>"
      ],
      "text/plain": [
       "   User_id  Месяц  Кол-во звонков, шт.  Звонки, мин.  СМС, шт.  Интернет, Мб  \\\n",
       "0     1000    5.0                 22.0           142        22       2253.49   \n",
       "1     1000    6.0                 43.0           144        60      23233.77   \n",
       "2     1000    7.0                 47.0           299        75      14003.64   \n",
       "3     1000    8.0                 52.0           367        81      14055.93   \n",
       "4     1000    9.0                 58.0           421        57      14568.91   \n",
       "\n",
       "   Возраст Прекращение обсл      Город     Имя    Фамилия Начало обсл  Тариф  \\\n",
       "0       52                0  Краснодар  Рафаил  Верещагин  2018-05-25  ultra   \n",
       "1       52                0  Краснодар  Рафаил  Верещагин  2018-05-25  ultra   \n",
       "2       52                0  Краснодар  Рафаил  Верещагин  2018-05-25  ultra   \n",
       "3       52                0  Краснодар  Рафаил  Верещагин  2018-05-25  ultra   \n",
       "4       52                0  Краснодар  Рафаил  Верещагин  2018-05-25  ultra   \n",
       "\n",
       "   month_y  Абонентская плата  Минут больше  СМС больше  Мб больше  \\\n",
       "0        5               1950             0           0        0.0   \n",
       "1        5               1950             0           0        0.0   \n",
       "2        5               1950             0           0        0.0   \n",
       "3        5               1950             0           0        0.0   \n",
       "4        5               1950             0           0        0.0   \n",
       "\n",
       "   Плата больше, руб.  Итоговая сумма, руб  \n",
       "0                   0                 1950  \n",
       "1                   0                 1950  \n",
       "2                   0                 1950  \n",
       "3                   0                 1950  \n",
       "4                   0                 1950  "
      ]
     },
     "execution_count": 30,
     "metadata": {},
     "output_type": "execute_result"
    }
   ],
   "source": [
    "df_u['Итоговая сумма, руб'] = df_u['Абонентская плата'] + df_u['Плата больше, руб.']\n",
    "df_u.head()"
   ]
  },
  {
   "cell_type": "markdown",
   "id": "44481962",
   "metadata": {},
   "source": [
    "Сейчас мы посчитаем общую прибыль, за весь период для тех, кто немного не рассчитал свои ресурсы."
   ]
  },
  {
   "cell_type": "code",
   "execution_count": 31,
   "id": "241ee064",
   "metadata": {},
   "outputs": [
    {
     "name": "stdout",
     "output_type": "stream",
     "text": [
      "1635235\n"
     ]
    }
   ],
   "source": [
    "info = df_u['Итоговая сумма, руб'].sum() - df_u['Абонентская плата'].sum()\n",
    "print(info)"
   ]
  },
  {
   "cell_type": "code",
   "execution_count": 32,
   "id": "ca9c311e",
   "metadata": {},
   "outputs": [
    {
     "data": {
      "text/plain": [
       "<AxesSubplot:ylabel='Frequency'>"
      ]
     },
     "execution_count": 32,
     "metadata": {},
     "output_type": "execute_result"
    },
    {
     "data": {
      "image/png": "[encoded data removed]",
      "text/plain": [
       "<Figure size 432x288 with 1 Axes>"
      ]
     },
     "metadata": {
      "needs_background": "light"
     },
     "output_type": "display_data"
    }
   ],
   "source": [
    "a= df_u[(df_u['Тариф'] == 'ultra') & \n",
    "                               (df_u['Плата больше, руб.']> 0)]['Плата больше, руб.']\n",
    "a.plot(kind='hist', bins=200)"
   ]
  },
  {
   "cell_type": "code",
   "execution_count": 33,
   "id": "a1c363ef",
   "metadata": {},
   "outputs": [
    {
     "data": {
      "text/plain": [
       "<AxesSubplot:ylabel='Frequency'>"
      ]
     },
     "execution_count": 33,
     "metadata": {},
     "output_type": "execute_result"
    },
    {
     "data": {
      "image/png": "[encoded data removed]",
      "text/plain": [
       "<Figure size 432x288 with 1 Axes>"
      ]
     },
     "metadata": {
      "needs_background": "light"
     },
     "output_type": "display_data"
    }
   ],
   "source": [
    "b= df_u[(df_u['Тариф'] == 'smart') & \n",
    "                               (df_u['Плата больше, руб.']> 0)]['Плата больше, руб.']\n",
    "b.plot(kind='hist', bins=200)"
   ]
  },
  {
   "cell_type": "code",
   "execution_count": 34,
   "id": "a50eef8a",
   "metadata": {},
   "outputs": [
    {
     "data": {
      "text/plain": [
       "<AxesSubplot:ylabel='Frequency'>"
      ]
     },
     "execution_count": 34,
     "metadata": {},
     "output_type": "execute_result"
    },
    {
     "data": {
      "image/png": "[encoded data removed]",
      "text/plain": [
       "<Figure size 432x288 with 1 Axes>"
      ]
     },
     "metadata": {
      "needs_background": "light"
     },
     "output_type": "display_data"
    }
   ],
   "source": [
    "c= df_u[(df_u['Тариф'] == 'smart') &  \n",
    "                               (df_u['Плата больше, руб.']> 0)&\n",
    "                               (df_u['Плата больше, руб.']< 1500)]['Плата больше, руб.']\n",
    "c.plot(kind='hist', bins=200)"
   ]
  },
  {
   "cell_type": "markdown",
   "id": "ea799f39",
   "metadata": {},
   "source": [
    "#### Вывод: \n",
    "    По итогу видим, что в тарифе \"Ультра\" есть переплаты и большинство делает их до 500 рублей, затем этот показатель снижается и после 2000 становится почти редким - думаю оператору стоит разработать VIP тариф. Всё таки отдавать сумму приближающуюся к 5 тысячам рублей за связь, это расточительно на мой взгляд.\n",
    "    В графике \"Смарт\" видим, что большое колличество переплат происходит до 1500 рублей. Это говорит только об одном, что абоненты докупают 5 гигабайт и это видно из графика \"с\". Незначительному большинству нехватает 2 гигабайта трафика, а после 1000 рублей переплаты сразу видно просадка. Наблюдая нижние кроны графика \"с\" можно сделать вывод, что 500 минут тоже достаточно не всем - этот вывод можно сделать на фоне того, что на сегодняшний день большинство сообщений проходит через whatssapp, telegramm и twitter."
   ]
  },
  {
   "cell_type": "markdown",
   "id": "3eb14982",
   "metadata": {},
   "source": [
    "### Шаг 3. Проанализируйте данные"
   ]
  },
  {
   "cell_type": "markdown",
   "id": "6d62c503",
   "metadata": {},
   "source": [
    "   Опишите поведение клиентов оператора, исходя из выборки. Сколько минут разговора, сколько сообщений и какой объём интернет трафика требуется пользователям каждого тарифа в месяц? Посчитайте среднее количество, дисперсию и стандартное отклонение. Постройте гистограммы. Опишите распределения."
   ]
  },
  {
   "cell_type": "code",
   "execution_count": 35,
   "id": "ec388fd8",
   "metadata": {},
   "outputs": [
    {
     "name": "stdout",
     "output_type": "stream",
     "text": [
      "        count         mean         std     min     25%     50%     75%     max\n",
      "Тариф                                                                         \n",
      "smart  2229.0  1230.522656  785.489800   550.0   550.0   950.0  1667.0  6425.0\n",
      "ultra   985.0  2070.152284  376.187114  1950.0  1950.0  1950.0  1950.0  4800.0\n",
      "AxesSubplot(0.125,0.125;0.775x0.755)\n",
      "Тариф\n",
      "smart    616994\n",
      "ultra    141516\n",
      "Name: Итоговая сумма, руб, dtype: int32\n"
     ]
    },
    {
     "data": {
      "image/png": "[encoded data removed]",
      "text/plain": [
       "<Figure size 432x288 with 1 Axes>"
      ]
     },
     "metadata": {
      "needs_background": "light"
     },
     "output_type": "display_data"
    }
   ],
   "source": [
    "print(df_u.groupby('Тариф')['Итоговая сумма, руб'].describe())\n",
    "print(df_u.groupby('Тариф')['Итоговая сумма, руб'].describe().boxplot(vert=False))\n",
    "\n",
    "filter = df_u.groupby('Тариф')['Итоговая сумма, руб']\n",
    "dispersion = filter.var()\n",
    "print(dispersion.astype('int'))"
   ]
  },
  {
   "cell_type": "code",
   "execution_count": 36,
   "id": "fbbd4ea4",
   "metadata": {},
   "outputs": [
    {
     "name": "stdout",
     "output_type": "stream",
     "text": [
      "AxesSubplot(0.125,0.125;0.775x0.755)\n",
      "Тариф\n",
      "smart     34462496\n",
      "ultra    101751013\n",
      "Name: Интернет, Мб, dtype: int32\n"
     ]
    },
    {
     "data": {
      "image/png": "[encoded data removed]",
      "text/plain": [
       "<Figure size 432x288 with 1 Axes>"
      ]
     },
     "metadata": {
      "needs_background": "light"
     },
     "output_type": "display_data"
    }
   ],
   "source": [
    "df_u.groupby('Тариф')['Интернет, Мб'].describe()\n",
    "print(df_u.groupby('Тариф')['Интернет, Мб'].describe().boxplot(vert=False))\n",
    "\n",
    "filter = df_u.groupby('Тариф')['Интернет, Мб']\n",
    "dispersion = filter.var()\n",
    "print(dispersion.astype('int'))"
   ]
  },
  {
   "cell_type": "code",
   "execution_count": 37,
   "id": "d9c24e25",
   "metadata": {},
   "outputs": [
    {
     "name": "stdout",
     "output_type": "stream",
     "text": [
      "AxesSubplot(0.125,0.125;0.775x0.755)\n",
      "Тариф\n",
      "smart     796\n",
      "ultra    2285\n",
      "Name: СМС, шт., dtype: int32\n"
     ]
    },
    {
     "data": {
      "image/png": "[encoded data removed]",
      "text/plain": [
       "<Figure size 432x288 with 1 Axes>"
      ]
     },
     "metadata": {
      "needs_background": "light"
     },
     "output_type": "display_data"
    }
   ],
   "source": [
    "df_u.groupby('Тариф')['СМС, шт.'].describe()\n",
    "print(df_u.groupby('Тариф')['СМС, шт.'].describe().boxplot(vert=False))\n",
    "\n",
    "filter = df_u.groupby('Тариф')['СМС, шт.']\n",
    "dispersion = filter.var()\n",
    "print(dispersion.astype('int'))"
   ]
  },
  {
   "cell_type": "code",
   "execution_count": 38,
   "id": "acfc7a10",
   "metadata": {},
   "outputs": [
    {
     "name": "stdout",
     "output_type": "stream",
     "text": [
      "AxesSubplot(0.125,0.125;0.775x0.755)\n",
      "Тариф\n",
      "smart    28860\n",
      "ultra    79896\n",
      "Name: Звонки, мин., dtype: int32\n"
     ]
    },
    {
     "data": {
      "image/png": "[encoded data removed]",
      "text/plain": [
       "<Figure size 432x288 with 1 Axes>"
      ]
     },
     "metadata": {
      "needs_background": "light"
     },
     "output_type": "display_data"
    }
   ],
   "source": [
    "df_u.groupby('Тариф')['Звонки, мин.'].describe()\n",
    "print(df_u.groupby('Тариф')['Звонки, мин.'].describe().boxplot(vert=False))\n",
    "\n",
    "filter = df_u.groupby('Тариф')['Звонки, мин.']\n",
    "dispersion = filter.var()\n",
    "print(dispersion.astype('int'))"
   ]
  },
  {
   "cell_type": "markdown",
   "id": "3694e7df",
   "metadata": {},
   "source": [
    "Гистограммы показывают в верхнем значении данные тарифа \"Ультра\", в нижнем \"Смарт\". По сути мы видим в медианах усреднённые по обоим тарифам - на основе этих гистограмм можно сконструировать обобщённый тариф. Так же если систематически проводить такие срезы можно увидеть растёт ли потребление заложеных продуктовых норм. К примеру в 2009 году потребление интернета было существенно меньше, нежели в 2018 - этого нет в нашей сегодняшней работе, но в полне актуально. Другими словами продукт можно прогнозировать к примеру на 3-5 лет и закладывать нагрузку на сеть в перспективе. Точно так же увеличивая цену за трафик и на продукт в целом можно косвенно контролировать нагрузки на сеть. "
   ]
  },
  {
   "cell_type": "code",
   "execution_count": 39,
   "id": "83aad4c3",
   "metadata": {},
   "outputs": [
    {
     "data": {
      "text/html": [
       "<div>\n",
       "<style scoped>\n",
       "    .dataframe tbody tr th:only-of-type {\n",
       "        vertical-align: middle;\n",
       "    }\n",
       "\n",
       "    .dataframe tbody tr th {\n",
       "        vertical-align: top;\n",
       "    }\n",
       "\n",
       "    .dataframe thead th {\n",
       "        text-align: right;\n",
       "    }\n",
       "</style>\n",
       "<table border=\"1\" class=\"dataframe\">\n",
       "  <thead>\n",
       "    <tr style=\"text-align: right;\">\n",
       "      <th></th>\n",
       "      <th>count</th>\n",
       "      <th>mean</th>\n",
       "      <th>std</th>\n",
       "      <th>min</th>\n",
       "      <th>25%</th>\n",
       "      <th>50%</th>\n",
       "      <th>75%</th>\n",
       "      <th>max</th>\n",
       "    </tr>\n",
       "    <tr>\n",
       "      <th>Тариф</th>\n",
       "      <th></th>\n",
       "      <th></th>\n",
       "      <th></th>\n",
       "      <th></th>\n",
       "      <th></th>\n",
       "      <th></th>\n",
       "      <th></th>\n",
       "      <th></th>\n",
       "    </tr>\n",
       "  </thead>\n",
       "  <tbody>\n",
       "    <tr>\n",
       "      <th>smart</th>\n",
       "      <td>2229.0</td>\n",
       "      <td>371.444145</td>\n",
       "      <td>169.885089</td>\n",
       "      <td>0.0</td>\n",
       "      <td>251.0</td>\n",
       "      <td>375.0</td>\n",
       "      <td>485.0</td>\n",
       "      <td>1275.0</td>\n",
       "    </tr>\n",
       "    <tr>\n",
       "      <th>ultra</th>\n",
       "      <td>985.0</td>\n",
       "      <td>467.923858</td>\n",
       "      <td>282.660479</td>\n",
       "      <td>0.0</td>\n",
       "      <td>253.0</td>\n",
       "      <td>458.0</td>\n",
       "      <td>670.0</td>\n",
       "      <td>1484.0</td>\n",
       "    </tr>\n",
       "  </tbody>\n",
       "</table>\n",
       "</div>"
      ],
      "text/plain": [
       "        count        mean         std  min    25%    50%    75%     max\n",
       "Тариф                                                                  \n",
       "smart  2229.0  371.444145  169.885089  0.0  251.0  375.0  485.0  1275.0\n",
       "ultra   985.0  467.923858  282.660479  0.0  253.0  458.0  670.0  1484.0"
      ]
     },
     "execution_count": 39,
     "metadata": {},
     "output_type": "execute_result"
    }
   ],
   "source": [
    "# код ревьюера\n",
    "df_u.groupby('Тариф')['Звонки, мин.'].describe()"
   ]
  },
  {
   "cell_type": "raw",
   "id": "6f126a7b",
   "metadata": {},
   "source": [
    "Вывод: \n",
    "    Для тарифа \"Смарт\"  средняя Итоговая плата: 1257\n",
    "                        стандартное отклонение: 800\n",
    "                                     дисперсия: 641402\n",
    "                        \n",
    "         средняя Потребление интернет- трафика: 16201 мб\n",
    "                        стандартное отклонение: 5879 мб\n",
    "                                     дисперсия: 34564843 мб\n",
    "                        \n",
    "               среднее кол_во отправленных Смс: 33\n",
    "                        стандартное отклонение: 28\n",
    "                                     дисперсия: 796\n",
    "                        \n",
    "                          среднее Звонков, мин: 394\n",
    "                        стандартное отклонение: 180\n",
    "                                     дисперсия: 32441\n",
    "                        \n",
    "    \n",
    "    Для тарифа \"Ультра\" средняя Итоговая плата: 2070\n",
    "                        стандартное отклонение: 376\n",
    "                                     дисперсия: 141387\n",
    "                        \n",
    "         средняя Потребление интернет- трафика: 19449 мб\n",
    "                        стандартное отклонение: 10101 мб\n",
    "                                     дисперсия: 10203212 9мб\n",
    "                         \n",
    "               среднее кол_во отправленных Смс: 49\n",
    "                        стандартное отклонение: 47\n",
    "                                     дисперсия: 2285\n",
    "                        \n",
    "                          среднее Звонков, мин: 496\n",
    "                        стандартное отклонение: 300\n",
    "                                     дисперсия: 90101"
   ]
  },
  {
   "cell_type": "code",
   "execution_count": 40,
   "id": "1c8b68dd",
   "metadata": {},
   "outputs": [
    {
     "data": {
      "text/plain": [
       "Тариф\n",
       "smart    AxesSubplot(0.125,0.125;0.775x0.755)\n",
       "ultra    AxesSubplot(0.125,0.125;0.775x0.755)\n",
       "Name: Итоговая сумма, руб, dtype: object"
      ]
     },
     "execution_count": 40,
     "metadata": {},
     "output_type": "execute_result"
    },
    {
     "data": {
      "image/png": "[encoded data removed]",
      "text/plain": [
       "<Figure size 720x576 with 1 Axes>"
      ]
     },
     "metadata": {
      "needs_background": "light"
     },
     "output_type": "display_data"
    }
   ],
   "source": [
    "df_u.groupby('Тариф')['Итоговая сумма, руб'].plot.hist(bins=20, alpha=0.5, figsize=(10, 8))\n"
   ]
  },
  {
   "cell_type": "code",
   "execution_count": 41,
   "id": "c00bc43b",
   "metadata": {},
   "outputs": [
    {
     "data": {
      "text/plain": [
       "Тариф\n",
       "smart    AxesSubplot(0.125,0.125;0.775x0.755)\n",
       "ultra    AxesSubplot(0.125,0.125;0.775x0.755)\n",
       "Name: Интернет, Мб, dtype: object"
      ]
     },
     "execution_count": 41,
     "metadata": {},
     "output_type": "execute_result"
    },
    {
     "data": {
      "image/png": "[encoded data removed]",
      "text/plain": [
       "<Figure size 720x576 with 1 Axes>"
      ]
     },
     "metadata": {
      "needs_background": "light"
     },
     "output_type": "display_data"
    }
   ],
   "source": [
    "df_u.groupby('Тариф')['Интернет, Мб'].plot.hist(bins=20, alpha=0.5, figsize=(10, 8))"
   ]
  },
  {
   "cell_type": "code",
   "execution_count": 42,
   "id": "3f0d92ba",
   "metadata": {},
   "outputs": [
    {
     "data": {
      "text/plain": [
       "Тариф\n",
       "smart    AxesSubplot(0.125,0.125;0.775x0.755)\n",
       "ultra    AxesSubplot(0.125,0.125;0.775x0.755)\n",
       "Name: СМС, шт., dtype: object"
      ]
     },
     "execution_count": 42,
     "metadata": {},
     "output_type": "execute_result"
    },
    {
     "data": {
      "image/png": "[encoded data removed]",
      "text/plain": [
       "<Figure size 720x576 with 1 Axes>"
      ]
     },
     "metadata": {
      "needs_background": "light"
     },
     "output_type": "display_data"
    }
   ],
   "source": [
    "df_u.groupby('Тариф')['СМС, шт.'].plot.hist(bins=20, alpha=0.5, figsize=(10, 8))"
   ]
  },
  {
   "cell_type": "code",
   "execution_count": 43,
   "id": "67cde86c",
   "metadata": {},
   "outputs": [
    {
     "data": {
      "text/plain": [
       "Тариф\n",
       "smart    AxesSubplot(0.125,0.125;0.775x0.755)\n",
       "ultra    AxesSubplot(0.125,0.125;0.775x0.755)\n",
       "Name: Звонки, мин., dtype: object"
      ]
     },
     "execution_count": 43,
     "metadata": {},
     "output_type": "execute_result"
    },
    {
     "data": {
      "image/png": "[encoded data removed]",
      "text/plain": [
       "<Figure size 720x576 with 1 Axes>"
      ]
     },
     "metadata": {
      "needs_background": "light"
     },
     "output_type": "display_data"
    }
   ],
   "source": [
    "df_u.groupby('Тариф')['Звонки, мин.'].plot.hist(bins=20, alpha=0.5, figsize=(10, 8))"
   ]
  },
  {
   "cell_type": "code",
   "execution_count": 44,
   "id": "de34fa37",
   "metadata": {},
   "outputs": [
    {
     "data": {
      "text/html": [
       "<div>\n",
       "<style scoped>\n",
       "    .dataframe tbody tr th:only-of-type {\n",
       "        vertical-align: middle;\n",
       "    }\n",
       "\n",
       "    .dataframe tbody tr th {\n",
       "        vertical-align: top;\n",
       "    }\n",
       "\n",
       "    .dataframe thead tr th {\n",
       "        text-align: left;\n",
       "    }\n",
       "\n",
       "    .dataframe thead tr:last-of-type th {\n",
       "        text-align: right;\n",
       "    }\n",
       "</style>\n",
       "<table border=\"1\" class=\"dataframe\">\n",
       "  <thead>\n",
       "    <tr>\n",
       "      <th></th>\n",
       "      <th colspan=\"3\" halign=\"left\">mean</th>\n",
       "      <th colspan=\"3\" halign=\"left\">std</th>\n",
       "      <th colspan=\"3\" halign=\"left\">var</th>\n",
       "    </tr>\n",
       "    <tr>\n",
       "      <th></th>\n",
       "      <th>Звонки, мин.</th>\n",
       "      <th>Интернет, Мб</th>\n",
       "      <th>СМС, шт.</th>\n",
       "      <th>Звонки, мин.</th>\n",
       "      <th>Интернет, Мб</th>\n",
       "      <th>СМС, шт.</th>\n",
       "      <th>Звонки, мин.</th>\n",
       "      <th>Интернет, Мб</th>\n",
       "      <th>СМС, шт.</th>\n",
       "    </tr>\n",
       "    <tr>\n",
       "      <th>Тариф</th>\n",
       "      <th></th>\n",
       "      <th></th>\n",
       "      <th></th>\n",
       "      <th></th>\n",
       "      <th></th>\n",
       "      <th></th>\n",
       "      <th></th>\n",
       "      <th></th>\n",
       "      <th></th>\n",
       "    </tr>\n",
       "  </thead>\n",
       "  <tbody>\n",
       "    <tr>\n",
       "      <th>smart</th>\n",
       "      <td>371.444145</td>\n",
       "      <td>16208.386990</td>\n",
       "      <td>33.384029</td>\n",
       "      <td>169.885089</td>\n",
       "      <td>5870.476681</td>\n",
       "      <td>28.227876</td>\n",
       "      <td>28860.943580</td>\n",
       "      <td>3.446250e+07</td>\n",
       "      <td>796.812958</td>\n",
       "    </tr>\n",
       "    <tr>\n",
       "      <th>ultra</th>\n",
       "      <td>467.923858</td>\n",
       "      <td>19468.805208</td>\n",
       "      <td>49.363452</td>\n",
       "      <td>282.660479</td>\n",
       "      <td>10087.170752</td>\n",
       "      <td>47.804457</td>\n",
       "      <td>79896.946432</td>\n",
       "      <td>1.017510e+08</td>\n",
       "      <td>2285.266143</td>\n",
       "    </tr>\n",
       "  </tbody>\n",
       "</table>\n",
       "</div>"
      ],
      "text/plain": [
       "              mean                                   std                \\\n",
       "      Звонки, мин.  Интернет, Мб   СМС, шт. Звонки, мин.  Интернет, Мб   \n",
       "Тариф                                                                    \n",
       "smart   371.444145  16208.386990  33.384029   169.885089   5870.476681   \n",
       "ultra   467.923858  19468.805208  49.363452   282.660479  10087.170752   \n",
       "\n",
       "                           var                             \n",
       "        СМС, шт.  Звонки, мин.  Интернет, Мб     СМС, шт.  \n",
       "Тариф                                                      \n",
       "smart  28.227876  28860.943580  3.446250e+07   796.812958  \n",
       "ultra  47.804457  79896.946432  1.017510e+08  2285.266143  "
      ]
     },
     "execution_count": 44,
     "metadata": {},
     "output_type": "execute_result"
    }
   ],
   "source": [
    "# код ревьюера\n",
    "df_u.pivot_table(index = 'Тариф', values = ['Звонки, мин.', 'Интернет, Мб', 'СМС, шт.'],\n",
    "                aggfunc = ['mean', 'std', 'var'])"
   ]
  },
  {
   "cell_type": "markdown",
   "id": "7b6ecd5b",
   "metadata": {},
   "source": [
    "### Вывод:\n",
    "   - Медианное потреблеие интернет_трафика - 16 гб. явно больше заложенных в тарифном плане \"Смарт\" - 15гб. Большинство имеет запрос на 14-20 гб., по сути из-за этого растёт и медианная итоговая сумма в размере 1257 рублей, что в 2,5 раза больше абоненской плате в 550 рублей. Пользователи тафа \"Ультра\" напротив, медианно потребляют немного больше 19 гб, что на треть меньше заложенных в базовый тариф 30 гб. Хотя график показывает, что вообщем для этого тарифа потребление трафика укадывается условно равномерно в 30гб и резких экстремумов мы не увидим.\n",
    "   - О звонках можносказать, что абоненты ультра не в силах ноболтать, да же на половину заложенных в тарифном плане минут. Если в цифрах, медианно это около 500 минут, что не так далеко от абонентов \"Смарт\" - около 400 минут, хотя большинство \"помещаются\" в базовый объём.\n",
    "   - О сообщения сказать практически нечего, вывод мы делали уже ранее - месенджеры рулят."
   ]
  },
  {
   "cell_type": "markdown",
   "id": "2f729834",
   "metadata": {},
   "source": [
    " ### Шаг 4. Проверьте гипотезы."
   ]
  },
  {
   "cell_type": "markdown",
   "id": "151a7d32",
   "metadata": {},
   "source": [
    "#### 4.1 средняя выручка пользователей тарифов «Ультра» и «Смарт» различаются."
   ]
  },
  {
   "cell_type": "raw",
   "id": "cf531126",
   "metadata": {},
   "source": [
    "Выше уже представлена таблица с выводом о том, что средняя выручка \"Ультра\" - 2070рублей, у абонентов \"Смарт\" - 1257рублей. Докажем то же самое через гипотезу о равенстве двух генеральных совокупностей.\n",
    "H0 - средняя выручка для разных тарифов одинакова или почти не отличается.\n",
    "Н1 - средняя выручка различна."
   ]
  },
  {
   "cell_type": "code",
   "execution_count": 45,
   "id": "aec9608f",
   "metadata": {},
   "outputs": [
    {
     "name": "stdout",
     "output_type": "stream",
     "text": [
      "p-значение: 6.540458734619576e-195\n",
      "Отвергаем нулевую гипотезу\n"
     ]
    }
   ],
   "source": [
    "array1 = df_u[(df_u['Тариф'] == 'smart')]['Итоговая сумма, руб']\n",
    "array2 = df_u[(df_u['Тариф'] == 'ultra')]['Итоговая сумма, руб']\n",
    "\n",
    "alpha = .05 # критический уровень статистической значимости\n",
    "# если p-value окажется меньше него - отвегнем гипотезу\n",
    "\n",
    "results = st.ttest_ind(array1, array2)\n",
    "\n",
    "print('p-значение:', results.pvalue)\n",
    "\n",
    "if results.pvalue < alpha:\n",
    "    print(\"Отвергаем нулевую гипотезу\")\n",
    "else:\n",
    "    print(\"Не получилось отвергнуть нулевую гипотезу\") "
   ]
  },
  {
   "cell_type": "markdown",
   "id": "b2d51b5a",
   "metadata": {},
   "source": [
    "Вывод: Что и  требовалось доказать "
   ]
  },
  {
   "cell_type": "markdown",
   "id": "ff0ba786",
   "metadata": {},
   "source": [
    "#### 4.2. Cредняя выручка пользователей из Москвы отличается от выручки пользователей из других регионов.\n"
   ]
  },
  {
   "cell_type": "raw",
   "id": "06465c19",
   "metadata": {},
   "source": [
    "H0 - выручка для Москвы и регионов одинакова или почти не отличается.\n",
    "Н1 - выручка различна."
   ]
  },
  {
   "cell_type": "code",
   "execution_count": 46,
   "id": "89f995f2",
   "metadata": {},
   "outputs": [
    {
     "name": "stdout",
     "output_type": "stream",
     "text": [
      "p-значение: 0.4495612335173296\n",
      "Не получилось отвергнуть нулевую гипотезу\n"
     ]
    }
   ],
   "source": [
    "array1 = df_u[(df_u['Город'] == 'Москва')]['Итоговая сумма, руб']\n",
    "array2 = df_u[(df_u['Город'] != 'Москва')]['Итоговая сумма, руб']\n",
    "\n",
    "alpha = .05 # критический уровень статистической значимости\n",
    "# если p-value окажется меньше него - отвегнем гипотезу\n",
    "\n",
    "results = st.ttest_ind(array1, array2)\n",
    "\n",
    "print('p-значение:', results.pvalue)\n",
    "\n",
    "if results.pvalue < alpha:\n",
    "    print(\"Отвергаем нулевую гипотезу\")\n",
    "else:\n",
    "    print(\"Не получилось отвергнуть нулевую гипотезу\") "
   ]
  },
  {
   "cell_type": "code",
   "execution_count": 47,
   "id": "df2c9e58",
   "metadata": {},
   "outputs": [
    {
     "name": "stdout",
     "output_type": "stream",
     "text": [
      "Выручка для Москвы: 922332\n",
      "Выручка для Регионов: 3859603\n"
     ]
    }
   ],
   "source": [
    "print('Выручка для Москвы:', array1.sum())\n",
    "print('Выручка для Регионов:', array2.sum())\n",
    "# Не придумал как правильно построить гистограмму для городов - получается каша."
   ]
  },
  {
   "cell_type": "code",
   "execution_count": 48,
   "id": "571049f8",
   "metadata": {},
   "outputs": [
    {
     "data": {
      "text/plain": [
       "<AxesSubplot:>"
      ]
     },
     "execution_count": 48,
     "metadata": {},
     "output_type": "execute_result"
    },
    {
     "data": {
      "image/png": "[encoded data removed]",
      "text/plain": [
       "<Figure size 432x288 with 1 Axes>"
      ]
     },
     "metadata": {
      "needs_background": "light"
     },
     "output_type": "display_data"
    }
   ],
   "source": [
    "# Наглядно по итоговой сумме\n",
    "df_u[(df_u['Город'] == 'Москва')]['Итоговая сумма, руб'].hist(bins = 50, alpha = 0.5)\n",
    "df_u[(df_u['Город'] != 'Москва')]['Итоговая сумма, руб'].hist(bins = 50, alpha = 0.5)\n"
   ]
  },
  {
   "cell_type": "markdown",
   "id": "b4389730",
   "metadata": {},
   "source": [
    "#### Вывод: \n",
    "Выручка для Москвы и регонов различна. Регионы дают выручку примерно - 4 объёма Москвы. "
   ]
  },
  {
   "cell_type": "code",
   "execution_count": 49,
   "id": "549a5d0b",
   "metadata": {},
   "outputs": [
    {
     "name": "stdout",
     "output_type": "stream",
     "text": [
      "Средняя прибыль с абонента в МСК: 1509.545008183306\n",
      "Средняя прибыль с абонента в регионах: 1482.7518248175184\n"
     ]
    }
   ],
   "source": [
    "for_person_MSK = array1.sum()/(df_u[(df_u['Город'] == 'Москва')]['Итоговая сумма, руб'].count())\n",
    "print('Средняя прибыль с абонента в МСК:',for_person_MSK)\n",
    "for_person_not_MSK = array2.sum()/(df_u[(df_u['Город'] != 'Москва')]['Итоговая сумма, руб'].count())\n",
    "print('Средняя прибыль с абонента в регионах:',for_person_not_MSK)"
   ]
  },
  {
   "cell_type": "markdown",
   "id": "e13116b0",
   "metadata": {},
   "source": [
    "Пояснение:\n",
    "    Выбрал метод двух средних генеральных совокупностей. Весь ДатаСет делится на две части, по какому либо критерию из задания. "
   ]
  },
  {
   "cell_type": "markdown",
   "id": "8e3ef67b",
   "metadata": {},
   "source": [
    "### Шаг 5. Общий вывод"
   ]
  },
  {
   "cell_type": "markdown",
   "id": "b9bdbc5d",
   "metadata": {},
   "source": [
    "    - Абоненты тарифа \"Смарт\" не помещаются в заданный объём тарифного плана, касательно интернет трафика, ценой 550 рублей. Абоненты  \"Ультра\" напротив переплачивают за звонки и трафик. И если Абоненты \"Смарт\" имеют запрос на 20 гб, то абоненты \"Ультра\" ярко выраженного запроса не имеют, большинство просто помещаются в 30 гб, без ярко выраженных выбросов. Можно заключить, что если бы у абонентов более дешевого тарифного плана была возможность тратить 30 гб трафика они бы осилили и его, следовательно потребность в мобильном интернете можно назвать одинаковой.\n",
    "    - В среднем это видно по графикам и по выводам из них, большинство абонентов помещаются в 400-500 минут. А смс практически никто не пользуется, вторым дыханием для этой услуги может стать умный дом и gsm-сигнализация.\n",
    "    - Общая базовая выручка для абонентов \"Смарт\" - 1226500  \"Ультра\" - 1922700, а переплаты за весь период - 1695565.\n",
    "    - Регионы перекрывают доходы от Московских абонентов почти в 4 раза и для регионов эта сумма составляет - 3911867, для Москвы - 932898.\n",
    "    - Проанализировав оба тарифных плана делаю умозаключение о том, что логичнее и правильнее за предоставление услуг связи будет обратиться к другому поставщику услуг, где тарифный план можно трансформировать по своему желанию.\n",
    "    - Среднестатистический абонент обоих тарифов тратит 1482 - 1509 рублей в месяц в не зависимости от географической принадлежность. Этот вывод мы сделали на основе дополнения работы. Однако минимальный тариф 550 рублей.\n",
    "    - Если рассматривать \"Мегалайн\", как единственного поставщика услуг на территории, то следует выбрать тариф \"Смарт\" и просто дополнять его по мере необходимости. Имперически рекомендую рассмотреть другого поставщика услуг."
   ]
  },
  {
   "cell_type": "code",
   "execution_count": null,
   "id": "d8cbe439",
   "metadata": {},
   "outputs": [],
   "source": []
  }
 ],
 "metadata": {
  "ExecuteTimeLog": [
   {
    "duration": 1416,
    "start_time": "2022-04-23T15:58:00.500Z"
   },
   {
    "duration": 105,
    "start_time": "2022-04-23T15:58:01.918Z"
   },
   {
    "duration": 0,
    "start_time": "2022-04-23T15:58:02.026Z"
   },
   {
    "duration": 0,
    "start_time": "2022-04-23T15:58:02.027Z"
   },
   {
    "duration": 0,
    "start_time": "2022-04-23T15:58:02.028Z"
   },
   {
    "duration": 0,
    "start_time": "2022-04-23T15:58:02.029Z"
   },
   {
    "duration": 0,
    "start_time": "2022-04-23T15:58:02.030Z"
   },
   {
    "duration": 0,
    "start_time": "2022-04-23T15:58:02.031Z"
   },
   {
    "duration": 0,
    "start_time": "2022-04-23T15:58:02.032Z"
   },
   {
    "duration": 0,
    "start_time": "2022-04-23T15:58:02.033Z"
   },
   {
    "duration": 0,
    "start_time": "2022-04-23T15:58:02.034Z"
   },
   {
    "duration": 0,
    "start_time": "2022-04-23T15:58:02.036Z"
   },
   {
    "duration": 0,
    "start_time": "2022-04-23T15:58:02.037Z"
   },
   {
    "duration": 0,
    "start_time": "2022-04-23T15:58:02.038Z"
   },
   {
    "duration": 0,
    "start_time": "2022-04-23T15:58:02.039Z"
   },
   {
    "duration": 0,
    "start_time": "2022-04-23T15:58:02.040Z"
   },
   {
    "duration": 0,
    "start_time": "2022-04-23T15:58:02.042Z"
   },
   {
    "duration": 0,
    "start_time": "2022-04-23T15:58:02.043Z"
   },
   {
    "duration": 0,
    "start_time": "2022-04-23T15:58:02.045Z"
   },
   {
    "duration": 0,
    "start_time": "2022-04-23T15:58:02.046Z"
   },
   {
    "duration": 0,
    "start_time": "2022-04-23T15:58:02.047Z"
   },
   {
    "duration": 0,
    "start_time": "2022-04-23T15:58:02.048Z"
   },
   {
    "duration": 0,
    "start_time": "2022-04-23T15:58:02.049Z"
   },
   {
    "duration": 0,
    "start_time": "2022-04-23T15:58:02.050Z"
   },
   {
    "duration": 0,
    "start_time": "2022-04-23T15:58:02.051Z"
   },
   {
    "duration": 0,
    "start_time": "2022-04-23T15:58:02.052Z"
   },
   {
    "duration": 0,
    "start_time": "2022-04-23T15:58:02.053Z"
   },
   {
    "duration": 0,
    "start_time": "2022-04-23T15:58:02.055Z"
   },
   {
    "duration": 0,
    "start_time": "2022-04-23T15:58:02.056Z"
   },
   {
    "duration": 0,
    "start_time": "2022-04-23T15:58:02.057Z"
   },
   {
    "duration": 0,
    "start_time": "2022-04-23T15:58:02.058Z"
   },
   {
    "duration": 0,
    "start_time": "2022-04-23T15:58:02.059Z"
   },
   {
    "duration": 0,
    "start_time": "2022-04-23T15:58:02.060Z"
   },
   {
    "duration": 0,
    "start_time": "2022-04-23T15:58:02.061Z"
   },
   {
    "duration": 0,
    "start_time": "2022-04-23T15:58:02.123Z"
   },
   {
    "duration": 0,
    "start_time": "2022-04-23T15:58:02.124Z"
   },
   {
    "duration": 0,
    "start_time": "2022-04-23T15:58:02.125Z"
   },
   {
    "duration": 0,
    "start_time": "2022-04-23T15:58:02.126Z"
   },
   {
    "duration": 0,
    "start_time": "2022-04-23T15:58:02.127Z"
   },
   {
    "duration": 0,
    "start_time": "2022-04-23T15:58:02.128Z"
   },
   {
    "duration": 1216,
    "start_time": "2022-04-23T15:59:36.792Z"
   },
   {
    "duration": 399,
    "start_time": "2022-04-23T15:59:38.010Z"
   },
   {
    "duration": 123,
    "start_time": "2022-04-23T15:59:38.412Z"
   },
   {
    "duration": 17,
    "start_time": "2022-04-23T15:59:38.538Z"
   },
   {
    "duration": 12,
    "start_time": "2022-04-23T15:59:38.556Z"
   },
   {
    "duration": 9,
    "start_time": "2022-04-23T15:59:38.570Z"
   },
   {
    "duration": 11,
    "start_time": "2022-04-23T15:59:38.580Z"
   },
   {
    "duration": 38,
    "start_time": "2022-04-23T15:59:38.593Z"
   },
   {
    "duration": 12,
    "start_time": "2022-04-23T15:59:38.633Z"
   },
   {
    "duration": 15,
    "start_time": "2022-04-23T15:59:38.647Z"
   },
   {
    "duration": 71,
    "start_time": "2022-04-23T15:59:38.664Z"
   },
   {
    "duration": 1623,
    "start_time": "2022-04-23T15:59:38.737Z"
   },
   {
    "duration": 10,
    "start_time": "2022-04-23T15:59:40.362Z"
   },
   {
    "duration": 97,
    "start_time": "2022-04-23T15:59:40.374Z"
   },
   {
    "duration": 23,
    "start_time": "2022-04-23T15:59:40.473Z"
   },
   {
    "duration": 30,
    "start_time": "2022-04-23T15:59:40.497Z"
   },
   {
    "duration": 14,
    "start_time": "2022-04-23T15:59:40.529Z"
   },
   {
    "duration": 20,
    "start_time": "2022-04-23T15:59:40.544Z"
   },
   {
    "duration": 18,
    "start_time": "2022-04-23T15:59:40.566Z"
   },
   {
    "duration": 9,
    "start_time": "2022-04-23T15:59:40.586Z"
   },
   {
    "duration": 27,
    "start_time": "2022-04-23T15:59:40.597Z"
   },
   {
    "duration": 327,
    "start_time": "2022-04-23T15:59:40.627Z"
   },
   {
    "duration": 26,
    "start_time": "2022-04-23T15:59:40.956Z"
   },
   {
    "duration": 11,
    "start_time": "2022-04-23T15:59:40.984Z"
   },
   {
    "duration": 44,
    "start_time": "2022-04-23T15:59:40.997Z"
   },
   {
    "duration": 4,
    "start_time": "2022-04-23T15:59:41.044Z"
   },
   {
    "duration": 578,
    "start_time": "2022-04-23T15:59:41.050Z"
   },
   {
    "duration": 643,
    "start_time": "2022-04-23T15:59:41.632Z"
   },
   {
    "duration": 559,
    "start_time": "2022-04-23T15:59:42.278Z"
   },
   {
    "duration": 192,
    "start_time": "2022-04-23T15:59:42.839Z"
   },
   {
    "duration": 184,
    "start_time": "2022-04-23T15:59:43.033Z"
   },
   {
    "duration": 181,
    "start_time": "2022-04-23T15:59:43.223Z"
   },
   {
    "duration": 255,
    "start_time": "2022-04-23T15:59:43.406Z"
   },
   {
    "duration": 194,
    "start_time": "2022-04-23T15:59:43.663Z"
   },
   {
    "duration": 203,
    "start_time": "2022-04-23T15:59:43.859Z"
   },
   {
    "duration": 187,
    "start_time": "2022-04-23T15:59:44.064Z"
   },
   {
    "duration": 202,
    "start_time": "2022-04-23T15:59:44.253Z"
   },
   {
    "duration": 9,
    "start_time": "2022-04-23T15:59:44.458Z"
   },
   {
    "duration": 11,
    "start_time": "2022-04-23T15:59:44.469Z"
   },
   {
    "duration": 8,
    "start_time": "2022-04-23T15:59:44.482Z"
   },
   {
    "duration": 11,
    "start_time": "2022-04-23T16:02:38.623Z"
   },
   {
    "duration": 19,
    "start_time": "2022-04-23T16:02:51.029Z"
   },
   {
    "duration": 18,
    "start_time": "2022-04-23T16:06:15.004Z"
   },
   {
    "duration": 41,
    "start_time": "2022-04-23T16:10:55.599Z"
   },
   {
    "duration": 362,
    "start_time": "2022-04-23T16:13:02.018Z"
   },
   {
    "duration": 339,
    "start_time": "2022-04-23T16:13:23.283Z"
   },
   {
    "duration": 422,
    "start_time": "2022-04-23T16:13:31.181Z"
   },
   {
    "duration": 332,
    "start_time": "2022-04-23T16:13:39.873Z"
   },
   {
    "duration": 353,
    "start_time": "2022-04-23T16:13:49.357Z"
   },
   {
    "duration": 317,
    "start_time": "2022-04-23T16:13:56.618Z"
   },
   {
    "duration": 29,
    "start_time": "2022-04-23T16:26:16.117Z"
   },
   {
    "duration": 92,
    "start_time": "2022-04-23T16:26:38.236Z"
   },
   {
    "duration": 28,
    "start_time": "2022-04-23T16:26:38.385Z"
   },
   {
    "duration": 17,
    "start_time": "2022-04-23T16:26:43.381Z"
   },
   {
    "duration": 29,
    "start_time": "2022-04-23T16:26:53.997Z"
   },
   {
    "duration": 85,
    "start_time": "2022-04-24T12:57:16.201Z"
   },
   {
    "duration": 1431,
    "start_time": "2022-04-24T12:57:26.962Z"
   },
   {
    "duration": 407,
    "start_time": "2022-04-24T12:57:29.605Z"
   },
   {
    "duration": 87,
    "start_time": "2022-04-24T12:57:30.151Z"
   },
   {
    "duration": 12,
    "start_time": "2022-04-24T12:57:30.611Z"
   },
   {
    "duration": 18,
    "start_time": "2022-04-24T12:57:31.191Z"
   },
   {
    "duration": 7,
    "start_time": "2022-04-24T12:57:31.761Z"
   },
   {
    "duration": 9,
    "start_time": "2022-04-24T12:57:32.360Z"
   },
   {
    "duration": 13,
    "start_time": "2022-04-24T12:57:33.001Z"
   },
   {
    "duration": 6,
    "start_time": "2022-04-24T12:57:37.512Z"
   },
   {
    "duration": 16,
    "start_time": "2022-04-24T12:57:38.931Z"
   },
   {
    "duration": 63,
    "start_time": "2022-04-24T12:57:40.080Z"
   },
   {
    "duration": 1780,
    "start_time": "2022-04-24T12:57:41.251Z"
   },
   {
    "duration": 11,
    "start_time": "2022-04-24T12:57:43.033Z"
   },
   {
    "duration": 6,
    "start_time": "2022-04-24T12:57:49.206Z"
   },
   {
    "duration": 71,
    "start_time": "2022-04-24T12:57:53.790Z"
   },
   {
    "duration": 9,
    "start_time": "2022-04-24T12:58:10.731Z"
   },
   {
    "duration": 5,
    "start_time": "2022-04-24T12:58:25.671Z"
   },
   {
    "duration": 402,
    "start_time": "2022-04-24T12:58:28.541Z"
   },
   {
    "duration": 78,
    "start_time": "2022-04-24T12:58:28.945Z"
   },
   {
    "duration": 9,
    "start_time": "2022-04-24T12:58:30.041Z"
   },
   {
    "duration": 10,
    "start_time": "2022-04-24T12:58:30.921Z"
   },
   {
    "duration": 8,
    "start_time": "2022-04-24T12:58:31.605Z"
   },
   {
    "duration": 8,
    "start_time": "2022-04-24T12:58:32.241Z"
   },
   {
    "duration": 10,
    "start_time": "2022-04-24T12:58:33.071Z"
   },
   {
    "duration": 6,
    "start_time": "2022-04-24T12:58:35.741Z"
   },
   {
    "duration": 15,
    "start_time": "2022-04-24T12:58:37.771Z"
   },
   {
    "duration": 43,
    "start_time": "2022-04-24T12:58:39.351Z"
   },
   {
    "duration": 1735,
    "start_time": "2022-04-24T12:58:41.521Z"
   },
   {
    "duration": 11,
    "start_time": "2022-04-24T12:58:43.257Z"
   },
   {
    "duration": 5,
    "start_time": "2022-04-24T12:58:46.941Z"
   },
   {
    "duration": 13,
    "start_time": "2022-04-24T12:58:47.981Z"
   },
   {
    "duration": 4,
    "start_time": "2022-04-24T12:59:10.771Z"
   },
   {
    "duration": 390,
    "start_time": "2022-04-24T12:59:11.321Z"
   },
   {
    "duration": 72,
    "start_time": "2022-04-24T12:59:11.713Z"
   },
   {
    "duration": 9,
    "start_time": "2022-04-24T12:59:11.787Z"
   },
   {
    "duration": 8,
    "start_time": "2022-04-24T12:59:11.911Z"
   },
   {
    "duration": 7,
    "start_time": "2022-04-24T12:59:12.141Z"
   },
   {
    "duration": 8,
    "start_time": "2022-04-24T12:59:12.341Z"
   },
   {
    "duration": 10,
    "start_time": "2022-04-24T12:59:12.551Z"
   },
   {
    "duration": 6,
    "start_time": "2022-04-24T12:59:13.761Z"
   },
   {
    "duration": 18,
    "start_time": "2022-04-24T12:59:14.581Z"
   },
   {
    "duration": 47,
    "start_time": "2022-04-24T12:59:15.151Z"
   },
   {
    "duration": 1784,
    "start_time": "2022-04-24T12:59:16.141Z"
   },
   {
    "duration": 10,
    "start_time": "2022-04-24T12:59:17.927Z"
   },
   {
    "duration": 7,
    "start_time": "2022-04-24T12:59:19.261Z"
   },
   {
    "duration": 75,
    "start_time": "2022-04-24T12:59:19.911Z"
   },
   {
    "duration": 23,
    "start_time": "2022-04-24T12:59:29.311Z"
   },
   {
    "duration": 15,
    "start_time": "2022-04-24T12:59:43.781Z"
   },
   {
    "duration": 6,
    "start_time": "2022-04-24T12:59:47.151Z"
   },
   {
    "duration": 19,
    "start_time": "2022-04-24T12:59:48.271Z"
   },
   {
    "duration": 7,
    "start_time": "2022-04-24T13:00:26.404Z"
   },
   {
    "duration": 150,
    "start_time": "2022-04-24T13:04:28.660Z"
   },
   {
    "duration": 138,
    "start_time": "2022-04-24T13:12:44.629Z"
   },
   {
    "duration": 101,
    "start_time": "2022-04-24T13:12:57.913Z"
   },
   {
    "duration": 237,
    "start_time": "2022-04-24T13:14:56.450Z"
   },
   {
    "duration": 299,
    "start_time": "2022-04-24T13:15:35.829Z"
   },
   {
    "duration": 103,
    "start_time": "2022-04-24T13:16:07.859Z"
   },
   {
    "duration": 244,
    "start_time": "2022-04-24T13:16:09.080Z"
   },
   {
    "duration": 265,
    "start_time": "2022-04-24T13:17:27.059Z"
   },
   {
    "duration": 5,
    "start_time": "2022-04-24T14:11:24.438Z"
   },
   {
    "duration": 10,
    "start_time": "2022-04-24T14:11:38.697Z"
   },
   {
    "duration": 145,
    "start_time": "2022-04-24T14:17:13.968Z"
   },
   {
    "duration": 5,
    "start_time": "2022-04-24T14:22:06.708Z"
   },
   {
    "duration": 11,
    "start_time": "2022-04-24T14:22:07.747Z"
   },
   {
    "duration": 5,
    "start_time": "2022-04-24T14:22:17.687Z"
   },
   {
    "duration": 18,
    "start_time": "2022-04-24T14:22:20.307Z"
   },
   {
    "duration": 3,
    "start_time": "2022-04-24T14:22:53.467Z"
   },
   {
    "duration": 391,
    "start_time": "2022-04-24T14:22:54.367Z"
   },
   {
    "duration": 73,
    "start_time": "2022-04-24T14:22:54.760Z"
   },
   {
    "duration": 8,
    "start_time": "2022-04-24T14:22:54.835Z"
   },
   {
    "duration": 9,
    "start_time": "2022-04-24T14:22:54.997Z"
   },
   {
    "duration": 8,
    "start_time": "2022-04-24T14:22:55.287Z"
   },
   {
    "duration": 9,
    "start_time": "2022-04-24T14:22:55.597Z"
   },
   {
    "duration": 10,
    "start_time": "2022-04-24T14:22:55.907Z"
   },
   {
    "duration": 6,
    "start_time": "2022-04-24T14:22:56.717Z"
   },
   {
    "duration": 16,
    "start_time": "2022-04-24T14:22:57.657Z"
   },
   {
    "duration": 50,
    "start_time": "2022-04-24T14:22:58.627Z"
   },
   {
    "duration": 1695,
    "start_time": "2022-04-24T14:23:00.297Z"
   },
   {
    "duration": 12,
    "start_time": "2022-04-24T14:23:01.994Z"
   },
   {
    "duration": 100,
    "start_time": "2022-04-24T14:23:03.698Z"
   },
   {
    "duration": 216,
    "start_time": "2022-04-24T14:23:04.517Z"
   },
   {
    "duration": 253,
    "start_time": "2022-04-24T14:23:05.517Z"
   },
   {
    "duration": 7,
    "start_time": "2022-04-24T14:23:09.367Z"
   },
   {
    "duration": 79,
    "start_time": "2022-04-24T14:23:10.807Z"
   },
   {
    "duration": 23,
    "start_time": "2022-04-24T14:23:11.687Z"
   },
   {
    "duration": 14,
    "start_time": "2022-04-24T14:23:13.797Z"
   },
   {
    "duration": 8,
    "start_time": "2022-04-24T14:23:17.547Z"
   },
   {
    "duration": 6,
    "start_time": "2022-04-24T14:23:21.358Z"
   },
   {
    "duration": 17,
    "start_time": "2022-04-24T14:23:24.537Z"
   },
   {
    "duration": 5,
    "start_time": "2022-04-24T14:23:46.088Z"
   },
   {
    "duration": 5,
    "start_time": "2022-04-24T14:23:47.677Z"
   },
   {
    "duration": 226,
    "start_time": "2022-04-24T14:23:48.887Z"
   },
   {
    "duration": 18,
    "start_time": "2022-04-24T14:23:59.346Z"
   },
   {
    "duration": 4,
    "start_time": "2022-04-24T14:25:54.186Z"
   },
   {
    "duration": 380,
    "start_time": "2022-04-24T14:25:54.787Z"
   },
   {
    "duration": 70,
    "start_time": "2022-04-24T14:25:55.169Z"
   },
   {
    "duration": 8,
    "start_time": "2022-04-24T14:25:55.241Z"
   },
   {
    "duration": 9,
    "start_time": "2022-04-24T14:25:55.367Z"
   },
   {
    "duration": 7,
    "start_time": "2022-04-24T14:25:55.587Z"
   },
   {
    "duration": 7,
    "start_time": "2022-04-24T14:25:56.140Z"
   },
   {
    "duration": 9,
    "start_time": "2022-04-24T14:25:56.817Z"
   },
   {
    "duration": 6,
    "start_time": "2022-04-24T14:26:01.057Z"
   },
   {
    "duration": 15,
    "start_time": "2022-04-24T14:26:02.918Z"
   },
   {
    "duration": 46,
    "start_time": "2022-04-24T14:26:04.697Z"
   },
   {
    "duration": 1702,
    "start_time": "2022-04-24T14:26:19.337Z"
   },
   {
    "duration": 11,
    "start_time": "2022-04-24T14:26:21.041Z"
   },
   {
    "duration": 94,
    "start_time": "2022-04-24T14:26:32.977Z"
   },
   {
    "duration": 269,
    "start_time": "2022-04-24T14:26:33.488Z"
   },
   {
    "duration": 249,
    "start_time": "2022-04-24T14:26:33.947Z"
   },
   {
    "duration": 7,
    "start_time": "2022-04-24T14:26:38.947Z"
   },
   {
    "duration": 78,
    "start_time": "2022-04-24T14:26:43.657Z"
   },
   {
    "duration": 23,
    "start_time": "2022-04-24T14:26:45.287Z"
   },
   {
    "duration": 14,
    "start_time": "2022-04-24T14:27:02.457Z"
   },
   {
    "duration": 2901,
    "start_time": "2022-04-24T14:28:27.487Z"
   },
   {
    "duration": 3,
    "start_time": "2022-04-24T14:28:41.787Z"
   },
   {
    "duration": 393,
    "start_time": "2022-04-24T14:28:43.177Z"
   },
   {
    "duration": 71,
    "start_time": "2022-04-24T14:28:43.573Z"
   },
   {
    "duration": 8,
    "start_time": "2022-04-24T14:28:43.646Z"
   },
   {
    "duration": 9,
    "start_time": "2022-04-24T14:28:44.307Z"
   },
   {
    "duration": 7,
    "start_time": "2022-04-24T14:28:44.737Z"
   },
   {
    "duration": 8,
    "start_time": "2022-04-24T14:28:45.077Z"
   },
   {
    "duration": 10,
    "start_time": "2022-04-24T14:28:45.307Z"
   },
   {
    "duration": 6,
    "start_time": "2022-04-24T14:28:46.227Z"
   },
   {
    "duration": 15,
    "start_time": "2022-04-24T14:28:46.927Z"
   },
   {
    "duration": 46,
    "start_time": "2022-04-24T14:28:47.377Z"
   },
   {
    "duration": 1939,
    "start_time": "2022-04-24T14:28:48.287Z"
   },
   {
    "duration": 11,
    "start_time": "2022-04-24T14:28:50.228Z"
   },
   {
    "duration": 111,
    "start_time": "2022-04-24T14:28:50.240Z"
   },
   {
    "duration": 202,
    "start_time": "2022-04-24T14:28:51.027Z"
   },
   {
    "duration": 233,
    "start_time": "2022-04-24T14:28:51.527Z"
   },
   {
    "duration": 7,
    "start_time": "2022-04-24T14:28:55.347Z"
   },
   {
    "duration": 72,
    "start_time": "2022-04-24T14:28:56.697Z"
   },
   {
    "duration": 25,
    "start_time": "2022-04-24T14:29:03.157Z"
   },
   {
    "duration": 2329,
    "start_time": "2022-04-24T14:29:03.797Z"
   },
   {
    "duration": 2187,
    "start_time": "2022-04-24T14:29:42.627Z"
   },
   {
    "duration": 16,
    "start_time": "2022-04-24T14:30:05.707Z"
   },
   {
    "duration": 13,
    "start_time": "2022-04-24T14:30:18.578Z"
   },
   {
    "duration": 14,
    "start_time": "2022-04-24T14:30:20.207Z"
   },
   {
    "duration": 5,
    "start_time": "2022-04-24T14:30:24.217Z"
   },
   {
    "duration": 13,
    "start_time": "2022-04-24T14:30:48.207Z"
   },
   {
    "duration": 5,
    "start_time": "2022-04-24T14:30:49.673Z"
   },
   {
    "duration": 8,
    "start_time": "2022-04-24T14:30:50.817Z"
   },
   {
    "duration": 17,
    "start_time": "2022-04-24T14:30:52.147Z"
   },
   {
    "duration": 6,
    "start_time": "2022-04-24T14:30:52.998Z"
   },
   {
    "duration": 4,
    "start_time": "2022-04-24T14:30:54.210Z"
   },
   {
    "duration": 304,
    "start_time": "2022-04-24T14:30:54.558Z"
   },
   {
    "duration": 18,
    "start_time": "2022-04-24T14:30:55.847Z"
   },
   {
    "duration": 6,
    "start_time": "2022-04-24T14:30:57.578Z"
   },
   {
    "duration": 6,
    "start_time": "2022-04-24T14:32:31.297Z"
   },
   {
    "duration": 18,
    "start_time": "2022-04-24T14:32:33.487Z"
   },
   {
    "duration": 5,
    "start_time": "2022-04-24T14:33:09.437Z"
   },
   {
    "duration": 3,
    "start_time": "2022-04-24T14:33:17.477Z"
   },
   {
    "duration": 379,
    "start_time": "2022-04-24T14:33:18.177Z"
   },
   {
    "duration": 74,
    "start_time": "2022-04-24T14:33:18.558Z"
   },
   {
    "duration": 8,
    "start_time": "2022-04-24T14:33:18.634Z"
   },
   {
    "duration": 9,
    "start_time": "2022-04-24T14:33:18.707Z"
   },
   {
    "duration": 8,
    "start_time": "2022-04-24T14:33:18.897Z"
   },
   {
    "duration": 8,
    "start_time": "2022-04-24T14:33:19.277Z"
   },
   {
    "duration": 10,
    "start_time": "2022-04-24T14:33:19.517Z"
   },
   {
    "duration": 6,
    "start_time": "2022-04-24T14:33:20.267Z"
   },
   {
    "duration": 16,
    "start_time": "2022-04-24T14:33:20.897Z"
   },
   {
    "duration": 48,
    "start_time": "2022-04-24T14:33:21.337Z"
   },
   {
    "duration": 1735,
    "start_time": "2022-04-24T14:33:22.627Z"
   },
   {
    "duration": 11,
    "start_time": "2022-04-24T14:33:24.363Z"
   },
   {
    "duration": 92,
    "start_time": "2022-04-24T14:33:26.977Z"
   },
   {
    "duration": 210,
    "start_time": "2022-04-24T14:33:28.437Z"
   },
   {
    "duration": 255,
    "start_time": "2022-04-24T14:33:29.086Z"
   },
   {
    "duration": 5,
    "start_time": "2022-04-24T14:33:33.517Z"
   },
   {
    "duration": 72,
    "start_time": "2022-04-24T14:33:35.017Z"
   },
   {
    "duration": 24,
    "start_time": "2022-04-24T14:33:35.967Z"
   },
   {
    "duration": 14,
    "start_time": "2022-04-24T14:33:40.316Z"
   },
   {
    "duration": 5,
    "start_time": "2022-04-24T14:33:42.387Z"
   },
   {
    "duration": 5,
    "start_time": "2022-04-24T14:33:43.717Z"
   },
   {
    "duration": 17,
    "start_time": "2022-04-24T14:33:44.547Z"
   },
   {
    "duration": 6,
    "start_time": "2022-04-24T14:33:44.747Z"
   },
   {
    "duration": 4,
    "start_time": "2022-04-24T14:33:45.307Z"
   },
   {
    "duration": 233,
    "start_time": "2022-04-24T14:33:45.486Z"
   },
   {
    "duration": 19,
    "start_time": "2022-04-24T14:34:00.029Z"
   },
   {
    "duration": 3,
    "start_time": "2022-04-24T14:34:26.727Z"
   },
   {
    "duration": 16,
    "start_time": "2022-04-24T14:34:28.847Z"
   },
   {
    "duration": 2283,
    "start_time": "2022-04-24T14:37:07.937Z"
   },
   {
    "duration": 3,
    "start_time": "2022-04-24T14:37:36.427Z"
   },
   {
    "duration": 387,
    "start_time": "2022-04-24T14:37:38.007Z"
   },
   {
    "duration": 71,
    "start_time": "2022-04-24T14:37:38.397Z"
   },
   {
    "duration": 8,
    "start_time": "2022-04-24T14:37:38.471Z"
   },
   {
    "duration": 9,
    "start_time": "2022-04-24T14:37:38.626Z"
   },
   {
    "duration": 7,
    "start_time": "2022-04-24T14:37:38.828Z"
   },
   {
    "duration": 8,
    "start_time": "2022-04-24T14:37:39.286Z"
   },
   {
    "duration": 11,
    "start_time": "2022-04-24T14:37:39.517Z"
   },
   {
    "duration": 6,
    "start_time": "2022-04-24T14:37:40.297Z"
   },
   {
    "duration": 16,
    "start_time": "2022-04-24T14:37:40.896Z"
   },
   {
    "duration": 45,
    "start_time": "2022-04-24T14:37:41.307Z"
   },
   {
    "duration": 2390,
    "start_time": "2022-04-24T14:37:42.177Z"
   },
   {
    "duration": 16,
    "start_time": "2022-04-24T14:37:44.570Z"
   },
   {
    "duration": 165,
    "start_time": "2022-04-24T14:37:44.588Z"
   },
   {
    "duration": 381,
    "start_time": "2022-04-24T14:37:44.756Z"
   },
   {
    "duration": 446,
    "start_time": "2022-04-24T14:37:45.140Z"
   },
   {
    "duration": 6,
    "start_time": "2022-04-24T14:37:46.286Z"
   },
   {
    "duration": 70,
    "start_time": "2022-04-24T14:37:46.697Z"
   },
   {
    "duration": 23,
    "start_time": "2022-04-24T14:37:46.906Z"
   },
   {
    "duration": 14,
    "start_time": "2022-04-24T14:37:47.327Z"
   },
   {
    "duration": 6,
    "start_time": "2022-04-24T14:37:48.236Z"
   },
   {
    "duration": 6,
    "start_time": "2022-04-24T14:37:49.247Z"
   },
   {
    "duration": 18,
    "start_time": "2022-04-24T14:37:50.167Z"
   },
   {
    "duration": 5,
    "start_time": "2022-04-24T14:37:50.837Z"
   },
   {
    "duration": 4,
    "start_time": "2022-04-24T14:37:51.407Z"
   },
   {
    "duration": 413,
    "start_time": "2022-04-24T14:37:51.917Z"
   },
   {
    "duration": 2520,
    "start_time": "2022-04-24T14:37:52.527Z"
   },
   {
    "duration": 5,
    "start_time": "2022-04-24T14:38:11.167Z"
   },
   {
    "duration": 18,
    "start_time": "2022-04-24T14:38:13.196Z"
   },
   {
    "duration": 6,
    "start_time": "2022-04-24T14:38:24.556Z"
   },
   {
    "duration": 18,
    "start_time": "2022-04-24T14:38:27.116Z"
   },
   {
    "duration": 3,
    "start_time": "2022-04-24T14:38:29.697Z"
   },
   {
    "duration": 352,
    "start_time": "2022-04-24T14:38:31.067Z"
   },
   {
    "duration": 440,
    "start_time": "2022-04-24T14:38:32.937Z"
   },
   {
    "duration": 694,
    "start_time": "2022-04-24T14:38:34.377Z"
   },
   {
    "duration": 9,
    "start_time": "2022-04-24T15:08:38.285Z"
   },
   {
    "duration": 3,
    "start_time": "2022-04-24T15:09:02.694Z"
   },
   {
    "duration": 376,
    "start_time": "2022-04-24T15:09:03.585Z"
   },
   {
    "duration": 76,
    "start_time": "2022-04-24T15:09:03.963Z"
   },
   {
    "duration": 9,
    "start_time": "2022-04-24T15:09:04.224Z"
   },
   {
    "duration": 10,
    "start_time": "2022-04-24T15:09:04.414Z"
   },
   {
    "duration": 12,
    "start_time": "2022-04-24T15:09:04.605Z"
   },
   {
    "duration": 9,
    "start_time": "2022-04-24T15:09:05.074Z"
   },
   {
    "duration": 11,
    "start_time": "2022-04-24T15:09:05.285Z"
   },
   {
    "duration": 7,
    "start_time": "2022-04-24T15:09:06.315Z"
   },
   {
    "duration": 17,
    "start_time": "2022-04-24T15:09:06.954Z"
   },
   {
    "duration": 50,
    "start_time": "2022-04-24T15:09:07.394Z"
   },
   {
    "duration": 1991,
    "start_time": "2022-04-24T15:09:08.594Z"
   },
   {
    "duration": 14,
    "start_time": "2022-04-24T15:09:10.587Z"
   },
   {
    "duration": 116,
    "start_time": "2022-04-24T15:09:10.603Z"
   },
   {
    "duration": 242,
    "start_time": "2022-04-24T15:09:10.722Z"
   },
   {
    "duration": 298,
    "start_time": "2022-04-24T15:09:10.966Z"
   },
   {
    "duration": 6,
    "start_time": "2022-04-24T15:09:11.784Z"
   },
   {
    "duration": 72,
    "start_time": "2022-04-24T15:09:12.205Z"
   },
   {
    "duration": 24,
    "start_time": "2022-04-24T15:09:12.434Z"
   },
   {
    "duration": 14,
    "start_time": "2022-04-24T15:09:13.115Z"
   },
   {
    "duration": 6,
    "start_time": "2022-04-24T15:09:14.005Z"
   },
   {
    "duration": 6,
    "start_time": "2022-04-24T15:09:14.934Z"
   },
   {
    "duration": 18,
    "start_time": "2022-04-24T15:09:15.606Z"
   },
   {
    "duration": 5,
    "start_time": "2022-04-24T15:09:15.855Z"
   },
   {
    "duration": 4,
    "start_time": "2022-04-24T15:09:16.075Z"
   },
   {
    "duration": 238,
    "start_time": "2022-04-24T15:09:16.314Z"
   },
   {
    "duration": 5,
    "start_time": "2022-04-24T15:09:16.574Z"
   },
   {
    "duration": 20,
    "start_time": "2022-04-24T15:09:17.294Z"
   },
   {
    "duration": 5,
    "start_time": "2022-04-24T15:09:18.234Z"
   },
   {
    "duration": 18,
    "start_time": "2022-04-24T15:09:19.324Z"
   },
   {
    "duration": 4,
    "start_time": "2022-04-24T15:09:19.774Z"
   },
   {
    "duration": 356,
    "start_time": "2022-04-24T15:09:20.004Z"
   },
   {
    "duration": 486,
    "start_time": "2022-04-24T15:09:20.514Z"
   },
   {
    "duration": 374,
    "start_time": "2022-04-24T15:09:21.005Z"
   },
   {
    "duration": 194,
    "start_time": "2022-04-24T15:09:21.844Z"
   },
   {
    "duration": 191,
    "start_time": "2022-04-24T15:09:22.934Z"
   },
   {
    "duration": 188,
    "start_time": "2022-04-24T15:09:23.484Z"
   },
   {
    "duration": 189,
    "start_time": "2022-04-24T15:09:24.005Z"
   },
   {
    "duration": 196,
    "start_time": "2022-04-24T15:09:27.234Z"
   },
   {
    "duration": 371,
    "start_time": "2022-04-24T15:09:27.645Z"
   },
   {
    "duration": 222,
    "start_time": "2022-04-24T15:09:28.019Z"
   },
   {
    "duration": 230,
    "start_time": "2022-04-24T15:09:28.243Z"
   },
   {
    "duration": 40,
    "start_time": "2022-04-24T15:09:28.795Z"
   },
   {
    "duration": 10,
    "start_time": "2022-04-24T15:09:32.384Z"
   },
   {
    "duration": 10,
    "start_time": "2022-04-24T15:09:35.734Z"
   },
   {
    "duration": 4,
    "start_time": "2022-04-24T15:09:36.114Z"
   },
   {
    "duration": 222,
    "start_time": "2022-04-24T15:09:36.655Z"
   },
   {
    "duration": 2849,
    "start_time": "2022-04-24T15:09:38.585Z"
   },
   {
    "duration": 17,
    "start_time": "2022-04-24T15:10:49.984Z"
   },
   {
    "duration": 2317,
    "start_time": "2022-04-24T15:11:14.095Z"
   },
   {
    "duration": 7,
    "start_time": "2022-04-24T15:11:25.025Z"
   },
   {
    "duration": 11,
    "start_time": "2022-04-24T15:11:37.644Z"
   },
   {
    "duration": 6,
    "start_time": "2022-04-24T15:11:55.325Z"
   },
   {
    "duration": 6,
    "start_time": "2022-04-24T15:12:10.614Z"
   },
   {
    "duration": 9,
    "start_time": "2022-04-24T15:13:00.254Z"
   },
   {
    "duration": 9,
    "start_time": "2022-04-24T15:18:48.183Z"
   },
   {
    "duration": 36,
    "start_time": "2022-04-24T15:24:00.554Z"
   },
   {
    "duration": 8,
    "start_time": "2022-04-24T15:31:58.224Z"
   },
   {
    "duration": 16,
    "start_time": "2022-04-24T15:48:09.283Z"
   },
   {
    "duration": 9,
    "start_time": "2022-04-24T15:48:32.603Z"
   },
   {
    "duration": 1797,
    "start_time": "2022-04-24T16:48:45.499Z"
   },
   {
    "duration": 594,
    "start_time": "2022-04-24T16:48:47.299Z"
   },
   {
    "duration": 113,
    "start_time": "2022-04-24T16:48:47.895Z"
   },
   {
    "duration": 23,
    "start_time": "2022-04-24T16:48:48.011Z"
   },
   {
    "duration": 29,
    "start_time": "2022-04-24T16:48:48.037Z"
   },
   {
    "duration": 33,
    "start_time": "2022-04-24T16:48:48.070Z"
   },
   {
    "duration": 15,
    "start_time": "2022-04-24T16:48:48.106Z"
   },
   {
    "duration": 19,
    "start_time": "2022-04-24T16:48:48.123Z"
   },
   {
    "duration": 26,
    "start_time": "2022-04-24T16:48:48.145Z"
   },
   {
    "duration": 36,
    "start_time": "2022-04-24T16:48:48.175Z"
   },
   {
    "duration": 105,
    "start_time": "2022-04-24T16:48:48.213Z"
   },
   {
    "duration": 2506,
    "start_time": "2022-04-24T16:48:48.320Z"
   },
   {
    "duration": 18,
    "start_time": "2022-04-24T16:48:50.829Z"
   },
   {
    "duration": 219,
    "start_time": "2022-04-24T16:48:50.852Z"
   },
   {
    "duration": 444,
    "start_time": "2022-04-24T16:48:51.073Z"
   },
   {
    "duration": 530,
    "start_time": "2022-04-24T16:48:51.521Z"
   },
   {
    "duration": 8,
    "start_time": "2022-04-24T16:48:52.054Z"
   },
   {
    "duration": 187,
    "start_time": "2022-04-24T16:48:52.065Z"
   },
   {
    "duration": 76,
    "start_time": "2022-04-24T16:48:52.255Z"
   },
   {
    "duration": 38,
    "start_time": "2022-04-24T16:48:52.334Z"
   },
   {
    "duration": 26,
    "start_time": "2022-04-24T16:48:52.375Z"
   },
   {
    "duration": 18,
    "start_time": "2022-04-24T16:48:52.404Z"
   },
   {
    "duration": 71,
    "start_time": "2022-04-24T16:48:52.425Z"
   },
   {
    "duration": 14,
    "start_time": "2022-04-24T16:48:52.500Z"
   },
   {
    "duration": 21,
    "start_time": "2022-04-24T16:48:52.518Z"
   },
   {
    "duration": 691,
    "start_time": "2022-04-24T16:48:52.549Z"
   },
   {
    "duration": 9,
    "start_time": "2022-04-24T16:48:53.243Z"
   },
   {
    "duration": 50,
    "start_time": "2022-04-24T16:48:53.259Z"
   },
   {
    "duration": 10,
    "start_time": "2022-04-24T16:48:53.312Z"
   },
   {
    "duration": 32,
    "start_time": "2022-04-24T16:48:53.324Z"
   },
   {
    "duration": 38,
    "start_time": "2022-04-24T16:48:53.358Z"
   },
   {
    "duration": 1123,
    "start_time": "2022-04-24T16:48:53.399Z"
   },
   {
    "duration": 671,
    "start_time": "2022-04-24T16:48:54.525Z"
   },
   {
    "duration": 702,
    "start_time": "2022-04-24T16:48:55.199Z"
   },
   {
    "duration": 340,
    "start_time": "2022-04-24T16:48:55.904Z"
   },
   {
    "duration": 451,
    "start_time": "2022-04-24T16:48:56.247Z"
   },
   {
    "duration": 468,
    "start_time": "2022-04-24T16:48:56.701Z"
   },
   {
    "duration": 450,
    "start_time": "2022-04-24T16:48:57.173Z"
   },
   {
    "duration": 339,
    "start_time": "2022-04-24T16:48:57.626Z"
   },
   {
    "duration": 497,
    "start_time": "2022-04-24T16:48:57.968Z"
   },
   {
    "duration": 343,
    "start_time": "2022-04-24T16:48:58.468Z"
   },
   {
    "duration": 497,
    "start_time": "2022-04-24T16:48:58.813Z"
   },
   {
    "duration": 90,
    "start_time": "2022-04-24T16:48:59.313Z"
   },
   {
    "duration": 13,
    "start_time": "2022-04-24T16:48:59.409Z"
   },
   {
    "duration": 17,
    "start_time": "2022-04-24T16:48:59.425Z"
   },
   {
    "duration": 49,
    "start_time": "2022-04-24T16:48:59.446Z"
   },
   {
    "duration": 451,
    "start_time": "2022-04-24T16:48:59.498Z"
   },
   {
    "duration": 21,
    "start_time": "2022-04-24T16:48:59.952Z"
   },
   {
    "duration": 19,
    "start_time": "2022-04-24T16:49:59.681Z"
   },
   {
    "duration": 331,
    "start_time": "2022-04-24T16:50:16.271Z"
   },
   {
    "duration": 39,
    "start_time": "2022-04-24T16:54:03.927Z"
   },
   {
    "duration": 26,
    "start_time": "2022-04-24T16:55:35.571Z"
   }
  ],
  "kernelspec": {
   "display_name": "Python 3 (ipykernel)",
   "language": "python",
   "name": "python3"
  },
  "language_info": {
   "codemirror_mode": {
    "name": "ipython",
    "version": 3
   },
   "file_extension": ".py",
   "mimetype": "text/x-python",
   "name": "python",
   "nbconvert_exporter": "python",
   "pygments_lexer": "ipython3",
   "version": "3.9.12"
  },
  "toc": {
   "base_numbering": 1,
   "nav_menu": {},
   "number_sections": false,
   "sideBar": true,
   "skip_h1_title": false,
   "title_cell": "Table of Contents",
   "title_sidebar": "Contents",
   "toc_cell": false,
   "toc_position": {
    "height": "calc(100% - 180px)",
    "left": "10px",
    "top": "150px",
    "width": "370.597px"
   },
   "toc_section_display": true,
   "toc_window_display": true
  }
 },
 "nbformat": 4,
 "nbformat_minor": 5
}
