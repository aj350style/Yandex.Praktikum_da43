{
 "cells": [
  {
   "cell_type": "markdown",
   "id": "b84f21d0",
   "metadata": {},
   "source": [
    "# Описание проекта\n",
    "\n",
    "   Вы работаете в интернет-магазине «Стримчик», который продаёт по всему миру компьютерные игры. Из открытых источников доступны исторические данные о продажах игр, оценки пользователей и экспертов, жанры и платформы (например,\n",
    "XboxилиPlayStation).\n",
    "    Вам нужно выявить определяющиеуспешность игры закономерности. Это позволит сделать ставку на потенциально популярный продукт и спланировать рекламные кампании.\n",
    "    Перед вами данные до 2016 года. Представим, что сейчас декабрь 2016 г., и вы планируете кампанию на 2017-й. Нужно отработать принцип работы с данными.\n",
    "    Неважно, прогнозируете ли вы продажи на 2017 год по данным 2016-го или же 2027-й — по данным 2026 года.\n",
    "    В наборе данных попадается аббревиатураESRB (Entertainment Software Rating Board) — это ассоциация, определяющая возрастной рейтинг компьютерных игр.ESRB оценивает игровой контент и присваивает ему подходящую возрастную категорию,\n",
    "например, «Для взрослых», «Для детей младшего возраста» или «Для подростков»"
   ]
  },
  {
   "cell_type": "markdown",
   "id": "5ad86998",
   "metadata": {},
   "source": [
    "# Ход выполнения проекта:\n",
    "\n",
    " - Шаг 1. Откройте файл с данными и изучите общую информацию\n",
    " - Шаг 2. Подготовьте данные:\n",
    "    - Замените названия столбцов (приведите к нижнему регистру);\n",
    "    - Преобразуйте данные в нужные типы. Опишите, в каких столбцах заменили тип данных и почему;\n",
    "    - Обработайте пропуски при необходимости:\n",
    "    - Объясните, почему заполнили пропуски определённым образом или почему не стали это делать;\n",
    "    - Опишите причины, которые могли привести к пропускам;\n",
    "    - Обратите внимание на аббревиатуру 'tbd' в столбце с оценкой пользователей. Отдельно разберите это значение и опишите, как его обработать;\n",
    "    - Посчитайте суммарные продажи во всех регионах и запишите их в отдельный столбец.\n",
    " - Шаг 3. Проведите исследовательский анализ данных\n",
    "    - Посмотрите, сколько игр выпускалось в разные годы. Важны ли данные за все периоды?\n",
    "    - Посмотрите, как менялись продажи по платформам. Выберите платформы с наибольшими суммарными продажами и постройте распределение по годам. За какой характерный срок появляются новые и исчезают старые платформы?\n",
    "    - Возьмите данные за соответствующий актуальный период. Актуальный период определите самостоятельно в результате исследования предыдущих вопросов. Основной фактор — эти данные помогут построить прогноз на 2017 год.\n",
    "    - Не учитывайте в работе данные за предыдущие годы.\n",
    "    - Какие платформы лидируют по продажам, растут или падают? Выберите несколько потенциально прибыльных платформ.\n",
    "    - Постройте график «ящик с усами» по глобальным продажам игр в разбивке по платформам. Опишите результат.\n",
    "    - Посмотрите, как влияют на продажи внутри одной популярной платформы отзывы пользователей и критиков. Постройте диаграмму рассеяния и посчитайте корреляцию между отзывами и продажами. Сформулируйте выводы.\n",
    "    - Соотнесите выводы с продажами игр на других платформах.\n",
    "    - Посмотрите на общее распределение игр по жанрам. Что можно сказать о самых прибыльных жанрах? Выделяются ли жанры с высокими и низкими продажами?\n",
    " - Шаг 4. Составьте портрет пользователя каждого региона\n",
    "    - Определите для пользователя каждого региона (NA, EU, JP):\n",
    "    - Самые популярные платформы (топ-5). Опишите различия в долях продаж.\n",
    "    - Самые популярные жанры (топ-5). Поясните разницу.\n",
    "    - Влияет ли рейтинг ESRB на продажи в отдельном регионе?\n",
    " - Шаг 5. Проверьте гипотезы\n",
    "    - Средние пользовательские рейтинги платформ Xbox One и PC одинаковые;\n",
    "    - Средние пользовательские рейтинги жанров Action (англ. «действие», экшен-игры) и Sports (англ. «спортивные соревнования») разные.\n",
    "    - Задайте самостоятельно пороговое значение alpha.\n",
    "\n",
    " - Шаг 6. Напишите общий вывод"
   ]
  },
  {
   "cell_type": "code",
   "execution_count": 1,
   "id": "f97065ad",
   "metadata": {},
   "outputs": [],
   "source": [
    "import pandas as pd\n",
    "import numpy as np\n",
    "import datetime\n",
    "import math as mth\n",
    "import matplotlib.pyplot as plt\n",
    "import seaborn\n",
    "import datetime\n",
    "import numpy as np\n",
    "import scipy.stats as st\n",
    "from scipy import stats as st"
   ]
  },
  {
   "cell_type": "markdown",
   "id": "3b4bc77d",
   "metadata": {},
   "source": [
    "### Шаг 1. Откройте файл с данными и изучите общую информацию"
   ]
  },
  {
   "cell_type": "code",
   "execution_count": 2,
   "id": "e5796fb4",
   "metadata": {},
   "outputs": [],
   "source": [
    "try:\n",
    "    df=pd.read_csv ('https://code.s3.yandex.net/datasets/games.csv')\n",
    "except:\n",
    "    df = pd.read_csv('/datasets/games.csv')"
   ]
  },
  {
   "cell_type": "code",
   "execution_count": 3,
   "id": "bc71de90",
   "metadata": {},
   "outputs": [
    {
     "data": {
      "text/html": [
       "<div>\n",
       "<style scoped>\n",
       "    .dataframe tbody tr th:only-of-type {\n",
       "        vertical-align: middle;\n",
       "    }\n",
       "\n",
       "    .dataframe tbody tr th {\n",
       "        vertical-align: top;\n",
       "    }\n",
       "\n",
       "    .dataframe thead th {\n",
       "        text-align: right;\n",
       "    }\n",
       "</style>\n",
       "<table border=\"1\" class=\"dataframe\">\n",
       "  <thead>\n",
       "    <tr style=\"text-align: right;\">\n",
       "      <th></th>\n",
       "      <th>название</th>\n",
       "      <th>платформа</th>\n",
       "      <th>год_выхода</th>\n",
       "      <th>жанр</th>\n",
       "      <th>продажи_северная_америка</th>\n",
       "      <th>продажи_европпа</th>\n",
       "      <th>продажи_япония</th>\n",
       "      <th>прдажи_другое</th>\n",
       "      <th>оценка_критиков</th>\n",
       "      <th>оценка_игроков</th>\n",
       "      <th>рейтинг</th>\n",
       "    </tr>\n",
       "  </thead>\n",
       "  <tbody>\n",
       "    <tr>\n",
       "      <th>0</th>\n",
       "      <td>Wii Sports</td>\n",
       "      <td>Wii</td>\n",
       "      <td>2006.0</td>\n",
       "      <td>Sports</td>\n",
       "      <td>41.36</td>\n",
       "      <td>28.96</td>\n",
       "      <td>3.77</td>\n",
       "      <td>8.45</td>\n",
       "      <td>76.0</td>\n",
       "      <td>8</td>\n",
       "      <td>E</td>\n",
       "    </tr>\n",
       "    <tr>\n",
       "      <th>1</th>\n",
       "      <td>Super Mario Bros.</td>\n",
       "      <td>NES</td>\n",
       "      <td>1985.0</td>\n",
       "      <td>Platform</td>\n",
       "      <td>29.08</td>\n",
       "      <td>3.58</td>\n",
       "      <td>6.81</td>\n",
       "      <td>0.77</td>\n",
       "      <td>NaN</td>\n",
       "      <td>NaN</td>\n",
       "      <td>NaN</td>\n",
       "    </tr>\n",
       "    <tr>\n",
       "      <th>2</th>\n",
       "      <td>Mario Kart Wii</td>\n",
       "      <td>Wii</td>\n",
       "      <td>2008.0</td>\n",
       "      <td>Racing</td>\n",
       "      <td>15.68</td>\n",
       "      <td>12.76</td>\n",
       "      <td>3.79</td>\n",
       "      <td>3.29</td>\n",
       "      <td>82.0</td>\n",
       "      <td>8.3</td>\n",
       "      <td>E</td>\n",
       "    </tr>\n",
       "    <tr>\n",
       "      <th>3</th>\n",
       "      <td>Wii Sports Resort</td>\n",
       "      <td>Wii</td>\n",
       "      <td>2009.0</td>\n",
       "      <td>Sports</td>\n",
       "      <td>15.61</td>\n",
       "      <td>10.93</td>\n",
       "      <td>3.28</td>\n",
       "      <td>2.95</td>\n",
       "      <td>80.0</td>\n",
       "      <td>8</td>\n",
       "      <td>E</td>\n",
       "    </tr>\n",
       "    <tr>\n",
       "      <th>4</th>\n",
       "      <td>Pokemon Red/Pokemon Blue</td>\n",
       "      <td>GB</td>\n",
       "      <td>1996.0</td>\n",
       "      <td>Role-Playing</td>\n",
       "      <td>11.27</td>\n",
       "      <td>8.89</td>\n",
       "      <td>10.22</td>\n",
       "      <td>1.00</td>\n",
       "      <td>NaN</td>\n",
       "      <td>NaN</td>\n",
       "      <td>NaN</td>\n",
       "    </tr>\n",
       "  </tbody>\n",
       "</table>\n",
       "</div>"
      ],
      "text/plain": [
       "                   название платформа  год_выхода          жанр  \\\n",
       "0                Wii Sports       Wii      2006.0        Sports   \n",
       "1         Super Mario Bros.       NES      1985.0      Platform   \n",
       "2            Mario Kart Wii       Wii      2008.0        Racing   \n",
       "3         Wii Sports Resort       Wii      2009.0        Sports   \n",
       "4  Pokemon Red/Pokemon Blue        GB      1996.0  Role-Playing   \n",
       "\n",
       "   продажи_северная_америка  продажи_европпа  продажи_япония  прдажи_другое  \\\n",
       "0                     41.36            28.96            3.77           8.45   \n",
       "1                     29.08             3.58            6.81           0.77   \n",
       "2                     15.68            12.76            3.79           3.29   \n",
       "3                     15.61            10.93            3.28           2.95   \n",
       "4                     11.27             8.89           10.22           1.00   \n",
       "\n",
       "   оценка_критиков оценка_игроков рейтинг  \n",
       "0             76.0              8       E  \n",
       "1              NaN            NaN     NaN  \n",
       "2             82.0            8.3       E  \n",
       "3             80.0              8       E  \n",
       "4              NaN            NaN     NaN  "
      ]
     },
     "execution_count": 3,
     "metadata": {},
     "output_type": "execute_result"
    }
   ],
   "source": [
    "df.columns = ['название', 'платформа', 'год_выхода', 'жанр', 'продажи_северная_америка', 'продажи_европпа', 'продажи_япония','прдажи_другое','оценка_критиков', 'оценка_игроков', 'рейтинг']\n",
    "df.head()\n",
    "# По заданию названия в нижнем регистре. "
   ]
  },
  {
   "cell_type": "code",
   "execution_count": 4,
   "id": "6934f002",
   "metadata": {},
   "outputs": [
    {
     "name": "stdout",
     "output_type": "stream",
     "text": [
      "<class 'pandas.core.frame.DataFrame'>\n",
      "RangeIndex: 16715 entries, 0 to 16714\n",
      "Data columns (total 11 columns):\n",
      " #   Column                    Non-Null Count  Dtype  \n",
      "---  ------                    --------------  -----  \n",
      " 0   название                  16713 non-null  object \n",
      " 1   платформа                 16715 non-null  object \n",
      " 2   год_выхода                16446 non-null  float64\n",
      " 3   жанр                      16713 non-null  object \n",
      " 4   продажи_северная_америка  16715 non-null  float64\n",
      " 5   продажи_европпа           16715 non-null  float64\n",
      " 6   продажи_япония            16715 non-null  float64\n",
      " 7   прдажи_другое             16715 non-null  float64\n",
      " 8   оценка_критиков           8137 non-null   float64\n",
      " 9   оценка_игроков            10014 non-null  object \n",
      " 10  рейтинг                   9949 non-null   object \n",
      "dtypes: float64(6), object(5)\n",
      "memory usage: 1.4+ MB\n"
     ]
    }
   ],
   "source": [
    "df.info()"
   ]
  },
  {
   "cell_type": "code",
   "execution_count": 5,
   "id": "77886e29",
   "metadata": {},
   "outputs": [
    {
     "data": {
      "text/plain": [
       "array(['8', nan, '8.3', '8.5', '6.6', '8.4', '8.6', '7.7', '6.3', '7.4',\n",
       "       '8.2', '9', '7.9', '8.1', '8.7', '7.1', '3.4', '5.3', '4.8', '3.2',\n",
       "       '8.9', '6.4', '7.8', '7.5', '2.6', '7.2', '9.2', '7', '7.3', '4.3',\n",
       "       '7.6', '5.7', '5', '9.1', '6.5', 'tbd', '8.8', '6.9', '9.4', '6.8',\n",
       "       '6.1', '6.7', '5.4', '4', '4.9', '4.5', '9.3', '6.2', '4.2', '6',\n",
       "       '3.7', '4.1', '5.8', '5.6', '5.5', '4.4', '4.6', '5.9', '3.9',\n",
       "       '3.1', '2.9', '5.2', '3.3', '4.7', '5.1', '3.5', '2.5', '1.9', '3',\n",
       "       '2.7', '2.2', '2', '9.5', '2.1', '3.6', '2.8', '1.8', '3.8', '0',\n",
       "       '1.6', '9.6', '2.4', '1.7', '1.1', '0.3', '1.5', '0.7', '1.2',\n",
       "       '2.3', '0.5', '1.3', '0.2', '0.6', '1.4', '0.9', '1', '9.7'],\n",
       "      dtype=object)"
      ]
     },
     "execution_count": 5,
     "metadata": {},
     "output_type": "execute_result"
    }
   ],
   "source": [
    "df['оценка_игроков'].unique()"
   ]
  },
  {
   "cell_type": "code",
   "execution_count": 6,
   "id": "3ad9de6c",
   "metadata": {},
   "outputs": [
    {
     "data": {
      "text/plain": [
       "array(['E', nan, 'M', 'T', 'E10+', 'K-A', 'AO', 'EC', 'RP'], dtype=object)"
      ]
     },
     "execution_count": 6,
     "metadata": {},
     "output_type": "execute_result"
    }
   ],
   "source": [
    "df['рейтинг'].unique()"
   ]
  },
  {
   "cell_type": "code",
   "execution_count": 7,
   "id": "57e2ac06",
   "metadata": {},
   "outputs": [
    {
     "data": {
      "text/html": [
       "<div>\n",
       "<style scoped>\n",
       "    .dataframe tbody tr th:only-of-type {\n",
       "        vertical-align: middle;\n",
       "    }\n",
       "\n",
       "    .dataframe tbody tr th {\n",
       "        vertical-align: top;\n",
       "    }\n",
       "\n",
       "    .dataframe thead th {\n",
       "        text-align: right;\n",
       "    }\n",
       "</style>\n",
       "<table border=\"1\" class=\"dataframe\">\n",
       "  <thead>\n",
       "    <tr style=\"text-align: right;\">\n",
       "      <th></th>\n",
       "      <th>название</th>\n",
       "      <th>платформа</th>\n",
       "      <th>год_выхода</th>\n",
       "      <th>жанр</th>\n",
       "      <th>продажи_северная_америка</th>\n",
       "      <th>продажи_европпа</th>\n",
       "      <th>продажи_япония</th>\n",
       "      <th>прдажи_другое</th>\n",
       "      <th>оценка_критиков</th>\n",
       "      <th>оценка_игроков</th>\n",
       "      <th>рейтинг</th>\n",
       "    </tr>\n",
       "  </thead>\n",
       "  <tbody>\n",
       "    <tr>\n",
       "      <th>119</th>\n",
       "      <td>Zumba Fitness</td>\n",
       "      <td>Wii</td>\n",
       "      <td>2010.0</td>\n",
       "      <td>Sports</td>\n",
       "      <td>3.45</td>\n",
       "      <td>2.59</td>\n",
       "      <td>0.0</td>\n",
       "      <td>0.66</td>\n",
       "      <td>NaN</td>\n",
       "      <td>tbd</td>\n",
       "      <td>E</td>\n",
       "    </tr>\n",
       "    <tr>\n",
       "      <th>301</th>\n",
       "      <td>Namco Museum: 50th Anniversary</td>\n",
       "      <td>PS2</td>\n",
       "      <td>2005.0</td>\n",
       "      <td>Misc</td>\n",
       "      <td>2.08</td>\n",
       "      <td>1.35</td>\n",
       "      <td>0.0</td>\n",
       "      <td>0.54</td>\n",
       "      <td>61.0</td>\n",
       "      <td>tbd</td>\n",
       "      <td>E10+</td>\n",
       "    </tr>\n",
       "    <tr>\n",
       "      <th>520</th>\n",
       "      <td>Zumba Fitness 2</td>\n",
       "      <td>Wii</td>\n",
       "      <td>2011.0</td>\n",
       "      <td>Sports</td>\n",
       "      <td>1.51</td>\n",
       "      <td>1.03</td>\n",
       "      <td>0.0</td>\n",
       "      <td>0.27</td>\n",
       "      <td>NaN</td>\n",
       "      <td>tbd</td>\n",
       "      <td>T</td>\n",
       "    </tr>\n",
       "    <tr>\n",
       "      <th>645</th>\n",
       "      <td>uDraw Studio</td>\n",
       "      <td>Wii</td>\n",
       "      <td>2010.0</td>\n",
       "      <td>Misc</td>\n",
       "      <td>1.65</td>\n",
       "      <td>0.57</td>\n",
       "      <td>0.0</td>\n",
       "      <td>0.20</td>\n",
       "      <td>71.0</td>\n",
       "      <td>tbd</td>\n",
       "      <td>E</td>\n",
       "    </tr>\n",
       "    <tr>\n",
       "      <th>657</th>\n",
       "      <td>Frogger's Adventures: Temple of the Frog</td>\n",
       "      <td>GBA</td>\n",
       "      <td>NaN</td>\n",
       "      <td>Adventure</td>\n",
       "      <td>2.15</td>\n",
       "      <td>0.18</td>\n",
       "      <td>0.0</td>\n",
       "      <td>0.07</td>\n",
       "      <td>73.0</td>\n",
       "      <td>tbd</td>\n",
       "      <td>E</td>\n",
       "    </tr>\n",
       "    <tr>\n",
       "      <th>...</th>\n",
       "      <td>...</td>\n",
       "      <td>...</td>\n",
       "      <td>...</td>\n",
       "      <td>...</td>\n",
       "      <td>...</td>\n",
       "      <td>...</td>\n",
       "      <td>...</td>\n",
       "      <td>...</td>\n",
       "      <td>...</td>\n",
       "      <td>...</td>\n",
       "      <td>...</td>\n",
       "    </tr>\n",
       "    <tr>\n",
       "      <th>16695</th>\n",
       "      <td>Planet Monsters</td>\n",
       "      <td>GBA</td>\n",
       "      <td>2001.0</td>\n",
       "      <td>Action</td>\n",
       "      <td>0.01</td>\n",
       "      <td>0.00</td>\n",
       "      <td>0.0</td>\n",
       "      <td>0.00</td>\n",
       "      <td>67.0</td>\n",
       "      <td>tbd</td>\n",
       "      <td>E</td>\n",
       "    </tr>\n",
       "    <tr>\n",
       "      <th>16697</th>\n",
       "      <td>Bust-A-Move 3000</td>\n",
       "      <td>GC</td>\n",
       "      <td>2003.0</td>\n",
       "      <td>Puzzle</td>\n",
       "      <td>0.01</td>\n",
       "      <td>0.00</td>\n",
       "      <td>0.0</td>\n",
       "      <td>0.00</td>\n",
       "      <td>53.0</td>\n",
       "      <td>tbd</td>\n",
       "      <td>E</td>\n",
       "    </tr>\n",
       "    <tr>\n",
       "      <th>16698</th>\n",
       "      <td>Mega Brain Boost</td>\n",
       "      <td>DS</td>\n",
       "      <td>2008.0</td>\n",
       "      <td>Puzzle</td>\n",
       "      <td>0.01</td>\n",
       "      <td>0.00</td>\n",
       "      <td>0.0</td>\n",
       "      <td>0.00</td>\n",
       "      <td>48.0</td>\n",
       "      <td>tbd</td>\n",
       "      <td>E</td>\n",
       "    </tr>\n",
       "    <tr>\n",
       "      <th>16704</th>\n",
       "      <td>Plushees</td>\n",
       "      <td>DS</td>\n",
       "      <td>2008.0</td>\n",
       "      <td>Simulation</td>\n",
       "      <td>0.01</td>\n",
       "      <td>0.00</td>\n",
       "      <td>0.0</td>\n",
       "      <td>0.00</td>\n",
       "      <td>NaN</td>\n",
       "      <td>tbd</td>\n",
       "      <td>E</td>\n",
       "    </tr>\n",
       "    <tr>\n",
       "      <th>16706</th>\n",
       "      <td>Men in Black II: Alien Escape</td>\n",
       "      <td>GC</td>\n",
       "      <td>2003.0</td>\n",
       "      <td>Shooter</td>\n",
       "      <td>0.01</td>\n",
       "      <td>0.00</td>\n",
       "      <td>0.0</td>\n",
       "      <td>0.00</td>\n",
       "      <td>NaN</td>\n",
       "      <td>tbd</td>\n",
       "      <td>T</td>\n",
       "    </tr>\n",
       "  </tbody>\n",
       "</table>\n",
       "<p>2424 rows × 11 columns</p>\n",
       "</div>"
      ],
      "text/plain": [
       "                                       название платформа  год_выхода  \\\n",
       "119                               Zumba Fitness       Wii      2010.0   \n",
       "301              Namco Museum: 50th Anniversary       PS2      2005.0   \n",
       "520                             Zumba Fitness 2       Wii      2011.0   \n",
       "645                                uDraw Studio       Wii      2010.0   \n",
       "657    Frogger's Adventures: Temple of the Frog       GBA         NaN   \n",
       "...                                         ...       ...         ...   \n",
       "16695                           Planet Monsters       GBA      2001.0   \n",
       "16697                          Bust-A-Move 3000        GC      2003.0   \n",
       "16698                          Mega Brain Boost        DS      2008.0   \n",
       "16704                                  Plushees        DS      2008.0   \n",
       "16706             Men in Black II: Alien Escape        GC      2003.0   \n",
       "\n",
       "             жанр  продажи_северная_америка  продажи_европпа  продажи_япония  \\\n",
       "119        Sports                      3.45             2.59             0.0   \n",
       "301          Misc                      2.08             1.35             0.0   \n",
       "520        Sports                      1.51             1.03             0.0   \n",
       "645          Misc                      1.65             0.57             0.0   \n",
       "657     Adventure                      2.15             0.18             0.0   \n",
       "...           ...                       ...              ...             ...   \n",
       "16695      Action                      0.01             0.00             0.0   \n",
       "16697      Puzzle                      0.01             0.00             0.0   \n",
       "16698      Puzzle                      0.01             0.00             0.0   \n",
       "16704  Simulation                      0.01             0.00             0.0   \n",
       "16706     Shooter                      0.01             0.00             0.0   \n",
       "\n",
       "       прдажи_другое  оценка_критиков оценка_игроков рейтинг  \n",
       "119             0.66              NaN            tbd       E  \n",
       "301             0.54             61.0            tbd    E10+  \n",
       "520             0.27              NaN            tbd       T  \n",
       "645             0.20             71.0            tbd       E  \n",
       "657             0.07             73.0            tbd       E  \n",
       "...              ...              ...            ...     ...  \n",
       "16695           0.00             67.0            tbd       E  \n",
       "16697           0.00             53.0            tbd       E  \n",
       "16698           0.00             48.0            tbd       E  \n",
       "16704           0.00              NaN            tbd       E  \n",
       "16706           0.00              NaN            tbd       T  \n",
       "\n",
       "[2424 rows x 11 columns]"
      ]
     },
     "execution_count": 7,
     "metadata": {},
     "output_type": "execute_result"
    }
   ],
   "source": [
    "df[df['оценка_игроков'] == 'tbd']"
   ]
  },
  {
   "cell_type": "markdown",
   "id": "c26d211e",
   "metadata": {},
   "source": [
    "#### Составим небольшой план по наблюдениям."
   ]
  },
  {
   "cell_type": "markdown",
   "id": "f5a4f335",
   "metadata": {},
   "source": [
    "- Название - нехватает 2 строки, мы их никак не проверим. Выход 1 удалить.\n",
    "- Платформа - все 16'715 строк. \n",
    "- Год выхода - не содержат 267 строк, это альтернативные платформы со старыми играми.\n",
    "- Платформа - заполнены все строки.\n",
    "- жанр - заполнены все строки.\n",
    "- продажи  - во всех категориях запоолнены полностью.\n",
    "- оценку критиков не содержат, как некоторые старые, так и некоторые сравнительно молодые проекты.\n",
    "- оценка игроков, помимо Нан'ов так же содержит объект 'tbd' (To Be Determined), так обозначаются игры с малым количеством отсывов(меньше 4х).\n",
    "- рейтинг - содержит категорийные значения их мы расшифруем в отдельный столбец, таких значений чуть больше половины."
   ]
  },
  {
   "cell_type": "markdown",
   "id": "1958d470",
   "metadata": {},
   "source": [
    "### Шаг 2. Подготовка данных."
   ]
  },
  {
   "cell_type": "markdown",
   "id": "4e676a68",
   "metadata": {},
   "source": [
    "- Удалим строчки по названиям."
   ]
  },
  {
   "cell_type": "code",
   "execution_count": 8,
   "id": "8d3300cc",
   "metadata": {},
   "outputs": [
    {
     "data": {
      "text/plain": [
       "0"
      ]
     },
     "execution_count": 8,
     "metadata": {},
     "output_type": "execute_result"
    }
   ],
   "source": [
    "df = df.dropna(subset = ['название'])\n",
    "df['название'].isnull().sum()"
   ]
  },
  {
   "cell_type": "markdown",
   "id": "08df40c2",
   "metadata": {},
   "source": [
    "- Работа с датами."
   ]
  },
  {
   "cell_type": "code",
   "execution_count": 9,
   "id": "3efd00cc",
   "metadata": {},
   "outputs": [],
   "source": [
    "df['год_выхода'] = df['год_выхода'].fillna(0)\n",
    "df['год_выхода'] = df['год_выхода'].astype('int')"
   ]
  },
  {
   "cell_type": "markdown",
   "id": "12529c8b",
   "metadata": {},
   "source": [
    "- Оценка игроков. Заменим 'tbd' и Nan  на нули, при необходимости эти строки учитывать не будем."
   ]
  },
  {
   "cell_type": "code",
   "execution_count": 10,
   "id": "847c37c6",
   "metadata": {},
   "outputs": [],
   "source": [
    "df.loc[(df['оценка_игроков'] == 'tbd') | (df['оценка_игроков'].isna()), 'оценка_игроков'] = 0\n",
    "df['оценка_игроков'] = pd.to_numeric(df['оценка_игроков'])"
   ]
  },
  {
   "cell_type": "code",
   "execution_count": 11,
   "id": "f5df335c",
   "metadata": {},
   "outputs": [
    {
     "name": "stdout",
     "output_type": "stream",
     "text": [
      "<class 'pandas.core.frame.DataFrame'>\n",
      "Int64Index: 16713 entries, 0 to 16714\n",
      "Data columns (total 11 columns):\n",
      " #   Column                    Non-Null Count  Dtype  \n",
      "---  ------                    --------------  -----  \n",
      " 0   название                  16713 non-null  object \n",
      " 1   платформа                 16713 non-null  object \n",
      " 2   год_выхода                16713 non-null  int64  \n",
      " 3   жанр                      16713 non-null  object \n",
      " 4   продажи_северная_америка  16713 non-null  float64\n",
      " 5   продажи_европпа           16713 non-null  float64\n",
      " 6   продажи_япония            16713 non-null  float64\n",
      " 7   прдажи_другое             16713 non-null  float64\n",
      " 8   оценка_критиков           8137 non-null   float64\n",
      " 9   оценка_игроков            16713 non-null  float64\n",
      " 10  рейтинг                   9949 non-null   object \n",
      "dtypes: float64(6), int64(1), object(4)\n",
      "memory usage: 1.5+ MB\n"
     ]
    }
   ],
   "source": [
    "df.info()"
   ]
  },
  {
   "cell_type": "markdown",
   "id": "2512d84d",
   "metadata": {},
   "source": [
    " - Оценка критиков."
   ]
  },
  {
   "cell_type": "code",
   "execution_count": 12,
   "id": "3abd8b5d",
   "metadata": {},
   "outputs": [],
   "source": [
    "df['оценка_критиков'] = df['оценка_критиков'].fillna(0)"
   ]
  },
  {
   "cell_type": "markdown",
   "id": "db24aa04",
   "metadata": {},
   "source": [
    " - Рейтинг."
   ]
  },
  {
   "cell_type": "code",
   "execution_count": 13,
   "id": "69620417",
   "metadata": {},
   "outputs": [],
   "source": [
    "df['рейтинг'] = df['рейтинг'].fillna(0)"
   ]
  },
  {
   "cell_type": "code",
   "execution_count": 14,
   "id": "d09a1c6d",
   "metadata": {},
   "outputs": [],
   "source": [
    "# Создадим функцию и новую колонку \n",
    "def category(row):    \n",
    "    games = row['рейтинг']\n",
    "    if games == 'E':\n",
    "        return '6+'\n",
    "    elif games == 'M':\n",
    "        return '16+'\n",
    "    elif games == 'T':\n",
    "        return '12+'\n",
    "    elif games == 'E10+':\n",
    "        return '10+'\n",
    "    elif games == 'K-A':\n",
    "        return '6+'\n",
    "    elif games == 'AO':\n",
    "        return '18+'\n",
    "    elif games =='EC':\n",
    "        return '3+'\n",
    "    elif games =='RP':\n",
    "        return 'Ожидается'\n",
    "    elif games == 0:\n",
    "        return 'Неизвестен'   \n",
    "df['возрастные_ограничения'] = df.apply(category, axis = 1)\n",
    "# 'K-A' это старая классификация она также 6+"
   ]
  },
  {
   "cell_type": "code",
   "execution_count": 15,
   "id": "8b2751f8",
   "metadata": {},
   "outputs": [
    {
     "data": {
      "text/html": [
       "<div>\n",
       "<style scoped>\n",
       "    .dataframe tbody tr th:only-of-type {\n",
       "        vertical-align: middle;\n",
       "    }\n",
       "\n",
       "    .dataframe tbody tr th {\n",
       "        vertical-align: top;\n",
       "    }\n",
       "\n",
       "    .dataframe thead th {\n",
       "        text-align: right;\n",
       "    }\n",
       "</style>\n",
       "<table border=\"1\" class=\"dataframe\">\n",
       "  <thead>\n",
       "    <tr style=\"text-align: right;\">\n",
       "      <th></th>\n",
       "      <th>название</th>\n",
       "      <th>платформа</th>\n",
       "      <th>год_выхода</th>\n",
       "      <th>жанр</th>\n",
       "      <th>продажи_северная_америка</th>\n",
       "      <th>продажи_европпа</th>\n",
       "      <th>продажи_япония</th>\n",
       "      <th>прдажи_другое</th>\n",
       "      <th>оценка_критиков</th>\n",
       "      <th>оценка_игроков</th>\n",
       "      <th>рейтинг</th>\n",
       "      <th>возрастные_ограничения</th>\n",
       "    </tr>\n",
       "  </thead>\n",
       "  <tbody>\n",
       "    <tr>\n",
       "      <th>0</th>\n",
       "      <td>Wii Sports</td>\n",
       "      <td>Wii</td>\n",
       "      <td>2006</td>\n",
       "      <td>Sports</td>\n",
       "      <td>41.36</td>\n",
       "      <td>28.96</td>\n",
       "      <td>3.77</td>\n",
       "      <td>8.45</td>\n",
       "      <td>76.0</td>\n",
       "      <td>8.0</td>\n",
       "      <td>E</td>\n",
       "      <td>6+</td>\n",
       "    </tr>\n",
       "    <tr>\n",
       "      <th>1</th>\n",
       "      <td>Super Mario Bros.</td>\n",
       "      <td>NES</td>\n",
       "      <td>1985</td>\n",
       "      <td>Platform</td>\n",
       "      <td>29.08</td>\n",
       "      <td>3.58</td>\n",
       "      <td>6.81</td>\n",
       "      <td>0.77</td>\n",
       "      <td>0.0</td>\n",
       "      <td>0.0</td>\n",
       "      <td>0</td>\n",
       "      <td>Неизвестен</td>\n",
       "    </tr>\n",
       "    <tr>\n",
       "      <th>2</th>\n",
       "      <td>Mario Kart Wii</td>\n",
       "      <td>Wii</td>\n",
       "      <td>2008</td>\n",
       "      <td>Racing</td>\n",
       "      <td>15.68</td>\n",
       "      <td>12.76</td>\n",
       "      <td>3.79</td>\n",
       "      <td>3.29</td>\n",
       "      <td>82.0</td>\n",
       "      <td>8.3</td>\n",
       "      <td>E</td>\n",
       "      <td>6+</td>\n",
       "    </tr>\n",
       "    <tr>\n",
       "      <th>3</th>\n",
       "      <td>Wii Sports Resort</td>\n",
       "      <td>Wii</td>\n",
       "      <td>2009</td>\n",
       "      <td>Sports</td>\n",
       "      <td>15.61</td>\n",
       "      <td>10.93</td>\n",
       "      <td>3.28</td>\n",
       "      <td>2.95</td>\n",
       "      <td>80.0</td>\n",
       "      <td>8.0</td>\n",
       "      <td>E</td>\n",
       "      <td>6+</td>\n",
       "    </tr>\n",
       "    <tr>\n",
       "      <th>4</th>\n",
       "      <td>Pokemon Red/Pokemon Blue</td>\n",
       "      <td>GB</td>\n",
       "      <td>1996</td>\n",
       "      <td>Role-Playing</td>\n",
       "      <td>11.27</td>\n",
       "      <td>8.89</td>\n",
       "      <td>10.22</td>\n",
       "      <td>1.00</td>\n",
       "      <td>0.0</td>\n",
       "      <td>0.0</td>\n",
       "      <td>0</td>\n",
       "      <td>Неизвестен</td>\n",
       "    </tr>\n",
       "  </tbody>\n",
       "</table>\n",
       "</div>"
      ],
      "text/plain": [
       "                   название платформа  год_выхода          жанр  \\\n",
       "0                Wii Sports       Wii        2006        Sports   \n",
       "1         Super Mario Bros.       NES        1985      Platform   \n",
       "2            Mario Kart Wii       Wii        2008        Racing   \n",
       "3         Wii Sports Resort       Wii        2009        Sports   \n",
       "4  Pokemon Red/Pokemon Blue        GB        1996  Role-Playing   \n",
       "\n",
       "   продажи_северная_америка  продажи_европпа  продажи_япония  прдажи_другое  \\\n",
       "0                     41.36            28.96            3.77           8.45   \n",
       "1                     29.08             3.58            6.81           0.77   \n",
       "2                     15.68            12.76            3.79           3.29   \n",
       "3                     15.61            10.93            3.28           2.95   \n",
       "4                     11.27             8.89           10.22           1.00   \n",
       "\n",
       "   оценка_критиков  оценка_игроков рейтинг возрастные_ограничения  \n",
       "0             76.0             8.0       E                     6+  \n",
       "1              0.0             0.0       0             Неизвестен  \n",
       "2             82.0             8.3       E                     6+  \n",
       "3             80.0             8.0       E                     6+  \n",
       "4              0.0             0.0       0             Неизвестен  "
      ]
     },
     "execution_count": 15,
     "metadata": {},
     "output_type": "execute_result"
    }
   ],
   "source": [
    "df.head()"
   ]
  },
  {
   "cell_type": "markdown",
   "id": "6e56afd3",
   "metadata": {},
   "source": [
    " - Создадим колонку с общими продажами."
   ]
  },
  {
   "cell_type": "code",
   "execution_count": 16,
   "id": "2386a532",
   "metadata": {},
   "outputs": [
    {
     "data": {
      "text/html": [
       "<div>\n",
       "<style scoped>\n",
       "    .dataframe tbody tr th:only-of-type {\n",
       "        vertical-align: middle;\n",
       "    }\n",
       "\n",
       "    .dataframe tbody tr th {\n",
       "        vertical-align: top;\n",
       "    }\n",
       "\n",
       "    .dataframe thead th {\n",
       "        text-align: right;\n",
       "    }\n",
       "</style>\n",
       "<table border=\"1\" class=\"dataframe\">\n",
       "  <thead>\n",
       "    <tr style=\"text-align: right;\">\n",
       "      <th></th>\n",
       "      <th>название</th>\n",
       "      <th>платформа</th>\n",
       "      <th>год_выхода</th>\n",
       "      <th>жанр</th>\n",
       "      <th>продажи_северная_америка</th>\n",
       "      <th>продажи_европпа</th>\n",
       "      <th>продажи_япония</th>\n",
       "      <th>прдажи_другое</th>\n",
       "      <th>оценка_критиков</th>\n",
       "      <th>оценка_игроков</th>\n",
       "      <th>рейтинг</th>\n",
       "      <th>возрастные_ограничения</th>\n",
       "      <th>все_продажи</th>\n",
       "    </tr>\n",
       "  </thead>\n",
       "  <tbody>\n",
       "    <tr>\n",
       "      <th>0</th>\n",
       "      <td>Wii Sports</td>\n",
       "      <td>Wii</td>\n",
       "      <td>2006</td>\n",
       "      <td>Sports</td>\n",
       "      <td>41.36</td>\n",
       "      <td>28.96</td>\n",
       "      <td>3.77</td>\n",
       "      <td>8.45</td>\n",
       "      <td>76.0</td>\n",
       "      <td>8.0</td>\n",
       "      <td>E</td>\n",
       "      <td>6+</td>\n",
       "      <td>82.54</td>\n",
       "    </tr>\n",
       "    <tr>\n",
       "      <th>1</th>\n",
       "      <td>Super Mario Bros.</td>\n",
       "      <td>NES</td>\n",
       "      <td>1985</td>\n",
       "      <td>Platform</td>\n",
       "      <td>29.08</td>\n",
       "      <td>3.58</td>\n",
       "      <td>6.81</td>\n",
       "      <td>0.77</td>\n",
       "      <td>0.0</td>\n",
       "      <td>0.0</td>\n",
       "      <td>0</td>\n",
       "      <td>Неизвестен</td>\n",
       "      <td>40.24</td>\n",
       "    </tr>\n",
       "    <tr>\n",
       "      <th>2</th>\n",
       "      <td>Mario Kart Wii</td>\n",
       "      <td>Wii</td>\n",
       "      <td>2008</td>\n",
       "      <td>Racing</td>\n",
       "      <td>15.68</td>\n",
       "      <td>12.76</td>\n",
       "      <td>3.79</td>\n",
       "      <td>3.29</td>\n",
       "      <td>82.0</td>\n",
       "      <td>8.3</td>\n",
       "      <td>E</td>\n",
       "      <td>6+</td>\n",
       "      <td>35.52</td>\n",
       "    </tr>\n",
       "    <tr>\n",
       "      <th>3</th>\n",
       "      <td>Wii Sports Resort</td>\n",
       "      <td>Wii</td>\n",
       "      <td>2009</td>\n",
       "      <td>Sports</td>\n",
       "      <td>15.61</td>\n",
       "      <td>10.93</td>\n",
       "      <td>3.28</td>\n",
       "      <td>2.95</td>\n",
       "      <td>80.0</td>\n",
       "      <td>8.0</td>\n",
       "      <td>E</td>\n",
       "      <td>6+</td>\n",
       "      <td>32.77</td>\n",
       "    </tr>\n",
       "    <tr>\n",
       "      <th>4</th>\n",
       "      <td>Pokemon Red/Pokemon Blue</td>\n",
       "      <td>GB</td>\n",
       "      <td>1996</td>\n",
       "      <td>Role-Playing</td>\n",
       "      <td>11.27</td>\n",
       "      <td>8.89</td>\n",
       "      <td>10.22</td>\n",
       "      <td>1.00</td>\n",
       "      <td>0.0</td>\n",
       "      <td>0.0</td>\n",
       "      <td>0</td>\n",
       "      <td>Неизвестен</td>\n",
       "      <td>31.38</td>\n",
       "    </tr>\n",
       "  </tbody>\n",
       "</table>\n",
       "</div>"
      ],
      "text/plain": [
       "                   название платформа  год_выхода          жанр  \\\n",
       "0                Wii Sports       Wii        2006        Sports   \n",
       "1         Super Mario Bros.       NES        1985      Platform   \n",
       "2            Mario Kart Wii       Wii        2008        Racing   \n",
       "3         Wii Sports Resort       Wii        2009        Sports   \n",
       "4  Pokemon Red/Pokemon Blue        GB        1996  Role-Playing   \n",
       "\n",
       "   продажи_северная_америка  продажи_европпа  продажи_япония  прдажи_другое  \\\n",
       "0                     41.36            28.96            3.77           8.45   \n",
       "1                     29.08             3.58            6.81           0.77   \n",
       "2                     15.68            12.76            3.79           3.29   \n",
       "3                     15.61            10.93            3.28           2.95   \n",
       "4                     11.27             8.89           10.22           1.00   \n",
       "\n",
       "   оценка_критиков  оценка_игроков рейтинг возрастные_ограничения  все_продажи  \n",
       "0             76.0             8.0       E                     6+        82.54  \n",
       "1              0.0             0.0       0             Неизвестен        40.24  \n",
       "2             82.0             8.3       E                     6+        35.52  \n",
       "3             80.0             8.0       E                     6+        32.77  \n",
       "4              0.0             0.0       0             Неизвестен        31.38  "
      ]
     },
     "execution_count": 16,
     "metadata": {},
     "output_type": "execute_result"
    }
   ],
   "source": [
    "df['все_продажи'] = df['продажи_северная_америка']+df['продажи_европпа']+df['продажи_япония']+df['прдажи_другое'] \n",
    "df.head()"
   ]
  },
  {
   "cell_type": "markdown",
   "id": "6f3142a0",
   "metadata": {},
   "source": [
    "Итог:\n",
    "\n",
    "  - Мы привели таблицу в читаемый вид и добавили колонку с возрастными ограничениями, по сути это есть перевод колонки \"рейтинг\" примечательно, что такая классификация появилась после 1992 года с выходо игры \"Мортал Комбат\".\n",
    "  - Значения некоторых колонок решено оставить с типом float, т.к. оценки носят не целочисленный характер.\n",
    "  - Пропуски оставим, как есть - многие из них не проверить или это долгая кропотливая работа (есть мысль, о том что можно воспользоваться парсингом, но с этой задачей я пока не справлюсь. !НУЖНО ОЦЕНОЧНОЕ СУЖДЕНИЕ СО СТОРОНЫ ПРОВЕРЯЮЩЕГО, НА СКОЛЬКО ЭТО ВОЗМОЖНО?!) "
   ]
  },
  {
   "cell_type": "markdown",
   "id": "2b79383a",
   "metadata": {},
   "source": [
    "### Шаг 3. Проведите исследовательский анализ данных"
   ]
  },
  {
   "cell_type": "markdown",
   "id": "294ecc27",
   "metadata": {},
   "source": [
    " - Посмотрите, сколько игр выпускалось в разные годы. Важны ли данные за все периоды?\n",
    " - Посмотрите, как менялись продажи по платформам. Выберите платформы с наибольшими суммарными продажами и постройте распределение по годам. За какой характерный срок появляются новые и исчезают старые платформы?\n",
    " - Возьмите данные за соответствующийактуальный период.Актуальный период определите самостоятельно в результате исследования предыдущих вопросов. Основной фактор — эти данные помогут построить прогноз на 2017 год.\n",
    " - Не учитывайте в работе данные запредыдущие годы.\n",
    " - Какие платформы лидируют по продажам, растут или падают? Выберите несколько потенциально прибыльных платформ.\n",
    " - Постройте график «ящик с усами» по глобальным продажам игр в разбивке по платформам. Опишите результат.\n",
    " -  Посмотрите, как влияют на продажи внутри одной популярной платформы отзывы пользователей и критиков. Постройте диаграмму рассеяния и посчитайте корреляцию между отзывами и продажами. Сформулируйте выводы.\n",
    " - Соотнесите выводы с продажами игр на других платформах.\n",
    " - Посмотрите на общее распределение игр по жанрам. Что можно сказать о самых прибыльных жанрах? Выделяются ли жанры с высокими и низкими продажами?"
   ]
  },
  {
   "cell_type": "code",
   "execution_count": 17,
   "id": "fb2b711c",
   "metadata": {},
   "outputs": [
    {
     "data": {
      "image/png": "[encoded data removed]",
      "text/plain": [
       "<Figure size 2160x720 with 1 Axes>"
      ]
     },
     "metadata": {
      "needs_background": "light"
     },
     "output_type": "display_data"
    }
   ],
   "source": [
    "# Посмотрим на продажи за всё время \n",
    "sales= df.pivot_table(index='год_выхода', values='все_продажи', aggfunc='count')\n",
    "sales.columns = ['count']\n",
    "f, ax = plt.subplots(figsize=(30,10))\n",
    "ax = seaborn.barplot(x=sales.index, y=\"count\", data=sales, palette=\"GnBu_d\")"
   ]
  },
  {
   "cell_type": "markdown",
   "id": "cc057e29",
   "metadata": {},
   "source": [
    "  Из графика можно подчерпнуть, что и до Pentium 1  были игры, например на Spectrum и его подобным, после появились \"Денди\" и \"Сега\". До 2009 года рынок всё время рос, а затем вышла революция на рынке мобильных устройств - Iphone 3. (Прекрасно помню тот день, когда коммуникаторы на Windows mobile и смартфоны на Simbian, стали никому не нужны)."
   ]
  },
  {
   "cell_type": "code",
   "execution_count": 18,
   "id": "5ed81d18",
   "metadata": {},
   "outputs": [
    {
     "data": {
      "text/html": [
       "<div>\n",
       "<style scoped>\n",
       "    .dataframe tbody tr th:only-of-type {\n",
       "        vertical-align: middle;\n",
       "    }\n",
       "\n",
       "    .dataframe tbody tr th {\n",
       "        vertical-align: top;\n",
       "    }\n",
       "\n",
       "    .dataframe thead tr th {\n",
       "        text-align: left;\n",
       "    }\n",
       "\n",
       "    .dataframe thead tr:last-of-type th {\n",
       "        text-align: right;\n",
       "    }\n",
       "</style>\n",
       "<table border=\"1\" class=\"dataframe\">\n",
       "  <thead>\n",
       "    <tr>\n",
       "      <th></th>\n",
       "      <th>sum</th>\n",
       "      <th>&lt;lambda&gt;</th>\n",
       "    </tr>\n",
       "    <tr>\n",
       "      <th></th>\n",
       "      <th>все_продажи</th>\n",
       "      <th>все_продажи</th>\n",
       "    </tr>\n",
       "    <tr>\n",
       "      <th>год_выхода</th>\n",
       "      <th></th>\n",
       "      <th></th>\n",
       "    </tr>\n",
       "  </thead>\n",
       "  <tbody>\n",
       "    <tr>\n",
       "      <th>0</th>\n",
       "      <td>98.92</td>\n",
       "      <td>14.731199</td>\n",
       "    </tr>\n",
       "    <tr>\n",
       "      <th>1980</th>\n",
       "      <td>11.38</td>\n",
       "      <td>1.694713</td>\n",
       "    </tr>\n",
       "    <tr>\n",
       "      <th>1981</th>\n",
       "      <td>35.68</td>\n",
       "      <td>5.313477</td>\n",
       "    </tr>\n",
       "    <tr>\n",
       "      <th>1982</th>\n",
       "      <td>28.88</td>\n",
       "      <td>4.300819</td>\n",
       "    </tr>\n",
       "    <tr>\n",
       "      <th>1983</th>\n",
       "      <td>16.80</td>\n",
       "      <td>2.501862</td>\n",
       "    </tr>\n",
       "    <tr>\n",
       "      <th>1984</th>\n",
       "      <td>50.35</td>\n",
       "      <td>7.498138</td>\n",
       "    </tr>\n",
       "    <tr>\n",
       "      <th>1985</th>\n",
       "      <td>53.95</td>\n",
       "      <td>8.034252</td>\n",
       "    </tr>\n",
       "    <tr>\n",
       "      <th>1986</th>\n",
       "      <td>37.08</td>\n",
       "      <td>5.521966</td>\n",
       "    </tr>\n",
       "    <tr>\n",
       "      <th>1987</th>\n",
       "      <td>21.70</td>\n",
       "      <td>3.231571</td>\n",
       "    </tr>\n",
       "    <tr>\n",
       "      <th>1988</th>\n",
       "      <td>47.21</td>\n",
       "      <td>7.030529</td>\n",
       "    </tr>\n",
       "    <tr>\n",
       "      <th>1989</th>\n",
       "      <td>73.45</td>\n",
       "      <td>10.938198</td>\n",
       "    </tr>\n",
       "    <tr>\n",
       "      <th>1990</th>\n",
       "      <td>49.37</td>\n",
       "      <td>7.352197</td>\n",
       "    </tr>\n",
       "    <tr>\n",
       "      <th>1991</th>\n",
       "      <td>32.23</td>\n",
       "      <td>4.799702</td>\n",
       "    </tr>\n",
       "    <tr>\n",
       "      <th>1992</th>\n",
       "      <td>76.16</td>\n",
       "      <td>11.341772</td>\n",
       "    </tr>\n",
       "    <tr>\n",
       "      <th>1993</th>\n",
       "      <td>45.99</td>\n",
       "      <td>6.848846</td>\n",
       "    </tr>\n",
       "    <tr>\n",
       "      <th>1994</th>\n",
       "      <td>79.23</td>\n",
       "      <td>11.798958</td>\n",
       "    </tr>\n",
       "    <tr>\n",
       "      <th>1995</th>\n",
       "      <td>88.12</td>\n",
       "      <td>13.122859</td>\n",
       "    </tr>\n",
       "    <tr>\n",
       "      <th>1996</th>\n",
       "      <td>199.15</td>\n",
       "      <td>29.657483</td>\n",
       "    </tr>\n",
       "    <tr>\n",
       "      <th>1997</th>\n",
       "      <td>201.07</td>\n",
       "      <td>29.943410</td>\n",
       "    </tr>\n",
       "    <tr>\n",
       "      <th>1998</th>\n",
       "      <td>256.31</td>\n",
       "      <td>38.169769</td>\n",
       "    </tr>\n",
       "    <tr>\n",
       "      <th>1999</th>\n",
       "      <td>251.11</td>\n",
       "      <td>37.395383</td>\n",
       "    </tr>\n",
       "    <tr>\n",
       "      <th>2000</th>\n",
       "      <td>201.66</td>\n",
       "      <td>30.031273</td>\n",
       "    </tr>\n",
       "    <tr>\n",
       "      <th>2001</th>\n",
       "      <td>331.46</td>\n",
       "      <td>49.361132</td>\n",
       "    </tr>\n",
       "    <tr>\n",
       "      <th>2002</th>\n",
       "      <td>394.97</td>\n",
       "      <td>58.819062</td>\n",
       "    </tr>\n",
       "    <tr>\n",
       "      <th>2003</th>\n",
       "      <td>357.54</td>\n",
       "      <td>53.244974</td>\n",
       "    </tr>\n",
       "    <tr>\n",
       "      <th>2004</th>\n",
       "      <td>418.68</td>\n",
       "      <td>62.349963</td>\n",
       "    </tr>\n",
       "    <tr>\n",
       "      <th>2005</th>\n",
       "      <td>457.82</td>\n",
       "      <td>68.178704</td>\n",
       "    </tr>\n",
       "    <tr>\n",
       "      <th>2006</th>\n",
       "      <td>517.71</td>\n",
       "      <td>77.097543</td>\n",
       "    </tr>\n",
       "    <tr>\n",
       "      <th>2007</th>\n",
       "      <td>604.75</td>\n",
       "      <td>90.059568</td>\n",
       "    </tr>\n",
       "    <tr>\n",
       "      <th>2008</th>\n",
       "      <td>671.50</td>\n",
       "      <td>100.000000</td>\n",
       "    </tr>\n",
       "    <tr>\n",
       "      <th>2009</th>\n",
       "      <td>658.82</td>\n",
       "      <td>98.111690</td>\n",
       "    </tr>\n",
       "    <tr>\n",
       "      <th>2010</th>\n",
       "      <td>590.13</td>\n",
       "      <td>87.882353</td>\n",
       "    </tr>\n",
       "    <tr>\n",
       "      <th>2011</th>\n",
       "      <td>507.58</td>\n",
       "      <td>75.588980</td>\n",
       "    </tr>\n",
       "    <tr>\n",
       "      <th>2012</th>\n",
       "      <td>355.84</td>\n",
       "      <td>52.991809</td>\n",
       "    </tr>\n",
       "    <tr>\n",
       "      <th>2013</th>\n",
       "      <td>361.24</td>\n",
       "      <td>53.795979</td>\n",
       "    </tr>\n",
       "    <tr>\n",
       "      <th>2014</th>\n",
       "      <td>331.53</td>\n",
       "      <td>49.371556</td>\n",
       "    </tr>\n",
       "    <tr>\n",
       "      <th>2015</th>\n",
       "      <td>267.98</td>\n",
       "      <td>39.907669</td>\n",
       "    </tr>\n",
       "    <tr>\n",
       "      <th>2016</th>\n",
       "      <td>129.94</td>\n",
       "      <td>19.350707</td>\n",
       "    </tr>\n",
       "  </tbody>\n",
       "</table>\n",
       "</div>"
      ],
      "text/plain": [
       "                   sum    <lambda>\n",
       "           все_продажи все_продажи\n",
       "год_выхода                        \n",
       "0                98.92   14.731199\n",
       "1980             11.38    1.694713\n",
       "1981             35.68    5.313477\n",
       "1982             28.88    4.300819\n",
       "1983             16.80    2.501862\n",
       "1984             50.35    7.498138\n",
       "1985             53.95    8.034252\n",
       "1986             37.08    5.521966\n",
       "1987             21.70    3.231571\n",
       "1988             47.21    7.030529\n",
       "1989             73.45   10.938198\n",
       "1990             49.37    7.352197\n",
       "1991             32.23    4.799702\n",
       "1992             76.16   11.341772\n",
       "1993             45.99    6.848846\n",
       "1994             79.23   11.798958\n",
       "1995             88.12   13.122859\n",
       "1996            199.15   29.657483\n",
       "1997            201.07   29.943410\n",
       "1998            256.31   38.169769\n",
       "1999            251.11   37.395383\n",
       "2000            201.66   30.031273\n",
       "2001            331.46   49.361132\n",
       "2002            394.97   58.819062\n",
       "2003            357.54   53.244974\n",
       "2004            418.68   62.349963\n",
       "2005            457.82   68.178704\n",
       "2006            517.71   77.097543\n",
       "2007            604.75   90.059568\n",
       "2008            671.50  100.000000\n",
       "2009            658.82   98.111690\n",
       "2010            590.13   87.882353\n",
       "2011            507.58   75.588980\n",
       "2012            355.84   52.991809\n",
       "2013            361.24   53.795979\n",
       "2014            331.53   49.371556\n",
       "2015            267.98   39.907669\n",
       "2016            129.94   19.350707"
      ]
     },
     "metadata": {},
     "output_type": "display_data"
    }
   ],
   "source": [
    "total = df[df['год_выхода']==2008]['все_продажи'].sum()\n",
    "table = pd.pivot_table(df, \n",
    "                       index=[\"год_выхода\"],\n",
    "                       values=['все_продажи'],\n",
    "                       aggfunc=[np.sum, \n",
    "                                (lambda x: sum(x)/total*100)\n",
    "                               ])\n",
    "display(table)"
   ]
  },
  {
   "cell_type": "markdown",
   "id": "1bfa3def",
   "metadata": {},
   "source": [
    "После 2009 года продажи падали в среднем на 10%, в 2012и13 годах были одинаковы, а затем падение ускорилось на 25-30% по году."
   ]
  },
  {
   "cell_type": "code",
   "execution_count": 19,
   "id": "39f14d36",
   "metadata": {},
   "outputs": [
    {
     "data": {
      "image/png": "[encoded data removed]",
      "text/plain": [
       "<Figure size 1440x720 with 1 Axes>"
      ]
     },
     "metadata": {
      "needs_background": "light"
     },
     "output_type": "display_data"
    }
   ],
   "source": [
    "platform = df.pivot_table(index='платформа', values='все_продажи', aggfunc='count')\n",
    "platform.columns = ['count']\n",
    "f, ax = plt.subplots(figsize=(20,10))\n",
    "ax = seaborn.barplot(x=platform.index, y=\"count\", data=platform, palette=\"GnBu_d\")"
   ]
  },
  {
   "cell_type": "code",
   "execution_count": 20,
   "id": "2a5d553f",
   "metadata": {},
   "outputs": [],
   "source": [
    "#(df['платформа']=='DS').sum()"
   ]
  },
  {
   "cell_type": "code",
   "execution_count": 21,
   "id": "d2875899",
   "metadata": {},
   "outputs": [],
   "source": [
    "#(df['платформа']=='PS2').sum()"
   ]
  },
  {
   "cell_type": "markdown",
   "id": "3f812367",
   "metadata": {},
   "source": [
    "Из выше преведённого видим, что на лидирующих позициях Nintendo DS и Sony PS2, затем в порядке убывания PS3, Wii, X-box 360, PSP, PS и другие. Примечательно, что если бы не пиратский софт, бар персонального компьютера, скорее всего, обошел бы и лидеров нашего графика. "
   ]
  },
  {
   "cell_type": "code",
   "execution_count": 22,
   "id": "97c91649",
   "metadata": {},
   "outputs": [
    {
     "data": {
      "image/png": "[encoded data removed]",
      "text/plain": [
       "<Figure size 1440x720 with 1 Axes>"
      ]
     },
     "metadata": {
      "needs_background": "light"
     },
     "output_type": "display_data"
    }
   ],
   "source": [
    "genre = df.pivot_table(index='жанр', values='все_продажи', aggfunc='sum')\n",
    "genre.columns = ['count']\n",
    "f, ax = plt.subplots(figsize=(20,10))\n",
    "ax = seaborn.barplot(x=genre.index, y=\"count\", data=genre, palette=\"GnBu_d\")"
   ]
  },
  {
   "cell_type": "markdown",
   "id": "b3185d7f",
   "metadata": {},
   "source": [
    "Экшен, спорт, шутеры. И точно не пазлы, хотя они чуть прибыльнее стратегий!"
   ]
  },
  {
   "cell_type": "code",
   "execution_count": 23,
   "id": "32b8e849",
   "metadata": {},
   "outputs": [],
   "source": [
    "#посмтроим ящик с усами по продажам\n",
    "#plot = df.boxplot(df.groupby('платформа')['все_продажи'], figsize=(8, 8)).set_ylim(0, 2.5)\n",
    "#plt.title('Диаграмма по продажам игр')\n"
   ]
  },
  {
   "cell_type": "code",
   "execution_count": 24,
   "id": "95e5ce8c",
   "metadata": {},
   "outputs": [
    {
     "data": {
      "text/plain": [
       "<AxesSubplot:xlabel='год_выхода'>"
      ]
     },
     "execution_count": 24,
     "metadata": {},
     "output_type": "execute_result"
    },
    {
     "data": {
      "image/png": "[encoded data removed]",
      "text/plain": [
       "<Figure size 1440x720 with 1 Axes>"
      ]
     },
     "metadata": {
      "needs_background": "light"
     },
     "output_type": "display_data"
    }
   ],
   "source": [
    "\n",
    "df[df['год_выхода']>2000].pivot_table(index='год_выхода', columns = 'платформа', values = 'все_продажи', aggfunc = 'sum').plot(grid=True, figsize=(20, 10))"
   ]
  },
  {
   "cell_type": "markdown",
   "id": "b94ae653",
   "metadata": {},
   "source": [
    "     Проанализировав графики приходим к заключению: есть определённая закономернось, игровая консоль, а точнее интерес кней и играм для платформы набирают критичискую массу примерно через 1-1,5 года, думаю к этому времени можно делать первые заключения по рекламным компаниям и в целом первые итоги по вложениям в разработку консоли. Затем через 2 - 2.5 года можно делать заключение о популярности консоли. Пиком популярности можно считать период первые 4-5 лет, затем постепенное угасание, в течении 2х и чуть более лет. Таким образом для поддержания жизни платформы, новые консоли должны появляться раз в 8 лет, а первые рендеры желательно объявлять уже через 6-7 лет. Поддержку консолей предыдущего поколения то же никто не отменял, таким образом время жизни одной консоли достигает в среднем 10 лет."
   ]
  },
  {
   "cell_type": "markdown",
   "id": "4bb58cf0",
   "metadata": {},
   "source": [
    "  - Посмотрим на продажи самых популярных консолей."
   ]
  },
  {
   "cell_type": "code",
   "execution_count": 25,
   "id": "a7cf2475",
   "metadata": {},
   "outputs": [],
   "source": [
    "top_consol = ['PS2', 'X360', 'PS3', 'Wii', 'DS', 'PS', 'XB', 'PS4', 'XOne','3DS']"
   ]
  },
  {
   "cell_type": "code",
   "execution_count": 26,
   "id": "d44d824e",
   "metadata": {},
   "outputs": [
    {
     "data": {
      "text/plain": [
       "<AxesSubplot:xlabel='год_выхода'>"
      ]
     },
     "execution_count": 26,
     "metadata": {},
     "output_type": "execute_result"
    },
    {
     "data": {
      "image/png": "[encoded data removed]",
      "text/plain": [
       "<Figure size 1440x720 with 1 Axes>"
      ]
     },
     "metadata": {
      "needs_background": "light"
     },
     "output_type": "display_data"
    }
   ],
   "source": [
    "df[df['год_выхода']>1995].query('платформа == @top_consol').pivot_table(index='год_выхода', columns = 'платформа', values = 'все_продажи', aggfunc = 'sum').plot(grid=True, figsize=(20, 10))"
   ]
  },
  {
   "cell_type": "code",
   "execution_count": 27,
   "id": "bc8cdceb",
   "metadata": {},
   "outputs": [
    {
     "data": {
      "text/plain": [
       "<AxesSubplot:xlabel='год_выхода'>"
      ]
     },
     "execution_count": 27,
     "metadata": {},
     "output_type": "execute_result"
    },
    {
     "data": {
      "image/png": "[encoded data removed]",
      "text/plain": [
       "<Figure size 1440x720 with 1 Axes>"
      ]
     },
     "metadata": {
      "needs_background": "light"
     },
     "output_type": "display_data"
    }
   ],
   "source": [
    "top_new = ['PS4', 'XOne']\n",
    "df[df['год_выхода']>2013].query('платформа == @top_new').pivot_table(index='год_выхода', columns = 'платформа', values = 'все_продажи', aggfunc = 'sum').plot(grid=True, figsize=(20, 10))"
   ]
  },
  {
   "cell_type": "markdown",
   "id": "179d57c3",
   "metadata": {},
   "source": [
    "Нас интересуют продажи сравнительно новых консолей в платформе, а именно PS4 и XONE. Их старшие версии входят в топ платформ, именно по ним мы сможем построить прогноз на 2017год. Началом актуального периода можно считать 2013 год, с этотго момента выходят новые консоли. Карманные 3ds и PSV, а так же старшую WIIU хоть и можно назвать условно свежими, однако популярность они не набрали и ипродажи сводятся к минимуму. "
   ]
  },
  {
   "cell_type": "markdown",
   "id": "ef5a6ef5",
   "metadata": {},
   "source": [
    "В топ консолей мы добавили новые от Sony и Microsoft соответственно и хоть они стартовали в один момент к 2015 году уже ясно, что PS4 отрывается, а это значит что и в 2017 скорее всего она будет набирать популярность. Так же в целом по платформе с 2000 у PS заметно больше аудитория чем у Xbox."
   ]
  },
  {
   "cell_type": "code",
   "execution_count": 28,
   "id": "72b7cbc4",
   "metadata": {},
   "outputs": [
    {
     "data": {
      "text/html": [
       "<div>\n",
       "<style scoped>\n",
       "    .dataframe tbody tr th:only-of-type {\n",
       "        vertical-align: middle;\n",
       "    }\n",
       "\n",
       "    .dataframe tbody tr th {\n",
       "        vertical-align: top;\n",
       "    }\n",
       "\n",
       "    .dataframe thead th {\n",
       "        text-align: right;\n",
       "    }\n",
       "</style>\n",
       "<table border=\"1\" class=\"dataframe\">\n",
       "  <thead>\n",
       "    <tr style=\"text-align: right;\">\n",
       "      <th></th>\n",
       "      <th>название</th>\n",
       "      <th>платформа</th>\n",
       "      <th>год_выхода</th>\n",
       "      <th>жанр</th>\n",
       "      <th>продажи_северная_америка</th>\n",
       "      <th>продажи_европпа</th>\n",
       "      <th>продажи_япония</th>\n",
       "      <th>прдажи_другое</th>\n",
       "      <th>оценка_критиков</th>\n",
       "      <th>оценка_игроков</th>\n",
       "      <th>рейтинг</th>\n",
       "      <th>возрастные_ограничения</th>\n",
       "      <th>все_продажи</th>\n",
       "    </tr>\n",
       "  </thead>\n",
       "  <tbody>\n",
       "    <tr>\n",
       "      <th>31</th>\n",
       "      <td>Call of Duty: Black Ops 3</td>\n",
       "      <td>PS4</td>\n",
       "      <td>2015</td>\n",
       "      <td>Shooter</td>\n",
       "      <td>6.03</td>\n",
       "      <td>5.86</td>\n",
       "      <td>0.36</td>\n",
       "      <td>2.38</td>\n",
       "      <td>0.0</td>\n",
       "      <td>0.0</td>\n",
       "      <td>0</td>\n",
       "      <td>Неизвестен</td>\n",
       "      <td>14.63</td>\n",
       "    </tr>\n",
       "    <tr>\n",
       "      <th>42</th>\n",
       "      <td>Grand Theft Auto V</td>\n",
       "      <td>PS4</td>\n",
       "      <td>2014</td>\n",
       "      <td>Action</td>\n",
       "      <td>3.96</td>\n",
       "      <td>6.31</td>\n",
       "      <td>0.38</td>\n",
       "      <td>1.97</td>\n",
       "      <td>97.0</td>\n",
       "      <td>8.3</td>\n",
       "      <td>M</td>\n",
       "      <td>16+</td>\n",
       "      <td>12.62</td>\n",
       "    </tr>\n",
       "    <tr>\n",
       "      <th>47</th>\n",
       "      <td>Pokemon Omega Ruby/Pokemon Alpha Sapphire</td>\n",
       "      <td>3DS</td>\n",
       "      <td>2014</td>\n",
       "      <td>Role-Playing</td>\n",
       "      <td>4.35</td>\n",
       "      <td>3.49</td>\n",
       "      <td>3.10</td>\n",
       "      <td>0.74</td>\n",
       "      <td>0.0</td>\n",
       "      <td>0.0</td>\n",
       "      <td>0</td>\n",
       "      <td>Неизвестен</td>\n",
       "      <td>11.68</td>\n",
       "    </tr>\n",
       "    <tr>\n",
       "      <th>77</th>\n",
       "      <td>FIFA 16</td>\n",
       "      <td>PS4</td>\n",
       "      <td>2015</td>\n",
       "      <td>Sports</td>\n",
       "      <td>1.12</td>\n",
       "      <td>6.12</td>\n",
       "      <td>0.06</td>\n",
       "      <td>1.28</td>\n",
       "      <td>82.0</td>\n",
       "      <td>4.3</td>\n",
       "      <td>E</td>\n",
       "      <td>6+</td>\n",
       "      <td>8.58</td>\n",
       "    </tr>\n",
       "    <tr>\n",
       "      <th>87</th>\n",
       "      <td>Star Wars Battlefront (2015)</td>\n",
       "      <td>PS4</td>\n",
       "      <td>2015</td>\n",
       "      <td>Shooter</td>\n",
       "      <td>2.99</td>\n",
       "      <td>3.49</td>\n",
       "      <td>0.22</td>\n",
       "      <td>1.28</td>\n",
       "      <td>0.0</td>\n",
       "      <td>0.0</td>\n",
       "      <td>0</td>\n",
       "      <td>Неизвестен</td>\n",
       "      <td>7.98</td>\n",
       "    </tr>\n",
       "  </tbody>\n",
       "</table>\n",
       "</div>"
      ],
      "text/plain": [
       "                                     название платформа  год_выхода  \\\n",
       "31                  Call of Duty: Black Ops 3       PS4        2015   \n",
       "42                         Grand Theft Auto V       PS4        2014   \n",
       "47  Pokemon Omega Ruby/Pokemon Alpha Sapphire       3DS        2014   \n",
       "77                                    FIFA 16       PS4        2015   \n",
       "87               Star Wars Battlefront (2015)       PS4        2015   \n",
       "\n",
       "            жанр  продажи_северная_америка  продажи_европпа  продажи_япония  \\\n",
       "31       Shooter                      6.03             5.86            0.36   \n",
       "42        Action                      3.96             6.31            0.38   \n",
       "47  Role-Playing                      4.35             3.49            3.10   \n",
       "77        Sports                      1.12             6.12            0.06   \n",
       "87       Shooter                      2.99             3.49            0.22   \n",
       "\n",
       "    прдажи_другое  оценка_критиков  оценка_игроков рейтинг  \\\n",
       "31           2.38              0.0             0.0       0   \n",
       "42           1.97             97.0             8.3       M   \n",
       "47           0.74              0.0             0.0       0   \n",
       "77           1.28             82.0             4.3       E   \n",
       "87           1.28              0.0             0.0       0   \n",
       "\n",
       "   возрастные_ограничения  все_продажи  \n",
       "31             Неизвестен        14.63  \n",
       "42                    16+        12.62  \n",
       "47             Неизвестен        11.68  \n",
       "77                     6+         8.58  \n",
       "87             Неизвестен         7.98  "
      ]
     },
     "execution_count": 28,
     "metadata": {},
     "output_type": "execute_result"
    }
   ],
   "source": [
    "# Новая таблица:\n",
    "df_new = df[df['год_выхода']>2013]\n",
    "df_new.head(5)"
   ]
  },
  {
   "cell_type": "code",
   "execution_count": 29,
   "id": "7f602030",
   "metadata": {},
   "outputs": [
    {
     "data": {
      "text/plain": [
       "'Продажи 2013-2016'"
      ]
     },
     "metadata": {},
     "output_type": "display_data"
    },
    {
     "data": {
      "text/html": [
       "<div>\n",
       "<style scoped>\n",
       "    .dataframe tbody tr th:only-of-type {\n",
       "        vertical-align: middle;\n",
       "    }\n",
       "\n",
       "    .dataframe tbody tr th {\n",
       "        vertical-align: top;\n",
       "    }\n",
       "\n",
       "    .dataframe thead th {\n",
       "        text-align: right;\n",
       "    }\n",
       "</style>\n",
       "<table border=\"1\" class=\"dataframe\">\n",
       "  <thead>\n",
       "    <tr style=\"text-align: right;\">\n",
       "      <th></th>\n",
       "      <th>все_продажи</th>\n",
       "    </tr>\n",
       "    <tr>\n",
       "      <th>платформа</th>\n",
       "      <th></th>\n",
       "    </tr>\n",
       "  </thead>\n",
       "  <tbody>\n",
       "    <tr>\n",
       "      <th>3DS</th>\n",
       "      <td>86.68</td>\n",
       "    </tr>\n",
       "    <tr>\n",
       "      <th>PC</th>\n",
       "      <td>27.05</td>\n",
       "    </tr>\n",
       "    <tr>\n",
       "      <th>PS3</th>\n",
       "      <td>68.18</td>\n",
       "    </tr>\n",
       "    <tr>\n",
       "      <th>PS4</th>\n",
       "      <td>288.15</td>\n",
       "    </tr>\n",
       "    <tr>\n",
       "      <th>PSP</th>\n",
       "      <td>0.36</td>\n",
       "    </tr>\n",
       "    <tr>\n",
       "      <th>PSV</th>\n",
       "      <td>22.40</td>\n",
       "    </tr>\n",
       "    <tr>\n",
       "      <th>Wii</th>\n",
       "      <td>5.07</td>\n",
       "    </tr>\n",
       "    <tr>\n",
       "      <th>WiiU</th>\n",
       "      <td>42.98</td>\n",
       "    </tr>\n",
       "    <tr>\n",
       "      <th>X360</th>\n",
       "      <td>48.22</td>\n",
       "    </tr>\n",
       "    <tr>\n",
       "      <th>XOne</th>\n",
       "      <td>140.36</td>\n",
       "    </tr>\n",
       "  </tbody>\n",
       "</table>\n",
       "</div>"
      ],
      "text/plain": [
       "           все_продажи\n",
       "платформа             \n",
       "3DS              86.68\n",
       "PC               27.05\n",
       "PS3              68.18\n",
       "PS4             288.15\n",
       "PSP               0.36\n",
       "PSV              22.40\n",
       "Wii               5.07\n",
       "WiiU             42.98\n",
       "X360             48.22\n",
       "XOne            140.36"
      ]
     },
     "metadata": {},
     "output_type": "display_data"
    }
   ],
   "source": [
    "# Выведеим тоже самое, но не графически. Нас интересуют общие продажи по сути для прогнозирования актуальных платформ.\n",
    "display ('Продажи 2013-2016', df_new.pivot_table(index='платформа', values = 'все_продажи', aggfunc = 'sum'))"
   ]
  },
  {
   "cell_type": "markdown",
   "id": "6e2b5941",
   "metadata": {},
   "source": [
    "К 3 марта 2017 3DS, заменит продолжение платформы - Nintendo Switch, этой консолью Nintendo перекроет сразу две потребности рынка, а именно карманные и стационарные консоли. И хоть DS была достаточно популярна и могла тигаться с мостодонтами рынка Sony и Microsoft, 3DS не смогла привлечь к себе внимания ожидаемого маркетологами и за 4-5 лет практически полностью себя изжила - если по простому \"не выстрелила\"."
   ]
  },
  {
   "cell_type": "markdown",
   "id": "a4a17539",
   "metadata": {},
   "source": [
    "  - Ящик с усами."
   ]
  },
  {
   "cell_type": "code",
   "execution_count": 30,
   "id": "ce746a79",
   "metadata": {},
   "outputs": [
    {
     "data": {
      "text/plain": [
       "(0.0, 3.0)"
      ]
     },
     "execution_count": 30,
     "metadata": {},
     "output_type": "execute_result"
    },
    {
     "data": {
      "image/png": "[encoded data removed]",
      "text/plain": [
       "<Figure size 720x720 with 1 Axes>"
      ]
     },
     "metadata": {
      "needs_background": "light"
     },
     "output_type": "display_data"
    }
   ],
   "source": [
    "# Общий вид для обеих консолей:\n",
    "df_new.boxplot(column='все_продажи',fontsize=50, figsize=(10,10))\n",
    "plt.ylim([0,3])"
   ]
  },
  {
   "cell_type": "code",
   "execution_count": 31,
   "id": "dae8c70e",
   "metadata": {},
   "outputs": [
    {
     "data": {
      "text/plain": [
       "(0.0, 3.0)"
      ]
     },
     "execution_count": 31,
     "metadata": {},
     "output_type": "execute_result"
    },
    {
     "data": {
      "image/png": "[encoded data removed]",
      "text/plain": [
       "<Figure size 1080x504 with 1 Axes>"
      ]
     },
     "metadata": {
      "needs_background": "light"
     },
     "output_type": "display_data"
    }
   ],
   "source": [
    "df_new.boxplot(column = 'все_продажи', by = ['платформа'], grid=True, figsize=(15, 7))\n",
    "plt.ylim([0,3])"
   ]
  },
  {
   "cell_type": "code",
   "execution_count": 32,
   "id": "76ccc627",
   "metadata": {},
   "outputs": [
    {
     "data": {
      "text/html": [
       "<div>\n",
       "<style scoped>\n",
       "    .dataframe tbody tr th:only-of-type {\n",
       "        vertical-align: middle;\n",
       "    }\n",
       "\n",
       "    .dataframe tbody tr th {\n",
       "        vertical-align: top;\n",
       "    }\n",
       "\n",
       "    .dataframe thead th {\n",
       "        text-align: right;\n",
       "    }\n",
       "</style>\n",
       "<table border=\"1\" class=\"dataframe\">\n",
       "  <thead>\n",
       "    <tr style=\"text-align: right;\">\n",
       "      <th></th>\n",
       "      <th>count</th>\n",
       "      <th>mean</th>\n",
       "      <th>std</th>\n",
       "      <th>min</th>\n",
       "      <th>25%</th>\n",
       "      <th>50%</th>\n",
       "      <th>75%</th>\n",
       "      <th>max</th>\n",
       "    </tr>\n",
       "    <tr>\n",
       "      <th>платформа</th>\n",
       "      <th></th>\n",
       "      <th></th>\n",
       "      <th></th>\n",
       "      <th></th>\n",
       "      <th></th>\n",
       "      <th></th>\n",
       "      <th></th>\n",
       "      <th></th>\n",
       "    </tr>\n",
       "  </thead>\n",
       "  <tbody>\n",
       "    <tr>\n",
       "      <th>3DS</th>\n",
       "      <td>212.0</td>\n",
       "      <td>0.408868</td>\n",
       "      <td>1.188368</td>\n",
       "      <td>0.01</td>\n",
       "      <td>0.0300</td>\n",
       "      <td>0.090</td>\n",
       "      <td>0.2500</td>\n",
       "      <td>11.68</td>\n",
       "    </tr>\n",
       "    <tr>\n",
       "      <th>PC</th>\n",
       "      <td>151.0</td>\n",
       "      <td>0.179139</td>\n",
       "      <td>0.329359</td>\n",
       "      <td>0.01</td>\n",
       "      <td>0.0200</td>\n",
       "      <td>0.060</td>\n",
       "      <td>0.2000</td>\n",
       "      <td>3.05</td>\n",
       "    </tr>\n",
       "    <tr>\n",
       "      <th>PS3</th>\n",
       "      <td>219.0</td>\n",
       "      <td>0.311324</td>\n",
       "      <td>0.633059</td>\n",
       "      <td>0.01</td>\n",
       "      <td>0.0400</td>\n",
       "      <td>0.110</td>\n",
       "      <td>0.3250</td>\n",
       "      <td>5.27</td>\n",
       "    </tr>\n",
       "    <tr>\n",
       "      <th>PS4</th>\n",
       "      <td>376.0</td>\n",
       "      <td>0.766356</td>\n",
       "      <td>1.614969</td>\n",
       "      <td>0.01</td>\n",
       "      <td>0.0575</td>\n",
       "      <td>0.185</td>\n",
       "      <td>0.6900</td>\n",
       "      <td>14.63</td>\n",
       "    </tr>\n",
       "    <tr>\n",
       "      <th>PSP</th>\n",
       "      <td>13.0</td>\n",
       "      <td>0.027692</td>\n",
       "      <td>0.027735</td>\n",
       "      <td>0.01</td>\n",
       "      <td>0.0100</td>\n",
       "      <td>0.020</td>\n",
       "      <td>0.0200</td>\n",
       "      <td>0.09</td>\n",
       "    </tr>\n",
       "    <tr>\n",
       "      <th>PSV</th>\n",
       "      <td>295.0</td>\n",
       "      <td>0.075932</td>\n",
       "      <td>0.141591</td>\n",
       "      <td>0.01</td>\n",
       "      <td>0.0200</td>\n",
       "      <td>0.040</td>\n",
       "      <td>0.0900</td>\n",
       "      <td>1.96</td>\n",
       "    </tr>\n",
       "    <tr>\n",
       "      <th>Wii</th>\n",
       "      <td>11.0</td>\n",
       "      <td>0.460909</td>\n",
       "      <td>0.625451</td>\n",
       "      <td>0.01</td>\n",
       "      <td>0.0350</td>\n",
       "      <td>0.180</td>\n",
       "      <td>0.7550</td>\n",
       "      <td>2.01</td>\n",
       "    </tr>\n",
       "    <tr>\n",
       "      <th>WiiU</th>\n",
       "      <td>73.0</td>\n",
       "      <td>0.588767</td>\n",
       "      <td>1.161467</td>\n",
       "      <td>0.01</td>\n",
       "      <td>0.0500</td>\n",
       "      <td>0.190</td>\n",
       "      <td>0.5700</td>\n",
       "      <td>7.09</td>\n",
       "    </tr>\n",
       "    <tr>\n",
       "      <th>X360</th>\n",
       "      <td>111.0</td>\n",
       "      <td>0.434414</td>\n",
       "      <td>0.628967</td>\n",
       "      <td>0.01</td>\n",
       "      <td>0.0700</td>\n",
       "      <td>0.180</td>\n",
       "      <td>0.5050</td>\n",
       "      <td>4.28</td>\n",
       "    </tr>\n",
       "    <tr>\n",
       "      <th>XOne</th>\n",
       "      <td>228.0</td>\n",
       "      <td>0.615614</td>\n",
       "      <td>1.046513</td>\n",
       "      <td>0.01</td>\n",
       "      <td>0.0500</td>\n",
       "      <td>0.205</td>\n",
       "      <td>0.6325</td>\n",
       "      <td>7.39</td>\n",
       "    </tr>\n",
       "  </tbody>\n",
       "</table>\n",
       "</div>"
      ],
      "text/plain": [
       "           count      mean       std   min     25%    50%     75%    max\n",
       "платформа                                                               \n",
       "3DS        212.0  0.408868  1.188368  0.01  0.0300  0.090  0.2500  11.68\n",
       "PC         151.0  0.179139  0.329359  0.01  0.0200  0.060  0.2000   3.05\n",
       "PS3        219.0  0.311324  0.633059  0.01  0.0400  0.110  0.3250   5.27\n",
       "PS4        376.0  0.766356  1.614969  0.01  0.0575  0.185  0.6900  14.63\n",
       "PSP         13.0  0.027692  0.027735  0.01  0.0100  0.020  0.0200   0.09\n",
       "PSV        295.0  0.075932  0.141591  0.01  0.0200  0.040  0.0900   1.96\n",
       "Wii         11.0  0.460909  0.625451  0.01  0.0350  0.180  0.7550   2.01\n",
       "WiiU        73.0  0.588767  1.161467  0.01  0.0500  0.190  0.5700   7.09\n",
       "X360       111.0  0.434414  0.628967  0.01  0.0700  0.180  0.5050   4.28\n",
       "XOne       228.0  0.615614  1.046513  0.01  0.0500  0.205  0.6325   7.39"
      ]
     },
     "execution_count": 32,
     "metadata": {},
     "output_type": "execute_result"
    }
   ],
   "source": [
    "df_new.groupby('платформа')['все_продажи'].describe()"
   ]
  },
  {
   "cell_type": "markdown",
   "id": "8d4d4581",
   "metadata": {},
   "source": [
    "В данном случае мы видим, что от \"карманных\" приставок выручка меньше, хотя колличество продаж иногда не уступает старшим версиям, а затраты на разработку игр относительно соизмеримы. Одновременно с этим медианное значение для старших консолей где-то в районе 0,2-0,3 млн - это совсем не запредельная цифра учитывая сколько на сегодня тратится средств на разработку игр. Для \"карманных\" консолей и того меньше - медиана варьируется от 0,05 до 0,1 млн."
   ]
  },
  {
   "cell_type": "markdown",
   "id": "2a8bafab",
   "metadata": {},
   "source": [
    "  - Что бы проследить оценки критиков и игроков посмотрим на общую картину."
   ]
  },
  {
   "cell_type": "code",
   "execution_count": 33,
   "id": "f0a4d6c4",
   "metadata": {},
   "outputs": [
    {
     "data": {
      "text/plain": [
       "<AxesSubplot:xlabel='оценка_критиков', ylabel='все_продажи'>"
      ]
     },
     "execution_count": 33,
     "metadata": {},
     "output_type": "execute_result"
    },
    {
     "data": {
      "image/png": "[encoded data removed]",
      "text/plain": [
       "<Figure size 432x288 with 1 Axes>"
      ]
     },
     "metadata": {
      "needs_background": "light"
     },
     "output_type": "display_data"
    }
   ],
   "source": [
    "df_new[df_new['оценка_критиков']>0].plot(kind='scatter', x='оценка_критиков', y='все_продажи', ec='black')"
   ]
  },
  {
   "cell_type": "code",
   "execution_count": 34,
   "id": "cf8d8ea6",
   "metadata": {},
   "outputs": [
    {
     "data": {
      "text/plain": [
       "<AxesSubplot:xlabel='оценка_игроков', ylabel='все_продажи'>"
      ]
     },
     "execution_count": 34,
     "metadata": {},
     "output_type": "execute_result"
    },
    {
     "data": {
      "image/png": "[encoded data removed]",
      "text/plain": [
       "<Figure size 432x288 with 1 Axes>"
      ]
     },
     "metadata": {
      "needs_background": "light"
     },
     "output_type": "display_data"
    }
   ],
   "source": [
    "df_new[df_new['оценка_игроков']>0].plot(kind='scatter', x='оценка_игроков', y='все_продажи', ec='black')"
   ]
  },
  {
   "cell_type": "code",
   "execution_count": 35,
   "id": "c1452836",
   "metadata": {},
   "outputs": [
    {
     "data": {
      "text/plain": [
       "<AxesSubplot:>"
      ]
     },
     "execution_count": 35,
     "metadata": {},
     "output_type": "execute_result"
    },
    {
     "data": {
      "image/png": "[encoded data removed]",
      "text/plain": [
       "<Figure size 504x504 with 2 Axes>"
      ]
     },
     "metadata": {
      "needs_background": "light"
     },
     "output_type": "display_data"
    }
   ],
   "source": [
    "plt.figure(figsize=(7,7))\n",
    "seaborn.heatmap(df_new.corr(), annot=True, cmap=\"PuBu\", fmt='.2f', annot_kws={'size':16})"
   ]
  },
  {
   "cell_type": "code",
   "execution_count": 36,
   "id": "a6245c89",
   "metadata": {},
   "outputs": [
    {
     "data": {
      "text/plain": [
       "<AxesSubplot:>"
      ]
     },
     "execution_count": 36,
     "metadata": {},
     "output_type": "execute_result"
    },
    {
     "data": {
      "image/png": "[encoded data removed]",
      "text/plain": [
       "<Figure size 72x216 with 2 Axes>"
      ]
     },
     "metadata": {
      "needs_background": "light"
     },
     "output_type": "display_data"
    }
   ],
   "source": [
    "filtered = df_new[['все_продажи','оценка_игроков', 'оценка_критиков']]\n",
    "plt.figure(figsize=(1,3))\n",
    "seaborn.heatmap(filtered.corr()[['все_продажи']].sort_values(by='все_продажи', ascending=False), cmap=\"PuBu\", \n",
    "            annot=True, annot_kws={'size':20})"
   ]
  },
  {
   "cell_type": "markdown",
   "id": "4a0c3d91",
   "metadata": {},
   "source": [
    "Что касается мнения критиков - чем больше оценка, тем больше продажи. И эта закономерность просматривается на всех консолях платформ. Схожая картина и на графике оцнок игроками, однако игроки более критичны и разборчивы в своих оценках."
   ]
  },
  {
   "cell_type": "markdown",
   "id": "878bf760",
   "metadata": {},
   "source": [
    "### Вывод по секции анализ данных:\n",
    "\n",
    "   - История игр начинается в 1980 году, хотя в широком плане с 1994-95 годов с появление первых консолей в 2008-09 годах продажи копий набирают критическую массу. Это значит, что спрос и предложение в своего рода балансе, и покупательские способности потребителей соответствуют ожиданиям геймеров, маркетологов, разработчиков а самое главное производителей консолей. За тем с расширением возможностей мобильных устройств начал падать спрос и на консоли, игры как и сами консоли начали дорожать. Всё это вполне очевидно т.к. покупательская способность потенциальных пользователей невелика ибо на все эти игры нужно время, которое пропорционально уменьшается с увеличением трудозатрат на возможность заработать на эти игры и консоли.\n",
    "   \n",
    "   - Каждая новая консоль стоит дороже предыдущей, это объясняется инфляцией и как не странно сложностью изготовления комплектующих. Одна консоль вполне себе жизнеспособна до 10 лет, хотя её 'трупное окоченение' начинается уже через 7. Как раз к этому времени появляются рендеры новых консолей уже известных нам платформ, а ещё через год маркетологи начинают муссировать эту тему в сми - это очень важно для того, что бы игроки начали готовиться к покупке новых устройств, а магазины усиленно сбывали остатки на складах. О популярности консоли и платформы в целом можно судить через 2,5 - 4 года от старта новой консоли.\n",
    "   \n",
    "   - К концу 2016 года можно в полне конкретно опреде лить, что в 2017 году лидером продаж консолей и игр для них станет продукция Sony - PS4. Игры которые принесут наибольшую прибыль - это экшены, спорт и шутеры. (Да же на сегодняшний день с ценой в более 90 тыс за консоль и более 5тыс за игру это самый дешевый отдых, а значит игры будут популярны.)\n",
    "   \n",
    "   - Медианы продаж для платформ Sony и Microsoft варьируются в районе 0,25 млн, причём это характерно как для консолей предыдущих поколений, так и для новых. Верхняя граница предела для них варьируется в районе 1,5 млн, исключая PS2 и XB. Что касаетя передовых консолей, мы так же видим, что для PS4 немного обходит XONE в верхней границе предельных значений продаж.  Для Nintendo продажи сложились немного иначе. Медианные продажи в районе  0,15-0,2 млн, верхняя граница для основной консоли 1,1 млн, для карманных версий 0,6-0,75 млн."
   ]
  },
  {
   "cell_type": "markdown",
   "id": "4a10c1c9",
   "metadata": {},
   "source": [
    "### Шаг 4. Составьте портрет пользователя каждого региона"
   ]
  },
  {
   "cell_type": "markdown",
   "id": "ff575084",
   "metadata": {},
   "source": [
    "   - Определите для пользователя каждого региона (NA, EU, JP).\n",
    "   - Самые популярные жанры (топ-5). Поясните разницу.\n",
    "   - Влияет ли рейтинг ESRB (возрастные ограничения) на продажи в отдельном регионе?"
   ]
  },
  {
   "cell_type": "code",
   "execution_count": 37,
   "id": "b66e9496",
   "metadata": {},
   "outputs": [
    {
     "data": {
      "image/png": "[encoded data removed]",
      "text/plain": [
       "<Figure size 1080x360 with 1 Axes>"
      ]
     },
     "metadata": {
      "needs_background": "light"
     },
     "output_type": "display_data"
    },
    {
     "data": {
      "image/png": "[encoded data removed]",
      "text/plain": [
       "<Figure size 1080x360 with 1 Axes>"
      ]
     },
     "metadata": {
      "needs_background": "light"
     },
     "output_type": "display_data"
    },
    {
     "data": {
      "image/png": "[encoded data removed]",
      "text/plain": [
       "<Figure size 1080x360 with 1 Axes>"
      ]
     },
     "metadata": {
      "needs_background": "light"
     },
     "output_type": "display_data"
    }
   ],
   "source": [
    "sales = df_new.pivot_table(index='платформа', values='продажи_северная_америка', aggfunc='sum')\n",
    "sales.columns = ['продажи_северная_америка']\n",
    "f, ax = plt.subplots(figsize=(15,5))\n",
    "ax = seaborn.barplot(x=sales.index, y=\"продажи_северная_америка\", data=sales, palette=\"GnBu_d\")\n",
    "\n",
    "sales = df_new.pivot_table(index='платформа', values='продажи_европпа', aggfunc='sum')\n",
    "sales.columns = ['продажи_европпа']\n",
    "f, ax = plt.subplots(figsize=(15,5))\n",
    "ax = seaborn.barplot(x=sales.index, y=\"продажи_европпа\", data=sales, palette=\"RdYlBu_r\")\n",
    "\n",
    "sales = df_new.pivot_table(index='платформа', values='продажи_япония', aggfunc='sum')\n",
    "sales.columns = ['продажи_япония']\n",
    "f, ax = plt.subplots(figsize=(15,5))\n",
    "ax = seaborn.barplot(x=sales.index, y=\"продажи_япония\", data=sales, palette=\"RdBu\")"
   ]
  },
  {
   "cell_type": "markdown",
   "id": "5250f9f8",
   "metadata": {},
   "source": [
    "Из диаграмм видим:\n",
    "   - топ-5 для Америки: PS2, X360, Wii, PS3 и DS, PS.\n",
    "   - топ-5 для Европпы: PS2, PS3, X360, PS.\n",
    "   - топ-5 для Японии: DS, PS и PS2, SNES, NES, 3DS."
   ]
  },
  {
   "cell_type": "code",
   "execution_count": 38,
   "id": "c19c0caa",
   "metadata": {},
   "outputs": [
    {
     "data": {
      "image/png": "[encoded data removed]",
      "text/plain": [
       "<Figure size 1080x360 with 1 Axes>"
      ]
     },
     "metadata": {
      "needs_background": "light"
     },
     "output_type": "display_data"
    }
   ],
   "source": [
    "sales = df_new.pivot_table(index='платформа', values='продажи_япония', aggfunc='sum')\n",
    "genre.columns = ['продажи_япония']\n",
    "f, ax = plt.subplots(figsize=(15,5))\n",
    "ax = seaborn.barplot(x=genre.index, y=\"продажи_япония\", data=genre, palette=\"RdBu\")"
   ]
  },
  {
   "cell_type": "code",
   "execution_count": 39,
   "id": "0644b40b",
   "metadata": {},
   "outputs": [
    {
     "data": {
      "image/png": "[encoded data removed]",
      "text/plain": [
       "<Figure size 1080x360 with 1 Axes>"
      ]
     },
     "metadata": {
      "needs_background": "light"
     },
     "output_type": "display_data"
    },
    {
     "data": {
      "image/png": "[encoded data removed]",
      "text/plain": [
       "<Figure size 1080x360 with 1 Axes>"
      ]
     },
     "metadata": {
      "needs_background": "light"
     },
     "output_type": "display_data"
    },
    {
     "data": {
      "image/png": "[encoded data removed]",
      "text/plain": [
       "<Figure size 1080x360 with 1 Axes>"
      ]
     },
     "metadata": {
      "needs_background": "light"
     },
     "output_type": "display_data"
    }
   ],
   "source": [
    "genre = df_new.pivot_table(index='жанр', values='продажи_северная_америка', aggfunc='sum')\n",
    "genre.columns = ['продажи_северная_америка']\n",
    "f, ax = plt.subplots(figsize=(15,5))\n",
    "ax = seaborn.barplot(x=genre.index, y=\"продажи_северная_америка\", data=genre, palette=\"GnBu_d\")\n",
    "\n",
    "genre = df_new.pivot_table(index='жанр', values='продажи_европпа', aggfunc='sum')\n",
    "genre.columns = ['продажи_европпа']\n",
    "f, ax = plt.subplots(figsize=(15,5))\n",
    "ax = seaborn.barplot(x=genre.index, y=\"продажи_европпа\", data=genre, palette=\"RdYlBu_r\")\n",
    "\n",
    "genre = df_new.pivot_table(index='жанр', values='продажи_япония', aggfunc='sum')\n",
    "genre.columns = ['продажи_япония']\n",
    "f, ax = plt.subplots(figsize=(15,5))\n",
    "ax = seaborn.barplot(x=genre.index, y=\"продажи_япония\", data=genre, palette=\"RdBu\")"
   ]
  },
  {
   "cell_type": "code",
   "execution_count": 40,
   "id": "c0869356",
   "metadata": {},
   "outputs": [
    {
     "data": {
      "text/html": [
       "<style  type=\"text/css\" >\n",
       "#T_f6bd6_row0_col0{\n",
       "            width:  10em;\n",
       "             height:  80%;\n",
       "        }#T_f6bd6_row1_col0{\n",
       "            width:  10em;\n",
       "             height:  80%;\n",
       "            background:  linear-gradient(90deg,green 11.8%, transparent 11.8%);\n",
       "        }#T_f6bd6_row2_col0{\n",
       "            width:  10em;\n",
       "             height:  80%;\n",
       "            background:  linear-gradient(90deg,green 100.0%, transparent 100.0%);\n",
       "        }#T_f6bd6_row3_col0{\n",
       "            width:  10em;\n",
       "             height:  80%;\n",
       "            background:  linear-gradient(90deg,green 47.4%, transparent 47.4%);\n",
       "        }#T_f6bd6_row4_col0{\n",
       "            width:  10em;\n",
       "             height:  80%;\n",
       "            background:  linear-gradient(90deg,green 48.7%, transparent 48.7%);\n",
       "        }</style><table id=\"T_f6bd6_\" ><thead>    <tr>        <th class=\"blank level0\" ></th>        <th class=\"col_heading level0 col0\" >продажи_европпа</th>    </tr>    <tr>        <th class=\"index_name level0\" >возрастные_ограничения</th>        <th class=\"blank\" ></th>    </tr></thead><tbody>\n",
       "                <tr>\n",
       "                        <th id=\"T_f6bd6_level0_row0\" class=\"row_heading level0 row0\" >10+</th>\n",
       "                        <td id=\"T_f6bd6_row0_col0\" class=\"data row0 col0\" >26.160000</td>\n",
       "            </tr>\n",
       "            <tr>\n",
       "                        <th id=\"T_f6bd6_level0_row1\" class=\"row_heading level0 row1\" >12+</th>\n",
       "                        <td id=\"T_f6bd6_row1_col0\" class=\"data row1 col0\" >34.070000</td>\n",
       "            </tr>\n",
       "            <tr>\n",
       "                        <th id=\"T_f6bd6_level0_row2\" class=\"row_heading level0 row2\" >16+</th>\n",
       "                        <td id=\"T_f6bd6_row2_col0\" class=\"data row2 col0\" >93.440000</td>\n",
       "            </tr>\n",
       "            <tr>\n",
       "                        <th id=\"T_f6bd6_level0_row3\" class=\"row_heading level0 row3\" >6+</th>\n",
       "                        <td id=\"T_f6bd6_row3_col0\" class=\"data row3 col0\" >58.060000</td>\n",
       "            </tr>\n",
       "            <tr>\n",
       "                        <th id=\"T_f6bd6_level0_row4\" class=\"row_heading level0 row4\" >Неизвестен</th>\n",
       "                        <td id=\"T_f6bd6_row4_col0\" class=\"data row4 col0\" >58.950000</td>\n",
       "            </tr>\n",
       "    </tbody></table>"
      ],
      "text/plain": [
       "<pandas.io.formats.style.Styler at 0x7efbafd3b1f0>"
      ]
     },
     "metadata": {},
     "output_type": "display_data"
    },
    {
     "data": {
      "text/html": [
       "<style  type=\"text/css\" >\n",
       "#T_fc797_row0_col0{\n",
       "            width:  10em;\n",
       "             height:  80%;\n",
       "        }#T_fc797_row1_col0{\n",
       "            width:  10em;\n",
       "             height:  80%;\n",
       "            background:  linear-gradient(90deg,red 19.7%, transparent 19.7%);\n",
       "        }#T_fc797_row2_col0{\n",
       "            width:  10em;\n",
       "             height:  80%;\n",
       "            background:  linear-gradient(90deg,red 6.8%, transparent 6.8%);\n",
       "        }#T_fc797_row3_col0{\n",
       "            width:  10em;\n",
       "             height:  80%;\n",
       "            background:  linear-gradient(90deg,red 8.5%, transparent 8.5%);\n",
       "        }#T_fc797_row4_col0{\n",
       "            width:  10em;\n",
       "             height:  80%;\n",
       "            background:  linear-gradient(90deg,red 100.0%, transparent 100.0%);\n",
       "        }</style><table id=\"T_fc797_\" ><thead>    <tr>        <th class=\"blank level0\" ></th>        <th class=\"col_heading level0 col0\" >продажи_япония</th>    </tr>    <tr>        <th class=\"index_name level0\" >возрастные_ограничения</th>        <th class=\"blank\" ></th>    </tr></thead><tbody>\n",
       "                <tr>\n",
       "                        <th id=\"T_fc797_level0_row0\" class=\"row_heading level0 row0\" >10+</th>\n",
       "                        <td id=\"T_fc797_row0_col0\" class=\"data row0 col0\" >4.460000</td>\n",
       "            </tr>\n",
       "            <tr>\n",
       "                        <th id=\"T_fc797_level0_row1\" class=\"row_heading level0 row1\" >12+</th>\n",
       "                        <td id=\"T_fc797_row1_col0\" class=\"data row1 col0\" >14.780000</td>\n",
       "            </tr>\n",
       "            <tr>\n",
       "                        <th id=\"T_fc797_level0_row2\" class=\"row_heading level0 row2\" >16+</th>\n",
       "                        <td id=\"T_fc797_row2_col0\" class=\"data row2 col0\" >8.010000</td>\n",
       "            </tr>\n",
       "            <tr>\n",
       "                        <th id=\"T_fc797_level0_row3\" class=\"row_heading level0 row3\" >6+</th>\n",
       "                        <td id=\"T_fc797_row3_col0\" class=\"data row3 col0\" >8.940000</td>\n",
       "            </tr>\n",
       "            <tr>\n",
       "                        <th id=\"T_fc797_level0_row4\" class=\"row_heading level0 row4\" >Неизвестен</th>\n",
       "                        <td id=\"T_fc797_row4_col0\" class=\"data row4 col0\" >56.900000</td>\n",
       "            </tr>\n",
       "    </tbody></table>"
      ],
      "text/plain": [
       "<pandas.io.formats.style.Styler at 0x7efbaff83910>"
      ]
     },
     "metadata": {},
     "output_type": "display_data"
    },
    {
     "data": {
      "text/html": [
       "<style  type=\"text/css\" >\n",
       "#T_49da2_row0_col0{\n",
       "            width:  10em;\n",
       "             height:  80%;\n",
       "        }#T_49da2_row1_col0{\n",
       "            width:  10em;\n",
       "             height:  80%;\n",
       "            background:  linear-gradient(90deg,blue 9.1%, transparent 9.1%);\n",
       "        }#T_49da2_row2_col0{\n",
       "            width:  10em;\n",
       "             height:  80%;\n",
       "            background:  linear-gradient(90deg,blue 100.0%, transparent 100.0%);\n",
       "        }#T_49da2_row3_col0{\n",
       "            width:  10em;\n",
       "             height:  80%;\n",
       "            background:  linear-gradient(90deg,blue 27.7%, transparent 27.7%);\n",
       "        }#T_49da2_row4_col0{\n",
       "            width:  10em;\n",
       "             height:  80%;\n",
       "            background:  linear-gradient(90deg,blue 49.8%, transparent 49.8%);\n",
       "        }</style><table id=\"T_49da2_\" ><thead>    <tr>        <th class=\"blank level0\" ></th>        <th class=\"col_heading level0 col0\" >продажи_северная_америка</th>    </tr>    <tr>        <th class=\"index_name level0\" >возрастные_ограничения</th>        <th class=\"blank\" ></th>    </tr></thead><tbody>\n",
       "                <tr>\n",
       "                        <th id=\"T_49da2_level0_row0\" class=\"row_heading level0 row0\" >10+</th>\n",
       "                        <td id=\"T_49da2_row0_col0\" class=\"data row0 col0\" >33.230000</td>\n",
       "            </tr>\n",
       "            <tr>\n",
       "                        <th id=\"T_49da2_level0_row1\" class=\"row_heading level0 row1\" >12+</th>\n",
       "                        <td id=\"T_49da2_row1_col0\" class=\"data row1 col0\" >38.950000</td>\n",
       "            </tr>\n",
       "            <tr>\n",
       "                        <th id=\"T_49da2_level0_row2\" class=\"row_heading level0 row2\" >16+</th>\n",
       "                        <td id=\"T_49da2_row2_col0\" class=\"data row2 col0\" >96.420000</td>\n",
       "            </tr>\n",
       "            <tr>\n",
       "                        <th id=\"T_49da2_level0_row3\" class=\"row_heading level0 row3\" >6+</th>\n",
       "                        <td id=\"T_49da2_row3_col0\" class=\"data row3 col0\" >50.740000</td>\n",
       "            </tr>\n",
       "            <tr>\n",
       "                        <th id=\"T_49da2_level0_row4\" class=\"row_heading level0 row4\" >Неизвестен</th>\n",
       "                        <td id=\"T_49da2_row4_col0\" class=\"data row4 col0\" >64.720000</td>\n",
       "            </tr>\n",
       "    </tbody></table>"
      ],
      "text/plain": [
       "<pandas.io.formats.style.Styler at 0x7efba77488b0>"
      ]
     },
     "metadata": {},
     "output_type": "display_data"
    }
   ],
   "source": [
    "display(df_new.pivot_table(index='возрастные_ограничения', values = 'продажи_европпа', aggfunc = 'sum').style.bar(color = 'green'))\n",
    "display(df_new.pivot_table(index='возрастные_ограничения', values = 'продажи_япония', aggfunc = 'sum').style.bar(color = 'red'))\n",
    "display(df_new.pivot_table(index='возрастные_ограничения', values = 'продажи_северная_америка', aggfunc='sum').style.bar(color = 'blue'))"
   ]
  },
  {
   "cell_type": "markdown",
   "id": "795cde21",
   "metadata": {},
   "source": [
    "### Вывод по секции портрет пользователя:\n",
    "   Очень контрастные показания, что на одной стороне мира продаётся хорошо, на другой наоборот, итак подробнее:\n",
    "   - В Европпе лучше продаются от Sony и Microsoft, а в Японии царит Nintendo. Хотя это характерно лишь для карманной верссии, старший брат - Wii в Европпе продаётся лучше, чем в Японии, что достаточно неоднозначно. Wii нацелена на интерактивное взаимодействие, возможно небольшие квартиры японцев просто не адаптировать под такого рода консоли. Рабочий день в Японии составляет зачастую 14-16 часов, а рабочая неделя 6 дней, под постоянную занятость и перегрузки очень хорошо подпадают карманные друзья DS и 3DS.\n",
    "   - Та же картина с жанрами. Экшен, спорт и шутер лидируют в Америке  и Европпе. Японии карманные консоли не в силах тягаться со стационарными братьями, а значит заядлого геймера нужно брать сюжетом, по-этому жанр ролевых игр для Японского рынка выглядит выгоднее, сразу за ним следует тот же экшен.\n",
    "   - По возрастным ограничениям в США и Европпе преобладает категория 6+ и 16+(с преобладанием последней), в Японии после 6+ сразу следует 12+. \n",
    "   - В то время как общие продажи за предыдущие 3 года в среднем падали на 30% от года к когду, у платформы от Microsoft ситуация сложилась ещё хуже, за 2016 год продажи упали на 50% от 2015 года. "
   ]
  },
  {
   "cell_type": "markdown",
   "id": "0a72bf7d",
   "metadata": {},
   "source": [
    "### Шаг 5. Проверьте гипотезы\n",
    "   - Средние пользовательские рейтинги платформ Xbox One и PC одинаковые.\n",
    "   - Средние пользовательские рейтинги жанров Action и Sports разные."
   ]
  },
  {
   "cell_type": "markdown",
   "id": "6d8bcd0d",
   "metadata": {},
   "source": [
    "#### 5.1 Средние пользовательские рейтинги платформ Xbox One и PC одинаковые."
   ]
  },
  {
   "cell_type": "markdown",
   "id": "ff8f8f1e",
   "metadata": {},
   "source": [
    " - Н0 (нулевая гипотеза) - средние пользовательские рейтинги платформ XOne и PC одинаковые.\n",
    " - Н1 (альтернативная гипотеза) - средние пользовательские рейтинги платформ XOne и PC различны."
   ]
  },
  {
   "cell_type": "code",
   "execution_count": 41,
   "id": "87c65c9c",
   "metadata": {},
   "outputs": [
    {
     "name": "stdout",
     "output_type": "stream",
     "text": [
      "p-значение: 0.10450507919348415\n",
      "Не получилось отвергнуть нулевую гипотезу\n"
     ]
    }
   ],
   "source": [
    "array1 = df_new[(df_new['платформа'] == 'XOne') & (df_new['оценка_игроков'] > 0)]['оценка_игроков']\n",
    "array2 = df_new[(df_new['платформа'] == 'PC') & (df_new['оценка_игроков'] > 0)]['оценка_игроков']\n",
    "\n",
    "alpha = .01 # критический уровень статистической значимости\n",
    "# если p-value окажется меньше него - отвегнем гипотезу\n",
    "\n",
    "results = st.ttest_ind(array1, array2)\n",
    "\n",
    "print('p-значение:', results.pvalue)\n",
    "\n",
    "if results.pvalue < alpha:\n",
    "    print(\"Отвергаем нулевую гипотезу\")\n",
    "else:\n",
    "    print(\"Не получилось отвергнуть нулевую гипотезу\") "
   ]
  },
  {
   "cell_type": "code",
   "execution_count": 42,
   "id": "0c176c2f",
   "metadata": {},
   "outputs": [
    {
     "name": "stdout",
     "output_type": "stream",
     "text": [
      "Средняя оценка пользователей игр для платформы XOne 6.594545454545456\n",
      "Средняя оценка пользователей игр для платформы PC 6.298360655737705\n"
     ]
    }
   ],
   "source": [
    "print('Средняя оценка пользователей игр для платформы XOne', array1.mean())\n",
    "print('Средняя оценка пользователей игр для платформы PC', array2.mean())"
   ]
  },
  {
   "cell_type": "markdown",
   "id": "2ddd31e3",
   "metadata": {},
   "source": [
    "### Вывод:\n",
    "Средняя оценка пользователей для PC и для XOne, практически неотличаются."
   ]
  },
  {
   "cell_type": "markdown",
   "id": "f7530258",
   "metadata": {},
   "source": [
    "#### 5.2 Средние пользовательские рейтинги жанров Action и Sports разные."
   ]
  },
  {
   "cell_type": "markdown",
   "id": "16ff4958",
   "metadata": {},
   "source": [
    " - Н0 - Средние пользовательские рейтинги жанров Action и Sports одинаковы.\n",
    " - Н1 (альтернативная гипотеза) - Средние пользовательские рейтинги жанров Action и Sports разные."
   ]
  },
  {
   "cell_type": "code",
   "execution_count": 43,
   "id": "90740ec8",
   "metadata": {},
   "outputs": [
    {
     "name": "stdout",
     "output_type": "stream",
     "text": [
      "p-значение: 2.8711147985105864e-19\n",
      "Отвергаем нулевую гипотезу\n"
     ]
    }
   ],
   "source": [
    "array1 = df_new[(df_new['жанр'] == 'Action') & (df_new['оценка_игроков'] > 0)]['оценка_игроков']\n",
    "array2 = df_new[(df_new['жанр'] == 'Sports') & (df_new['оценка_игроков'] > 0)]['оценка_игроков']\n",
    "\n",
    "alpha = .01 # критический уровень статистической значимости\n",
    "# если p-value окажется меньше него - отвегнем гипотезу\n",
    "\n",
    "results = st.ttest_ind(array1, array2)\n",
    "\n",
    "print('p-значение:', results.pvalue)\n",
    "\n",
    "if results.pvalue < alpha:\n",
    "    print(\"Отвергаем нулевую гипотезу\")\n",
    "else:\n",
    "    print(\"Не получилось отвергнуть нулевую гипотезу\") "
   ]
  },
  {
   "cell_type": "code",
   "execution_count": 44,
   "id": "632e3c58",
   "metadata": {},
   "outputs": [
    {
     "name": "stdout",
     "output_type": "stream",
     "text": [
      "Средняя оценка пользователей игр Action 6.760606060606061\n",
      "Средняя оценка пользователей игр Sports 5.2251968503937\n"
     ]
    }
   ],
   "source": [
    "# Мы выводим значения, что бы понять правильно ли мы сформулировали вопрос и методику ответа на него.\n",
    "print('Средняя оценка пользователей игр Action', array1.mean())\n",
    "print('Средняя оценка пользователей игр Sports', array2.mean())"
   ]
  },
  {
   "cell_type": "markdown",
   "id": "94901eb8",
   "metadata": {},
   "source": [
    "### Вывод:\n",
    "Средняя оценка пользователей отлична."
   ]
  },
  {
   "cell_type": "markdown",
   "id": "5cd16e65",
   "metadata": {},
   "source": [
    "  - Гипотезы сформулированы, как проверка о равенстве двух средних генеральных совокупностей. Выборки не зависят друг от друга."
   ]
  },
  {
   "cell_type": "markdown",
   "id": "3ec54867",
   "metadata": {},
   "source": [
    "### Что было сделано:"
   ]
  },
  {
   "cell_type": "markdown",
   "id": "57f6e829",
   "metadata": {},
   "source": [
    "Мы немного поработали с данными, добавили колонки \"общие продажи\" и \"возрастные ограничения\" - эта колонка является переработкой колонки рейтига. Провели исследовательский анализ данных, в нём мы узнали, историю игровой индустрии и наглядно убедились в том, что пик мира приставок уже прошел и был достаточно скоротечен. Для рынка Японии, США и Европпы (это 3 самых больших рынка) составили потртрет пользователей и выяснили, что США и Европпа практически ничем не отличаются, однако в США больше любят шутеры. Япония - это немного другой мир и потребности там немного сложнее. Мы проверили гипотезу о пользовательских рейтингах и узнали, что оценочные суждания для PC и XOne мало отличаются, а так же средняя оценка для жанров \"экшен\" и \"спорт\" имеют значительные отличия."
   ]
  },
  {
   "cell_type": "markdown",
   "id": "8b18f7c4",
   "metadata": {},
   "source": [
    "### Общий вывод:\n"
   ]
  },
  {
   "cell_type": "markdown",
   "id": "8bd03a74",
   "metadata": {},
   "source": [
    "  - С появлеием условно мощных носимых устройств рынок консолей начал постепенно валиться, это началось в 2009 году и на сегодняшний день продолжается. Это отражено в первом графике Исследовательского анализа. Именно по той причине, что носимые устройства постепенно проявляют способность частичной или полной замены консолей, а стоимость и сложность их изготовления растет - консоли постепенно собирают всё меньшую аудиторию. \n",
    "  - Больше всего спрос на игры жаров Экшен, спорт и шутер. Это связано с глубокой потребностью эмоциональной и физической разгрузки, собственно как и игры в целом, но конкретно эти категории требуют большей концентрации. Остальные жанры находят меньшую аудиторию. Однако для японии характерен жанр ролевых игр и того же экшена(с преобладанием первого).\n",
    "  - В целом на продажи консолей влияет не только жанр игр, но и колличество игр, у Sony рынок гораздо шире. А значит 2017 год будет для PS4 достаточно урожайным.\n",
    "  - На сегодняшний день будущее игровой индустрии вижу в стримминговых сервисах, т.к. современные консоли уровня 5го поколеия стоят достаточно дорого, а цены на игры на сегодняшний день не соответствуют потребительским ожиданиям - выгоднее продавать подписку. Так же это позволит отсечь пиратский контент, что в свою очередь даст более чистую аналитику, а следовательно и прогнозы. (Относительно предыдущего проэкта могу смело заявить, что нагрузки на сеть опять выростут))."
   ]
  }
 ],
 "metadata": {
  "ExecuteTimeLog": [
   {
    "duration": 48,
    "start_time": "2022-05-01T14:23:44.604Z"
   },
   {
    "duration": 1088,
    "start_time": "2022-05-01T14:23:48.248Z"
   },
   {
    "duration": 36,
    "start_time": "2022-05-01T14:23:50.682Z"
   },
   {
    "duration": 1120,
    "start_time": "2022-05-01T14:23:55.421Z"
   },
   {
    "duration": 36,
    "start_time": "2022-05-01T14:23:56.543Z"
   },
   {
    "duration": 18,
    "start_time": "2022-05-01T14:23:56.581Z"
   },
   {
    "duration": 16,
    "start_time": "2022-05-01T14:23:56.601Z"
   },
   {
    "duration": 5,
    "start_time": "2022-05-01T14:23:56.620Z"
   },
   {
    "duration": 28,
    "start_time": "2022-05-01T14:23:56.627Z"
   },
   {
    "duration": 21,
    "start_time": "2022-05-01T14:23:56.657Z"
   },
   {
    "duration": 14,
    "start_time": "2022-05-01T14:23:56.680Z"
   },
   {
    "duration": 5,
    "start_time": "2022-05-01T14:23:56.695Z"
   },
   {
    "duration": 20,
    "start_time": "2022-05-01T14:23:56.702Z"
   },
   {
    "duration": 34,
    "start_time": "2022-05-01T14:23:56.723Z"
   },
   {
    "duration": 5,
    "start_time": "2022-05-01T14:23:56.759Z"
   },
   {
    "duration": 6,
    "start_time": "2022-05-01T14:23:56.765Z"
   },
   {
    "duration": 123,
    "start_time": "2022-05-01T14:23:56.774Z"
   },
   {
    "duration": 13,
    "start_time": "2022-05-01T14:23:56.899Z"
   },
   {
    "duration": 20,
    "start_time": "2022-05-01T14:23:56.914Z"
   },
   {
    "duration": 406,
    "start_time": "2022-05-01T14:23:56.936Z"
   },
   {
    "duration": 305,
    "start_time": "2022-05-01T14:23:57.344Z"
   },
   {
    "duration": 3,
    "start_time": "2022-05-01T14:23:57.654Z"
   },
   {
    "duration": 5,
    "start_time": "2022-05-01T14:23:57.658Z"
   },
   {
    "duration": 207,
    "start_time": "2022-05-01T14:23:57.665Z"
   },
   {
    "duration": 3,
    "start_time": "2022-05-01T14:23:57.873Z"
   },
   {
    "duration": 382,
    "start_time": "2022-05-01T14:23:57.877Z"
   },
   {
    "duration": 3,
    "start_time": "2022-05-01T14:23:58.261Z"
   },
   {
    "duration": 282,
    "start_time": "2022-05-01T14:23:58.265Z"
   },
   {
    "duration": 22,
    "start_time": "2022-05-01T14:23:58.549Z"
   },
   {
    "duration": 198,
    "start_time": "2022-05-01T14:23:58.572Z"
   },
   {
    "duration": 9,
    "start_time": "2022-05-01T14:23:58.771Z"
   },
   {
    "duration": 235,
    "start_time": "2022-05-01T14:23:58.782Z"
   },
   {
    "duration": 577,
    "start_time": "2022-05-01T14:23:59.019Z"
   },
   {
    "duration": 662,
    "start_time": "2022-05-01T14:23:59.598Z"
   },
   {
    "duration": 903,
    "start_time": "2022-05-01T14:24:00.262Z"
   },
   {
    "duration": 174,
    "start_time": "2022-05-01T14:24:01.166Z"
   },
   {
    "duration": 530,
    "start_time": "2022-05-01T14:24:01.341Z"
   },
   {
    "duration": 101,
    "start_time": "2022-05-01T14:24:01.873Z"
   },
   {
    "duration": 10,
    "start_time": "2022-05-01T14:24:01.975Z"
   },
   {
    "duration": 151,
    "start_time": "2022-05-01T14:24:01.986Z"
   },
   {
    "duration": 51,
    "start_time": "2022-05-01T14:24:02.139Z"
   },
   {
    "duration": 8,
    "start_time": "2022-05-01T14:24:02.192Z"
   },
   {
    "duration": 47,
    "start_time": "2022-05-02T04:55:54.928Z"
   },
   {
    "duration": 1258,
    "start_time": "2022-05-02T04:56:05.391Z"
   },
   {
    "duration": 43,
    "start_time": "2022-05-02T04:56:06.651Z"
   },
   {
    "duration": 17,
    "start_time": "2022-05-02T04:56:07.000Z"
   },
   {
    "duration": 18,
    "start_time": "2022-05-02T04:56:08.050Z"
   },
   {
    "duration": 6,
    "start_time": "2022-05-02T04:56:08.242Z"
   },
   {
    "duration": 6,
    "start_time": "2022-05-02T04:56:08.418Z"
   },
   {
    "duration": 21,
    "start_time": "2022-05-02T04:56:08.614Z"
   },
   {
    "duration": 11,
    "start_time": "2022-05-02T04:56:09.527Z"
   },
   {
    "duration": 5,
    "start_time": "2022-05-02T04:56:09.913Z"
   },
   {
    "duration": 10,
    "start_time": "2022-05-02T04:56:11.090Z"
   },
   {
    "duration": 12,
    "start_time": "2022-05-02T04:56:11.261Z"
   },
   {
    "duration": 3,
    "start_time": "2022-05-02T04:56:11.662Z"
   },
   {
    "duration": 5,
    "start_time": "2022-05-02T04:56:12.122Z"
   },
   {
    "duration": 101,
    "start_time": "2022-05-02T04:56:12.319Z"
   },
   {
    "duration": 13,
    "start_time": "2022-05-02T04:56:12.507Z"
   },
   {
    "duration": 16,
    "start_time": "2022-05-02T04:56:12.941Z"
   },
   {
    "duration": 381,
    "start_time": "2022-05-02T04:56:15.674Z"
   },
   {
    "duration": 293,
    "start_time": "2022-05-02T04:56:17.143Z"
   },
   {
    "duration": 3,
    "start_time": "2022-05-02T04:56:19.720Z"
   },
   {
    "duration": 2,
    "start_time": "2022-05-02T04:56:20.332Z"
   },
   {
    "duration": 199,
    "start_time": "2022-05-02T04:56:21.280Z"
   },
   {
    "duration": 2,
    "start_time": "2022-05-02T04:56:21.742Z"
   },
   {
    "duration": 383,
    "start_time": "2022-05-02T04:56:53.521Z"
   },
   {
    "duration": 3,
    "start_time": "2022-05-02T04:56:56.261Z"
   },
   {
    "duration": 349,
    "start_time": "2022-05-02T04:56:56.861Z"
   },
   {
    "duration": 79,
    "start_time": "2022-05-02T04:57:01.445Z"
   },
   {
    "duration": 101,
    "start_time": "2022-05-02T04:58:22.020Z"
   },
   {
    "duration": 107,
    "start_time": "2022-05-02T04:58:40.533Z"
   },
   {
    "duration": 33,
    "start_time": "2022-05-02T05:09:06.967Z"
   },
   {
    "duration": 127,
    "start_time": "2022-05-02T05:25:25.197Z"
   },
   {
    "duration": 106,
    "start_time": "2022-05-02T05:39:17.278Z"
   },
   {
    "duration": 3,
    "start_time": "2022-05-02T05:39:26.159Z"
   },
   {
    "duration": 32,
    "start_time": "2022-05-02T05:39:26.401Z"
   },
   {
    "duration": 14,
    "start_time": "2022-05-02T05:39:26.698Z"
   },
   {
    "duration": 14,
    "start_time": "2022-05-02T05:39:27.000Z"
   },
   {
    "duration": 5,
    "start_time": "2022-05-02T05:39:27.133Z"
   },
   {
    "duration": 5,
    "start_time": "2022-05-02T05:39:27.237Z"
   },
   {
    "duration": 21,
    "start_time": "2022-05-02T05:39:27.384Z"
   },
   {
    "duration": 11,
    "start_time": "2022-05-02T05:39:28.169Z"
   },
   {
    "duration": 5,
    "start_time": "2022-05-02T05:39:28.491Z"
   },
   {
    "duration": 12,
    "start_time": "2022-05-02T05:39:28.949Z"
   },
   {
    "duration": 14,
    "start_time": "2022-05-02T05:39:29.093Z"
   },
   {
    "duration": 4,
    "start_time": "2022-05-02T05:39:29.401Z"
   },
   {
    "duration": 5,
    "start_time": "2022-05-02T05:39:29.681Z"
   },
   {
    "duration": 100,
    "start_time": "2022-05-02T05:39:29.843Z"
   },
   {
    "duration": 14,
    "start_time": "2022-05-02T05:39:30.030Z"
   },
   {
    "duration": 16,
    "start_time": "2022-05-02T05:39:30.369Z"
   },
   {
    "duration": 366,
    "start_time": "2022-05-02T05:39:31.599Z"
   },
   {
    "duration": 283,
    "start_time": "2022-05-02T05:39:31.991Z"
   },
   {
    "duration": 2,
    "start_time": "2022-05-02T05:39:32.401Z"
   },
   {
    "duration": 2,
    "start_time": "2022-05-02T05:39:32.610Z"
   },
   {
    "duration": 199,
    "start_time": "2022-05-02T05:39:33.195Z"
   },
   {
    "duration": 3,
    "start_time": "2022-05-02T05:39:33.600Z"
   },
   {
    "duration": 380,
    "start_time": "2022-05-02T05:39:33.789Z"
   },
   {
    "duration": 3,
    "start_time": "2022-05-02T05:39:34.325Z"
   },
   {
    "duration": 282,
    "start_time": "2022-05-02T05:39:34.503Z"
   },
   {
    "duration": 34,
    "start_time": "2022-05-02T05:39:39.179Z"
   },
   {
    "duration": 23,
    "start_time": "2022-05-02T05:46:31.038Z"
   },
   {
    "duration": 12,
    "start_time": "2022-05-02T06:03:22.219Z"
   },
   {
    "duration": 980,
    "start_time": "2022-05-02T06:04:18.301Z"
   },
   {
    "duration": 114,
    "start_time": "2022-05-02T06:08:09.918Z"
   },
   {
    "duration": 13,
    "start_time": "2022-05-02T06:08:20.342Z"
   },
   {
    "duration": 17,
    "start_time": "2022-05-02T06:08:37.429Z"
   },
   {
    "duration": 7,
    "start_time": "2022-05-02T06:11:46.929Z"
   },
   {
    "duration": 4,
    "start_time": "2022-05-02T06:12:33.453Z"
   },
   {
    "duration": 1786,
    "start_time": "2022-05-02T06:12:52.972Z"
   },
   {
    "duration": 466,
    "start_time": "2022-05-02T06:13:11.601Z"
   },
   {
    "duration": 184,
    "start_time": "2022-05-02T06:14:53.733Z"
   },
   {
    "duration": 480,
    "start_time": "2022-05-02T06:15:29.335Z"
   },
   {
    "duration": 494,
    "start_time": "2022-05-02T06:16:30.385Z"
   },
   {
    "duration": 104,
    "start_time": "2022-05-02T06:21:41.703Z"
   },
   {
    "duration": 19,
    "start_time": "2022-05-02T06:21:54.515Z"
   },
   {
    "duration": 27,
    "start_time": "2022-05-02T06:22:24.905Z"
   },
   {
    "duration": 27,
    "start_time": "2022-05-02T06:23:03.725Z"
   },
   {
    "duration": 136,
    "start_time": "2022-05-02T06:48:44.444Z"
   },
   {
    "duration": 272,
    "start_time": "2022-05-02T06:49:24.521Z"
   },
   {
    "duration": 106,
    "start_time": "2022-05-02T06:49:28.404Z"
   },
   {
    "duration": 4,
    "start_time": "2022-05-02T06:50:27.754Z"
   },
   {
    "duration": 38,
    "start_time": "2022-05-02T06:50:29.534Z"
   },
   {
    "duration": 14,
    "start_time": "2022-05-02T06:50:29.734Z"
   },
   {
    "duration": 13,
    "start_time": "2022-05-02T06:50:30.077Z"
   },
   {
    "duration": 6,
    "start_time": "2022-05-02T06:50:30.248Z"
   },
   {
    "duration": 5,
    "start_time": "2022-05-02T06:50:30.486Z"
   },
   {
    "duration": 21,
    "start_time": "2022-05-02T06:50:30.686Z"
   },
   {
    "duration": 11,
    "start_time": "2022-05-02T06:50:31.652Z"
   },
   {
    "duration": 4,
    "start_time": "2022-05-02T06:50:31.996Z"
   },
   {
    "duration": 11,
    "start_time": "2022-05-02T06:50:32.559Z"
   },
   {
    "duration": 13,
    "start_time": "2022-05-02T06:50:32.726Z"
   },
   {
    "duration": 3,
    "start_time": "2022-05-02T06:50:33.115Z"
   },
   {
    "duration": 4,
    "start_time": "2022-05-02T06:50:33.471Z"
   },
   {
    "duration": 98,
    "start_time": "2022-05-02T06:50:33.673Z"
   },
   {
    "duration": 13,
    "start_time": "2022-05-02T06:50:33.862Z"
   },
   {
    "duration": 16,
    "start_time": "2022-05-02T06:50:34.263Z"
   },
   {
    "duration": 470,
    "start_time": "2022-05-02T06:50:35.415Z"
   },
   {
    "duration": 28,
    "start_time": "2022-05-02T06:50:35.887Z"
   },
   {
    "duration": 341,
    "start_time": "2022-05-02T06:50:36.206Z"
   },
   {
    "duration": 3,
    "start_time": "2022-05-02T06:50:36.626Z"
   },
   {
    "duration": 3,
    "start_time": "2022-05-02T06:50:36.823Z"
   },
   {
    "duration": 199,
    "start_time": "2022-05-02T06:50:39.253Z"
   },
   {
    "duration": 2,
    "start_time": "2022-05-02T06:50:40.276Z"
   },
   {
    "duration": 386,
    "start_time": "2022-05-02T06:50:40.866Z"
   },
   {
    "duration": 3,
    "start_time": "2022-05-02T06:50:44.013Z"
   },
   {
    "duration": 273,
    "start_time": "2022-05-02T06:50:44.435Z"
   },
   {
    "duration": 109,
    "start_time": "2022-05-02T06:50:46.557Z"
   },
   {
    "duration": 25,
    "start_time": "2022-05-02T06:51:01.564Z"
   },
   {
    "duration": 48,
    "start_time": "2022-05-02T06:53:42.708Z"
   },
   {
    "duration": 5,
    "start_time": "2022-05-02T06:54:33.425Z"
   },
   {
    "duration": 48,
    "start_time": "2022-05-02T06:55:10.814Z"
   },
   {
    "duration": 21,
    "start_time": "2022-05-02T06:55:57.032Z"
   },
   {
    "duration": 28,
    "start_time": "2022-05-02T06:56:11.573Z"
   },
   {
    "duration": 263,
    "start_time": "2022-05-02T07:10:21.723Z"
   },
   {
    "duration": 266,
    "start_time": "2022-05-02T07:10:36.893Z"
   },
   {
    "duration": 299,
    "start_time": "2022-05-02T07:11:28.743Z"
   },
   {
    "duration": 51,
    "start_time": "2022-05-02T07:14:22.546Z"
   },
   {
    "duration": 392,
    "start_time": "2022-05-02T07:15:22.704Z"
   },
   {
    "duration": 21,
    "start_time": "2022-05-02T07:16:00.995Z"
   },
   {
    "duration": 22,
    "start_time": "2022-05-02T07:16:46.243Z"
   },
   {
    "duration": 117,
    "start_time": "2022-05-02T07:16:47.674Z"
   },
   {
    "duration": 34,
    "start_time": "2022-05-02T07:18:39.794Z"
   },
   {
    "duration": 70,
    "start_time": "2022-05-04T07:42:46.723Z"
   },
   {
    "duration": 1763,
    "start_time": "2022-05-04T07:42:57.311Z"
   },
   {
    "duration": 50,
    "start_time": "2022-05-04T07:42:59.077Z"
   },
   {
    "duration": 31,
    "start_time": "2022-05-04T07:42:59.129Z"
   },
   {
    "duration": 20,
    "start_time": "2022-05-04T07:42:59.163Z"
   },
   {
    "duration": 6,
    "start_time": "2022-05-04T07:42:59.185Z"
   },
   {
    "duration": 8,
    "start_time": "2022-05-04T07:42:59.194Z"
   },
   {
    "duration": 73,
    "start_time": "2022-05-04T07:42:59.204Z"
   },
   {
    "duration": 16,
    "start_time": "2022-05-04T07:42:59.279Z"
   },
   {
    "duration": 6,
    "start_time": "2022-05-04T07:42:59.297Z"
   },
   {
    "duration": 46,
    "start_time": "2022-05-04T07:42:59.307Z"
   },
   {
    "duration": 20,
    "start_time": "2022-05-04T07:42:59.355Z"
   },
   {
    "duration": 5,
    "start_time": "2022-05-04T07:42:59.377Z"
   },
   {
    "duration": 9,
    "start_time": "2022-05-04T07:42:59.384Z"
   },
   {
    "duration": 209,
    "start_time": "2022-05-04T07:42:59.395Z"
   },
   {
    "duration": 22,
    "start_time": "2022-05-04T07:42:59.607Z"
   },
   {
    "duration": 43,
    "start_time": "2022-05-04T07:42:59.632Z"
   },
   {
    "duration": 783,
    "start_time": "2022-05-04T07:42:59.678Z"
   },
   {
    "duration": 44,
    "start_time": "2022-05-04T07:43:00.464Z"
   },
   {
    "duration": 588,
    "start_time": "2022-05-04T07:43:00.510Z"
   },
   {
    "duration": 4,
    "start_time": "2022-05-04T07:43:01.100Z"
   },
   {
    "duration": 16,
    "start_time": "2022-05-04T07:43:01.105Z"
   },
   {
    "duration": 412,
    "start_time": "2022-05-04T07:43:01.123Z"
   },
   {
    "duration": 13,
    "start_time": "2022-05-04T07:43:01.538Z"
   },
   {
    "duration": 771,
    "start_time": "2022-05-04T07:43:01.553Z"
   },
   {
    "duration": 4,
    "start_time": "2022-05-04T07:43:02.327Z"
   },
   {
    "duration": 522,
    "start_time": "2022-05-04T07:43:02.334Z"
   },
   {
    "duration": 35,
    "start_time": "2022-05-04T07:43:02.859Z"
   },
   {
    "duration": 560,
    "start_time": "2022-05-04T07:43:02.899Z"
   },
   {
    "duration": 50,
    "start_time": "2022-05-04T07:43:03.461Z"
   },
   {
    "duration": 251,
    "start_time": "2022-05-04T07:43:03.514Z"
   },
   {
    "duration": 13,
    "start_time": "2022-05-04T07:43:03.768Z"
   },
   {
    "duration": 445,
    "start_time": "2022-05-04T07:43:03.783Z"
   },
   {
    "duration": 1028,
    "start_time": "2022-05-04T07:43:04.230Z"
   },
   {
    "duration": 1240,
    "start_time": "2022-05-04T07:43:05.261Z"
   },
   {
    "duration": 1531,
    "start_time": "2022-05-04T07:43:06.503Z"
   },
   {
    "duration": 320,
    "start_time": "2022-05-04T07:43:08.037Z"
   },
   {
    "duration": 952,
    "start_time": "2022-05-04T07:43:08.360Z"
   },
   {
    "duration": 158,
    "start_time": "2022-05-04T07:43:09.315Z"
   },
   {
    "duration": 17,
    "start_time": "2022-05-04T07:43:09.475Z"
   },
   {
    "duration": 30,
    "start_time": "2022-05-04T07:43:09.494Z"
   },
   {
    "duration": 39,
    "start_time": "2022-05-04T07:43:09.526Z"
   },
   {
    "duration": 10,
    "start_time": "2022-05-04T07:43:09.568Z"
   },
   {
    "duration": 505,
    "start_time": "2022-05-04T07:49:26.951Z"
   },
   {
    "duration": 30,
    "start_time": "2022-05-04T07:50:50.451Z"
   },
   {
    "duration": 30,
    "start_time": "2022-05-04T07:50:57.871Z"
   },
   {
    "duration": 31,
    "start_time": "2022-05-04T07:52:40.421Z"
   },
   {
    "duration": 401,
    "start_time": "2022-05-04T07:52:42.011Z"
   },
   {
    "duration": 503,
    "start_time": "2022-05-04T07:53:11.040Z"
   },
   {
    "duration": 50,
    "start_time": "2022-05-04T07:57:35.491Z"
   },
   {
    "duration": 401,
    "start_time": "2022-05-04T07:57:55.161Z"
   },
   {
    "duration": 386,
    "start_time": "2022-05-04T08:01:15.840Z"
   },
   {
    "duration": 10,
    "start_time": "2022-05-04T08:12:30.461Z"
   },
   {
    "duration": 272,
    "start_time": "2022-05-04T08:12:32.350Z"
   },
   {
    "duration": 1374,
    "start_time": "2022-05-04T13:30:14.898Z"
   },
   {
    "duration": 41,
    "start_time": "2022-05-04T13:30:16.274Z"
   },
   {
    "duration": 18,
    "start_time": "2022-05-04T13:30:16.317Z"
   },
   {
    "duration": 24,
    "start_time": "2022-05-04T13:30:16.337Z"
   },
   {
    "duration": 5,
    "start_time": "2022-05-04T13:30:16.362Z"
   },
   {
    "duration": 12,
    "start_time": "2022-05-04T13:30:16.369Z"
   },
   {
    "duration": 24,
    "start_time": "2022-05-04T13:30:16.383Z"
   },
   {
    "duration": 11,
    "start_time": "2022-05-04T13:30:16.408Z"
   },
   {
    "duration": 10,
    "start_time": "2022-05-04T13:30:16.420Z"
   },
   {
    "duration": 32,
    "start_time": "2022-05-04T13:30:16.433Z"
   },
   {
    "duration": 18,
    "start_time": "2022-05-04T13:30:16.467Z"
   },
   {
    "duration": 3,
    "start_time": "2022-05-04T13:30:16.486Z"
   },
   {
    "duration": 17,
    "start_time": "2022-05-04T13:30:16.491Z"
   },
   {
    "duration": 120,
    "start_time": "2022-05-04T13:30:16.509Z"
   },
   {
    "duration": 13,
    "start_time": "2022-05-04T13:30:16.630Z"
   },
   {
    "duration": 19,
    "start_time": "2022-05-04T13:30:16.645Z"
   },
   {
    "duration": 409,
    "start_time": "2022-05-04T13:30:16.666Z"
   },
   {
    "duration": 27,
    "start_time": "2022-05-04T13:30:17.077Z"
   },
   {
    "duration": 313,
    "start_time": "2022-05-04T13:30:17.106Z"
   },
   {
    "duration": 2,
    "start_time": "2022-05-04T13:30:17.421Z"
   },
   {
    "duration": 6,
    "start_time": "2022-05-04T13:30:17.425Z"
   },
   {
    "duration": 218,
    "start_time": "2022-05-04T13:30:17.433Z"
   },
   {
    "duration": 2,
    "start_time": "2022-05-04T13:30:17.655Z"
   },
   {
    "duration": 444,
    "start_time": "2022-05-04T13:30:17.659Z"
   },
   {
    "duration": 3,
    "start_time": "2022-05-04T13:30:18.105Z"
   },
   {
    "duration": 297,
    "start_time": "2022-05-04T13:30:18.110Z"
   },
   {
    "duration": 295,
    "start_time": "2022-05-04T13:30:18.409Z"
   },
   {
    "duration": 31,
    "start_time": "2022-05-04T13:30:18.707Z"
   },
   {
    "duration": 123,
    "start_time": "2022-05-04T13:30:18.755Z"
   },
   {
    "duration": 7,
    "start_time": "2022-05-04T13:30:18.880Z"
   },
   {
    "duration": 168,
    "start_time": "2022-05-04T13:30:18.889Z"
   },
   {
    "duration": 614,
    "start_time": "2022-05-04T13:30:19.059Z"
   },
   {
    "duration": 686,
    "start_time": "2022-05-04T13:30:19.675Z"
   },
   {
    "duration": 960,
    "start_time": "2022-05-04T13:30:20.363Z"
   },
   {
    "duration": 186,
    "start_time": "2022-05-04T13:30:21.325Z"
   },
   {
    "duration": 524,
    "start_time": "2022-05-04T13:30:21.513Z"
   },
   {
    "duration": 98,
    "start_time": "2022-05-04T13:30:22.039Z"
   },
   {
    "duration": 15,
    "start_time": "2022-05-04T13:30:22.139Z"
   },
   {
    "duration": 30,
    "start_time": "2022-05-04T13:30:22.156Z"
   },
   {
    "duration": 27,
    "start_time": "2022-05-04T13:30:22.188Z"
   },
   {
    "duration": 8,
    "start_time": "2022-05-04T13:30:22.216Z"
   },
   {
    "duration": 133,
    "start_time": "2022-05-04T14:27:12.254Z"
   },
   {
    "duration": 1740,
    "start_time": "2022-05-04T14:27:18.884Z"
   },
   {
    "duration": 54,
    "start_time": "2022-05-04T14:27:20.627Z"
   },
   {
    "duration": 28,
    "start_time": "2022-05-04T14:27:20.684Z"
   },
   {
    "duration": 42,
    "start_time": "2022-05-04T14:27:20.715Z"
   },
   {
    "duration": 23,
    "start_time": "2022-05-04T14:27:20.760Z"
   },
   {
    "duration": 21,
    "start_time": "2022-05-04T14:27:20.785Z"
   },
   {
    "duration": 50,
    "start_time": "2022-05-04T14:27:20.808Z"
   },
   {
    "duration": 15,
    "start_time": "2022-05-04T14:27:20.860Z"
   },
   {
    "duration": 6,
    "start_time": "2022-05-04T14:27:20.877Z"
   },
   {
    "duration": 45,
    "start_time": "2022-05-04T14:27:20.887Z"
   },
   {
    "duration": 23,
    "start_time": "2022-05-04T14:27:20.934Z"
   },
   {
    "duration": 5,
    "start_time": "2022-05-04T14:27:20.959Z"
   },
   {
    "duration": 10,
    "start_time": "2022-05-04T14:27:20.966Z"
   },
   {
    "duration": 207,
    "start_time": "2022-05-04T14:27:20.979Z"
   },
   {
    "duration": 21,
    "start_time": "2022-05-04T14:27:21.188Z"
   },
   {
    "duration": 43,
    "start_time": "2022-05-04T14:27:21.211Z"
   },
   {
    "duration": 1181,
    "start_time": "2022-05-04T14:27:21.256Z"
   },
   {
    "duration": 72,
    "start_time": "2022-05-04T14:27:22.440Z"
   },
   {
    "duration": 691,
    "start_time": "2022-05-04T14:27:22.514Z"
   },
   {
    "duration": 4,
    "start_time": "2022-05-04T14:27:23.207Z"
   },
   {
    "duration": 8,
    "start_time": "2022-05-04T14:27:23.213Z"
   },
   {
    "duration": 440,
    "start_time": "2022-05-04T14:27:23.223Z"
   },
   {
    "duration": 3,
    "start_time": "2022-05-04T14:27:23.665Z"
   },
   {
    "duration": 757,
    "start_time": "2022-05-04T14:27:23.671Z"
   },
   {
    "duration": 4,
    "start_time": "2022-05-04T14:27:24.431Z"
   },
   {
    "duration": 538,
    "start_time": "2022-05-04T14:27:24.437Z"
   },
   {
    "duration": 502,
    "start_time": "2022-05-04T14:27:24.978Z"
   },
   {
    "duration": 72,
    "start_time": "2022-05-04T14:27:25.487Z"
   },
   {
    "duration": 247,
    "start_time": "2022-05-04T14:27:25.561Z"
   },
   {
    "duration": 11,
    "start_time": "2022-05-04T14:27:25.810Z"
   },
   {
    "duration": 317,
    "start_time": "2022-05-04T14:27:25.823Z"
   },
   {
    "duration": 1091,
    "start_time": "2022-05-04T14:27:26.142Z"
   },
   {
    "duration": 1305,
    "start_time": "2022-05-04T14:27:27.236Z"
   },
   {
    "duration": 1652,
    "start_time": "2022-05-04T14:27:28.543Z"
   },
   {
    "duration": 341,
    "start_time": "2022-05-04T14:27:30.197Z"
   },
   {
    "duration": 958,
    "start_time": "2022-05-04T14:27:30.540Z"
   },
   {
    "duration": 156,
    "start_time": "2022-05-04T14:27:31.500Z"
   },
   {
    "duration": 14,
    "start_time": "2022-05-04T14:27:31.658Z"
   },
   {
    "duration": 32,
    "start_time": "2022-05-04T14:27:31.674Z"
   },
   {
    "duration": 22,
    "start_time": "2022-05-04T14:27:31.708Z"
   },
   {
    "duration": 20,
    "start_time": "2022-05-04T14:27:31.734Z"
   },
   {
    "duration": 38,
    "start_time": "2022-05-04T14:30:19.595Z"
   },
   {
    "duration": 28,
    "start_time": "2022-05-04T14:30:45.024Z"
   },
   {
    "duration": 33,
    "start_time": "2022-05-04T14:31:13.815Z"
   },
   {
    "duration": 22,
    "start_time": "2022-05-04T14:31:59.024Z"
   },
   {
    "duration": 149,
    "start_time": "2022-05-04T14:32:20.114Z"
   },
   {
    "duration": 208,
    "start_time": "2022-05-04T14:32:26.034Z"
   },
   {
    "duration": 236,
    "start_time": "2022-05-04T14:33:04.445Z"
   },
   {
    "duration": 220,
    "start_time": "2022-05-04T14:33:26.334Z"
   },
   {
    "duration": 327,
    "start_time": "2022-05-04T14:33:37.415Z"
   },
   {
    "duration": 347,
    "start_time": "2022-05-04T14:34:22.454Z"
   },
   {
    "duration": 216,
    "start_time": "2022-05-04T14:34:30.135Z"
   },
   {
    "duration": 281,
    "start_time": "2022-05-04T14:39:03.334Z"
   },
   {
    "duration": 338,
    "start_time": "2022-05-04T14:50:58.935Z"
   },
   {
    "duration": 11,
    "start_time": "2022-05-04T14:52:53.104Z"
   },
   {
    "duration": 1057,
    "start_time": "2022-05-04T14:52:53.144Z"
   },
   {
    "duration": 17,
    "start_time": "2022-05-04T14:53:29.694Z"
   },
   {
    "duration": 29,
    "start_time": "2022-05-04T14:53:52.834Z"
   },
   {
    "duration": 21,
    "start_time": "2022-05-04T14:56:51.385Z"
   },
   {
    "duration": 17,
    "start_time": "2022-05-04T14:57:09.314Z"
   },
   {
    "duration": 18,
    "start_time": "2022-05-04T14:57:13.614Z"
   },
   {
    "duration": 25,
    "start_time": "2022-05-04T14:57:30.425Z"
   },
   {
    "duration": 27,
    "start_time": "2022-05-04T14:57:45.014Z"
   },
   {
    "duration": 37,
    "start_time": "2022-05-04T15:01:46.874Z"
   },
   {
    "duration": 28,
    "start_time": "2022-05-04T15:01:46.917Z"
   },
   {
    "duration": 36,
    "start_time": "2022-05-04T15:02:11.054Z"
   },
   {
    "duration": 24,
    "start_time": "2022-05-04T15:02:19.414Z"
   },
   {
    "duration": 285,
    "start_time": "2022-05-04T15:02:51.054Z"
   },
   {
    "duration": 634,
    "start_time": "2022-05-04T15:03:03.214Z"
   },
   {
    "duration": 54,
    "start_time": "2022-05-04T15:03:11.784Z"
   },
   {
    "duration": 52,
    "start_time": "2022-05-04T15:03:32.824Z"
   },
   {
    "duration": 794,
    "start_time": "2022-05-04T15:11:12.624Z"
   },
   {
    "duration": 397,
    "start_time": "2022-05-04T16:02:32.758Z"
   },
   {
    "duration": 96,
    "start_time": "2022-05-04T16:02:33.159Z"
   },
   {
    "duration": 704,
    "start_time": "2022-05-04T16:02:50.147Z"
   },
   {
    "duration": 80,
    "start_time": "2022-05-04T16:02:50.855Z"
   },
   {
    "duration": 1286,
    "start_time": "2022-05-04T16:03:28.457Z"
   },
   {
    "duration": 702,
    "start_time": "2022-05-04T16:03:55.088Z"
   },
   {
    "duration": 99,
    "start_time": "2022-05-04T16:03:55.793Z"
   },
   {
    "duration": 1422,
    "start_time": "2022-05-04T16:15:46.787Z"
   },
   {
    "duration": 1309,
    "start_time": "2022-05-04T16:16:51.988Z"
   },
   {
    "duration": 1337,
    "start_time": "2022-05-04T16:17:46.456Z"
   },
   {
    "duration": 720,
    "start_time": "2022-05-04T16:25:22.547Z"
   },
   {
    "duration": 288,
    "start_time": "2022-05-04T16:25:53.479Z"
   },
   {
    "duration": 5,
    "start_time": "2022-05-04T16:26:22.398Z"
   },
   {
    "duration": 193,
    "start_time": "2022-05-04T16:26:38.418Z"
   },
   {
    "duration": 194,
    "start_time": "2022-05-04T16:26:59.138Z"
   },
   {
    "duration": 281,
    "start_time": "2022-05-04T16:27:52.758Z"
   },
   {
    "duration": 18,
    "start_time": "2022-05-04T16:38:07.787Z"
   },
   {
    "duration": 45,
    "start_time": "2022-05-04T16:38:38.746Z"
   },
   {
    "duration": 587,
    "start_time": "2022-05-04T16:39:00.467Z"
   },
   {
    "duration": 1031,
    "start_time": "2022-05-04T16:40:55.396Z"
   },
   {
    "duration": 32,
    "start_time": "2022-05-04T16:48:39.597Z"
   },
   {
    "duration": 426,
    "start_time": "2022-05-04T16:48:45.876Z"
   },
   {
    "duration": 572,
    "start_time": "2022-05-04T16:49:38.806Z"
   },
   {
    "duration": 47,
    "start_time": "2022-05-05T14:34:41.252Z"
   },
   {
    "duration": 1372,
    "start_time": "2022-05-05T14:34:54.352Z"
   },
   {
    "duration": 39,
    "start_time": "2022-05-05T14:34:55.726Z"
   },
   {
    "duration": 31,
    "start_time": "2022-05-05T14:34:55.766Z"
   },
   {
    "duration": 24,
    "start_time": "2022-05-05T14:34:55.800Z"
   },
   {
    "duration": 23,
    "start_time": "2022-05-05T14:34:55.825Z"
   },
   {
    "duration": 37,
    "start_time": "2022-05-05T14:34:55.850Z"
   },
   {
    "duration": 50,
    "start_time": "2022-05-05T14:34:55.889Z"
   },
   {
    "duration": 44,
    "start_time": "2022-05-05T14:34:55.941Z"
   },
   {
    "duration": 23,
    "start_time": "2022-05-05T14:34:55.986Z"
   },
   {
    "duration": 35,
    "start_time": "2022-05-05T14:34:56.012Z"
   },
   {
    "duration": 35,
    "start_time": "2022-05-05T14:34:56.049Z"
   },
   {
    "duration": 27,
    "start_time": "2022-05-05T14:34:56.086Z"
   },
   {
    "duration": 31,
    "start_time": "2022-05-05T14:34:56.114Z"
   },
   {
    "duration": 145,
    "start_time": "2022-05-05T14:34:56.147Z"
   },
   {
    "duration": 14,
    "start_time": "2022-05-05T14:34:56.294Z"
   },
   {
    "duration": 29,
    "start_time": "2022-05-05T14:34:56.309Z"
   },
   {
    "duration": 430,
    "start_time": "2022-05-05T14:34:56.340Z"
   },
   {
    "duration": 38,
    "start_time": "2022-05-05T14:34:56.772Z"
   },
   {
    "duration": 320,
    "start_time": "2022-05-05T14:34:56.812Z"
   },
   {
    "duration": 3,
    "start_time": "2022-05-05T14:34:57.134Z"
   },
   {
    "duration": 14,
    "start_time": "2022-05-05T14:34:57.139Z"
   },
   {
    "duration": 233,
    "start_time": "2022-05-05T14:34:57.155Z"
   },
   {
    "duration": 3,
    "start_time": "2022-05-05T14:34:57.390Z"
   },
   {
    "duration": 471,
    "start_time": "2022-05-05T14:34:57.394Z"
   },
   {
    "duration": 3,
    "start_time": "2022-05-05T14:34:57.867Z"
   },
   {
    "duration": 333,
    "start_time": "2022-05-05T14:34:57.872Z"
   },
   {
    "duration": 319,
    "start_time": "2022-05-05T14:34:58.206Z"
   },
   {
    "duration": 16,
    "start_time": "2022-05-05T14:34:58.528Z"
   },
   {
    "duration": 14,
    "start_time": "2022-05-05T14:34:58.545Z"
   },
   {
    "duration": 141,
    "start_time": "2022-05-05T14:34:58.561Z"
   },
   {
    "duration": 247,
    "start_time": "2022-05-05T14:34:58.704Z"
   },
   {
    "duration": 45,
    "start_time": "2022-05-05T14:34:58.953Z"
   },
   {
    "duration": 137,
    "start_time": "2022-05-05T14:34:59.000Z"
   },
   {
    "duration": 146,
    "start_time": "2022-05-05T14:34:59.139Z"
   },
   {
    "duration": 708,
    "start_time": "2022-05-05T14:34:59.287Z"
   },
   {
    "duration": 250,
    "start_time": "2022-05-05T14:34:59.997Z"
   },
   {
    "duration": 966,
    "start_time": "2022-05-05T14:35:00.249Z"
   },
   {
    "duration": 116,
    "start_time": "2022-05-05T14:35:01.217Z"
   },
   {
    "duration": 0,
    "start_time": "2022-05-05T14:35:01.335Z"
   },
   {
    "duration": 0,
    "start_time": "2022-05-05T14:35:01.336Z"
   },
   {
    "duration": 0,
    "start_time": "2022-05-05T14:35:01.338Z"
   },
   {
    "duration": 0,
    "start_time": "2022-05-05T14:35:01.339Z"
   },
   {
    "duration": 0,
    "start_time": "2022-05-05T14:35:01.340Z"
   },
   {
    "duration": 0,
    "start_time": "2022-05-05T14:35:01.341Z"
   },
   {
    "duration": 228,
    "start_time": "2022-05-05T14:38:23.321Z"
   },
   {
    "duration": 140,
    "start_time": "2022-05-05T14:39:41.761Z"
   },
   {
    "duration": 476,
    "start_time": "2022-05-05T14:40:34.472Z"
   },
   {
    "duration": 184,
    "start_time": "2022-05-05T14:41:01.812Z"
   },
   {
    "duration": 586,
    "start_time": "2022-05-05T14:41:27.601Z"
   },
   {
    "duration": 76,
    "start_time": "2022-05-05T14:42:49.651Z"
   },
   {
    "duration": 31,
    "start_time": "2022-05-05T14:44:01.441Z"
   },
   {
    "duration": 8,
    "start_time": "2022-05-05T14:44:31.022Z"
   },
   {
    "duration": 4,
    "start_time": "2022-05-05T14:44:50.921Z"
   },
   {
    "duration": 10,
    "start_time": "2022-05-05T14:46:52.441Z"
   },
   {
    "duration": 4,
    "start_time": "2022-05-05T14:47:02.602Z"
   },
   {
    "duration": 15,
    "start_time": "2022-05-05T15:49:56.597Z"
   },
   {
    "duration": 219,
    "start_time": "2022-05-05T15:53:43.518Z"
   },
   {
    "duration": 1299,
    "start_time": "2022-05-05T16:56:31.913Z"
   },
   {
    "duration": 45,
    "start_time": "2022-05-05T16:56:33.214Z"
   },
   {
    "duration": 20,
    "start_time": "2022-05-05T16:56:33.261Z"
   },
   {
    "duration": 17,
    "start_time": "2022-05-05T16:56:33.283Z"
   },
   {
    "duration": 6,
    "start_time": "2022-05-05T16:56:33.302Z"
   },
   {
    "duration": 7,
    "start_time": "2022-05-05T16:56:33.310Z"
   },
   {
    "duration": 53,
    "start_time": "2022-05-05T16:56:33.319Z"
   },
   {
    "duration": 14,
    "start_time": "2022-05-05T16:56:33.374Z"
   },
   {
    "duration": 5,
    "start_time": "2022-05-05T16:56:33.390Z"
   },
   {
    "duration": 13,
    "start_time": "2022-05-05T16:56:33.399Z"
   },
   {
    "duration": 43,
    "start_time": "2022-05-05T16:56:33.414Z"
   },
   {
    "duration": 3,
    "start_time": "2022-05-05T16:56:33.459Z"
   },
   {
    "duration": 7,
    "start_time": "2022-05-05T16:56:33.464Z"
   },
   {
    "duration": 131,
    "start_time": "2022-05-05T16:56:33.473Z"
   },
   {
    "duration": 15,
    "start_time": "2022-05-05T16:56:33.606Z"
   },
   {
    "duration": 33,
    "start_time": "2022-05-05T16:56:33.623Z"
   },
   {
    "duration": 458,
    "start_time": "2022-05-05T16:56:33.659Z"
   },
   {
    "duration": 41,
    "start_time": "2022-05-05T16:56:34.119Z"
   },
   {
    "duration": 345,
    "start_time": "2022-05-05T16:56:34.162Z"
   },
   {
    "duration": 3,
    "start_time": "2022-05-05T16:56:34.509Z"
   },
   {
    "duration": 6,
    "start_time": "2022-05-05T16:56:34.513Z"
   },
   {
    "duration": 248,
    "start_time": "2022-05-05T16:56:34.521Z"
   },
   {
    "duration": 3,
    "start_time": "2022-05-05T16:56:34.771Z"
   },
   {
    "duration": 441,
    "start_time": "2022-05-05T16:56:34.775Z"
   },
   {
    "duration": 4,
    "start_time": "2022-05-05T16:56:35.217Z"
   },
   {
    "duration": 335,
    "start_time": "2022-05-05T16:56:35.222Z"
   },
   {
    "duration": 330,
    "start_time": "2022-05-05T16:56:35.559Z"
   },
   {
    "duration": 18,
    "start_time": "2022-05-05T16:56:35.893Z"
   },
   {
    "duration": 24,
    "start_time": "2022-05-05T16:56:35.913Z"
   },
   {
    "duration": 149,
    "start_time": "2022-05-05T16:56:35.938Z"
   },
   {
    "duration": 258,
    "start_time": "2022-05-05T16:56:36.089Z"
   },
   {
    "duration": 36,
    "start_time": "2022-05-05T16:56:36.349Z"
   },
   {
    "duration": 161,
    "start_time": "2022-05-05T16:56:36.387Z"
   },
   {
    "duration": 140,
    "start_time": "2022-05-05T16:56:36.550Z"
   },
   {
    "duration": 689,
    "start_time": "2022-05-05T16:56:36.692Z"
   },
   {
    "duration": 231,
    "start_time": "2022-05-05T16:56:37.383Z"
   },
   {
    "duration": 534,
    "start_time": "2022-05-05T16:56:37.616Z"
   },
   {
    "duration": 307,
    "start_time": "2022-05-05T16:56:38.154Z"
   },
   {
    "duration": 591,
    "start_time": "2022-05-05T16:56:38.463Z"
   },
   {
    "duration": 77,
    "start_time": "2022-05-05T16:56:39.056Z"
   },
   {
    "duration": 23,
    "start_time": "2022-05-05T16:56:39.135Z"
   },
   {
    "duration": 11,
    "start_time": "2022-05-05T16:56:39.160Z"
   },
   {
    "duration": 11,
    "start_time": "2022-05-05T16:56:39.173Z"
   },
   {
    "duration": 7,
    "start_time": "2022-05-05T16:56:39.186Z"
   }
  ],
  "kernelspec": {
   "display_name": "Python 3 (ipykernel)",
   "language": "python",
   "name": "python3"
  },
  "language_info": {
   "codemirror_mode": {
    "name": "ipython",
    "version": 3
   },
   "file_extension": ".py",
   "mimetype": "text/x-python",
   "name": "python",
   "nbconvert_exporter": "python",
   "pygments_lexer": "ipython3",
   "version": "3.9.12"
  },
  "toc": {
   "base_numbering": 1,
   "nav_menu": {},
   "number_sections": true,
   "sideBar": true,
   "skip_h1_title": true,
   "title_cell": "Table of Contents",
   "title_sidebar": "Contents",
   "toc_cell": false,
   "toc_position": {},
   "toc_section_display": true,
   "toc_window_display": true
  }
 },
 "nbformat": 4,
 "nbformat_minor": 5
}
