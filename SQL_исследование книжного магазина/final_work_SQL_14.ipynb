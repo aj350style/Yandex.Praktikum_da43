{
 "cells": [
  {
   "cell_type": "markdown",
   "metadata": {},
   "source": [
    "# Проект по SQL"
   ]
  },
  {
   "cell_type": "markdown",
   "metadata": {},
   "source": [
    "# Описание проеката:\n",
    " В период воздействия короновируса на общество, граждане остаются дома и их досуг складывается условно схожим образом, наша команда делает ставку на чтение книг. В рамках проекта предстоит исследовать БД, что бы сформулировать ценностное предложение для нового продукта - сервиса для чтения по подписке."
   ]
  },
  {
   "cell_type": "markdown",
   "metadata": {},
   "source": [
    "# Цель:\n",
    "Анализ БД конкурирующего сервиса. Оценка данных проводится через техническое задание:\n",
    "- Посчитайте, сколько книг вышло после 1 января 2000 года;\n",
    "- Для каждой книги посчитайте количество обзоров и среднюю оценку;\n",
    "- Определите издательство, которое выпустило наибольшее число книг толще 50 страниц — так вы исключите из анализа брошюры;\n",
    "- Определите автора с самой высокой средней оценкой книг — учитывайте только книги с 50 и более оценками;\n",
    "- Посчитайте среднее количество обзоров от пользователей, которые поставили больше 50 оценок."
   ]
  },
  {
   "cell_type": "markdown",
   "metadata": {},
   "source": [
    "Описание данных\n",
    "\n",
    "\n",
    "Таблица books содержит данные о книгах:\n",
    "\n",
    " - book_id — идентификатор книги;\n",
    " - author_id — идентификатор автора;\n",
    " - title — название книги;\n",
    " - num_pages — количество страниц;\n",
    " - publication_date — дата публикации книги;\n",
    " - publisher_id — идентификатор издателя.\n",
    "\n",
    "Таблица authors содержит данные об авторах:\n",
    "\n",
    " - author_id — идентификатор автора;\n",
    " - author — имя автора.\n",
    "\n",
    "Таблица publishers содержит данные об издательствах:\n",
    "\n",
    " - publisher_id — идентификатор издательства;\n",
    " - publisher — название издательства;\n",
    "\n",
    "Таблица ratings содержит данные о пользовательских оценках книг:\n",
    "\n",
    " - rating_id — идентификатор оценки;\n",
    " - book_id — идентификатор книги;\n",
    " - username — имя пользователя, оставившего оценку;\n",
    " - rating — оценка книги.\n",
    "\n",
    "Таблица reviews содержит данные о пользовательских обзорах на книги:\n",
    "\n",
    " - review_id — идентификатор обзора;\n",
    " - book_id — идентификатор книги;\n",
    " - username — имя пользователя, написавшего обзор;\n",
    " - text — текст обзора."
   ]
  },
  {
   "cell_type": "code",
   "execution_count": 1,
   "metadata": {},
   "outputs": [],
   "source": [
    "import pandas as pd\n",
    "from sqlalchemy import create_engine\n",
    "\n",
    "db_config = {'user': 'praktikum_student', # имя пользователя\n",
    "'pwd': 'Sdf4$2;d-d30pp', # пароль\n",
    "'host': 'rc1b-wcoijxj3yxfsf3fs.mdb.yandexcloud.net',\n",
    "'port': 6432, # порт подключения\n",
    "'db': 'data-analyst-final-project-db'} # название базы данных\n",
    "connection_string = 'postgresql://{}:{}@{}:{}/{}'.format(db_config['user'],\n",
    "db_config['pwd'],\n",
    "db_config['host'],\n",
    "db_config['port'],\n",
    "db_config['db'])\n",
    "engine = create_engine(connection_string, connect_args={'sslmode':'require'})"
   ]
  },
  {
   "cell_type": "code",
   "execution_count": 2,
   "metadata": {},
   "outputs": [],
   "source": [
    "def select (query):\n",
    "    return pd.io.sql.read_sql(query, con = engine)"
   ]
  },
  {
   "cell_type": "markdown",
   "metadata": {},
   "source": [
    "# Посмотрим на таблицы:"
   ]
  },
  {
   "cell_type": "markdown",
   "metadata": {},
   "source": [
    "# Books"
   ]
  },
  {
   "cell_type": "code",
   "execution_count": 3,
   "metadata": {},
   "outputs": [
    {
     "data": {
      "text/html": [
       "<div>\n",
       "<style scoped>\n",
       "    .dataframe tbody tr th:only-of-type {\n",
       "        vertical-align: middle;\n",
       "    }\n",
       "\n",
       "    .dataframe tbody tr th {\n",
       "        vertical-align: top;\n",
       "    }\n",
       "\n",
       "    .dataframe thead th {\n",
       "        text-align: right;\n",
       "    }\n",
       "</style>\n",
       "<table border=\"1\" class=\"dataframe\">\n",
       "  <thead>\n",
       "    <tr style=\"text-align: right;\">\n",
       "      <th></th>\n",
       "      <th>book_id</th>\n",
       "      <th>author_id</th>\n",
       "      <th>title</th>\n",
       "      <th>num_pages</th>\n",
       "      <th>publication_date</th>\n",
       "      <th>publisher_id</th>\n",
       "    </tr>\n",
       "  </thead>\n",
       "  <tbody>\n",
       "    <tr>\n",
       "      <th>0</th>\n",
       "      <td>1</td>\n",
       "      <td>546</td>\n",
       "      <td>'Salem's Lot</td>\n",
       "      <td>594</td>\n",
       "      <td>2005-11-01</td>\n",
       "      <td>93</td>\n",
       "    </tr>\n",
       "    <tr>\n",
       "      <th>1</th>\n",
       "      <td>2</td>\n",
       "      <td>465</td>\n",
       "      <td>1 000 Places to See Before You Die</td>\n",
       "      <td>992</td>\n",
       "      <td>2003-05-22</td>\n",
       "      <td>336</td>\n",
       "    </tr>\n",
       "    <tr>\n",
       "      <th>2</th>\n",
       "      <td>3</td>\n",
       "      <td>407</td>\n",
       "      <td>13 Little Blue Envelopes (Little Blue Envelope...</td>\n",
       "      <td>322</td>\n",
       "      <td>2010-12-21</td>\n",
       "      <td>135</td>\n",
       "    </tr>\n",
       "    <tr>\n",
       "      <th>3</th>\n",
       "      <td>4</td>\n",
       "      <td>82</td>\n",
       "      <td>1491: New Revelations of the Americas Before C...</td>\n",
       "      <td>541</td>\n",
       "      <td>2006-10-10</td>\n",
       "      <td>309</td>\n",
       "    </tr>\n",
       "    <tr>\n",
       "      <th>4</th>\n",
       "      <td>5</td>\n",
       "      <td>125</td>\n",
       "      <td>1776</td>\n",
       "      <td>386</td>\n",
       "      <td>2006-07-04</td>\n",
       "      <td>268</td>\n",
       "    </tr>\n",
       "  </tbody>\n",
       "</table>\n",
       "</div>"
      ],
      "text/plain": [
       "   book_id  author_id                                              title  \\\n",
       "0        1        546                                       'Salem's Lot   \n",
       "1        2        465                 1 000 Places to See Before You Die   \n",
       "2        3        407  13 Little Blue Envelopes (Little Blue Envelope...   \n",
       "3        4         82  1491: New Revelations of the Americas Before C...   \n",
       "4        5        125                                               1776   \n",
       "\n",
       "   num_pages publication_date  publisher_id  \n",
       "0        594       2005-11-01            93  \n",
       "1        992       2003-05-22           336  \n",
       "2        322       2010-12-21           135  \n",
       "3        541       2006-10-10           309  \n",
       "4        386       2006-07-04           268  "
      ]
     },
     "execution_count": 3,
     "metadata": {},
     "output_type": "execute_result"
    }
   ],
   "source": [
    "select('''\n",
    "SELECT \n",
    "    *\n",
    "FROM books\n",
    "LIMIT 5\n",
    "''')"
   ]
  },
  {
   "cell_type": "code",
   "execution_count": 4,
   "metadata": {},
   "outputs": [
    {
     "data": {
      "text/html": [
       "<div>\n",
       "<style scoped>\n",
       "    .dataframe tbody tr th:only-of-type {\n",
       "        vertical-align: middle;\n",
       "    }\n",
       "\n",
       "    .dataframe tbody tr th {\n",
       "        vertical-align: top;\n",
       "    }\n",
       "\n",
       "    .dataframe thead th {\n",
       "        text-align: right;\n",
       "    }\n",
       "</style>\n",
       "<table border=\"1\" class=\"dataframe\">\n",
       "  <thead>\n",
       "    <tr style=\"text-align: right;\">\n",
       "      <th></th>\n",
       "      <th>title</th>\n",
       "      <th>counter</th>\n",
       "    </tr>\n",
       "  </thead>\n",
       "  <tbody>\n",
       "    <tr>\n",
       "      <th>0</th>\n",
       "      <td>Memoirs of a Geisha</td>\n",
       "      <td>2</td>\n",
       "    </tr>\n",
       "  </tbody>\n",
       "</table>\n",
       "</div>"
      ],
      "text/plain": [
       "                 title  counter\n",
       "0  Memoirs of a Geisha        2"
      ]
     },
     "execution_count": 4,
     "metadata": {},
     "output_type": "execute_result"
    }
   ],
   "source": [
    "select('''\n",
    "SELECT title, COUNT(title) AS counter \n",
    "FROM books \n",
    "GROUP BY title\n",
    "HAVING (COUNT(title)>1)\n",
    "   ''')"
   ]
  },
  {
   "cell_type": "markdown",
   "metadata": {},
   "source": [
    "# Autors"
   ]
  },
  {
   "cell_type": "code",
   "execution_count": 5,
   "metadata": {},
   "outputs": [
    {
     "data": {
      "text/html": [
       "<div>\n",
       "<style scoped>\n",
       "    .dataframe tbody tr th:only-of-type {\n",
       "        vertical-align: middle;\n",
       "    }\n",
       "\n",
       "    .dataframe tbody tr th {\n",
       "        vertical-align: top;\n",
       "    }\n",
       "\n",
       "    .dataframe thead th {\n",
       "        text-align: right;\n",
       "    }\n",
       "</style>\n",
       "<table border=\"1\" class=\"dataframe\">\n",
       "  <thead>\n",
       "    <tr style=\"text-align: right;\">\n",
       "      <th></th>\n",
       "      <th>author_id</th>\n",
       "      <th>author</th>\n",
       "    </tr>\n",
       "  </thead>\n",
       "  <tbody>\n",
       "    <tr>\n",
       "      <th>0</th>\n",
       "      <td>1</td>\n",
       "      <td>A.S. Byatt</td>\n",
       "    </tr>\n",
       "    <tr>\n",
       "      <th>1</th>\n",
       "      <td>2</td>\n",
       "      <td>Aesop/Laura Harris/Laura Gibbs</td>\n",
       "    </tr>\n",
       "    <tr>\n",
       "      <th>2</th>\n",
       "      <td>3</td>\n",
       "      <td>Agatha Christie</td>\n",
       "    </tr>\n",
       "    <tr>\n",
       "      <th>3</th>\n",
       "      <td>4</td>\n",
       "      <td>Alan Brennert</td>\n",
       "    </tr>\n",
       "    <tr>\n",
       "      <th>4</th>\n",
       "      <td>5</td>\n",
       "      <td>Alan Moore/David   Lloyd</td>\n",
       "    </tr>\n",
       "  </tbody>\n",
       "</table>\n",
       "</div>"
      ],
      "text/plain": [
       "   author_id                          author\n",
       "0          1                      A.S. Byatt\n",
       "1          2  Aesop/Laura Harris/Laura Gibbs\n",
       "2          3                 Agatha Christie\n",
       "3          4                   Alan Brennert\n",
       "4          5        Alan Moore/David   Lloyd"
      ]
     },
     "execution_count": 5,
     "metadata": {},
     "output_type": "execute_result"
    }
   ],
   "source": [
    "select('''\n",
    "SELECT \n",
    "    *\n",
    "FROM authors\n",
    "LIMIT 5\n",
    "'''\n",
    ")"
   ]
  },
  {
   "cell_type": "code",
   "execution_count": 6,
   "metadata": {},
   "outputs": [
    {
     "data": {
      "text/html": [
       "<div>\n",
       "<style scoped>\n",
       "    .dataframe tbody tr th:only-of-type {\n",
       "        vertical-align: middle;\n",
       "    }\n",
       "\n",
       "    .dataframe tbody tr th {\n",
       "        vertical-align: top;\n",
       "    }\n",
       "\n",
       "    .dataframe thead th {\n",
       "        text-align: right;\n",
       "    }\n",
       "</style>\n",
       "<table border=\"1\" class=\"dataframe\">\n",
       "  <thead>\n",
       "    <tr style=\"text-align: right;\">\n",
       "      <th></th>\n",
       "      <th>author</th>\n",
       "      <th>counter</th>\n",
       "    </tr>\n",
       "  </thead>\n",
       "  <tbody>\n",
       "  </tbody>\n",
       "</table>\n",
       "</div>"
      ],
      "text/plain": [
       "Empty DataFrame\n",
       "Columns: [author, counter]\n",
       "Index: []"
      ]
     },
     "execution_count": 6,
     "metadata": {},
     "output_type": "execute_result"
    }
   ],
   "source": [
    "select('''\n",
    "SELECT author, COUNT(author) AS counter \n",
    "FROM authors \n",
    "GROUP BY author\n",
    "HAVING (COUNT(author)>1)\n",
    "   ''')"
   ]
  },
  {
   "cell_type": "markdown",
   "metadata": {},
   "source": [
    "# Publishers"
   ]
  },
  {
   "cell_type": "code",
   "execution_count": 7,
   "metadata": {},
   "outputs": [
    {
     "data": {
      "text/html": [
       "<div>\n",
       "<style scoped>\n",
       "    .dataframe tbody tr th:only-of-type {\n",
       "        vertical-align: middle;\n",
       "    }\n",
       "\n",
       "    .dataframe tbody tr th {\n",
       "        vertical-align: top;\n",
       "    }\n",
       "\n",
       "    .dataframe thead th {\n",
       "        text-align: right;\n",
       "    }\n",
       "</style>\n",
       "<table border=\"1\" class=\"dataframe\">\n",
       "  <thead>\n",
       "    <tr style=\"text-align: right;\">\n",
       "      <th></th>\n",
       "      <th>publisher_id</th>\n",
       "      <th>publisher</th>\n",
       "    </tr>\n",
       "  </thead>\n",
       "  <tbody>\n",
       "    <tr>\n",
       "      <th>0</th>\n",
       "      <td>1</td>\n",
       "      <td>Ace</td>\n",
       "    </tr>\n",
       "    <tr>\n",
       "      <th>1</th>\n",
       "      <td>2</td>\n",
       "      <td>Ace Book</td>\n",
       "    </tr>\n",
       "    <tr>\n",
       "      <th>2</th>\n",
       "      <td>3</td>\n",
       "      <td>Ace Books</td>\n",
       "    </tr>\n",
       "    <tr>\n",
       "      <th>3</th>\n",
       "      <td>4</td>\n",
       "      <td>Ace Hardcover</td>\n",
       "    </tr>\n",
       "    <tr>\n",
       "      <th>4</th>\n",
       "      <td>5</td>\n",
       "      <td>Addison Wesley Publishing Company</td>\n",
       "    </tr>\n",
       "  </tbody>\n",
       "</table>\n",
       "</div>"
      ],
      "text/plain": [
       "   publisher_id                          publisher\n",
       "0             1                                Ace\n",
       "1             2                           Ace Book\n",
       "2             3                          Ace Books\n",
       "3             4                      Ace Hardcover\n",
       "4             5  Addison Wesley Publishing Company"
      ]
     },
     "execution_count": 7,
     "metadata": {},
     "output_type": "execute_result"
    }
   ],
   "source": [
    "select('''\n",
    "SELECT \n",
    "    *\n",
    "FROM publishers\n",
    "LIMIT 5\n",
    "'''\n",
    ")"
   ]
  },
  {
   "cell_type": "code",
   "execution_count": 8,
   "metadata": {},
   "outputs": [
    {
     "data": {
      "text/html": [
       "<div>\n",
       "<style scoped>\n",
       "    .dataframe tbody tr th:only-of-type {\n",
       "        vertical-align: middle;\n",
       "    }\n",
       "\n",
       "    .dataframe tbody tr th {\n",
       "        vertical-align: top;\n",
       "    }\n",
       "\n",
       "    .dataframe thead th {\n",
       "        text-align: right;\n",
       "    }\n",
       "</style>\n",
       "<table border=\"1\" class=\"dataframe\">\n",
       "  <thead>\n",
       "    <tr style=\"text-align: right;\">\n",
       "      <th></th>\n",
       "      <th>publisher</th>\n",
       "      <th>counter</th>\n",
       "    </tr>\n",
       "  </thead>\n",
       "  <tbody>\n",
       "  </tbody>\n",
       "</table>\n",
       "</div>"
      ],
      "text/plain": [
       "Empty DataFrame\n",
       "Columns: [publisher, counter]\n",
       "Index: []"
      ]
     },
     "execution_count": 8,
     "metadata": {},
     "output_type": "execute_result"
    }
   ],
   "source": [
    "select('''\n",
    "SELECT publisher, COUNT(publisher) AS counter \n",
    "FROM publishers\n",
    "GROUP BY publisher\n",
    "HAVING (COUNT(publisher)>1)\n",
    "   ''')"
   ]
  },
  {
   "cell_type": "markdown",
   "metadata": {},
   "source": [
    "# Ratings"
   ]
  },
  {
   "cell_type": "code",
   "execution_count": 9,
   "metadata": {},
   "outputs": [
    {
     "data": {
      "text/html": [
       "<div>\n",
       "<style scoped>\n",
       "    .dataframe tbody tr th:only-of-type {\n",
       "        vertical-align: middle;\n",
       "    }\n",
       "\n",
       "    .dataframe tbody tr th {\n",
       "        vertical-align: top;\n",
       "    }\n",
       "\n",
       "    .dataframe thead th {\n",
       "        text-align: right;\n",
       "    }\n",
       "</style>\n",
       "<table border=\"1\" class=\"dataframe\">\n",
       "  <thead>\n",
       "    <tr style=\"text-align: right;\">\n",
       "      <th></th>\n",
       "      <th>rating_id</th>\n",
       "      <th>book_id</th>\n",
       "      <th>username</th>\n",
       "      <th>rating</th>\n",
       "    </tr>\n",
       "  </thead>\n",
       "  <tbody>\n",
       "    <tr>\n",
       "      <th>0</th>\n",
       "      <td>1</td>\n",
       "      <td>1</td>\n",
       "      <td>ryanfranco</td>\n",
       "      <td>4</td>\n",
       "    </tr>\n",
       "    <tr>\n",
       "      <th>1</th>\n",
       "      <td>2</td>\n",
       "      <td>1</td>\n",
       "      <td>grantpatricia</td>\n",
       "      <td>2</td>\n",
       "    </tr>\n",
       "    <tr>\n",
       "      <th>2</th>\n",
       "      <td>3</td>\n",
       "      <td>1</td>\n",
       "      <td>brandtandrea</td>\n",
       "      <td>5</td>\n",
       "    </tr>\n",
       "    <tr>\n",
       "      <th>3</th>\n",
       "      <td>4</td>\n",
       "      <td>2</td>\n",
       "      <td>lorichen</td>\n",
       "      <td>3</td>\n",
       "    </tr>\n",
       "    <tr>\n",
       "      <th>4</th>\n",
       "      <td>5</td>\n",
       "      <td>2</td>\n",
       "      <td>mariokeller</td>\n",
       "      <td>2</td>\n",
       "    </tr>\n",
       "  </tbody>\n",
       "</table>\n",
       "</div>"
      ],
      "text/plain": [
       "   rating_id  book_id       username  rating\n",
       "0          1        1     ryanfranco       4\n",
       "1          2        1  grantpatricia       2\n",
       "2          3        1   brandtandrea       5\n",
       "3          4        2       lorichen       3\n",
       "4          5        2    mariokeller       2"
      ]
     },
     "execution_count": 9,
     "metadata": {},
     "output_type": "execute_result"
    }
   ],
   "source": [
    "select('''\n",
    "SELECT \n",
    "    *\n",
    "FROM ratings\n",
    "LIMIT 5\n",
    "'''\n",
    ")"
   ]
  },
  {
   "cell_type": "code",
   "execution_count": 10,
   "metadata": {},
   "outputs": [
    {
     "data": {
      "text/html": [
       "<div>\n",
       "<style scoped>\n",
       "    .dataframe tbody tr th:only-of-type {\n",
       "        vertical-align: middle;\n",
       "    }\n",
       "\n",
       "    .dataframe tbody tr th {\n",
       "        vertical-align: top;\n",
       "    }\n",
       "\n",
       "    .dataframe thead th {\n",
       "        text-align: right;\n",
       "    }\n",
       "</style>\n",
       "<table border=\"1\" class=\"dataframe\">\n",
       "  <thead>\n",
       "    <tr style=\"text-align: right;\">\n",
       "      <th></th>\n",
       "      <th>username</th>\n",
       "      <th>counter</th>\n",
       "    </tr>\n",
       "  </thead>\n",
       "  <tbody>\n",
       "    <tr>\n",
       "      <th>0</th>\n",
       "      <td>jnelson</td>\n",
       "      <td>42</td>\n",
       "    </tr>\n",
       "    <tr>\n",
       "      <th>1</th>\n",
       "      <td>zjohnston</td>\n",
       "      <td>35</td>\n",
       "    </tr>\n",
       "    <tr>\n",
       "      <th>2</th>\n",
       "      <td>lewisdesiree</td>\n",
       "      <td>46</td>\n",
       "    </tr>\n",
       "    <tr>\n",
       "      <th>3</th>\n",
       "      <td>patrickhudson</td>\n",
       "      <td>43</td>\n",
       "    </tr>\n",
       "    <tr>\n",
       "      <th>4</th>\n",
       "      <td>ulowe</td>\n",
       "      <td>48</td>\n",
       "    </tr>\n",
       "    <tr>\n",
       "      <th>...</th>\n",
       "      <td>...</td>\n",
       "      <td>...</td>\n",
       "    </tr>\n",
       "    <tr>\n",
       "      <th>155</th>\n",
       "      <td>dmiller</td>\n",
       "      <td>44</td>\n",
       "    </tr>\n",
       "    <tr>\n",
       "      <th>156</th>\n",
       "      <td>shermannatalie</td>\n",
       "      <td>50</td>\n",
       "    </tr>\n",
       "    <tr>\n",
       "      <th>157</th>\n",
       "      <td>charlesraymond</td>\n",
       "      <td>42</td>\n",
       "    </tr>\n",
       "    <tr>\n",
       "      <th>158</th>\n",
       "      <td>isaiahreyes</td>\n",
       "      <td>38</td>\n",
       "    </tr>\n",
       "    <tr>\n",
       "      <th>159</th>\n",
       "      <td>masonsara</td>\n",
       "      <td>38</td>\n",
       "    </tr>\n",
       "  </tbody>\n",
       "</table>\n",
       "<p>160 rows × 2 columns</p>\n",
       "</div>"
      ],
      "text/plain": [
       "           username  counter\n",
       "0           jnelson       42\n",
       "1         zjohnston       35\n",
       "2      lewisdesiree       46\n",
       "3     patrickhudson       43\n",
       "4             ulowe       48\n",
       "..              ...      ...\n",
       "155         dmiller       44\n",
       "156  shermannatalie       50\n",
       "157  charlesraymond       42\n",
       "158     isaiahreyes       38\n",
       "159       masonsara       38\n",
       "\n",
       "[160 rows x 2 columns]"
      ]
     },
     "execution_count": 10,
     "metadata": {},
     "output_type": "execute_result"
    }
   ],
   "source": [
    "select('''\n",
    "SELECT username, COUNT(username) AS counter \n",
    "FROM ratings\n",
    "GROUP BY username\n",
    "HAVING (COUNT(username)>1)\n",
    "   ''')"
   ]
  },
  {
   "cell_type": "markdown",
   "metadata": {},
   "source": [
    "# Reviews"
   ]
  },
  {
   "cell_type": "code",
   "execution_count": 11,
   "metadata": {},
   "outputs": [
    {
     "data": {
      "text/html": [
       "<div>\n",
       "<style scoped>\n",
       "    .dataframe tbody tr th:only-of-type {\n",
       "        vertical-align: middle;\n",
       "    }\n",
       "\n",
       "    .dataframe tbody tr th {\n",
       "        vertical-align: top;\n",
       "    }\n",
       "\n",
       "    .dataframe thead th {\n",
       "        text-align: right;\n",
       "    }\n",
       "</style>\n",
       "<table border=\"1\" class=\"dataframe\">\n",
       "  <thead>\n",
       "    <tr style=\"text-align: right;\">\n",
       "      <th></th>\n",
       "      <th>review_id</th>\n",
       "      <th>book_id</th>\n",
       "      <th>username</th>\n",
       "      <th>text</th>\n",
       "    </tr>\n",
       "  </thead>\n",
       "  <tbody>\n",
       "    <tr>\n",
       "      <th>0</th>\n",
       "      <td>1</td>\n",
       "      <td>1</td>\n",
       "      <td>brandtandrea</td>\n",
       "      <td>Mention society tell send professor analysis. ...</td>\n",
       "    </tr>\n",
       "    <tr>\n",
       "      <th>1</th>\n",
       "      <td>2</td>\n",
       "      <td>1</td>\n",
       "      <td>ryanfranco</td>\n",
       "      <td>Foot glass pretty audience hit themselves. Amo...</td>\n",
       "    </tr>\n",
       "    <tr>\n",
       "      <th>2</th>\n",
       "      <td>3</td>\n",
       "      <td>2</td>\n",
       "      <td>lorichen</td>\n",
       "      <td>Listen treat keep worry. Miss husband tax but ...</td>\n",
       "    </tr>\n",
       "    <tr>\n",
       "      <th>3</th>\n",
       "      <td>4</td>\n",
       "      <td>3</td>\n",
       "      <td>johnsonamanda</td>\n",
       "      <td>Finally month interesting blue could nature cu...</td>\n",
       "    </tr>\n",
       "    <tr>\n",
       "      <th>4</th>\n",
       "      <td>5</td>\n",
       "      <td>3</td>\n",
       "      <td>scotttamara</td>\n",
       "      <td>Nation purpose heavy give wait song will. List...</td>\n",
       "    </tr>\n",
       "  </tbody>\n",
       "</table>\n",
       "</div>"
      ],
      "text/plain": [
       "   review_id  book_id       username  \\\n",
       "0          1        1   brandtandrea   \n",
       "1          2        1     ryanfranco   \n",
       "2          3        2       lorichen   \n",
       "3          4        3  johnsonamanda   \n",
       "4          5        3    scotttamara   \n",
       "\n",
       "                                                text  \n",
       "0  Mention society tell send professor analysis. ...  \n",
       "1  Foot glass pretty audience hit themselves. Amo...  \n",
       "2  Listen treat keep worry. Miss husband tax but ...  \n",
       "3  Finally month interesting blue could nature cu...  \n",
       "4  Nation purpose heavy give wait song will. List...  "
      ]
     },
     "execution_count": 11,
     "metadata": {},
     "output_type": "execute_result"
    }
   ],
   "source": [
    "select('''\n",
    "SELECT \n",
    "    *\n",
    "FROM reviews\n",
    "LIMIT 5\n",
    "'''\n",
    ")"
   ]
  },
  {
   "cell_type": "code",
   "execution_count": 12,
   "metadata": {},
   "outputs": [
    {
     "data": {
      "text/html": [
       "<div>\n",
       "<style scoped>\n",
       "    .dataframe tbody tr th:only-of-type {\n",
       "        vertical-align: middle;\n",
       "    }\n",
       "\n",
       "    .dataframe tbody tr th {\n",
       "        vertical-align: top;\n",
       "    }\n",
       "\n",
       "    .dataframe thead th {\n",
       "        text-align: right;\n",
       "    }\n",
       "</style>\n",
       "<table border=\"1\" class=\"dataframe\">\n",
       "  <thead>\n",
       "    <tr style=\"text-align: right;\">\n",
       "      <th></th>\n",
       "      <th>username</th>\n",
       "      <th>counter</th>\n",
       "    </tr>\n",
       "  </thead>\n",
       "  <tbody>\n",
       "    <tr>\n",
       "      <th>0</th>\n",
       "      <td>zjohnston</td>\n",
       "      <td>14</td>\n",
       "    </tr>\n",
       "    <tr>\n",
       "      <th>1</th>\n",
       "      <td>jnelson</td>\n",
       "      <td>21</td>\n",
       "    </tr>\n",
       "    <tr>\n",
       "      <th>2</th>\n",
       "      <td>lewisdesiree</td>\n",
       "      <td>19</td>\n",
       "    </tr>\n",
       "    <tr>\n",
       "      <th>3</th>\n",
       "      <td>patrickhudson</td>\n",
       "      <td>15</td>\n",
       "    </tr>\n",
       "    <tr>\n",
       "      <th>4</th>\n",
       "      <td>ulowe</td>\n",
       "      <td>16</td>\n",
       "    </tr>\n",
       "    <tr>\n",
       "      <th>...</th>\n",
       "      <td>...</td>\n",
       "      <td>...</td>\n",
       "    </tr>\n",
       "    <tr>\n",
       "      <th>155</th>\n",
       "      <td>shermannatalie</td>\n",
       "      <td>24</td>\n",
       "    </tr>\n",
       "    <tr>\n",
       "      <th>156</th>\n",
       "      <td>dmiller</td>\n",
       "      <td>18</td>\n",
       "    </tr>\n",
       "    <tr>\n",
       "      <th>157</th>\n",
       "      <td>charlesraymond</td>\n",
       "      <td>16</td>\n",
       "    </tr>\n",
       "    <tr>\n",
       "      <th>158</th>\n",
       "      <td>isaiahreyes</td>\n",
       "      <td>15</td>\n",
       "    </tr>\n",
       "    <tr>\n",
       "      <th>159</th>\n",
       "      <td>masonsara</td>\n",
       "      <td>14</td>\n",
       "    </tr>\n",
       "  </tbody>\n",
       "</table>\n",
       "<p>160 rows × 2 columns</p>\n",
       "</div>"
      ],
      "text/plain": [
       "           username  counter\n",
       "0         zjohnston       14\n",
       "1           jnelson       21\n",
       "2      lewisdesiree       19\n",
       "3     patrickhudson       15\n",
       "4             ulowe       16\n",
       "..              ...      ...\n",
       "155  shermannatalie       24\n",
       "156         dmiller       18\n",
       "157  charlesraymond       16\n",
       "158     isaiahreyes       15\n",
       "159       masonsara       14\n",
       "\n",
       "[160 rows x 2 columns]"
      ]
     },
     "execution_count": 12,
     "metadata": {},
     "output_type": "execute_result"
    }
   ],
   "source": [
    "select('''\n",
    "SELECT username, COUNT(username) AS counter \n",
    "FROM reviews\n",
    "GROUP BY username\n",
    "HAVING (COUNT(username)>1)\n",
    "   ''')"
   ]
  },
  {
   "cell_type": "code",
   "execution_count": 13,
   "metadata": {},
   "outputs": [
    {
     "data": {
      "text/html": [
       "<div>\n",
       "<style scoped>\n",
       "    .dataframe tbody tr th:only-of-type {\n",
       "        vertical-align: middle;\n",
       "    }\n",
       "\n",
       "    .dataframe tbody tr th {\n",
       "        vertical-align: top;\n",
       "    }\n",
       "\n",
       "    .dataframe thead th {\n",
       "        text-align: right;\n",
       "    }\n",
       "</style>\n",
       "<table border=\"1\" class=\"dataframe\">\n",
       "  <thead>\n",
       "    <tr style=\"text-align: right;\">\n",
       "      <th></th>\n",
       "      <th>table_name</th>\n",
       "      <th>column_name</th>\n",
       "      <th>data_type</th>\n",
       "      <th>is_nullable</th>\n",
       "    </tr>\n",
       "  </thead>\n",
       "  <tbody>\n",
       "    <tr>\n",
       "      <th>0</th>\n",
       "      <td>authors</td>\n",
       "      <td>author_id</td>\n",
       "      <td>integer</td>\n",
       "      <td>NO</td>\n",
       "    </tr>\n",
       "    <tr>\n",
       "      <th>1</th>\n",
       "      <td>authors</td>\n",
       "      <td>author</td>\n",
       "      <td>text</td>\n",
       "      <td>YES</td>\n",
       "    </tr>\n",
       "    <tr>\n",
       "      <th>2</th>\n",
       "      <td>books</td>\n",
       "      <td>publisher_id</td>\n",
       "      <td>integer</td>\n",
       "      <td>YES</td>\n",
       "    </tr>\n",
       "    <tr>\n",
       "      <th>3</th>\n",
       "      <td>books</td>\n",
       "      <td>publication_date</td>\n",
       "      <td>date</td>\n",
       "      <td>YES</td>\n",
       "    </tr>\n",
       "    <tr>\n",
       "      <th>4</th>\n",
       "      <td>books</td>\n",
       "      <td>num_pages</td>\n",
       "      <td>integer</td>\n",
       "      <td>YES</td>\n",
       "    </tr>\n",
       "    <tr>\n",
       "      <th>5</th>\n",
       "      <td>books</td>\n",
       "      <td>author_id</td>\n",
       "      <td>integer</td>\n",
       "      <td>YES</td>\n",
       "    </tr>\n",
       "    <tr>\n",
       "      <th>6</th>\n",
       "      <td>books</td>\n",
       "      <td>title</td>\n",
       "      <td>text</td>\n",
       "      <td>YES</td>\n",
       "    </tr>\n",
       "    <tr>\n",
       "      <th>7</th>\n",
       "      <td>books</td>\n",
       "      <td>book_id</td>\n",
       "      <td>integer</td>\n",
       "      <td>NO</td>\n",
       "    </tr>\n",
       "    <tr>\n",
       "      <th>8</th>\n",
       "      <td>publishers</td>\n",
       "      <td>publisher_id</td>\n",
       "      <td>integer</td>\n",
       "      <td>NO</td>\n",
       "    </tr>\n",
       "    <tr>\n",
       "      <th>9</th>\n",
       "      <td>publishers</td>\n",
       "      <td>publisher</td>\n",
       "      <td>text</td>\n",
       "      <td>YES</td>\n",
       "    </tr>\n",
       "    <tr>\n",
       "      <th>10</th>\n",
       "      <td>ratings</td>\n",
       "      <td>username</td>\n",
       "      <td>text</td>\n",
       "      <td>YES</td>\n",
       "    </tr>\n",
       "    <tr>\n",
       "      <th>11</th>\n",
       "      <td>ratings</td>\n",
       "      <td>rating</td>\n",
       "      <td>integer</td>\n",
       "      <td>YES</td>\n",
       "    </tr>\n",
       "    <tr>\n",
       "      <th>12</th>\n",
       "      <td>ratings</td>\n",
       "      <td>book_id</td>\n",
       "      <td>integer</td>\n",
       "      <td>YES</td>\n",
       "    </tr>\n",
       "    <tr>\n",
       "      <th>13</th>\n",
       "      <td>ratings</td>\n",
       "      <td>rating_id</td>\n",
       "      <td>integer</td>\n",
       "      <td>NO</td>\n",
       "    </tr>\n",
       "    <tr>\n",
       "      <th>14</th>\n",
       "      <td>reviews</td>\n",
       "      <td>text</td>\n",
       "      <td>text</td>\n",
       "      <td>YES</td>\n",
       "    </tr>\n",
       "    <tr>\n",
       "      <th>15</th>\n",
       "      <td>reviews</td>\n",
       "      <td>username</td>\n",
       "      <td>text</td>\n",
       "      <td>YES</td>\n",
       "    </tr>\n",
       "    <tr>\n",
       "      <th>16</th>\n",
       "      <td>reviews</td>\n",
       "      <td>book_id</td>\n",
       "      <td>integer</td>\n",
       "      <td>YES</td>\n",
       "    </tr>\n",
       "    <tr>\n",
       "      <th>17</th>\n",
       "      <td>reviews</td>\n",
       "      <td>review_id</td>\n",
       "      <td>integer</td>\n",
       "      <td>NO</td>\n",
       "    </tr>\n",
       "  </tbody>\n",
       "</table>\n",
       "</div>"
      ],
      "text/plain": [
       "    table_name       column_name data_type is_nullable\n",
       "0      authors         author_id   integer          NO\n",
       "1      authors            author      text         YES\n",
       "2        books      publisher_id   integer         YES\n",
       "3        books  publication_date      date         YES\n",
       "4        books         num_pages   integer         YES\n",
       "5        books         author_id   integer         YES\n",
       "6        books             title      text         YES\n",
       "7        books           book_id   integer          NO\n",
       "8   publishers      publisher_id   integer          NO\n",
       "9   publishers         publisher      text         YES\n",
       "10     ratings          username      text         YES\n",
       "11     ratings            rating   integer         YES\n",
       "12     ratings           book_id   integer         YES\n",
       "13     ratings         rating_id   integer          NO\n",
       "14     reviews              text      text         YES\n",
       "15     reviews          username      text         YES\n",
       "16     reviews           book_id   integer         YES\n",
       "17     reviews         review_id   integer          NO"
      ]
     },
     "execution_count": 13,
     "metadata": {},
     "output_type": "execute_result"
    }
   ],
   "source": [
    "select('''\n",
    "SELECT \n",
    "    table_name, column_name, data_type, is_nullable \n",
    "FROM \n",
    "    INFORMATION_SCHEMA.COLUMNS \n",
    "WHERE \n",
    "    table_name IN ('books', 'authors', 'ratings', 'reviews', 'publishers')\n",
    "ORDER BY\n",
    "    table_name\n",
    "''')"
   ]
  },
  {
   "cell_type": "markdown",
   "metadata": {},
   "source": [
    "### Посчитайте, сколько книг вышло после 1 января 2000 года"
   ]
  },
  {
   "cell_type": "code",
   "execution_count": 14,
   "metadata": {},
   "outputs": [
    {
     "data": {
      "text/html": [
       "<div>\n",
       "<style scoped>\n",
       "    .dataframe tbody tr th:only-of-type {\n",
       "        vertical-align: middle;\n",
       "    }\n",
       "\n",
       "    .dataframe tbody tr th {\n",
       "        vertical-align: top;\n",
       "    }\n",
       "\n",
       "    .dataframe thead th {\n",
       "        text-align: right;\n",
       "    }\n",
       "</style>\n",
       "<table border=\"1\" class=\"dataframe\">\n",
       "  <thead>\n",
       "    <tr style=\"text-align: right;\">\n",
       "      <th></th>\n",
       "      <th>count</th>\n",
       "    </tr>\n",
       "  </thead>\n",
       "  <tbody>\n",
       "    <tr>\n",
       "      <th>0</th>\n",
       "      <td>819</td>\n",
       "    </tr>\n",
       "  </tbody>\n",
       "</table>\n",
       "</div>"
      ],
      "text/plain": [
       "   count\n",
       "0    819"
      ]
     },
     "execution_count": 14,
     "metadata": {},
     "output_type": "execute_result"
    }
   ],
   "source": [
    "select('''\n",
    "SELECT \n",
    "    COUNT(*) AS count\n",
    "FROM \n",
    "    books\n",
    "WHERE\n",
    "    publication_date > '2000-01-01'\n",
    "'''\n",
    ")"
   ]
  },
  {
   "cell_type": "markdown",
   "metadata": {},
   "source": [
    "Итого: 819 книг с начала 2000года."
   ]
  },
  {
   "cell_type": "markdown",
   "metadata": {},
   "source": [
    "### Для каждой книги посчитайте количество обзоров и среднюю оценку"
   ]
  },
  {
   "cell_type": "code",
   "execution_count": 19,
   "metadata": {},
   "outputs": [
    {
     "data": {
      "text/html": [
       "<div>\n",
       "<style scoped>\n",
       "    .dataframe tbody tr th:only-of-type {\n",
       "        vertical-align: middle;\n",
       "    }\n",
       "\n",
       "    .dataframe tbody tr th {\n",
       "        vertical-align: top;\n",
       "    }\n",
       "\n",
       "    .dataframe thead th {\n",
       "        text-align: right;\n",
       "    }\n",
       "</style>\n",
       "<table border=\"1\" class=\"dataframe\">\n",
       "  <thead>\n",
       "    <tr style=\"text-align: right;\">\n",
       "      <th></th>\n",
       "      <th>book_id</th>\n",
       "      <th>title</th>\n",
       "      <th>count_review</th>\n",
       "      <th>avg_rating</th>\n",
       "    </tr>\n",
       "  </thead>\n",
       "  <tbody>\n",
       "    <tr>\n",
       "      <th>0</th>\n",
       "      <td>948</td>\n",
       "      <td>Twilight (Twilight  #1)</td>\n",
       "      <td>7</td>\n",
       "      <td>3.662500</td>\n",
       "    </tr>\n",
       "    <tr>\n",
       "      <th>1</th>\n",
       "      <td>963</td>\n",
       "      <td>Water for Elephants</td>\n",
       "      <td>6</td>\n",
       "      <td>3.977273</td>\n",
       "    </tr>\n",
       "    <tr>\n",
       "      <th>2</th>\n",
       "      <td>734</td>\n",
       "      <td>The Glass Castle</td>\n",
       "      <td>6</td>\n",
       "      <td>4.206897</td>\n",
       "    </tr>\n",
       "    <tr>\n",
       "      <th>3</th>\n",
       "      <td>302</td>\n",
       "      <td>Harry Potter and the Prisoner of Azkaban (Harr...</td>\n",
       "      <td>6</td>\n",
       "      <td>4.414634</td>\n",
       "    </tr>\n",
       "    <tr>\n",
       "      <th>4</th>\n",
       "      <td>695</td>\n",
       "      <td>The Curious Incident of the Dog in the Night-Time</td>\n",
       "      <td>6</td>\n",
       "      <td>4.081081</td>\n",
       "    </tr>\n",
       "    <tr>\n",
       "      <th>...</th>\n",
       "      <td>...</td>\n",
       "      <td>...</td>\n",
       "      <td>...</td>\n",
       "      <td>...</td>\n",
       "    </tr>\n",
       "    <tr>\n",
       "      <th>995</th>\n",
       "      <td>83</td>\n",
       "      <td>Anne Rice's The Vampire Lestat: A Graphic Novel</td>\n",
       "      <td>0</td>\n",
       "      <td>3.666667</td>\n",
       "    </tr>\n",
       "    <tr>\n",
       "      <th>996</th>\n",
       "      <td>808</td>\n",
       "      <td>The Natural Way to Draw</td>\n",
       "      <td>0</td>\n",
       "      <td>3.000000</td>\n",
       "    </tr>\n",
       "    <tr>\n",
       "      <th>997</th>\n",
       "      <td>672</td>\n",
       "      <td>The Cat in the Hat and Other Dr. Seuss Favorites</td>\n",
       "      <td>0</td>\n",
       "      <td>5.000000</td>\n",
       "    </tr>\n",
       "    <tr>\n",
       "      <th>998</th>\n",
       "      <td>221</td>\n",
       "      <td>Essential Tales and Poems</td>\n",
       "      <td>0</td>\n",
       "      <td>4.000000</td>\n",
       "    </tr>\n",
       "    <tr>\n",
       "      <th>999</th>\n",
       "      <td>191</td>\n",
       "      <td>Disney's Beauty and the Beast (A Little Golden...</td>\n",
       "      <td>0</td>\n",
       "      <td>4.000000</td>\n",
       "    </tr>\n",
       "  </tbody>\n",
       "</table>\n",
       "<p>1000 rows × 4 columns</p>\n",
       "</div>"
      ],
      "text/plain": [
       "     book_id                                              title  count_review  \\\n",
       "0        948                            Twilight (Twilight  #1)             7   \n",
       "1        963                                Water for Elephants             6   \n",
       "2        734                                   The Glass Castle             6   \n",
       "3        302  Harry Potter and the Prisoner of Azkaban (Harr...             6   \n",
       "4        695  The Curious Incident of the Dog in the Night-Time             6   \n",
       "..       ...                                                ...           ...   \n",
       "995       83    Anne Rice's The Vampire Lestat: A Graphic Novel             0   \n",
       "996      808                            The Natural Way to Draw             0   \n",
       "997      672   The Cat in the Hat and Other Dr. Seuss Favorites             0   \n",
       "998      221                          Essential Tales and Poems             0   \n",
       "999      191  Disney's Beauty and the Beast (A Little Golden...             0   \n",
       "\n",
       "     avg_rating  \n",
       "0      3.662500  \n",
       "1      3.977273  \n",
       "2      4.206897  \n",
       "3      4.414634  \n",
       "4      4.081081  \n",
       "..          ...  \n",
       "995    3.666667  \n",
       "996    3.000000  \n",
       "997    5.000000  \n",
       "998    4.000000  \n",
       "999    4.000000  \n",
       "\n",
       "[1000 rows x 4 columns]"
      ]
     },
     "execution_count": 19,
     "metadata": {},
     "output_type": "execute_result"
    }
   ],
   "source": [
    "select('''\n",
    "SELECT\n",
    "    books.book_id,\n",
    "    books.title,\n",
    "    COUNT(DISTINCT reviews.review_id) AS count_review,\n",
    "    AVG(ratings.rating) AS avg_rating\n",
    "FROM\n",
    "    books\n",
    "LEFT JOIN ratings ON books.book_id = ratings.book_id \n",
    "LEFT JOIN reviews ON books.book_id = reviews.book_id \n",
    "\n",
    "GROUP BY\n",
    "    books.book_id \n",
    "        \n",
    "    \n",
    "ORDER BY\n",
    "    count_review DESC\n",
    "'''\n",
    ")"
   ]
  },
  {
   "cell_type": "markdown",
   "metadata": {},
   "source": [
    "### Определите издательство, которое выпустило наибольшее число книг толще 50 страниц — так вы исключите из анализа брошюры"
   ]
  },
  {
   "cell_type": "code",
   "execution_count": 16,
   "metadata": {},
   "outputs": [
    {
     "data": {
      "text/html": [
       "<div>\n",
       "<style scoped>\n",
       "    .dataframe tbody tr th:only-of-type {\n",
       "        vertical-align: middle;\n",
       "    }\n",
       "\n",
       "    .dataframe tbody tr th {\n",
       "        vertical-align: top;\n",
       "    }\n",
       "\n",
       "    .dataframe thead th {\n",
       "        text-align: right;\n",
       "    }\n",
       "</style>\n",
       "<table border=\"1\" class=\"dataframe\">\n",
       "  <thead>\n",
       "    <tr style=\"text-align: right;\">\n",
       "      <th></th>\n",
       "      <th>publisher</th>\n",
       "      <th>books_count</th>\n",
       "    </tr>\n",
       "  </thead>\n",
       "  <tbody>\n",
       "    <tr>\n",
       "      <th>0</th>\n",
       "      <td>Penguin Books</td>\n",
       "      <td>42</td>\n",
       "    </tr>\n",
       "  </tbody>\n",
       "</table>\n",
       "</div>"
      ],
      "text/plain": [
       "       publisher  books_count\n",
       "0  Penguin Books           42"
      ]
     },
     "execution_count": 16,
     "metadata": {},
     "output_type": "execute_result"
    }
   ],
   "source": [
    "select('''\n",
    "SELECT\n",
    "    publishers.publisher,\n",
    "    COUNT(book_id) AS books_count\n",
    "FROM\n",
    "    books\n",
    "    LEFT JOIN publishers ON publishers.publisher_id = books.publisher_id\n",
    "WHERE \n",
    "    num_pages >= 50\n",
    "GROUP BY\n",
    "    publishers.publisher\n",
    "ORDER BY\n",
    "    books_count DESC\n",
    "LIMIT 1\n",
    "'''\n",
    ")"
   ]
  },
  {
   "cell_type": "markdown",
   "metadata": {},
   "source": [
    "Нужное нам издательство Penguin Books. Для понимания, мы вывели топ-3, так же второе и третье место занимают Vintage и Grand Central Publishing."
   ]
  },
  {
   "cell_type": "markdown",
   "metadata": {},
   "source": [
    "### Определите автора с самой высокой средней оценкой книг — учитывайте только книги с 50 и более оценками"
   ]
  },
  {
   "cell_type": "code",
   "execution_count": 17,
   "metadata": {},
   "outputs": [
    {
     "data": {
      "text/html": [
       "<div>\n",
       "<style scoped>\n",
       "    .dataframe tbody tr th:only-of-type {\n",
       "        vertical-align: middle;\n",
       "    }\n",
       "\n",
       "    .dataframe tbody tr th {\n",
       "        vertical-align: top;\n",
       "    }\n",
       "\n",
       "    .dataframe thead th {\n",
       "        text-align: right;\n",
       "    }\n",
       "</style>\n",
       "<table border=\"1\" class=\"dataframe\">\n",
       "  <thead>\n",
       "    <tr style=\"text-align: right;\">\n",
       "      <th></th>\n",
       "      <th>author</th>\n",
       "      <th>avg_rating</th>\n",
       "    </tr>\n",
       "  </thead>\n",
       "  <tbody>\n",
       "    <tr>\n",
       "      <th>0</th>\n",
       "      <td>J.K. Rowling/Mary GrandPré</td>\n",
       "      <td>4.287097</td>\n",
       "    </tr>\n",
       "  </tbody>\n",
       "</table>\n",
       "</div>"
      ],
      "text/plain": [
       "                       author  avg_rating\n",
       "0  J.K. Rowling/Mary GrandPré    4.287097"
      ]
     },
     "execution_count": 17,
     "metadata": {},
     "output_type": "execute_result"
    }
   ],
   "source": [
    "select('''\n",
    "SELECT \n",
    "    authors.author,\n",
    "    AVG(ratings.rating) AS avg_rating\n",
    "FROM \n",
    "    books\n",
    "LEFT JOIN ratings on books.book_id = ratings.book_id\n",
    "LEFT JOIN authors on books.author_id = authors.author_id\n",
    "WHERE\n",
    "    books.book_id IN (\n",
    "        SELECT ratings.book_id\n",
    "        FROM ratings\n",
    "        GROUP BY ratings.book_id\n",
    "        HAVING COUNT(ratings.rating) >= 50)\n",
    "GROUP BY\n",
    "    authors.author\n",
    "ORDER BY\n",
    "    avg_rating DESC\n",
    "LIMIT 1\n",
    "'''\n",
    ")"
   ]
  },
  {
   "cell_type": "markdown",
   "metadata": {},
   "source": [
    "Джоан Роулинг - средняя оценка 4.28. (Думаю, что заслуженно.)"
   ]
  },
  {
   "cell_type": "markdown",
   "metadata": {},
   "source": [
    "### Посчитайте среднее количество обзоров от пользователей, которые поставили больше 50 оценок"
   ]
  },
  {
   "cell_type": "code",
   "execution_count": 18,
   "metadata": {},
   "outputs": [
    {
     "data": {
      "text/html": [
       "<div>\n",
       "<style scoped>\n",
       "    .dataframe tbody tr th:only-of-type {\n",
       "        vertical-align: middle;\n",
       "    }\n",
       "\n",
       "    .dataframe tbody tr th {\n",
       "        vertical-align: top;\n",
       "    }\n",
       "\n",
       "    .dataframe thead th {\n",
       "        text-align: right;\n",
       "    }\n",
       "</style>\n",
       "<table border=\"1\" class=\"dataframe\">\n",
       "  <thead>\n",
       "    <tr style=\"text-align: right;\">\n",
       "      <th></th>\n",
       "      <th>avg_reviews</th>\n",
       "    </tr>\n",
       "  </thead>\n",
       "  <tbody>\n",
       "    <tr>\n",
       "      <th>0</th>\n",
       "      <td>24.0</td>\n",
       "    </tr>\n",
       "  </tbody>\n",
       "</table>\n",
       "</div>"
      ],
      "text/plain": [
       "   avg_reviews\n",
       "0         24.0"
      ]
     },
     "execution_count": 18,
     "metadata": {},
     "output_type": "execute_result"
    }
   ],
   "source": [
    "select('''\n",
    "WITH\n",
    "    rating_sub AS (\n",
    "        SELECT\n",
    "            ratings.username,\n",
    "            COUNT(rating_id) AS rating_count\n",
    "        FROM\n",
    "            ratings\n",
    "        GROUP BY\n",
    "            ratings.username\n",
    "        HAVING\n",
    "            COUNT(rating_id) > 50\n",
    "        ),\n",
    "    review_sub AS (\n",
    "        SELECT\n",
    "            reviews.username,\n",
    "            COUNT(review_id) AS reviews_count\n",
    "        FROM\n",
    "            reviews\n",
    "        GROUP BY\n",
    "            reviews.username\n",
    "    )\n",
    "SELECT\n",
    "    FLOOR(AVG(reviews_count)) as avg_reviews\n",
    "FROM\n",
    "    rating_sub\n",
    "    LEFT JOIN review_sub ON review_sub.username = rating_sub.username\n",
    "'''\n",
    ")"
   ]
  },
  {
   "cell_type": "markdown",
   "metadata": {},
   "source": [
    "Среднее количество обзоров 24 "
   ]
  },
  {
   "cell_type": "markdown",
   "metadata": {},
   "source": [
    "### Выводы:\n",
    " - Мы не знаем дату выгрузки БД, будем считать, что она свежая. За 22 года (с 2000г), мы обладаем 819 книгами.\n",
    " - Книгой с большим количеством максимальных средних оценок, является Twilight.\n",
    " - Топ издательство - Penguin Books - 42книги.\n",
    " - Актор, с самой высокой оценкой: Джоан Роулинг - средняя оценка 4.28. \n",
    " - Среднее количество обзоров, для пользователей поставивших больше 50 оценок 24"
   ]
  },
  {
   "cell_type": "markdown",
   "metadata": {},
   "source": [
    "дополнение:\n",
    " - Проверка показала, что в данных есть пропуски\n",
    " - Книга \"Memoirs of a Geisha\" в разделе \"Books\", встречается два раза\n",
    " - Так же в разделе \"Books\" есть книги без отзывов."
   ]
  }
 ],
 "metadata": {
  "ExecuteTimeLog": [
   {
    "duration": 9191,
    "start_time": "2022-08-24T04:43:41.263Z"
   },
   {
    "duration": 3,
    "start_time": "2022-08-24T04:43:50.456Z"
   },
   {
    "duration": 4,
    "start_time": "2022-08-24T04:44:32.053Z"
   },
   {
    "duration": 3,
    "start_time": "2022-08-24T04:45:17.103Z"
   },
   {
    "duration": 73,
    "start_time": "2022-08-24T04:45:58.683Z"
   },
   {
    "duration": 4,
    "start_time": "2022-08-24T04:46:15.773Z"
   },
   {
    "duration": 3,
    "start_time": "2022-08-24T04:46:17.012Z"
   },
   {
    "duration": 8,
    "start_time": "2022-08-24T04:46:18.053Z"
   },
   {
    "duration": 436,
    "start_time": "2022-08-24T04:47:21.842Z"
   },
   {
    "duration": 3,
    "start_time": "2022-08-24T04:47:31.413Z"
   },
   {
    "duration": 22,
    "start_time": "2022-08-24T04:47:32.533Z"
   },
   {
    "duration": 3,
    "start_time": "2022-08-24T04:47:33.613Z"
   },
   {
    "duration": 3,
    "start_time": "2022-08-24T04:47:33.632Z"
   },
   {
    "duration": 2,
    "start_time": "2022-08-24T04:47:37.573Z"
   },
   {
    "duration": 14,
    "start_time": "2022-08-24T04:49:21.093Z"
   },
   {
    "duration": 21,
    "start_time": "2022-08-24T05:01:16.574Z"
   },
   {
    "duration": 15,
    "start_time": "2022-08-24T05:02:52.113Z"
   },
   {
    "duration": 30,
    "start_time": "2022-08-24T05:03:42.472Z"
   },
   {
    "duration": 22,
    "start_time": "2022-08-24T05:04:14.832Z"
   },
   {
    "duration": 3,
    "start_time": "2022-08-24T05:10:08.382Z"
   },
   {
    "duration": 3,
    "start_time": "2022-08-24T05:10:35.913Z"
   },
   {
    "duration": 11,
    "start_time": "2022-08-24T05:10:54.592Z"
   },
   {
    "duration": 3,
    "start_time": "2022-08-24T05:12:19.743Z"
   },
   {
    "duration": 121,
    "start_time": "2022-08-24T05:27:10.622Z"
   },
   {
    "duration": 101,
    "start_time": "2022-08-24T05:27:29.462Z"
   },
   {
    "duration": 12,
    "start_time": "2022-08-24T05:28:13.642Z"
   },
   {
    "duration": 102,
    "start_time": "2022-08-24T05:28:47.682Z"
   },
   {
    "duration": 30,
    "start_time": "2022-08-24T05:29:13.802Z"
   },
   {
    "duration": 2829,
    "start_time": "2022-08-24T05:53:30.902Z"
   },
   {
    "duration": 4,
    "start_time": "2022-08-24T06:01:23.404Z"
   },
   {
    "duration": 17,
    "start_time": "2022-08-24T06:01:39.442Z"
   },
   {
    "duration": 104,
    "start_time": "2022-08-24T06:03:38.582Z"
   },
   {
    "duration": 122,
    "start_time": "2022-08-24T06:11:59.181Z"
   },
   {
    "duration": 14,
    "start_time": "2022-08-24T06:12:31.104Z"
   },
   {
    "duration": 13,
    "start_time": "2022-08-24T06:13:17.631Z"
   },
   {
    "duration": 14,
    "start_time": "2022-08-24T06:16:49.921Z"
   },
   {
    "duration": 101,
    "start_time": "2022-08-24T06:18:28.791Z"
   },
   {
    "duration": 2637,
    "start_time": "2022-08-24T06:18:58.002Z"
   },
   {
    "duration": 4,
    "start_time": "2022-08-24T06:24:30.516Z"
   },
   {
    "duration": 3,
    "start_time": "2022-08-24T06:24:38.531Z"
   },
   {
    "duration": 8,
    "start_time": "2022-08-24T06:24:52.522Z"
   },
   {
    "duration": 22,
    "start_time": "2022-08-24T06:25:09.851Z"
   },
   {
    "duration": 7,
    "start_time": "2022-08-24T06:25:38.652Z"
   },
   {
    "duration": 2,
    "start_time": "2022-08-24T06:25:42.402Z"
   },
   {
    "duration": 96,
    "start_time": "2022-08-24T06:25:44.021Z"
   },
   {
    "duration": 9559,
    "start_time": "2022-08-24T06:26:04.042Z"
   },
   {
    "duration": 3,
    "start_time": "2022-08-24T06:26:13.603Z"
   },
   {
    "duration": 234,
    "start_time": "2022-08-24T06:26:13.608Z"
   },
   {
    "duration": 0,
    "start_time": "2022-08-24T06:26:13.844Z"
   },
   {
    "duration": 0,
    "start_time": "2022-08-24T06:26:13.846Z"
   },
   {
    "duration": 0,
    "start_time": "2022-08-24T06:26:13.847Z"
   },
   {
    "duration": 0,
    "start_time": "2022-08-24T06:26:13.848Z"
   },
   {
    "duration": 0,
    "start_time": "2022-08-24T06:26:13.849Z"
   },
   {
    "duration": 0,
    "start_time": "2022-08-24T06:26:13.851Z"
   },
   {
    "duration": 0,
    "start_time": "2022-08-24T06:26:13.852Z"
   },
   {
    "duration": 0,
    "start_time": "2022-08-24T06:26:13.853Z"
   },
   {
    "duration": 0,
    "start_time": "2022-08-24T06:26:13.855Z"
   },
   {
    "duration": 3,
    "start_time": "2022-08-24T06:26:49.322Z"
   },
   {
    "duration": 168,
    "start_time": "2022-08-24T06:26:51.952Z"
   },
   {
    "duration": 3,
    "start_time": "2022-08-24T06:29:17.032Z"
   },
   {
    "duration": 67,
    "start_time": "2022-08-24T06:29:28.471Z"
   },
   {
    "duration": 17,
    "start_time": "2022-08-24T06:29:50.262Z"
   },
   {
    "duration": 10409,
    "start_time": "2022-08-24T06:32:49.322Z"
   },
   {
    "duration": 3,
    "start_time": "2022-08-24T06:32:59.734Z"
   },
   {
    "duration": 74,
    "start_time": "2022-08-24T06:32:59.739Z"
   },
   {
    "duration": 14,
    "start_time": "2022-08-24T06:32:59.815Z"
   },
   {
    "duration": 13,
    "start_time": "2022-08-24T06:32:59.831Z"
   },
   {
    "duration": 28,
    "start_time": "2022-08-24T06:32:59.846Z"
   },
   {
    "duration": 33,
    "start_time": "2022-08-24T06:32:59.876Z"
   },
   {
    "duration": 10,
    "start_time": "2022-08-24T06:32:59.911Z"
   },
   {
    "duration": 27,
    "start_time": "2022-08-24T06:32:59.923Z"
   },
   {
    "duration": 28,
    "start_time": "2022-08-24T06:32:59.952Z"
   },
   {
    "duration": 20,
    "start_time": "2022-08-24T06:32:59.982Z"
   },
   {
    "duration": 15,
    "start_time": "2022-08-24T06:33:00.004Z"
   },
   {
    "duration": 14,
    "start_time": "2022-08-24T06:34:08.541Z"
   },
   {
    "duration": 40628,
    "start_time": "2022-08-24T06:35:12.487Z"
   },
   {
    "duration": 3,
    "start_time": "2022-08-24T06:35:53.117Z"
   },
   {
    "duration": 75,
    "start_time": "2022-08-24T06:35:53.122Z"
   },
   {
    "duration": 11,
    "start_time": "2022-08-24T06:35:53.199Z"
   },
   {
    "duration": 14,
    "start_time": "2022-08-24T06:35:53.213Z"
   },
   {
    "duration": 17,
    "start_time": "2022-08-24T06:35:53.229Z"
   },
   {
    "duration": 16,
    "start_time": "2022-08-24T06:35:53.248Z"
   },
   {
    "duration": 36,
    "start_time": "2022-08-24T06:35:53.265Z"
   },
   {
    "duration": 42,
    "start_time": "2022-08-24T06:35:53.303Z"
   },
   {
    "duration": 15,
    "start_time": "2022-08-24T06:35:53.347Z"
   },
   {
    "duration": 18,
    "start_time": "2022-08-24T06:35:53.364Z"
   },
   {
    "duration": 14,
    "start_time": "2022-08-24T06:35:53.383Z"
   },
   {
    "duration": 9276,
    "start_time": "2022-08-24T09:22:52.267Z"
   },
   {
    "duration": 3,
    "start_time": "2022-08-24T09:23:01.545Z"
   },
   {
    "duration": 88,
    "start_time": "2022-08-24T09:23:01.550Z"
   },
   {
    "duration": 11,
    "start_time": "2022-08-24T09:23:01.640Z"
   },
   {
    "duration": 10,
    "start_time": "2022-08-24T09:23:01.653Z"
   },
   {
    "duration": 13,
    "start_time": "2022-08-24T09:23:01.665Z"
   },
   {
    "duration": 18,
    "start_time": "2022-08-24T09:23:01.680Z"
   },
   {
    "duration": 206,
    "start_time": "2022-08-24T09:23:01.700Z"
   },
   {
    "duration": 0,
    "start_time": "2022-08-24T09:23:01.908Z"
   },
   {
    "duration": 0,
    "start_time": "2022-08-24T09:23:01.910Z"
   },
   {
    "duration": 0,
    "start_time": "2022-08-24T09:23:01.911Z"
   },
   {
    "duration": 0,
    "start_time": "2022-08-24T09:23:01.912Z"
   },
   {
    "duration": 0,
    "start_time": "2022-08-24T09:23:01.914Z"
   },
   {
    "duration": 102,
    "start_time": "2022-08-24T09:27:01.637Z"
   },
   {
    "duration": 105,
    "start_time": "2022-08-24T09:27:12.876Z"
   },
   {
    "duration": 58,
    "start_time": "2022-08-24T11:07:08.640Z"
   },
   {
    "duration": 9563,
    "start_time": "2022-08-24T11:08:05.180Z"
   },
   {
    "duration": 10382,
    "start_time": "2022-08-24T11:08:57.575Z"
   },
   {
    "duration": 3,
    "start_time": "2022-08-24T11:09:07.959Z"
   },
   {
    "duration": 130,
    "start_time": "2022-08-24T11:09:07.964Z"
   },
   {
    "duration": 246,
    "start_time": "2022-08-24T11:09:08.095Z"
   },
   {
    "duration": 0,
    "start_time": "2022-08-24T11:09:08.345Z"
   },
   {
    "duration": 0,
    "start_time": "2022-08-24T11:09:08.346Z"
   },
   {
    "duration": 0,
    "start_time": "2022-08-24T11:09:08.349Z"
   },
   {
    "duration": 0,
    "start_time": "2022-08-24T11:09:08.350Z"
   },
   {
    "duration": 0,
    "start_time": "2022-08-24T11:09:08.352Z"
   },
   {
    "duration": 0,
    "start_time": "2022-08-24T11:09:08.353Z"
   },
   {
    "duration": 0,
    "start_time": "2022-08-24T11:09:08.354Z"
   },
   {
    "duration": 0,
    "start_time": "2022-08-24T11:09:08.356Z"
   },
   {
    "duration": 0,
    "start_time": "2022-08-24T11:09:08.357Z"
   },
   {
    "duration": 0,
    "start_time": "2022-08-24T11:09:08.358Z"
   },
   {
    "duration": 107,
    "start_time": "2022-08-24T11:10:29.864Z"
   },
   {
    "duration": 14,
    "start_time": "2022-08-24T11:10:49.454Z"
   },
   {
    "duration": 111,
    "start_time": "2022-08-24T11:10:51.514Z"
   },
   {
    "duration": 13,
    "start_time": "2022-08-24T11:13:40.594Z"
   },
   {
    "duration": 13,
    "start_time": "2022-08-24T11:13:40.614Z"
   },
   {
    "duration": 13,
    "start_time": "2022-08-24T11:13:41.614Z"
   },
   {
    "duration": 14,
    "start_time": "2022-08-24T11:13:41.633Z"
   },
   {
    "duration": 114,
    "start_time": "2022-08-24T11:13:43.845Z"
   },
   {
    "duration": 111,
    "start_time": "2022-08-24T11:17:21.284Z"
   },
   {
    "duration": 100,
    "start_time": "2022-08-24T11:19:08.154Z"
   },
   {
    "duration": 13,
    "start_time": "2022-08-24T11:19:42.535Z"
   },
   {
    "duration": 70,
    "start_time": "2022-08-24T11:23:10.734Z"
   },
   {
    "duration": 106,
    "start_time": "2022-08-24T11:24:19.953Z"
   },
   {
    "duration": 110,
    "start_time": "2022-08-24T11:24:57.303Z"
   },
   {
    "duration": 151,
    "start_time": "2022-08-24T11:25:06.823Z"
   },
   {
    "duration": 14,
    "start_time": "2022-08-24T11:25:14.863Z"
   },
   {
    "duration": 12,
    "start_time": "2022-08-24T11:25:57.063Z"
   },
   {
    "duration": 12,
    "start_time": "2022-08-24T11:25:57.845Z"
   },
   {
    "duration": 14,
    "start_time": "2022-08-24T11:25:58.483Z"
   },
   {
    "duration": 17,
    "start_time": "2022-08-24T11:25:59.026Z"
   },
   {
    "duration": 123,
    "start_time": "2022-08-24T11:26:00.174Z"
   },
   {
    "duration": 11,
    "start_time": "2022-08-24T11:26:02.563Z"
   },
   {
    "duration": 34,
    "start_time": "2022-08-24T11:26:04.683Z"
   },
   {
    "duration": 14,
    "start_time": "2022-08-24T11:26:06.263Z"
   },
   {
    "duration": 17,
    "start_time": "2022-08-24T11:26:08.744Z"
   },
   {
    "duration": 14,
    "start_time": "2022-08-24T11:26:09.973Z"
   },
   {
    "duration": 14,
    "start_time": "2022-08-24T11:31:38.161Z"
   },
   {
    "duration": 794,
    "start_time": "2022-08-24T11:31:58.802Z"
   },
   {
    "duration": 117,
    "start_time": "2022-08-24T11:44:59.730Z"
   },
   {
    "duration": 113,
    "start_time": "2022-08-24T11:45:19.586Z"
   },
   {
    "duration": 13,
    "start_time": "2022-08-24T11:45:31.974Z"
   },
   {
    "duration": 188,
    "start_time": "2022-08-24T11:45:49.201Z"
   },
   {
    "duration": 137,
    "start_time": "2022-08-24T11:46:58.230Z"
   },
   {
    "duration": 840,
    "start_time": "2022-08-24T11:47:04.380Z"
   },
   {
    "duration": 212,
    "start_time": "2022-08-24T11:50:24.399Z"
   },
   {
    "duration": 832,
    "start_time": "2022-08-24T11:50:37.989Z"
   },
   {
    "duration": 135,
    "start_time": "2022-08-24T11:52:45.279Z"
   },
   {
    "duration": 913,
    "start_time": "2022-08-24T11:53:06.194Z"
   },
   {
    "duration": 11,
    "start_time": "2022-08-24T11:55:37.169Z"
   },
   {
    "duration": 27,
    "start_time": "2022-08-24T12:02:23.798Z"
   },
   {
    "duration": 946,
    "start_time": "2022-08-24T12:04:14.788Z"
   },
   {
    "duration": 13,
    "start_time": "2022-08-24T12:04:48.498Z"
   },
   {
    "duration": 20,
    "start_time": "2022-08-24T12:12:20.808Z"
   },
   {
    "duration": 120,
    "start_time": "2022-08-24T12:14:00.529Z"
   },
   {
    "duration": 15,
    "start_time": "2022-08-24T12:14:21.629Z"
   },
   {
    "duration": 14,
    "start_time": "2022-08-24T12:14:25.409Z"
   },
   {
    "duration": 14,
    "start_time": "2022-08-24T12:17:26.830Z"
   },
   {
    "duration": 957,
    "start_time": "2022-08-24T12:19:19.221Z"
   },
   {
    "duration": 12,
    "start_time": "2022-08-24T12:19:22.521Z"
   },
   {
    "duration": 122,
    "start_time": "2022-08-24T12:23:12.691Z"
   },
   {
    "duration": 11,
    "start_time": "2022-08-24T12:25:45.621Z"
   },
   {
    "duration": 20,
    "start_time": "2022-08-24T12:26:26.811Z"
   },
   {
    "duration": 113,
    "start_time": "2022-08-24T12:29:53.622Z"
   },
   {
    "duration": 160,
    "start_time": "2022-08-24T12:30:00.302Z"
   },
   {
    "duration": 17,
    "start_time": "2022-08-24T12:31:27.672Z"
   },
   {
    "duration": 17,
    "start_time": "2022-08-24T12:32:31.232Z"
   },
   {
    "duration": 17,
    "start_time": "2022-08-24T12:33:53.522Z"
   },
   {
    "duration": 16,
    "start_time": "2022-08-24T12:33:54.682Z"
   },
   {
    "duration": 11,
    "start_time": "2022-08-24T12:50:24.681Z"
   },
   {
    "duration": 11,
    "start_time": "2022-08-24T12:51:19.271Z"
   },
   {
    "duration": 17,
    "start_time": "2022-08-24T12:52:19.161Z"
   },
   {
    "duration": 100,
    "start_time": "2022-08-24T12:53:20.802Z"
   },
   {
    "duration": 16,
    "start_time": "2022-08-24T12:53:48.451Z"
   },
   {
    "duration": 94,
    "start_time": "2022-08-24T12:58:14.431Z"
   },
   {
    "duration": 9254,
    "start_time": "2022-08-24T13:03:35.051Z"
   },
   {
    "duration": 3,
    "start_time": "2022-08-24T13:03:44.307Z"
   },
   {
    "duration": 74,
    "start_time": "2022-08-24T13:03:44.312Z"
   },
   {
    "duration": 12,
    "start_time": "2022-08-24T13:03:44.388Z"
   },
   {
    "duration": 12,
    "start_time": "2022-08-24T13:03:44.403Z"
   },
   {
    "duration": 12,
    "start_time": "2022-08-24T13:03:44.417Z"
   },
   {
    "duration": 12,
    "start_time": "2022-08-24T13:03:44.431Z"
   },
   {
    "duration": 24,
    "start_time": "2022-08-24T13:03:44.444Z"
   },
   {
    "duration": 12,
    "start_time": "2022-08-24T13:03:44.470Z"
   },
   {
    "duration": 15,
    "start_time": "2022-08-24T13:03:44.483Z"
   },
   {
    "duration": 11,
    "start_time": "2022-08-24T13:03:44.500Z"
   },
   {
    "duration": 53,
    "start_time": "2022-08-24T13:03:44.513Z"
   },
   {
    "duration": 20,
    "start_time": "2022-08-24T13:03:44.567Z"
   },
   {
    "duration": 11,
    "start_time": "2022-08-24T13:03:44.590Z"
   },
   {
    "duration": 946,
    "start_time": "2022-08-24T13:03:44.603Z"
   },
   {
    "duration": 12,
    "start_time": "2022-08-24T13:03:45.550Z"
   },
   {
    "duration": 14,
    "start_time": "2022-08-24T13:03:45.564Z"
   },
   {
    "duration": 12,
    "start_time": "2022-08-24T13:03:45.579Z"
   },
   {
    "duration": 30,
    "start_time": "2022-08-24T13:06:18.241Z"
   }
  ],
  "kernelspec": {
   "display_name": "Python 3 (ipykernel)",
   "language": "python",
   "name": "python3"
  },
  "language_info": {
   "codemirror_mode": {
    "name": "ipython",
    "version": 3
   },
   "file_extension": ".py",
   "mimetype": "text/x-python",
   "name": "python",
   "nbconvert_exporter": "python",
   "pygments_lexer": "ipython3",
   "version": "3.9.12"
  },
  "toc": {
   "base_numbering": 1,
   "nav_menu": {},
   "number_sections": true,
   "sideBar": true,
   "skip_h1_title": true,
   "title_cell": "Table of Contents",
   "title_sidebar": "Contents",
   "toc_cell": false,
   "toc_position": {
    "height": "calc(100% - 180px)",
    "left": "10px",
    "top": "150px",
    "width": "165px"
   },
   "toc_section_display": true,
   "toc_window_display": true
  }
 },
 "nbformat": 4,
 "nbformat_minor": 2
}
